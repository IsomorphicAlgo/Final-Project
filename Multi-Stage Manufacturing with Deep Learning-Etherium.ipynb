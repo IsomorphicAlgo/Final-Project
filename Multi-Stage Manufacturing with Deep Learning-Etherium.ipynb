{
 "cells": [
  {
   "cell_type": "code",
   "execution_count": 78,
   "metadata": {},
   "outputs": [],
   "source": [
    "#Dual craft along side Collab"
   ]
  },
  {
   "cell_type": "code",
   "execution_count": 79,
   "metadata": {},
   "outputs": [],
   "source": [
    "# Operational libraries\n",
    "import os\n",
    "import json\n",
    "\n",
    "# Data manipulation libraries\n",
    "import pandas as pd\n",
    "import numpy as np\n",
    "import math\n",
    "\n",
    "# Data visualization libraries\n",
    "import seaborn as sns\n",
    "import matplotlib.pyplot as plt\n",
    "import altair as alt\n",
    "import plotly.express as px\n",
    "import plotly.graph_objects as go\n",
    "from plotly.subplots import make_subplots\n",
    "\n",
    "# Machine learning libraries\n",
    "from sklearn.preprocessing import StandardScaler, MinMaxScaler\n",
    "from sklearn.metrics import mean_squared_error\n",
    "from sklearn.model_selection import train_test_split\n",
    "\n",
    "# LSTM model\n",
    "from lstm_model import (\n",
    "    prepare_data, \n",
    "    train_lstm_model, \n",
    "    plot_training_history, \n",
    "    evaluate_model, \n",
    "    plot_predictions, \n",
    "    calculate_rmse\n",
    ")\n",
    "\n",
    "# Deep learning libraries\n",
    "import tensorflow as tf\n",
    "from tensorflow.keras.models import Sequential, Model\n",
    "from tensorflow.keras.layers import Dense, LSTM, Input, RepeatVector, TimeDistributed\n",
    "from tensorflow.keras.optimizers import Adam\n",
    "from tensorflow.keras.callbacks import EarlyStopping, ModelCheckpoint\n",
    "\n",
    "from cycle_gan import CycleGAN, preprocess_data, train_test_validation_split\n",
    "\n",
    "# Install Tabulate for csv read and mod\n"
   ]
  },
  {
   "cell_type": "code",
   "execution_count": 80,
   "metadata": {},
   "outputs": [],
   "source": [
    "# Set random seeds for reproducibility\n",
    "np.random.seed(42)\n",
    "tf.random.set_seed(42)\n"
   ]
  },
  {
   "cell_type": "markdown",
   "metadata": {},
   "source": [
    "# <center> Anomoly Detection and Attribute Prediction utilizing Deep Learning Methods in multi-stage manufacturing. </center>\n"
   ]
  },
  {
   "cell_type": "markdown",
   "metadata": {},
   "source": [
    "# Introduction ***\n",
    "\n",
    "# Problem Statement ***\n"
   ]
  },
  {
   "cell_type": "markdown",
   "metadata": {},
   "source": [
    "Data Source: https://www.kaggle.com/datasets/supergus/multistage-continuousflow-manufacturing-process/data\n",
    "\n",
    "\n",
    "From the data set's card on it's Kaggle homepage:\n",
    "\n",
    "Description of physical setup:\n",
    "\n",
    "\n",
    "The data comes from a continuous flow process.\n",
    "\n",
    "Sample rate is 1 Hz.\n",
    "\n",
    "In the first stage, Machines 1, 2,  and 3 operate in parallel, and feed their outputs into a step that combines the flows.\n",
    "Output from the combiner is measured in 15 locations. These measurements are the primary measurements to predict.\n",
    "Next, the output flows into a second stage, where Machines 4 and 5 process in series.\n",
    "Measurements are made again in the same 15 locations. These are the secondary measurements to predict.\n",
    "\n",
    "\n",
    "Each measurement also has a target or Setpoint (setpoints are included in the first row of data).\n",
    "\n",
    "\n",
    "\n",
    "Note on variable naming conventions:\n",
    "\n",
    "\n",
    "* ~.C.Setpoint\t\tSetpoint for Controlled variable\n",
    "\n",
    "* ~.C.Actual\t\tActual value of Controlled variable\n",
    "\n",
    "* ~.U.Actual\t\tActual value of Uncontrolled variable\n",
    "\n",
    "\n",
    "Others\t\tEnvironmental or raw material variables, States / events, etc.\n",
    "\n",
    "\n",
    "\\begin{equation*}\n",
    "\\begin{array}{ccl}\n",
    "Start col &\tEnd col\t&\tDescription \\\\\n",
    "0\t&\t0\t&\tTime stamp \\\\\n",
    "1\t&\t2\t&\tFactory ambient conditions \\\\\n",
    "3\t&\t6\t&\tFirst stage, Machine 1, raw material properties (material going in to Machine 1) \\\\\n",
    "7\t&\t14\t&\tFirst stage, Machine 1 process variables \\\\\n",
    "15\t&\t18\t&\tFirst stage, Machine 2, raw material properties (material going in to Machine 2) \\\\\n",
    "19\t&\t26\t&\tFirst stage, Machine 2 process variables \\\\\n",
    "27\t&\t30\t&\tFirst stage, Machine 3, raw material properties (material going in to Machine 3) \\\\\n",
    "31\t&\t38\t&\tFirst stage, Machine 3 process variables \\\\\n",
    "39\t&\t41\t&\tCombiner stage process parameters. Here we combines the outputs from Machines 1, 2, and 3. \\\\\n",
    "42\t&\t71\t&\tPRIMARY OUTPUT TO CONTROL: Measurements of 15 features (in mm), along with setpoint or target for each \\\\\n",
    "72\t&\t78\t&\tSecond stage, Machine 4 process variables \\\\\n",
    "79\t&\t85\t&\tSecond stage, Machine 5 process variables \\\\\n",
    "86\t&\t115\t&\tSECONDARY OUTPUT TO CONTROL: Measurements of 15 features (in mm), along with setpoint or target for each \\\\\n",
    "\\end{array}\n",
    "\\end{equation*}"
   ]
  },
  {
   "cell_type": "markdown",
   "metadata": {},
   "source": [
    "# Describe the plan for my EDA and then model building\n"
   ]
  },
  {
   "cell_type": "code",
   "execution_count": 81,
   "metadata": {},
   "outputs": [],
   "source": [
    "# Read in the manufacturing process data\n",
    "factory_df = pd.read_csv('continuous_factory_process.csv')\n"
   ]
  },
  {
   "cell_type": "code",
   "execution_count": 82,
   "metadata": {},
   "outputs": [
    {
     "name": "stdout",
     "output_type": "stream",
     "text": [
      "Dataset Info:\n",
      "--------------------------------------------------\n",
      "<class 'pandas.core.frame.DataFrame'>\n",
      "RangeIndex: 14088 entries, 0 to 14087\n",
      "Columns: 116 entries, time_stamp to Stage2.Output.Measurement14.U.Setpoint\n",
      "dtypes: float64(108), int64(7), object(1)\n",
      "memory usage: 12.5+ MB\n",
      "\n",
      "Dataset Shape:\n",
      "--------------------------------------------------\n",
      "Rows: 14088\n",
      "Columns: 116\n",
      "\n",
      "First few rows:\n",
      "--------------------------------------------------\n"
     ]
    },
    {
     "data": {
      "text/html": [
       "<div>\n",
       "<style scoped>\n",
       "    .dataframe tbody tr th:only-of-type {\n",
       "        vertical-align: middle;\n",
       "    }\n",
       "\n",
       "    .dataframe tbody tr th {\n",
       "        vertical-align: top;\n",
       "    }\n",
       "\n",
       "    .dataframe thead th {\n",
       "        text-align: right;\n",
       "    }\n",
       "</style>\n",
       "<table border=\"1\" class=\"dataframe\">\n",
       "  <thead>\n",
       "    <tr style=\"text-align: right;\">\n",
       "      <th></th>\n",
       "      <th>time_stamp</th>\n",
       "      <th>AmbientConditions.AmbientHumidity.U.Actual</th>\n",
       "      <th>AmbientConditions.AmbientTemperature.U.Actual</th>\n",
       "      <th>Machine1.RawMaterial.Property1</th>\n",
       "      <th>Machine1.RawMaterial.Property2</th>\n",
       "      <th>Machine1.RawMaterial.Property3</th>\n",
       "      <th>Machine1.RawMaterial.Property4</th>\n",
       "      <th>Machine1.RawMaterialFeederParameter.U.Actual</th>\n",
       "      <th>Machine1.Zone1Temperature.C.Actual</th>\n",
       "      <th>Machine1.Zone2Temperature.C.Actual</th>\n",
       "      <th>...</th>\n",
       "      <th>Stage2.Output.Measurement10.U.Actual</th>\n",
       "      <th>Stage2.Output.Measurement10.U.Setpoint</th>\n",
       "      <th>Stage2.Output.Measurement11.U.Actual</th>\n",
       "      <th>Stage2.Output.Measurement11.U.Setpoint</th>\n",
       "      <th>Stage2.Output.Measurement12.U.Actual</th>\n",
       "      <th>Stage2.Output.Measurement12.U.Setpoint</th>\n",
       "      <th>Stage2.Output.Measurement13.U.Actual</th>\n",
       "      <th>Stage2.Output.Measurement13.U.Setpoint</th>\n",
       "      <th>Stage2.Output.Measurement14.U.Actual</th>\n",
       "      <th>Stage2.Output.Measurement14.U.Setpoint</th>\n",
       "    </tr>\n",
       "  </thead>\n",
       "  <tbody>\n",
       "    <tr>\n",
       "      <th>0</th>\n",
       "      <td>2019-03-06 10:52:33</td>\n",
       "      <td>17.24</td>\n",
       "      <td>23.53</td>\n",
       "      <td>11.54</td>\n",
       "      <td>200</td>\n",
       "      <td>963.0</td>\n",
       "      <td>247</td>\n",
       "      <td>1241.26</td>\n",
       "      <td>72.0</td>\n",
       "      <td>72.3</td>\n",
       "      <td>...</td>\n",
       "      <td>0.0</td>\n",
       "      <td>7.93</td>\n",
       "      <td>0.0</td>\n",
       "      <td>5.65</td>\n",
       "      <td>0.0</td>\n",
       "      <td>1.85</td>\n",
       "      <td>0.0</td>\n",
       "      <td>2.89</td>\n",
       "      <td>0.0</td>\n",
       "      <td>11.71</td>\n",
       "    </tr>\n",
       "    <tr>\n",
       "      <th>1</th>\n",
       "      <td>2019-03-06 10:52:34</td>\n",
       "      <td>17.24</td>\n",
       "      <td>23.53</td>\n",
       "      <td>11.54</td>\n",
       "      <td>200</td>\n",
       "      <td>963.0</td>\n",
       "      <td>247</td>\n",
       "      <td>1246.09</td>\n",
       "      <td>72.0</td>\n",
       "      <td>72.3</td>\n",
       "      <td>...</td>\n",
       "      <td>0.0</td>\n",
       "      <td>7.93</td>\n",
       "      <td>0.0</td>\n",
       "      <td>5.65</td>\n",
       "      <td>0.0</td>\n",
       "      <td>1.85</td>\n",
       "      <td>0.0</td>\n",
       "      <td>2.89</td>\n",
       "      <td>0.0</td>\n",
       "      <td>11.71</td>\n",
       "    </tr>\n",
       "    <tr>\n",
       "      <th>2</th>\n",
       "      <td>2019-03-06 10:52:35</td>\n",
       "      <td>17.24</td>\n",
       "      <td>23.53</td>\n",
       "      <td>11.54</td>\n",
       "      <td>200</td>\n",
       "      <td>963.0</td>\n",
       "      <td>247</td>\n",
       "      <td>1246.29</td>\n",
       "      <td>72.0</td>\n",
       "      <td>72.3</td>\n",
       "      <td>...</td>\n",
       "      <td>0.0</td>\n",
       "      <td>7.93</td>\n",
       "      <td>0.0</td>\n",
       "      <td>5.65</td>\n",
       "      <td>0.0</td>\n",
       "      <td>1.85</td>\n",
       "      <td>0.0</td>\n",
       "      <td>2.89</td>\n",
       "      <td>0.0</td>\n",
       "      <td>11.71</td>\n",
       "    </tr>\n",
       "    <tr>\n",
       "      <th>3</th>\n",
       "      <td>2019-03-06 10:52:36</td>\n",
       "      <td>17.24</td>\n",
       "      <td>23.53</td>\n",
       "      <td>11.54</td>\n",
       "      <td>200</td>\n",
       "      <td>963.0</td>\n",
       "      <td>247</td>\n",
       "      <td>1247.59</td>\n",
       "      <td>72.0</td>\n",
       "      <td>72.3</td>\n",
       "      <td>...</td>\n",
       "      <td>0.0</td>\n",
       "      <td>7.93</td>\n",
       "      <td>0.0</td>\n",
       "      <td>5.65</td>\n",
       "      <td>0.0</td>\n",
       "      <td>1.85</td>\n",
       "      <td>0.0</td>\n",
       "      <td>2.89</td>\n",
       "      <td>0.0</td>\n",
       "      <td>11.71</td>\n",
       "    </tr>\n",
       "    <tr>\n",
       "      <th>4</th>\n",
       "      <td>2019-03-06 10:52:37</td>\n",
       "      <td>17.24</td>\n",
       "      <td>23.53</td>\n",
       "      <td>11.54</td>\n",
       "      <td>200</td>\n",
       "      <td>963.0</td>\n",
       "      <td>247</td>\n",
       "      <td>1252.83</td>\n",
       "      <td>72.1</td>\n",
       "      <td>72.4</td>\n",
       "      <td>...</td>\n",
       "      <td>0.0</td>\n",
       "      <td>7.93</td>\n",
       "      <td>0.0</td>\n",
       "      <td>5.65</td>\n",
       "      <td>0.0</td>\n",
       "      <td>1.85</td>\n",
       "      <td>0.0</td>\n",
       "      <td>2.89</td>\n",
       "      <td>0.0</td>\n",
       "      <td>11.71</td>\n",
       "    </tr>\n",
       "  </tbody>\n",
       "</table>\n",
       "<p>5 rows × 116 columns</p>\n",
       "</div>"
      ],
      "text/plain": [
       "            time_stamp  AmbientConditions.AmbientHumidity.U.Actual  \\\n",
       "0  2019-03-06 10:52:33                                       17.24   \n",
       "1  2019-03-06 10:52:34                                       17.24   \n",
       "2  2019-03-06 10:52:35                                       17.24   \n",
       "3  2019-03-06 10:52:36                                       17.24   \n",
       "4  2019-03-06 10:52:37                                       17.24   \n",
       "\n",
       "   AmbientConditions.AmbientTemperature.U.Actual  \\\n",
       "0                                          23.53   \n",
       "1                                          23.53   \n",
       "2                                          23.53   \n",
       "3                                          23.53   \n",
       "4                                          23.53   \n",
       "\n",
       "   Machine1.RawMaterial.Property1  Machine1.RawMaterial.Property2  \\\n",
       "0                           11.54                             200   \n",
       "1                           11.54                             200   \n",
       "2                           11.54                             200   \n",
       "3                           11.54                             200   \n",
       "4                           11.54                             200   \n",
       "\n",
       "   Machine1.RawMaterial.Property3  Machine1.RawMaterial.Property4  \\\n",
       "0                           963.0                             247   \n",
       "1                           963.0                             247   \n",
       "2                           963.0                             247   \n",
       "3                           963.0                             247   \n",
       "4                           963.0                             247   \n",
       "\n",
       "   Machine1.RawMaterialFeederParameter.U.Actual  \\\n",
       "0                                       1241.26   \n",
       "1                                       1246.09   \n",
       "2                                       1246.29   \n",
       "3                                       1247.59   \n",
       "4                                       1252.83   \n",
       "\n",
       "   Machine1.Zone1Temperature.C.Actual  Machine1.Zone2Temperature.C.Actual  \\\n",
       "0                                72.0                                72.3   \n",
       "1                                72.0                                72.3   \n",
       "2                                72.0                                72.3   \n",
       "3                                72.0                                72.3   \n",
       "4                                72.1                                72.4   \n",
       "\n",
       "   ...  Stage2.Output.Measurement10.U.Actual  \\\n",
       "0  ...                                   0.0   \n",
       "1  ...                                   0.0   \n",
       "2  ...                                   0.0   \n",
       "3  ...                                   0.0   \n",
       "4  ...                                   0.0   \n",
       "\n",
       "   Stage2.Output.Measurement10.U.Setpoint  \\\n",
       "0                                    7.93   \n",
       "1                                    7.93   \n",
       "2                                    7.93   \n",
       "3                                    7.93   \n",
       "4                                    7.93   \n",
       "\n",
       "   Stage2.Output.Measurement11.U.Actual  \\\n",
       "0                                   0.0   \n",
       "1                                   0.0   \n",
       "2                                   0.0   \n",
       "3                                   0.0   \n",
       "4                                   0.0   \n",
       "\n",
       "   Stage2.Output.Measurement11.U.Setpoint  \\\n",
       "0                                    5.65   \n",
       "1                                    5.65   \n",
       "2                                    5.65   \n",
       "3                                    5.65   \n",
       "4                                    5.65   \n",
       "\n",
       "   Stage2.Output.Measurement12.U.Actual  \\\n",
       "0                                   0.0   \n",
       "1                                   0.0   \n",
       "2                                   0.0   \n",
       "3                                   0.0   \n",
       "4                                   0.0   \n",
       "\n",
       "   Stage2.Output.Measurement12.U.Setpoint  \\\n",
       "0                                    1.85   \n",
       "1                                    1.85   \n",
       "2                                    1.85   \n",
       "3                                    1.85   \n",
       "4                                    1.85   \n",
       "\n",
       "   Stage2.Output.Measurement13.U.Actual  \\\n",
       "0                                   0.0   \n",
       "1                                   0.0   \n",
       "2                                   0.0   \n",
       "3                                   0.0   \n",
       "4                                   0.0   \n",
       "\n",
       "   Stage2.Output.Measurement13.U.Setpoint  \\\n",
       "0                                    2.89   \n",
       "1                                    2.89   \n",
       "2                                    2.89   \n",
       "3                                    2.89   \n",
       "4                                    2.89   \n",
       "\n",
       "   Stage2.Output.Measurement14.U.Actual  \\\n",
       "0                                   0.0   \n",
       "1                                   0.0   \n",
       "2                                   0.0   \n",
       "3                                   0.0   \n",
       "4                                   0.0   \n",
       "\n",
       "   Stage2.Output.Measurement14.U.Setpoint  \n",
       "0                                   11.71  \n",
       "1                                   11.71  \n",
       "2                                   11.71  \n",
       "3                                   11.71  \n",
       "4                                   11.71  \n",
       "\n",
       "[5 rows x 116 columns]"
      ]
     },
     "metadata": {},
     "output_type": "display_data"
    },
    {
     "name": "stdout",
     "output_type": "stream",
     "text": [
      "\n",
      "Basic Statistics:\n",
      "--------------------------------------------------\n"
     ]
    },
    {
     "data": {
      "text/html": [
       "<div>\n",
       "<style scoped>\n",
       "    .dataframe tbody tr th:only-of-type {\n",
       "        vertical-align: middle;\n",
       "    }\n",
       "\n",
       "    .dataframe tbody tr th {\n",
       "        vertical-align: top;\n",
       "    }\n",
       "\n",
       "    .dataframe thead th {\n",
       "        text-align: right;\n",
       "    }\n",
       "</style>\n",
       "<table border=\"1\" class=\"dataframe\">\n",
       "  <thead>\n",
       "    <tr style=\"text-align: right;\">\n",
       "      <th></th>\n",
       "      <th>AmbientConditions.AmbientHumidity.U.Actual</th>\n",
       "      <th>AmbientConditions.AmbientTemperature.U.Actual</th>\n",
       "      <th>Machine1.RawMaterial.Property1</th>\n",
       "      <th>Machine1.RawMaterial.Property2</th>\n",
       "      <th>Machine1.RawMaterial.Property3</th>\n",
       "      <th>Machine1.RawMaterial.Property4</th>\n",
       "      <th>Machine1.RawMaterialFeederParameter.U.Actual</th>\n",
       "      <th>Machine1.Zone1Temperature.C.Actual</th>\n",
       "      <th>Machine1.Zone2Temperature.C.Actual</th>\n",
       "      <th>Machine1.MotorAmperage.U.Actual</th>\n",
       "      <th>...</th>\n",
       "      <th>Stage2.Output.Measurement10.U.Actual</th>\n",
       "      <th>Stage2.Output.Measurement10.U.Setpoint</th>\n",
       "      <th>Stage2.Output.Measurement11.U.Actual</th>\n",
       "      <th>Stage2.Output.Measurement11.U.Setpoint</th>\n",
       "      <th>Stage2.Output.Measurement12.U.Actual</th>\n",
       "      <th>Stage2.Output.Measurement12.U.Setpoint</th>\n",
       "      <th>Stage2.Output.Measurement13.U.Actual</th>\n",
       "      <th>Stage2.Output.Measurement13.U.Setpoint</th>\n",
       "      <th>Stage2.Output.Measurement14.U.Actual</th>\n",
       "      <th>Stage2.Output.Measurement14.U.Setpoint</th>\n",
       "    </tr>\n",
       "  </thead>\n",
       "  <tbody>\n",
       "    <tr>\n",
       "      <th>count</th>\n",
       "      <td>14088.000000</td>\n",
       "      <td>14088.000000</td>\n",
       "      <td>14088.000000</td>\n",
       "      <td>14088.000000</td>\n",
       "      <td>14088.000000</td>\n",
       "      <td>14088.000000</td>\n",
       "      <td>14088.000000</td>\n",
       "      <td>14088.000000</td>\n",
       "      <td>14088.000000</td>\n",
       "      <td>14088.000000</td>\n",
       "      <td>...</td>\n",
       "      <td>1.408800e+04</td>\n",
       "      <td>1.408800e+04</td>\n",
       "      <td>1.408800e+04</td>\n",
       "      <td>1.408800e+04</td>\n",
       "      <td>1.408800e+04</td>\n",
       "      <td>1.408800e+04</td>\n",
       "      <td>1.408800e+04</td>\n",
       "      <td>14088.00</td>\n",
       "      <td>14088.000000</td>\n",
       "      <td>1.408800e+04</td>\n",
       "    </tr>\n",
       "    <tr>\n",
       "      <th>mean</th>\n",
       "      <td>15.330759</td>\n",
       "      <td>23.843635</td>\n",
       "      <td>11.851256</td>\n",
       "      <td>205.676320</td>\n",
       "      <td>951.679815</td>\n",
       "      <td>248.868896</td>\n",
       "      <td>1242.764276</td>\n",
       "      <td>72.013330</td>\n",
       "      <td>72.013106</td>\n",
       "      <td>70.333111</td>\n",
       "      <td>...</td>\n",
       "      <td>7.535958e+00</td>\n",
       "      <td>7.930000e+00</td>\n",
       "      <td>5.416515e+00</td>\n",
       "      <td>5.650000e+00</td>\n",
       "      <td>1.972561e+00</td>\n",
       "      <td>1.850000e+00</td>\n",
       "      <td>3.535251e+00</td>\n",
       "      <td>2.89</td>\n",
       "      <td>7.515574</td>\n",
       "      <td>1.171000e+01</td>\n",
       "    </tr>\n",
       "    <tr>\n",
       "      <th>std</th>\n",
       "      <td>1.188993</td>\n",
       "      <td>0.373535</td>\n",
       "      <td>0.510309</td>\n",
       "      <td>11.606324</td>\n",
       "      <td>126.662010</td>\n",
       "      <td>3.297820</td>\n",
       "      <td>95.845946</td>\n",
       "      <td>0.063183</td>\n",
       "      <td>0.406313</td>\n",
       "      <td>5.525217</td>\n",
       "      <td>...</td>\n",
       "      <td>1.645785e+00</td>\n",
       "      <td>3.552840e-15</td>\n",
       "      <td>1.182333e+00</td>\n",
       "      <td>8.882099e-16</td>\n",
       "      <td>4.145398e-01</td>\n",
       "      <td>4.441050e-16</td>\n",
       "      <td>4.768244e-01</td>\n",
       "      <td>0.00</td>\n",
       "      <td>2.082948</td>\n",
       "      <td>1.776420e-15</td>\n",
       "    </tr>\n",
       "    <tr>\n",
       "      <th>min</th>\n",
       "      <td>13.840000</td>\n",
       "      <td>23.020000</td>\n",
       "      <td>11.540000</td>\n",
       "      <td>200.000000</td>\n",
       "      <td>601.110000</td>\n",
       "      <td>247.000000</td>\n",
       "      <td>231.300000</td>\n",
       "      <td>71.900000</td>\n",
       "      <td>71.300000</td>\n",
       "      <td>44.400000</td>\n",
       "      <td>...</td>\n",
       "      <td>-5.220420e-95</td>\n",
       "      <td>7.930000e+00</td>\n",
       "      <td>-2.703210e-95</td>\n",
       "      <td>5.650000e+00</td>\n",
       "      <td>-6.200020e-96</td>\n",
       "      <td>1.850000e+00</td>\n",
       "      <td>-1.822810e-95</td>\n",
       "      <td>2.89</td>\n",
       "      <td>-3.437021</td>\n",
       "      <td>1.171000e+01</td>\n",
       "    </tr>\n",
       "    <tr>\n",
       "      <th>25%</th>\n",
       "      <td>14.040000</td>\n",
       "      <td>23.530000</td>\n",
       "      <td>11.540000</td>\n",
       "      <td>200.000000</td>\n",
       "      <td>963.000000</td>\n",
       "      <td>247.000000</td>\n",
       "      <td>1257.170000</td>\n",
       "      <td>72.000000</td>\n",
       "      <td>71.600000</td>\n",
       "      <td>68.880000</td>\n",
       "      <td>...</td>\n",
       "      <td>7.840000e+00</td>\n",
       "      <td>7.930000e+00</td>\n",
       "      <td>5.560000e+00</td>\n",
       "      <td>5.650000e+00</td>\n",
       "      <td>2.030000e+00</td>\n",
       "      <td>1.850000e+00</td>\n",
       "      <td>3.450000e+00</td>\n",
       "      <td>2.89</td>\n",
       "      <td>7.720000</td>\n",
       "      <td>1.171000e+01</td>\n",
       "    </tr>\n",
       "    <tr>\n",
       "      <th>50%</th>\n",
       "      <td>15.120000</td>\n",
       "      <td>23.930000</td>\n",
       "      <td>11.540000</td>\n",
       "      <td>200.000000</td>\n",
       "      <td>963.000000</td>\n",
       "      <td>247.000000</td>\n",
       "      <td>1264.440000</td>\n",
       "      <td>72.000000</td>\n",
       "      <td>72.000000</td>\n",
       "      <td>71.980000</td>\n",
       "      <td>...</td>\n",
       "      <td>7.900000e+00</td>\n",
       "      <td>7.930000e+00</td>\n",
       "      <td>5.630000e+00</td>\n",
       "      <td>5.650000e+00</td>\n",
       "      <td>2.060000e+00</td>\n",
       "      <td>1.850000e+00</td>\n",
       "      <td>3.510000e+00</td>\n",
       "      <td>2.89</td>\n",
       "      <td>7.870000</td>\n",
       "      <td>1.171000e+01</td>\n",
       "    </tr>\n",
       "    <tr>\n",
       "      <th>75%</th>\n",
       "      <td>16.630000</td>\n",
       "      <td>24.160000</td>\n",
       "      <td>12.220000</td>\n",
       "      <td>201.000000</td>\n",
       "      <td>1027.430000</td>\n",
       "      <td>251.000000</td>\n",
       "      <td>1273.460000</td>\n",
       "      <td>72.000000</td>\n",
       "      <td>72.400000</td>\n",
       "      <td>72.920000</td>\n",
       "      <td>...</td>\n",
       "      <td>7.950000e+00</td>\n",
       "      <td>7.930000e+00</td>\n",
       "      <td>5.800000e+00</td>\n",
       "      <td>5.650000e+00</td>\n",
       "      <td>2.090000e+00</td>\n",
       "      <td>1.850000e+00</td>\n",
       "      <td>3.760000e+00</td>\n",
       "      <td>2.89</td>\n",
       "      <td>8.080000</td>\n",
       "      <td>1.171000e+01</td>\n",
       "    </tr>\n",
       "    <tr>\n",
       "      <th>max</th>\n",
       "      <td>17.240000</td>\n",
       "      <td>24.430000</td>\n",
       "      <td>12.900000</td>\n",
       "      <td>236.000000</td>\n",
       "      <td>1048.060000</td>\n",
       "      <td>257.000000</td>\n",
       "      <td>1331.820000</td>\n",
       "      <td>72.500000</td>\n",
       "      <td>72.700000</td>\n",
       "      <td>88.530000</td>\n",
       "      <td>...</td>\n",
       "      <td>8.590000e+00</td>\n",
       "      <td>7.930000e+00</td>\n",
       "      <td>6.320000e+00</td>\n",
       "      <td>5.650000e+00</td>\n",
       "      <td>5.200000e+00</td>\n",
       "      <td>1.850000e+00</td>\n",
       "      <td>8.000000e+00</td>\n",
       "      <td>2.89</td>\n",
       "      <td>14.260000</td>\n",
       "      <td>1.171000e+01</td>\n",
       "    </tr>\n",
       "  </tbody>\n",
       "</table>\n",
       "<p>8 rows × 115 columns</p>\n",
       "</div>"
      ],
      "text/plain": [
       "       AmbientConditions.AmbientHumidity.U.Actual  \\\n",
       "count                                14088.000000   \n",
       "mean                                    15.330759   \n",
       "std                                      1.188993   \n",
       "min                                     13.840000   \n",
       "25%                                     14.040000   \n",
       "50%                                     15.120000   \n",
       "75%                                     16.630000   \n",
       "max                                     17.240000   \n",
       "\n",
       "       AmbientConditions.AmbientTemperature.U.Actual  \\\n",
       "count                                   14088.000000   \n",
       "mean                                       23.843635   \n",
       "std                                         0.373535   \n",
       "min                                        23.020000   \n",
       "25%                                        23.530000   \n",
       "50%                                        23.930000   \n",
       "75%                                        24.160000   \n",
       "max                                        24.430000   \n",
       "\n",
       "       Machine1.RawMaterial.Property1  Machine1.RawMaterial.Property2  \\\n",
       "count                    14088.000000                    14088.000000   \n",
       "mean                        11.851256                      205.676320   \n",
       "std                          0.510309                       11.606324   \n",
       "min                         11.540000                      200.000000   \n",
       "25%                         11.540000                      200.000000   \n",
       "50%                         11.540000                      200.000000   \n",
       "75%                         12.220000                      201.000000   \n",
       "max                         12.900000                      236.000000   \n",
       "\n",
       "       Machine1.RawMaterial.Property3  Machine1.RawMaterial.Property4  \\\n",
       "count                    14088.000000                    14088.000000   \n",
       "mean                       951.679815                      248.868896   \n",
       "std                        126.662010                        3.297820   \n",
       "min                        601.110000                      247.000000   \n",
       "25%                        963.000000                      247.000000   \n",
       "50%                        963.000000                      247.000000   \n",
       "75%                       1027.430000                      251.000000   \n",
       "max                       1048.060000                      257.000000   \n",
       "\n",
       "       Machine1.RawMaterialFeederParameter.U.Actual  \\\n",
       "count                                  14088.000000   \n",
       "mean                                    1242.764276   \n",
       "std                                       95.845946   \n",
       "min                                      231.300000   \n",
       "25%                                     1257.170000   \n",
       "50%                                     1264.440000   \n",
       "75%                                     1273.460000   \n",
       "max                                     1331.820000   \n",
       "\n",
       "       Machine1.Zone1Temperature.C.Actual  Machine1.Zone2Temperature.C.Actual  \\\n",
       "count                        14088.000000                        14088.000000   \n",
       "mean                            72.013330                           72.013106   \n",
       "std                              0.063183                            0.406313   \n",
       "min                             71.900000                           71.300000   \n",
       "25%                             72.000000                           71.600000   \n",
       "50%                             72.000000                           72.000000   \n",
       "75%                             72.000000                           72.400000   \n",
       "max                             72.500000                           72.700000   \n",
       "\n",
       "       Machine1.MotorAmperage.U.Actual  ...  \\\n",
       "count                     14088.000000  ...   \n",
       "mean                         70.333111  ...   \n",
       "std                           5.525217  ...   \n",
       "min                          44.400000  ...   \n",
       "25%                          68.880000  ...   \n",
       "50%                          71.980000  ...   \n",
       "75%                          72.920000  ...   \n",
       "max                          88.530000  ...   \n",
       "\n",
       "       Stage2.Output.Measurement10.U.Actual  \\\n",
       "count                          1.408800e+04   \n",
       "mean                           7.535958e+00   \n",
       "std                            1.645785e+00   \n",
       "min                           -5.220420e-95   \n",
       "25%                            7.840000e+00   \n",
       "50%                            7.900000e+00   \n",
       "75%                            7.950000e+00   \n",
       "max                            8.590000e+00   \n",
       "\n",
       "       Stage2.Output.Measurement10.U.Setpoint  \\\n",
       "count                            1.408800e+04   \n",
       "mean                             7.930000e+00   \n",
       "std                              3.552840e-15   \n",
       "min                              7.930000e+00   \n",
       "25%                              7.930000e+00   \n",
       "50%                              7.930000e+00   \n",
       "75%                              7.930000e+00   \n",
       "max                              7.930000e+00   \n",
       "\n",
       "       Stage2.Output.Measurement11.U.Actual  \\\n",
       "count                          1.408800e+04   \n",
       "mean                           5.416515e+00   \n",
       "std                            1.182333e+00   \n",
       "min                           -2.703210e-95   \n",
       "25%                            5.560000e+00   \n",
       "50%                            5.630000e+00   \n",
       "75%                            5.800000e+00   \n",
       "max                            6.320000e+00   \n",
       "\n",
       "       Stage2.Output.Measurement11.U.Setpoint  \\\n",
       "count                            1.408800e+04   \n",
       "mean                             5.650000e+00   \n",
       "std                              8.882099e-16   \n",
       "min                              5.650000e+00   \n",
       "25%                              5.650000e+00   \n",
       "50%                              5.650000e+00   \n",
       "75%                              5.650000e+00   \n",
       "max                              5.650000e+00   \n",
       "\n",
       "       Stage2.Output.Measurement12.U.Actual  \\\n",
       "count                          1.408800e+04   \n",
       "mean                           1.972561e+00   \n",
       "std                            4.145398e-01   \n",
       "min                           -6.200020e-96   \n",
       "25%                            2.030000e+00   \n",
       "50%                            2.060000e+00   \n",
       "75%                            2.090000e+00   \n",
       "max                            5.200000e+00   \n",
       "\n",
       "       Stage2.Output.Measurement12.U.Setpoint  \\\n",
       "count                            1.408800e+04   \n",
       "mean                             1.850000e+00   \n",
       "std                              4.441050e-16   \n",
       "min                              1.850000e+00   \n",
       "25%                              1.850000e+00   \n",
       "50%                              1.850000e+00   \n",
       "75%                              1.850000e+00   \n",
       "max                              1.850000e+00   \n",
       "\n",
       "       Stage2.Output.Measurement13.U.Actual  \\\n",
       "count                          1.408800e+04   \n",
       "mean                           3.535251e+00   \n",
       "std                            4.768244e-01   \n",
       "min                           -1.822810e-95   \n",
       "25%                            3.450000e+00   \n",
       "50%                            3.510000e+00   \n",
       "75%                            3.760000e+00   \n",
       "max                            8.000000e+00   \n",
       "\n",
       "       Stage2.Output.Measurement13.U.Setpoint  \\\n",
       "count                                14088.00   \n",
       "mean                                     2.89   \n",
       "std                                      0.00   \n",
       "min                                      2.89   \n",
       "25%                                      2.89   \n",
       "50%                                      2.89   \n",
       "75%                                      2.89   \n",
       "max                                      2.89   \n",
       "\n",
       "       Stage2.Output.Measurement14.U.Actual  \\\n",
       "count                          14088.000000   \n",
       "mean                               7.515574   \n",
       "std                                2.082948   \n",
       "min                               -3.437021   \n",
       "25%                                7.720000   \n",
       "50%                                7.870000   \n",
       "75%                                8.080000   \n",
       "max                               14.260000   \n",
       "\n",
       "       Stage2.Output.Measurement14.U.Setpoint  \n",
       "count                            1.408800e+04  \n",
       "mean                             1.171000e+01  \n",
       "std                              1.776420e-15  \n",
       "min                              1.171000e+01  \n",
       "25%                              1.171000e+01  \n",
       "50%                              1.171000e+01  \n",
       "75%                              1.171000e+01  \n",
       "max                              1.171000e+01  \n",
       "\n",
       "[8 rows x 115 columns]"
      ]
     },
     "metadata": {},
     "output_type": "display_data"
    },
    {
     "name": "stdout",
     "output_type": "stream",
     "text": [
      "\n",
      "Number of Columns with Missing Values:\n",
      "--------------------------------------------------\n",
      "Columns with missing values: 0\n"
     ]
    }
   ],
   "source": [
    "# Display basic information about the dataset\n",
    "print(\"Dataset Info:\")\n",
    "print(\"-\" * 50)\n",
    "factory_df.info()\n",
    "\n",
    "print(\"\\nDataset Shape:\")\n",
    "print(\"-\" * 50)\n",
    "print(f\"Rows: {factory_df.shape[0]}\")\n",
    "print(f\"Columns: {factory_df.shape[1]}\")\n",
    "\n",
    "print(\"\\nFirst few rows:\")\n",
    "print(\"-\" * 50)\n",
    "display(factory_df.head())\n",
    "\n",
    "print(\"\\nBasic Statistics:\")\n",
    "print(\"-\" * 50)\n",
    "display(factory_df.describe())\n",
    "\n",
    "print(\"\\nNumber of Columns with Missing Values:\")\n",
    "print(\"-\" * 50)\n",
    "print(f\"Columns with missing values: {factory_df.isnull().any().sum()}\")\n"
   ]
  },
  {
   "cell_type": "markdown",
   "metadata": {},
   "source": [
    "describe the above...\n",
    "\n",
    "... then candlestick graph"
   ]
  },
  {
   "cell_type": "code",
   "execution_count": 83,
   "metadata": {},
   "outputs": [
    {
     "data": {
      "text/html": [
       "<div>\n",
       "<style scoped>\n",
       "    .dataframe tbody tr th:only-of-type {\n",
       "        vertical-align: middle;\n",
       "    }\n",
       "\n",
       "    .dataframe tbody tr th {\n",
       "        vertical-align: top;\n",
       "    }\n",
       "\n",
       "    .dataframe thead th {\n",
       "        text-align: right;\n",
       "    }\n",
       "</style>\n",
       "<table border=\"1\" class=\"dataframe\">\n",
       "  <thead>\n",
       "    <tr style=\"text-align: right;\">\n",
       "      <th></th>\n",
       "      <th>time_stamp</th>\n",
       "      <th>Ambient Conditions  Ambient Humidity  U  Act</th>\n",
       "      <th>Ambient Conditions  Ambient Temp  U  Act</th>\n",
       "      <th>Mchn 1  Raw Mat  Property 1</th>\n",
       "      <th>Mchn 1  Raw Mat  Property 2</th>\n",
       "      <th>Mchn 1  Raw Mat  Property 3</th>\n",
       "      <th>Mchn 1  Raw Mat  Property 4</th>\n",
       "      <th>Mchn 1  Raw Mat Feeder Parameter  U  Act</th>\n",
       "      <th>Mchn 1  Zone 1 Temp  C  Act</th>\n",
       "      <th>Mchn 1  Zone 2 Temp  C  Act</th>\n",
       "      <th>...</th>\n",
       "      <th>Stage 2  Out  Meas 1 0  U  Act</th>\n",
       "      <th>Stage 2  Out  Meas 1 0  U  Setp</th>\n",
       "      <th>Stage 2  Out  Meas 1 1  U  Act</th>\n",
       "      <th>Stage 2  Out  Meas 1 1  U  Setp</th>\n",
       "      <th>Stage 2  Out  Meas 1 2  U  Act</th>\n",
       "      <th>Stage 2  Out  Meas 1 2  U  Setp</th>\n",
       "      <th>Stage 2  Out  Meas 1 3  U  Act</th>\n",
       "      <th>Stage 2  Out  Meas 1 3  U  Setp</th>\n",
       "      <th>Stage 2  Out  Meas 1 4  U  Act</th>\n",
       "      <th>Stage 2  Out  Meas 1 4  U  Setp</th>\n",
       "    </tr>\n",
       "  </thead>\n",
       "  <tbody>\n",
       "    <tr>\n",
       "      <th>0</th>\n",
       "      <td>2019-03-06 10:52:33</td>\n",
       "      <td>17.24</td>\n",
       "      <td>23.53</td>\n",
       "      <td>11.54</td>\n",
       "      <td>200</td>\n",
       "      <td>963.0</td>\n",
       "      <td>247</td>\n",
       "      <td>1241.26</td>\n",
       "      <td>72.0</td>\n",
       "      <td>72.3</td>\n",
       "      <td>...</td>\n",
       "      <td>0.0</td>\n",
       "      <td>7.93</td>\n",
       "      <td>0.0</td>\n",
       "      <td>5.65</td>\n",
       "      <td>0.0</td>\n",
       "      <td>1.85</td>\n",
       "      <td>0.0</td>\n",
       "      <td>2.89</td>\n",
       "      <td>0.0</td>\n",
       "      <td>11.71</td>\n",
       "    </tr>\n",
       "    <tr>\n",
       "      <th>1</th>\n",
       "      <td>2019-03-06 10:52:34</td>\n",
       "      <td>17.24</td>\n",
       "      <td>23.53</td>\n",
       "      <td>11.54</td>\n",
       "      <td>200</td>\n",
       "      <td>963.0</td>\n",
       "      <td>247</td>\n",
       "      <td>1246.09</td>\n",
       "      <td>72.0</td>\n",
       "      <td>72.3</td>\n",
       "      <td>...</td>\n",
       "      <td>0.0</td>\n",
       "      <td>7.93</td>\n",
       "      <td>0.0</td>\n",
       "      <td>5.65</td>\n",
       "      <td>0.0</td>\n",
       "      <td>1.85</td>\n",
       "      <td>0.0</td>\n",
       "      <td>2.89</td>\n",
       "      <td>0.0</td>\n",
       "      <td>11.71</td>\n",
       "    </tr>\n",
       "    <tr>\n",
       "      <th>2</th>\n",
       "      <td>2019-03-06 10:52:35</td>\n",
       "      <td>17.24</td>\n",
       "      <td>23.53</td>\n",
       "      <td>11.54</td>\n",
       "      <td>200</td>\n",
       "      <td>963.0</td>\n",
       "      <td>247</td>\n",
       "      <td>1246.29</td>\n",
       "      <td>72.0</td>\n",
       "      <td>72.3</td>\n",
       "      <td>...</td>\n",
       "      <td>0.0</td>\n",
       "      <td>7.93</td>\n",
       "      <td>0.0</td>\n",
       "      <td>5.65</td>\n",
       "      <td>0.0</td>\n",
       "      <td>1.85</td>\n",
       "      <td>0.0</td>\n",
       "      <td>2.89</td>\n",
       "      <td>0.0</td>\n",
       "      <td>11.71</td>\n",
       "    </tr>\n",
       "    <tr>\n",
       "      <th>3</th>\n",
       "      <td>2019-03-06 10:52:36</td>\n",
       "      <td>17.24</td>\n",
       "      <td>23.53</td>\n",
       "      <td>11.54</td>\n",
       "      <td>200</td>\n",
       "      <td>963.0</td>\n",
       "      <td>247</td>\n",
       "      <td>1247.59</td>\n",
       "      <td>72.0</td>\n",
       "      <td>72.3</td>\n",
       "      <td>...</td>\n",
       "      <td>0.0</td>\n",
       "      <td>7.93</td>\n",
       "      <td>0.0</td>\n",
       "      <td>5.65</td>\n",
       "      <td>0.0</td>\n",
       "      <td>1.85</td>\n",
       "      <td>0.0</td>\n",
       "      <td>2.89</td>\n",
       "      <td>0.0</td>\n",
       "      <td>11.71</td>\n",
       "    </tr>\n",
       "    <tr>\n",
       "      <th>4</th>\n",
       "      <td>2019-03-06 10:52:37</td>\n",
       "      <td>17.24</td>\n",
       "      <td>23.53</td>\n",
       "      <td>11.54</td>\n",
       "      <td>200</td>\n",
       "      <td>963.0</td>\n",
       "      <td>247</td>\n",
       "      <td>1252.83</td>\n",
       "      <td>72.1</td>\n",
       "      <td>72.4</td>\n",
       "      <td>...</td>\n",
       "      <td>0.0</td>\n",
       "      <td>7.93</td>\n",
       "      <td>0.0</td>\n",
       "      <td>5.65</td>\n",
       "      <td>0.0</td>\n",
       "      <td>1.85</td>\n",
       "      <td>0.0</td>\n",
       "      <td>2.89</td>\n",
       "      <td>0.0</td>\n",
       "      <td>11.71</td>\n",
       "    </tr>\n",
       "  </tbody>\n",
       "</table>\n",
       "<p>5 rows × 116 columns</p>\n",
       "</div>"
      ],
      "text/plain": [
       "            time_stamp   Ambient Conditions  Ambient Humidity  U  Act  \\\n",
       "0  2019-03-06 10:52:33                                          17.24   \n",
       "1  2019-03-06 10:52:34                                          17.24   \n",
       "2  2019-03-06 10:52:35                                          17.24   \n",
       "3  2019-03-06 10:52:36                                          17.24   \n",
       "4  2019-03-06 10:52:37                                          17.24   \n",
       "\n",
       "    Ambient Conditions  Ambient Temp  U  Act   Mchn 1  Raw Mat  Property 1  \\\n",
       "0                                      23.53                         11.54   \n",
       "1                                      23.53                         11.54   \n",
       "2                                      23.53                         11.54   \n",
       "3                                      23.53                         11.54   \n",
       "4                                      23.53                         11.54   \n",
       "\n",
       "    Mchn 1  Raw Mat  Property 2   Mchn 1  Raw Mat  Property 3  \\\n",
       "0                           200                         963.0   \n",
       "1                           200                         963.0   \n",
       "2                           200                         963.0   \n",
       "3                           200                         963.0   \n",
       "4                           200                         963.0   \n",
       "\n",
       "    Mchn 1  Raw Mat  Property 4   Mchn 1  Raw Mat Feeder Parameter  U  Act  \\\n",
       "0                           247                                    1241.26   \n",
       "1                           247                                    1246.09   \n",
       "2                           247                                    1246.29   \n",
       "3                           247                                    1247.59   \n",
       "4                           247                                    1252.83   \n",
       "\n",
       "    Mchn 1  Zone 1 Temp  C  Act   Mchn 1  Zone 2 Temp  C  Act  ...  \\\n",
       "0                          72.0                          72.3  ...   \n",
       "1                          72.0                          72.3  ...   \n",
       "2                          72.0                          72.3  ...   \n",
       "3                          72.0                          72.3  ...   \n",
       "4                          72.1                          72.4  ...   \n",
       "\n",
       "    Stage 2  Out  Meas 1 0  U  Act   Stage 2  Out  Meas 1 0  U  Setp  \\\n",
       "0                              0.0                              7.93   \n",
       "1                              0.0                              7.93   \n",
       "2                              0.0                              7.93   \n",
       "3                              0.0                              7.93   \n",
       "4                              0.0                              7.93   \n",
       "\n",
       "    Stage 2  Out  Meas 1 1  U  Act   Stage 2  Out  Meas 1 1  U  Setp  \\\n",
       "0                              0.0                              5.65   \n",
       "1                              0.0                              5.65   \n",
       "2                              0.0                              5.65   \n",
       "3                              0.0                              5.65   \n",
       "4                              0.0                              5.65   \n",
       "\n",
       "    Stage 2  Out  Meas 1 2  U  Act   Stage 2  Out  Meas 1 2  U  Setp  \\\n",
       "0                              0.0                              1.85   \n",
       "1                              0.0                              1.85   \n",
       "2                              0.0                              1.85   \n",
       "3                              0.0                              1.85   \n",
       "4                              0.0                              1.85   \n",
       "\n",
       "    Stage 2  Out  Meas 1 3  U  Act   Stage 2  Out  Meas 1 3  U  Setp  \\\n",
       "0                              0.0                              2.89   \n",
       "1                              0.0                              2.89   \n",
       "2                              0.0                              2.89   \n",
       "3                              0.0                              2.89   \n",
       "4                              0.0                              2.89   \n",
       "\n",
       "    Stage 2  Out  Meas 1 4  U  Act   Stage 2  Out  Meas 1 4  U  Setp  \n",
       "0                              0.0                             11.71  \n",
       "1                              0.0                             11.71  \n",
       "2                              0.0                             11.71  \n",
       "3                              0.0                             11.71  \n",
       "4                              0.0                             11.71  \n",
       "\n",
       "[5 rows x 116 columns]"
      ]
     },
     "execution_count": 83,
     "metadata": {},
     "output_type": "execute_result"
    }
   ],
   "source": [
    "# Lets rename the columns\n",
    "# Create a dictionary to store the old and new column names\n",
    "column_mapping = {}\n",
    "\n",
    "# Machine = Mchn\n",
    "# Temperature = Temp\n",
    "# Material = Mat\n",
    "# Measurement = Meas\n",
    "# Setpoint = Setp\n",
    "# Actual = Act\n",
    "# Controlled = Ctrl\n",
    "# Uncontrolled = Unctrl\n",
    "# Environmental = Env\n",
    "# States = St\n",
    "\n",
    "# Iterate through columns and create new names in temp dict\n",
    "for column in factory_df.columns:\n",
    "    if column != 'time_stamp':  # Keep timestamp column as is\n",
    "        new_name = ''.join(' ' + c if c.isupper() else c for c in column)\n",
    "        new_name = ''.join(' ' + c if c.isdigit() else c for c in new_name)\n",
    "        new_name = new_name.replace('.', ' ')\n",
    "        new_name = new_name.replace('Machine', 'Mchn')\n",
    "        new_name = new_name.replace('Temperature', 'Temp') \n",
    "        new_name = new_name.replace('Material', 'Mat')\n",
    "        new_name = new_name.replace('Measurement', 'Meas')\n",
    "        new_name = new_name.replace('Setpoint', 'Setp')\n",
    "        new_name = new_name.replace('Actual', 'Act')\n",
    "        new_name = new_name.replace('Controlled', 'Ctrl')\n",
    "        new_name = new_name.replace('Uncontrolled', 'Unctrl')\n",
    "        new_name = new_name.replace('Environmental', 'Env')\n",
    "        new_name = new_name.replace('States', 'St')\n",
    "        new_name = new_name.replace('Output', 'Out')\n",
    "        column_mapping[column] = new_name\n",
    "\n",
    "# Rename the columns using the mapping\n",
    "factory_df = factory_df.rename(columns=column_mapping)\n",
    "factory_df.head()"
   ]
  },
  {
   "cell_type": "code",
   "execution_count": 84,
   "metadata": {},
   "outputs": [
    {
     "name": "stdout",
     "output_type": "stream",
     "text": [
      "\n",
      "Number of outliers (>3 std dev) per column:\n",
      "--------------------------------------------------\n"
     ]
    },
    {
     "data": {
      "text/html": [
       "<div>\n",
       "<style scoped>\n",
       "    .dataframe tbody tr th:only-of-type {\n",
       "        vertical-align: middle;\n",
       "    }\n",
       "\n",
       "    .dataframe tbody tr th {\n",
       "        vertical-align: top;\n",
       "    }\n",
       "\n",
       "    .dataframe thead th {\n",
       "        text-align: right;\n",
       "    }\n",
       "</style>\n",
       "<table border=\"1\" class=\"dataframe\">\n",
       "  <thead>\n",
       "    <tr style=\"text-align: right;\">\n",
       "      <th></th>\n",
       "      <th>Number of Outliers</th>\n",
       "    </tr>\n",
       "  </thead>\n",
       "  <tbody>\n",
       "    <tr>\n",
       "      <th>Stage 2  Out  Meas 0  U  Act</th>\n",
       "      <td>1227</td>\n",
       "    </tr>\n",
       "    <tr>\n",
       "      <th>Stage 2  Out  Meas 8  U  Act</th>\n",
       "      <td>977</td>\n",
       "    </tr>\n",
       "    <tr>\n",
       "      <th>Stage 2  Out  Meas 1 4  U  Act</th>\n",
       "      <td>918</td>\n",
       "    </tr>\n",
       "    <tr>\n",
       "      <th>Stage 2  Out  Meas 4  U  Act</th>\n",
       "      <td>899</td>\n",
       "    </tr>\n",
       "    <tr>\n",
       "      <th>Stage 1  Out  Meas 8  U  Act</th>\n",
       "      <td>781</td>\n",
       "    </tr>\n",
       "    <tr>\n",
       "      <th>Stage 2  Out  Meas 1  U  Act</th>\n",
       "      <td>780</td>\n",
       "    </tr>\n",
       "    <tr>\n",
       "      <th>Stage 2  Out  Meas 3  U  Act</th>\n",
       "      <td>776</td>\n",
       "    </tr>\n",
       "    <tr>\n",
       "      <th>Stage 1  Out  Meas 9  U  Act</th>\n",
       "      <td>726</td>\n",
       "    </tr>\n",
       "    <tr>\n",
       "      <th>Stage 1  Out  Meas 5  U  Act</th>\n",
       "      <td>641</td>\n",
       "    </tr>\n",
       "    <tr>\n",
       "      <th>Stage 2  Out  Meas 1 0  U  Act</th>\n",
       "      <td>638</td>\n",
       "    </tr>\n",
       "    <tr>\n",
       "      <th>Stage 2  Out  Meas 1 2  U  Act</th>\n",
       "      <td>633</td>\n",
       "    </tr>\n",
       "    <tr>\n",
       "      <th>Stage 2  Out  Meas 1 1  U  Act</th>\n",
       "      <td>631</td>\n",
       "    </tr>\n",
       "    <tr>\n",
       "      <th>Stage 2  Out  Meas 2  U  Act</th>\n",
       "      <td>617</td>\n",
       "    </tr>\n",
       "    <tr>\n",
       "      <th>Mchn 2  Zone 2 Temp  C  Act</th>\n",
       "      <td>534</td>\n",
       "    </tr>\n",
       "    <tr>\n",
       "      <th>Mchn 5  Temp 3  C  Act</th>\n",
       "      <td>481</td>\n",
       "    </tr>\n",
       "    <tr>\n",
       "      <th>Stage 2  Out  Meas 7  U  Act</th>\n",
       "      <td>406</td>\n",
       "    </tr>\n",
       "    <tr>\n",
       "      <th>Mchn 4  Exit Temp  U  Act</th>\n",
       "      <td>397</td>\n",
       "    </tr>\n",
       "    <tr>\n",
       "      <th>Mchn 3  Mat Temp  U  Act</th>\n",
       "      <td>397</td>\n",
       "    </tr>\n",
       "    <tr>\n",
       "      <th>Mchn 3  Zone 1 Temp  C  Act</th>\n",
       "      <td>380</td>\n",
       "    </tr>\n",
       "    <tr>\n",
       "      <th>Mchn 1  Raw Mat Feeder Parameter  U  Act</th>\n",
       "      <td>361</td>\n",
       "    </tr>\n",
       "    <tr>\n",
       "      <th>Mchn 2  Mat Temp  U  Act</th>\n",
       "      <td>358</td>\n",
       "    </tr>\n",
       "    <tr>\n",
       "      <th>Stage 1  Out  Meas 1 3  U  Act</th>\n",
       "      <td>358</td>\n",
       "    </tr>\n",
       "    <tr>\n",
       "      <th>Mchn 1  Motor Amperage  U  Act</th>\n",
       "      <td>313</td>\n",
       "    </tr>\n",
       "    <tr>\n",
       "      <th>Mchn 3  Exit Zone Temp  C  Act</th>\n",
       "      <td>309</td>\n",
       "    </tr>\n",
       "    <tr>\n",
       "      <th>Mchn 5  Temp 6  C  Act</th>\n",
       "      <td>292</td>\n",
       "    </tr>\n",
       "    <tr>\n",
       "      <th>Stage 1  Out  Meas 1 0  U  Act</th>\n",
       "      <td>277</td>\n",
       "    </tr>\n",
       "    <tr>\n",
       "      <th>Mchn 1  Zone 1 Temp  C  Act</th>\n",
       "      <td>272</td>\n",
       "    </tr>\n",
       "    <tr>\n",
       "      <th>Stage 1  Out  Meas 2  U  Act</th>\n",
       "      <td>254</td>\n",
       "    </tr>\n",
       "    <tr>\n",
       "      <th>Mchn 2  Zone 1 Temp  C  Act</th>\n",
       "      <td>249</td>\n",
       "    </tr>\n",
       "    <tr>\n",
       "      <th>Stage 2  Out  Meas 1 3  U  Act</th>\n",
       "      <td>230</td>\n",
       "    </tr>\n",
       "    <tr>\n",
       "      <th>Stage 2  Out  Meas 5  U  Act</th>\n",
       "      <td>213</td>\n",
       "    </tr>\n",
       "    <tr>\n",
       "      <th>Stage 1  Out  Meas 4  U  Act</th>\n",
       "      <td>178</td>\n",
       "    </tr>\n",
       "    <tr>\n",
       "      <th>Mchn 2  Mat Pressure  U  Act</th>\n",
       "      <td>166</td>\n",
       "    </tr>\n",
       "    <tr>\n",
       "      <th>Mchn 4  Temp 2  C  Act</th>\n",
       "      <td>141</td>\n",
       "    </tr>\n",
       "    <tr>\n",
       "      <th>Mchn 1  Mat Temp  U  Act</th>\n",
       "      <td>138</td>\n",
       "    </tr>\n",
       "    <tr>\n",
       "      <th>Stage 1  Out  Meas 3  U  Act</th>\n",
       "      <td>136</td>\n",
       "    </tr>\n",
       "    <tr>\n",
       "      <th>Mchn 5  Exit Temp  U  Act</th>\n",
       "      <td>135</td>\n",
       "    </tr>\n",
       "    <tr>\n",
       "      <th>Mchn 4  Temp 1  C  Act</th>\n",
       "      <td>128</td>\n",
       "    </tr>\n",
       "    <tr>\n",
       "      <th>Mchn 5  Temp 4  C  Act</th>\n",
       "      <td>127</td>\n",
       "    </tr>\n",
       "    <tr>\n",
       "      <th>Stage 1  Out  Meas 6  U  Act</th>\n",
       "      <td>120</td>\n",
       "    </tr>\n",
       "    <tr>\n",
       "      <th>Mchn 5  Temp 5  C  Act</th>\n",
       "      <td>113</td>\n",
       "    </tr>\n",
       "    <tr>\n",
       "      <th>Mchn 5  Temp 1  C  Act</th>\n",
       "      <td>96</td>\n",
       "    </tr>\n",
       "    <tr>\n",
       "      <th>Mchn 4  Temp 5  C  Act</th>\n",
       "      <td>82</td>\n",
       "    </tr>\n",
       "    <tr>\n",
       "      <th>Stage 1  Out  Meas 0  U  Act</th>\n",
       "      <td>81</td>\n",
       "    </tr>\n",
       "    <tr>\n",
       "      <th>Stage 2  Out  Meas 6  U  Act</th>\n",
       "      <td>72</td>\n",
       "    </tr>\n",
       "    <tr>\n",
       "      <th>Mchn 3  Raw Mat Feeder Parameter  U  Act</th>\n",
       "      <td>66</td>\n",
       "    </tr>\n",
       "    <tr>\n",
       "      <th>Mchn 5  Temp 2  C  Act</th>\n",
       "      <td>63</td>\n",
       "    </tr>\n",
       "    <tr>\n",
       "      <th>Stage 1  Out  Meas 4  U  Setp</th>\n",
       "      <td>56</td>\n",
       "    </tr>\n",
       "    <tr>\n",
       "      <th>Stage 1  Out  Meas 2  U  Setp</th>\n",
       "      <td>56</td>\n",
       "    </tr>\n",
       "    <tr>\n",
       "      <th>Stage 1  Out  Meas 1  U  Setp</th>\n",
       "      <td>56</td>\n",
       "    </tr>\n",
       "    <tr>\n",
       "      <th>Stage 1  Out  Meas 0  U  Setp</th>\n",
       "      <td>56</td>\n",
       "    </tr>\n",
       "    <tr>\n",
       "      <th>Stage 1  Out  Meas 1 1  U  Setp</th>\n",
       "      <td>56</td>\n",
       "    </tr>\n",
       "    <tr>\n",
       "      <th>Stage 1  Out  Meas 8  U  Setp</th>\n",
       "      <td>56</td>\n",
       "    </tr>\n",
       "    <tr>\n",
       "      <th>Stage 1  Out  Meas 9  U  Setp</th>\n",
       "      <td>56</td>\n",
       "    </tr>\n",
       "    <tr>\n",
       "      <th>Stage 1  Out  Meas 1 0  U  Setp</th>\n",
       "      <td>56</td>\n",
       "    </tr>\n",
       "    <tr>\n",
       "      <th>Stage 1  Out  Meas 1 2  U  Setp</th>\n",
       "      <td>56</td>\n",
       "    </tr>\n",
       "    <tr>\n",
       "      <th>Stage 1  Out  Meas 1 3  U  Setp</th>\n",
       "      <td>56</td>\n",
       "    </tr>\n",
       "    <tr>\n",
       "      <th>Stage 1  Out  Meas 6  U  Setp</th>\n",
       "      <td>56</td>\n",
       "    </tr>\n",
       "    <tr>\n",
       "      <th>Stage 1  Out  Meas 1 4  U  Setp</th>\n",
       "      <td>56</td>\n",
       "    </tr>\n",
       "    <tr>\n",
       "      <th>Stage 1  Out  Meas 5  U  Setp</th>\n",
       "      <td>56</td>\n",
       "    </tr>\n",
       "    <tr>\n",
       "      <th>Stage 1  Out  Meas 7  U  Setp</th>\n",
       "      <td>56</td>\n",
       "    </tr>\n",
       "    <tr>\n",
       "      <th>Stage 1  Out  Meas 3  U  Setp</th>\n",
       "      <td>56</td>\n",
       "    </tr>\n",
       "    <tr>\n",
       "      <th>Mchn 2  Raw Mat Feeder Parameter  U  Act</th>\n",
       "      <td>51</td>\n",
       "    </tr>\n",
       "    <tr>\n",
       "      <th>Mchn 4  Temp 4  C  Act</th>\n",
       "      <td>46</td>\n",
       "    </tr>\n",
       "    <tr>\n",
       "      <th>Mchn 4  Pressure  C  Act</th>\n",
       "      <td>46</td>\n",
       "    </tr>\n",
       "    <tr>\n",
       "      <th>Mchn 3  Zone 2 Temp  C  Act</th>\n",
       "      <td>41</td>\n",
       "    </tr>\n",
       "    <tr>\n",
       "      <th>Mchn 2  Motor Amperage  U  Act</th>\n",
       "      <td>33</td>\n",
       "    </tr>\n",
       "    <tr>\n",
       "      <th>Mchn 4  Temp 3  C  Act</th>\n",
       "      <td>26</td>\n",
       "    </tr>\n",
       "    <tr>\n",
       "      <th>Mchn 1  Exit Zone Temp  C  Act</th>\n",
       "      <td>19</td>\n",
       "    </tr>\n",
       "    <tr>\n",
       "      <th>First Stage  Combiner Operation  Temp 3  C  Act</th>\n",
       "      <td>19</td>\n",
       "    </tr>\n",
       "    <tr>\n",
       "      <th>Mchn 2  Exit Zone Temp  C  Act</th>\n",
       "      <td>17</td>\n",
       "    </tr>\n",
       "    <tr>\n",
       "      <th>Mchn 3  Motor Amperage  U  Act</th>\n",
       "      <td>6</td>\n",
       "    </tr>\n",
       "    <tr>\n",
       "      <th>Stage 1  Out  Meas 1 2  U  Act</th>\n",
       "      <td>3</td>\n",
       "    </tr>\n",
       "    <tr>\n",
       "      <th>Mchn 1  Mat Pressure  U  Act</th>\n",
       "      <td>3</td>\n",
       "    </tr>\n",
       "    <tr>\n",
       "      <th>First Stage  Combiner Operation  Temp 1  U  Act</th>\n",
       "      <td>3</td>\n",
       "    </tr>\n",
       "    <tr>\n",
       "      <th>Mchn 3  Motor R P M  C  Act</th>\n",
       "      <td>1</td>\n",
       "    </tr>\n",
       "    <tr>\n",
       "      <th>Ambient Conditions  Ambient Temp  U  Act</th>\n",
       "      <td>0</td>\n",
       "    </tr>\n",
       "    <tr>\n",
       "      <th>Ambient Conditions  Ambient Humidity  U  Act</th>\n",
       "      <td>0</td>\n",
       "    </tr>\n",
       "    <tr>\n",
       "      <th>Mchn 1  Raw Mat  Property 2</th>\n",
       "      <td>0</td>\n",
       "    </tr>\n",
       "    <tr>\n",
       "      <th>Mchn 1  Raw Mat  Property 1</th>\n",
       "      <td>0</td>\n",
       "    </tr>\n",
       "    <tr>\n",
       "      <th>Mchn 2  Raw Mat  Property 2</th>\n",
       "      <td>0</td>\n",
       "    </tr>\n",
       "    <tr>\n",
       "      <th>Mchn 2  Raw Mat  Property 3</th>\n",
       "      <td>0</td>\n",
       "    </tr>\n",
       "    <tr>\n",
       "      <th>Mchn 2  Raw Mat  Property 4</th>\n",
       "      <td>0</td>\n",
       "    </tr>\n",
       "    <tr>\n",
       "      <th>Stage 1  Out  Meas 1  U  Act</th>\n",
       "      <td>0</td>\n",
       "    </tr>\n",
       "    <tr>\n",
       "      <th>First Stage  Combiner Operation  Temp 2  U  Act</th>\n",
       "      <td>0</td>\n",
       "    </tr>\n",
       "    <tr>\n",
       "      <th>Mchn 3  Mat Pressure  U  Act</th>\n",
       "      <td>0</td>\n",
       "    </tr>\n",
       "    <tr>\n",
       "      <th>Mchn 2  Motor R P M  C  Act</th>\n",
       "      <td>0</td>\n",
       "    </tr>\n",
       "    <tr>\n",
       "      <th>Mchn 3  Raw Mat  Property 1</th>\n",
       "      <td>0</td>\n",
       "    </tr>\n",
       "    <tr>\n",
       "      <th>Mchn 3  Raw Mat  Property 4</th>\n",
       "      <td>0</td>\n",
       "    </tr>\n",
       "    <tr>\n",
       "      <th>Mchn 3  Raw Mat  Property 2</th>\n",
       "      <td>0</td>\n",
       "    </tr>\n",
       "    <tr>\n",
       "      <th>Mchn 3  Raw Mat  Property 3</th>\n",
       "      <td>0</td>\n",
       "    </tr>\n",
       "    <tr>\n",
       "      <th>Mchn 1  Motor R P M  C  Act</th>\n",
       "      <td>0</td>\n",
       "    </tr>\n",
       "    <tr>\n",
       "      <th>Mchn 1  Zone 2 Temp  C  Act</th>\n",
       "      <td>0</td>\n",
       "    </tr>\n",
       "    <tr>\n",
       "      <th>Mchn 1  Raw Mat  Property 3</th>\n",
       "      <td>0</td>\n",
       "    </tr>\n",
       "    <tr>\n",
       "      <th>Mchn 1  Raw Mat  Property 4</th>\n",
       "      <td>0</td>\n",
       "    </tr>\n",
       "    <tr>\n",
       "      <th>Mchn 2  Raw Mat  Property 1</th>\n",
       "      <td>0</td>\n",
       "    </tr>\n",
       "    <tr>\n",
       "      <th>Stage 1  Out  Meas 1 4  U  Act</th>\n",
       "      <td>0</td>\n",
       "    </tr>\n",
       "    <tr>\n",
       "      <th>Stage 1  Out  Meas 7  U  Act</th>\n",
       "      <td>0</td>\n",
       "    </tr>\n",
       "    <tr>\n",
       "      <th>Stage 1  Out  Meas 1 1  U  Act</th>\n",
       "      <td>0</td>\n",
       "    </tr>\n",
       "    <tr>\n",
       "      <th>Stage 2  Out  Meas 6  U  Setp</th>\n",
       "      <td>0</td>\n",
       "    </tr>\n",
       "    <tr>\n",
       "      <th>Stage 2  Out  Meas 5  U  Setp</th>\n",
       "      <td>0</td>\n",
       "    </tr>\n",
       "    <tr>\n",
       "      <th>Stage 2  Out  Meas 3  U  Setp</th>\n",
       "      <td>0</td>\n",
       "    </tr>\n",
       "    <tr>\n",
       "      <th>Stage 2  Out  Meas 4  U  Setp</th>\n",
       "      <td>0</td>\n",
       "    </tr>\n",
       "    <tr>\n",
       "      <th>Stage 2  Out  Meas 1  U  Setp</th>\n",
       "      <td>0</td>\n",
       "    </tr>\n",
       "    <tr>\n",
       "      <th>Stage 2  Out  Meas 0  U  Setp</th>\n",
       "      <td>0</td>\n",
       "    </tr>\n",
       "    <tr>\n",
       "      <th>Stage 2  Out  Meas 2  U  Setp</th>\n",
       "      <td>0</td>\n",
       "    </tr>\n",
       "    <tr>\n",
       "      <th>Stage 2  Out  Meas 7  U  Setp</th>\n",
       "      <td>0</td>\n",
       "    </tr>\n",
       "    <tr>\n",
       "      <th>Stage 2  Out  Meas 1 0  U  Setp</th>\n",
       "      <td>0</td>\n",
       "    </tr>\n",
       "    <tr>\n",
       "      <th>Stage 2  Out  Meas 9  U  Setp</th>\n",
       "      <td>0</td>\n",
       "    </tr>\n",
       "    <tr>\n",
       "      <th>Stage 2  Out  Meas 9  U  Act</th>\n",
       "      <td>0</td>\n",
       "    </tr>\n",
       "    <tr>\n",
       "      <th>Stage 2  Out  Meas 8  U  Setp</th>\n",
       "      <td>0</td>\n",
       "    </tr>\n",
       "    <tr>\n",
       "      <th>Stage 2  Out  Meas 1 2  U  Setp</th>\n",
       "      <td>0</td>\n",
       "    </tr>\n",
       "    <tr>\n",
       "      <th>Stage 2  Out  Meas 1 1  U  Setp</th>\n",
       "      <td>0</td>\n",
       "    </tr>\n",
       "    <tr>\n",
       "      <th>Stage 2  Out  Meas 1 3  U  Setp</th>\n",
       "      <td>0</td>\n",
       "    </tr>\n",
       "    <tr>\n",
       "      <th>Stage 2  Out  Meas 1 4  U  Setp</th>\n",
       "      <td>0</td>\n",
       "    </tr>\n",
       "  </tbody>\n",
       "</table>\n",
       "</div>"
      ],
      "text/plain": [
       "                                                 Number of Outliers\n",
       "Stage 2  Out  Meas 0  U  Act                                   1227\n",
       "Stage 2  Out  Meas 8  U  Act                                    977\n",
       "Stage 2  Out  Meas 1 4  U  Act                                  918\n",
       "Stage 2  Out  Meas 4  U  Act                                    899\n",
       "Stage 1  Out  Meas 8  U  Act                                    781\n",
       "Stage 2  Out  Meas 1  U  Act                                    780\n",
       "Stage 2  Out  Meas 3  U  Act                                    776\n",
       "Stage 1  Out  Meas 9  U  Act                                    726\n",
       "Stage 1  Out  Meas 5  U  Act                                    641\n",
       "Stage 2  Out  Meas 1 0  U  Act                                  638\n",
       "Stage 2  Out  Meas 1 2  U  Act                                  633\n",
       "Stage 2  Out  Meas 1 1  U  Act                                  631\n",
       "Stage 2  Out  Meas 2  U  Act                                    617\n",
       "Mchn 2  Zone 2 Temp  C  Act                                     534\n",
       "Mchn 5  Temp 3  C  Act                                          481\n",
       "Stage 2  Out  Meas 7  U  Act                                    406\n",
       "Mchn 4  Exit Temp  U  Act                                       397\n",
       "Mchn 3  Mat Temp  U  Act                                        397\n",
       "Mchn 3  Zone 1 Temp  C  Act                                     380\n",
       "Mchn 1  Raw Mat Feeder Parameter  U  Act                        361\n",
       "Mchn 2  Mat Temp  U  Act                                        358\n",
       "Stage 1  Out  Meas 1 3  U  Act                                  358\n",
       "Mchn 1  Motor Amperage  U  Act                                  313\n",
       "Mchn 3  Exit Zone Temp  C  Act                                  309\n",
       "Mchn 5  Temp 6  C  Act                                          292\n",
       "Stage 1  Out  Meas 1 0  U  Act                                  277\n",
       "Mchn 1  Zone 1 Temp  C  Act                                     272\n",
       "Stage 1  Out  Meas 2  U  Act                                    254\n",
       "Mchn 2  Zone 1 Temp  C  Act                                     249\n",
       "Stage 2  Out  Meas 1 3  U  Act                                  230\n",
       "Stage 2  Out  Meas 5  U  Act                                    213\n",
       "Stage 1  Out  Meas 4  U  Act                                    178\n",
       "Mchn 2  Mat Pressure  U  Act                                    166\n",
       "Mchn 4  Temp 2  C  Act                                          141\n",
       "Mchn 1  Mat Temp  U  Act                                        138\n",
       "Stage 1  Out  Meas 3  U  Act                                    136\n",
       "Mchn 5  Exit Temp  U  Act                                       135\n",
       "Mchn 4  Temp 1  C  Act                                          128\n",
       "Mchn 5  Temp 4  C  Act                                          127\n",
       "Stage 1  Out  Meas 6  U  Act                                    120\n",
       "Mchn 5  Temp 5  C  Act                                          113\n",
       "Mchn 5  Temp 1  C  Act                                           96\n",
       "Mchn 4  Temp 5  C  Act                                           82\n",
       "Stage 1  Out  Meas 0  U  Act                                     81\n",
       "Stage 2  Out  Meas 6  U  Act                                     72\n",
       "Mchn 3  Raw Mat Feeder Parameter  U  Act                         66\n",
       "Mchn 5  Temp 2  C  Act                                           63\n",
       "Stage 1  Out  Meas 4  U  Setp                                    56\n",
       "Stage 1  Out  Meas 2  U  Setp                                    56\n",
       "Stage 1  Out  Meas 1  U  Setp                                    56\n",
       "Stage 1  Out  Meas 0  U  Setp                                    56\n",
       "Stage 1  Out  Meas 1 1  U  Setp                                  56\n",
       "Stage 1  Out  Meas 8  U  Setp                                    56\n",
       "Stage 1  Out  Meas 9  U  Setp                                    56\n",
       "Stage 1  Out  Meas 1 0  U  Setp                                  56\n",
       "Stage 1  Out  Meas 1 2  U  Setp                                  56\n",
       "Stage 1  Out  Meas 1 3  U  Setp                                  56\n",
       "Stage 1  Out  Meas 6  U  Setp                                    56\n",
       "Stage 1  Out  Meas 1 4  U  Setp                                  56\n",
       "Stage 1  Out  Meas 5  U  Setp                                    56\n",
       "Stage 1  Out  Meas 7  U  Setp                                    56\n",
       "Stage 1  Out  Meas 3  U  Setp                                    56\n",
       "Mchn 2  Raw Mat Feeder Parameter  U  Act                         51\n",
       "Mchn 4  Temp 4  C  Act                                           46\n",
       "Mchn 4  Pressure  C  Act                                         46\n",
       "Mchn 3  Zone 2 Temp  C  Act                                      41\n",
       "Mchn 2  Motor Amperage  U  Act                                   33\n",
       "Mchn 4  Temp 3  C  Act                                           26\n",
       "Mchn 1  Exit Zone Temp  C  Act                                   19\n",
       "First Stage  Combiner Operation  Temp 3  C  Act                  19\n",
       "Mchn 2  Exit Zone Temp  C  Act                                   17\n",
       "Mchn 3  Motor Amperage  U  Act                                    6\n",
       "Stage 1  Out  Meas 1 2  U  Act                                    3\n",
       "Mchn 1  Mat Pressure  U  Act                                      3\n",
       "First Stage  Combiner Operation  Temp 1  U  Act                   3\n",
       "Mchn 3  Motor R P M  C  Act                                       1\n",
       "Ambient Conditions  Ambient Temp  U  Act                          0\n",
       "Ambient Conditions  Ambient Humidity  U  Act                      0\n",
       "Mchn 1  Raw Mat  Property 2                                       0\n",
       "Mchn 1  Raw Mat  Property 1                                       0\n",
       "Mchn 2  Raw Mat  Property 2                                       0\n",
       "Mchn 2  Raw Mat  Property 3                                       0\n",
       "Mchn 2  Raw Mat  Property 4                                       0\n",
       "Stage 1  Out  Meas 1  U  Act                                      0\n",
       "First Stage  Combiner Operation  Temp 2  U  Act                   0\n",
       "Mchn 3  Mat Pressure  U  Act                                      0\n",
       "Mchn 2  Motor R P M  C  Act                                       0\n",
       "Mchn 3  Raw Mat  Property 1                                       0\n",
       "Mchn 3  Raw Mat  Property 4                                       0\n",
       "Mchn 3  Raw Mat  Property 2                                       0\n",
       "Mchn 3  Raw Mat  Property 3                                       0\n",
       "Mchn 1  Motor R P M  C  Act                                       0\n",
       "Mchn 1  Zone 2 Temp  C  Act                                       0\n",
       "Mchn 1  Raw Mat  Property 3                                       0\n",
       "Mchn 1  Raw Mat  Property 4                                       0\n",
       "Mchn 2  Raw Mat  Property 1                                       0\n",
       "Stage 1  Out  Meas 1 4  U  Act                                    0\n",
       "Stage 1  Out  Meas 7  U  Act                                      0\n",
       "Stage 1  Out  Meas 1 1  U  Act                                    0\n",
       "Stage 2  Out  Meas 6  U  Setp                                     0\n",
       "Stage 2  Out  Meas 5  U  Setp                                     0\n",
       "Stage 2  Out  Meas 3  U  Setp                                     0\n",
       "Stage 2  Out  Meas 4  U  Setp                                     0\n",
       "Stage 2  Out  Meas 1  U  Setp                                     0\n",
       "Stage 2  Out  Meas 0  U  Setp                                     0\n",
       "Stage 2  Out  Meas 2  U  Setp                                     0\n",
       "Stage 2  Out  Meas 7  U  Setp                                     0\n",
       "Stage 2  Out  Meas 1 0  U  Setp                                   0\n",
       "Stage 2  Out  Meas 9  U  Setp                                     0\n",
       "Stage 2  Out  Meas 9  U  Act                                      0\n",
       "Stage 2  Out  Meas 8  U  Setp                                     0\n",
       "Stage 2  Out  Meas 1 2  U  Setp                                   0\n",
       "Stage 2  Out  Meas 1 1  U  Setp                                   0\n",
       "Stage 2  Out  Meas 1 3  U  Setp                                   0\n",
       "Stage 2  Out  Meas 1 4  U  Setp                                   0"
      ]
     },
     "metadata": {},
     "output_type": "display_data"
    }
   ],
   "source": [
    "# Lets iterate over each column to see if wer can spot any crazy outliers\n",
    "\n",
    "\n",
    "# Calculate number of outliers (>3 std dev from mean) for each column\n",
    "outlier_counts = {}\n",
    "for column in factory_df.columns:\n",
    "    if factory_df[column].dtype in ['float64', 'int64']:  # Only analyze numeric columns\n",
    "        mean = factory_df[column].mean()\n",
    "        std = factory_df[column].std()\n",
    "        outliers = factory_df[column][(factory_df[column] < mean - 3*std) | \n",
    "                                    (factory_df[column] > mean + 3*std)]\n",
    "        outlier_counts[column] = len(outliers)\n",
    "\n",
    "# Convert to dataframe and sort by number of outliers\n",
    "outlier_df = pd.DataFrame.from_dict(outlier_counts, orient='index', \n",
    "                                   columns=['Number of Outliers'])\n",
    "outlier_df = outlier_df.sort_values('Number of Outliers', ascending=False)\n",
    "\n",
    "print(\"\\nNumber of outliers (>3 std dev) per column:\")\n",
    "print(\"-\" * 50)\n",
    "with pd.option_context('display.max_rows', None, 'display.max_columns', None, 'display.width', None):\n",
    "    display(outlier_df)\n"
   ]
  },
  {
   "cell_type": "markdown",
   "metadata": {},
   "source": [
    "The majority of columns with values greater than 3 standard deviations are  Output variables, or in other words, the predictors. However while looking at this I realized that 3 standard deviations is a good method.... if the data is normally distributed. Let's try and inspect the distributions of each.\n"
   ]
  },
  {
   "cell_type": "code",
   "execution_count": 85,
   "metadata": {},
   "outputs": [
    {
     "data": {
      "text/html": [
       "<div>\n",
       "<style scoped>\n",
       "    .dataframe tbody tr th:only-of-type {\n",
       "        vertical-align: middle;\n",
       "    }\n",
       "\n",
       "    .dataframe tbody tr th {\n",
       "        vertical-align: top;\n",
       "    }\n",
       "\n",
       "    .dataframe thead th {\n",
       "        text-align: right;\n",
       "    }\n",
       "</style>\n",
       "<table border=\"1\" class=\"dataframe\">\n",
       "  <thead>\n",
       "    <tr style=\"text-align: right;\">\n",
       "      <th></th>\n",
       "      <th>Mean</th>\n",
       "      <th>Std Dev</th>\n",
       "      <th>Skewness</th>\n",
       "      <th>Kurtosis</th>\n",
       "      <th>IQR</th>\n",
       "    </tr>\n",
       "  </thead>\n",
       "  <tbody>\n",
       "    <tr>\n",
       "      <th>Ambient Conditions  Ambient Humidity  U  Act</th>\n",
       "      <td>15.330759</td>\n",
       "      <td>1.188993e+00</td>\n",
       "      <td>0.113315</td>\n",
       "      <td>-1.639747</td>\n",
       "      <td>2.5900</td>\n",
       "    </tr>\n",
       "    <tr>\n",
       "      <th>Ambient Conditions  Ambient Temp  U  Act</th>\n",
       "      <td>23.843635</td>\n",
       "      <td>3.735350e-01</td>\n",
       "      <td>-0.532854</td>\n",
       "      <td>-0.688510</td>\n",
       "      <td>0.6300</td>\n",
       "    </tr>\n",
       "    <tr>\n",
       "      <th>Mchn 1  Raw Mat  Property 1</th>\n",
       "      <td>11.851256</td>\n",
       "      <td>5.103091e-01</td>\n",
       "      <td>1.162976</td>\n",
       "      <td>-0.413131</td>\n",
       "      <td>0.6800</td>\n",
       "    </tr>\n",
       "    <tr>\n",
       "      <th>Mchn 1  Raw Mat  Property 2</th>\n",
       "      <td>205.676320</td>\n",
       "      <td>1.160632e+01</td>\n",
       "      <td>1.921282</td>\n",
       "      <td>2.187776</td>\n",
       "      <td>1.0000</td>\n",
       "    </tr>\n",
       "    <tr>\n",
       "      <th>Mchn 1  Raw Mat  Property 3</th>\n",
       "      <td>951.679815</td>\n",
       "      <td>1.266620e+02</td>\n",
       "      <td>-2.220318</td>\n",
       "      <td>3.485070</td>\n",
       "      <td>64.4300</td>\n",
       "    </tr>\n",
       "    <tr>\n",
       "      <th>Mchn 1  Raw Mat  Property 4</th>\n",
       "      <td>248.868896</td>\n",
       "      <td>3.297820e+00</td>\n",
       "      <td>1.596464</td>\n",
       "      <td>1.190369</td>\n",
       "      <td>4.0000</td>\n",
       "    </tr>\n",
       "    <tr>\n",
       "      <th>Mchn 1  Raw Mat Feeder Parameter  U  Act</th>\n",
       "      <td>1242.764276</td>\n",
       "      <td>9.584595e+01</td>\n",
       "      <td>-4.487157</td>\n",
       "      <td>22.806924</td>\n",
       "      <td>16.2900</td>\n",
       "    </tr>\n",
       "    <tr>\n",
       "      <th>Mchn 1  Zone 1 Temp  C  Act</th>\n",
       "      <td>72.013330</td>\n",
       "      <td>6.318299e-02</td>\n",
       "      <td>4.160693</td>\n",
       "      <td>23.209066</td>\n",
       "      <td>0.0000</td>\n",
       "    </tr>\n",
       "    <tr>\n",
       "      <th>Mchn 1  Zone 2 Temp  C  Act</th>\n",
       "      <td>72.013106</td>\n",
       "      <td>4.063128e-01</td>\n",
       "      <td>0.029851</td>\n",
       "      <td>-1.393234</td>\n",
       "      <td>0.8000</td>\n",
       "    </tr>\n",
       "    <tr>\n",
       "      <th>Mchn 1  Motor Amperage  U  Act</th>\n",
       "      <td>70.333111</td>\n",
       "      <td>5.525217e+00</td>\n",
       "      <td>-1.587474</td>\n",
       "      <td>4.663747</td>\n",
       "      <td>4.0400</td>\n",
       "    </tr>\n",
       "    <tr>\n",
       "      <th>Mchn 1  Motor R P M  C  Act</th>\n",
       "      <td>11.072094</td>\n",
       "      <td>6.351717e-01</td>\n",
       "      <td>0.579343</td>\n",
       "      <td>-1.357715</td>\n",
       "      <td>1.2500</td>\n",
       "    </tr>\n",
       "    <tr>\n",
       "      <th>Mchn 1  Mat Pressure  U  Act</th>\n",
       "      <td>409.006724</td>\n",
       "      <td>2.047838e+01</td>\n",
       "      <td>-1.076650</td>\n",
       "      <td>-0.205974</td>\n",
       "      <td>12.5200</td>\n",
       "    </tr>\n",
       "    <tr>\n",
       "      <th>Mchn 1  Mat Temp  U  Act</th>\n",
       "      <td>81.470000</td>\n",
       "      <td>9.305622e-01</td>\n",
       "      <td>0.177132</td>\n",
       "      <td>3.304684</td>\n",
       "      <td>0.8000</td>\n",
       "    </tr>\n",
       "    <tr>\n",
       "      <th>Mchn 1  Exit Zone Temp  C  Act</th>\n",
       "      <td>75.966161</td>\n",
       "      <td>2.059027e+00</td>\n",
       "      <td>1.138616</td>\n",
       "      <td>0.386721</td>\n",
       "      <td>0.1000</td>\n",
       "    </tr>\n",
       "    <tr>\n",
       "      <th>Mchn 2  Raw Mat  Property 1</th>\n",
       "      <td>12.793397</td>\n",
       "      <td>1.073018e-01</td>\n",
       "      <td>-1.368247</td>\n",
       "      <td>-0.127919</td>\n",
       "      <td>0.0000</td>\n",
       "    </tr>\n",
       "    <tr>\n",
       "      <th>Mchn 2  Raw Mat  Property 2</th>\n",
       "      <td>239.911485</td>\n",
       "      <td>2.063495e+00</td>\n",
       "      <td>-1.368247</td>\n",
       "      <td>-0.127919</td>\n",
       "      <td>0.0000</td>\n",
       "    </tr>\n",
       "    <tr>\n",
       "      <th>Mchn 2  Raw Mat  Property 3</th>\n",
       "      <td>566.368191</td>\n",
       "      <td>1.832796e+01</td>\n",
       "      <td>1.368247</td>\n",
       "      <td>-0.127919</td>\n",
       "      <td>0.0000</td>\n",
       "    </tr>\n",
       "    <tr>\n",
       "      <th>Mchn 2  Raw Mat  Property 4</th>\n",
       "      <td>256.217703</td>\n",
       "      <td>4.126990e-01</td>\n",
       "      <td>1.368247</td>\n",
       "      <td>-0.127919</td>\n",
       "      <td>0.0000</td>\n",
       "    </tr>\n",
       "    <tr>\n",
       "      <th>Mchn 2  Raw Mat Feeder Parameter  U  Act</th>\n",
       "      <td>202.585311</td>\n",
       "      <td>1.511090e+01</td>\n",
       "      <td>-1.833062</td>\n",
       "      <td>21.258230</td>\n",
       "      <td>17.6125</td>\n",
       "    </tr>\n",
       "    <tr>\n",
       "      <th>Mchn 2  Zone 1 Temp  C  Act</th>\n",
       "      <td>68.996904</td>\n",
       "      <td>5.702028e-02</td>\n",
       "      <td>7.345550</td>\n",
       "      <td>61.205598</td>\n",
       "      <td>0.0200</td>\n",
       "    </tr>\n",
       "    <tr>\n",
       "      <th>Mchn 2  Zone 2 Temp  C  Act</th>\n",
       "      <td>69.101083</td>\n",
       "      <td>1.091145e-01</td>\n",
       "      <td>3.253660</td>\n",
       "      <td>21.212322</td>\n",
       "      <td>0.0200</td>\n",
       "    </tr>\n",
       "    <tr>\n",
       "      <th>Mchn 2  Motor Amperage  U  Act</th>\n",
       "      <td>73.398762</td>\n",
       "      <td>3.960513e-01</td>\n",
       "      <td>-0.664319</td>\n",
       "      <td>0.087803</td>\n",
       "      <td>0.5000</td>\n",
       "    </tr>\n",
       "    <tr>\n",
       "      <th>Mchn 2  Motor R P M  C  Act</th>\n",
       "      <td>13.896803</td>\n",
       "      <td>2.916732e-02</td>\n",
       "      <td>-0.137661</td>\n",
       "      <td>-1.026494</td>\n",
       "      <td>0.0500</td>\n",
       "    </tr>\n",
       "    <tr>\n",
       "      <th>Mchn 2  Mat Pressure  U  Act</th>\n",
       "      <td>226.122234</td>\n",
       "      <td>3.106395e+00</td>\n",
       "      <td>1.246696</td>\n",
       "      <td>5.396748</td>\n",
       "      <td>4.0500</td>\n",
       "    </tr>\n",
       "    <tr>\n",
       "      <th>Mchn 2  Mat Temp  U  Act</th>\n",
       "      <td>76.812278</td>\n",
       "      <td>8.550022e-01</td>\n",
       "      <td>-5.355340</td>\n",
       "      <td>33.313154</td>\n",
       "      <td>0.2000</td>\n",
       "    </tr>\n",
       "    <tr>\n",
       "      <th>Mchn 2  Exit Zone Temp  C  Act</th>\n",
       "      <td>60.001331</td>\n",
       "      <td>1.620699e-01</td>\n",
       "      <td>0.130667</td>\n",
       "      <td>0.406282</td>\n",
       "      <td>0.2000</td>\n",
       "    </tr>\n",
       "    <tr>\n",
       "      <th>Mchn 3  Raw Mat  Property 1</th>\n",
       "      <td>9.090484</td>\n",
       "      <td>3.966045e-01</td>\n",
       "      <td>1.332434</td>\n",
       "      <td>-0.023801</td>\n",
       "      <td>0.1900</td>\n",
       "    </tr>\n",
       "    <tr>\n",
       "      <th>Mchn 3  Raw Mat  Property 2</th>\n",
       "      <td>205.647217</td>\n",
       "      <td>1.631976e+01</td>\n",
       "      <td>-0.152248</td>\n",
       "      <td>-1.920317</td>\n",
       "      <td>35.0000</td>\n",
       "    </tr>\n",
       "    <tr>\n",
       "      <th>Mchn 3  Raw Mat  Property 3</th>\n",
       "      <td>425.014412</td>\n",
       "      <td>9.559928e+00</td>\n",
       "      <td>-0.649416</td>\n",
       "      <td>-1.101663</td>\n",
       "      <td>12.0200</td>\n",
       "    </tr>\n",
       "    <tr>\n",
       "      <th>Mchn 3  Raw Mat  Property 4</th>\n",
       "      <td>203.038756</td>\n",
       "      <td>2.177618e+00</td>\n",
       "      <td>-0.372328</td>\n",
       "      <td>-1.617502</td>\n",
       "      <td>5.0000</td>\n",
       "    </tr>\n",
       "    <tr>\n",
       "      <th>Mchn 3  Raw Mat Feeder Parameter  U  Act</th>\n",
       "      <td>202.379555</td>\n",
       "      <td>1.565365e+01</td>\n",
       "      <td>-2.161749</td>\n",
       "      <td>24.473480</td>\n",
       "      <td>17.8100</td>\n",
       "    </tr>\n",
       "    <tr>\n",
       "      <th>Mchn 3  Zone 1 Temp  C  Act</th>\n",
       "      <td>78.008251</td>\n",
       "      <td>7.682633e-02</td>\n",
       "      <td>0.339323</td>\n",
       "      <td>32.932107</td>\n",
       "      <td>0.0000</td>\n",
       "    </tr>\n",
       "    <tr>\n",
       "      <th>Mchn 3  Zone 2 Temp  C  Act</th>\n",
       "      <td>78.004958</td>\n",
       "      <td>1.148216e-01</td>\n",
       "      <td>0.351153</td>\n",
       "      <td>0.164160</td>\n",
       "      <td>0.2000</td>\n",
       "    </tr>\n",
       "    <tr>\n",
       "      <th>Mchn 3  Motor Amperage  U  Act</th>\n",
       "      <td>345.111591</td>\n",
       "      <td>9.077714e+00</td>\n",
       "      <td>0.874012</td>\n",
       "      <td>-0.073947</td>\n",
       "      <td>9.3125</td>\n",
       "    </tr>\n",
       "    <tr>\n",
       "      <th>Mchn 3  Motor R P M  C  Act</th>\n",
       "      <td>13.269664</td>\n",
       "      <td>4.345943e-01</td>\n",
       "      <td>-0.917822</td>\n",
       "      <td>0.087362</td>\n",
       "      <td>0.6600</td>\n",
       "    </tr>\n",
       "    <tr>\n",
       "      <th>Mchn 3  Mat Pressure  U  Act</th>\n",
       "      <td>246.750253</td>\n",
       "      <td>6.122104e+00</td>\n",
       "      <td>-0.261145</td>\n",
       "      <td>-0.606839</td>\n",
       "      <td>6.1400</td>\n",
       "    </tr>\n",
       "    <tr>\n",
       "      <th>Mchn 3  Mat Temp  U  Act</th>\n",
       "      <td>74.140265</td>\n",
       "      <td>2.058298e+00</td>\n",
       "      <td>-2.091621</td>\n",
       "      <td>3.881846</td>\n",
       "      <td>1.7000</td>\n",
       "    </tr>\n",
       "    <tr>\n",
       "      <th>Mchn 3  Exit Zone Temp  C  Act</th>\n",
       "      <td>65.008232</td>\n",
       "      <td>6.243988e-02</td>\n",
       "      <td>0.099164</td>\n",
       "      <td>1.186049</td>\n",
       "      <td>0.0000</td>\n",
       "    </tr>\n",
       "    <tr>\n",
       "      <th>First Stage  Combiner Operation  Temp 1  U  Act</th>\n",
       "      <td>108.917970</td>\n",
       "      <td>5.669857e+00</td>\n",
       "      <td>0.048449</td>\n",
       "      <td>1.663865</td>\n",
       "      <td>11.0000</td>\n",
       "    </tr>\n",
       "    <tr>\n",
       "      <th>First Stage  Combiner Operation  Temp 2  U  Act</th>\n",
       "      <td>84.898323</td>\n",
       "      <td>1.857932e+01</td>\n",
       "      <td>0.123083</td>\n",
       "      <td>-1.759644</td>\n",
       "      <td>35.2000</td>\n",
       "    </tr>\n",
       "    <tr>\n",
       "      <th>First Stage  Combiner Operation  Temp 3  C  Act</th>\n",
       "      <td>80.003714</td>\n",
       "      <td>1.183265e-01</td>\n",
       "      <td>-0.400537</td>\n",
       "      <td>0.623759</td>\n",
       "      <td>0.1000</td>\n",
       "    </tr>\n",
       "    <tr>\n",
       "      <th>Stage 1  Out  Meas 0  U  Act</th>\n",
       "      <td>12.896919</td>\n",
       "      <td>9.342280e-01</td>\n",
       "      <td>-12.842025</td>\n",
       "      <td>179.323339</td>\n",
       "      <td>0.1600</td>\n",
       "    </tr>\n",
       "    <tr>\n",
       "      <th>Stage 1  Out  Meas 0  U  Setp</th>\n",
       "      <td>13.695344</td>\n",
       "      <td>8.652121e-01</td>\n",
       "      <td>-15.767954</td>\n",
       "      <td>246.663380</td>\n",
       "      <td>0.0000</td>\n",
       "    </tr>\n",
       "    <tr>\n",
       "      <th>Stage 1  Out  Meas 1  U  Act</th>\n",
       "      <td>8.050511</td>\n",
       "      <td>6.904337e+00</td>\n",
       "      <td>-0.271872</td>\n",
       "      <td>-1.845768</td>\n",
       "      <td>13.8700</td>\n",
       "    </tr>\n",
       "    <tr>\n",
       "      <th>Stage 1  Out  Meas 1  U  Setp</th>\n",
       "      <td>22.649608</td>\n",
       "      <td>1.430903e+00</td>\n",
       "      <td>-15.767954</td>\n",
       "      <td>246.663380</td>\n",
       "      <td>0.0000</td>\n",
       "    </tr>\n",
       "    <tr>\n",
       "      <th>Stage 1  Out  Meas 2  U  Act</th>\n",
       "      <td>11.357154</td>\n",
       "      <td>1.052791e+00</td>\n",
       "      <td>-7.080752</td>\n",
       "      <td>86.979156</td>\n",
       "      <td>0.3200</td>\n",
       "    </tr>\n",
       "    <tr>\n",
       "      <th>Stage 1  Out  Meas 2  U  Setp</th>\n",
       "      <td>12.968245</td>\n",
       "      <td>8.192772e-01</td>\n",
       "      <td>-15.767954</td>\n",
       "      <td>246.663380</td>\n",
       "      <td>0.0000</td>\n",
       "    </tr>\n",
       "    <tr>\n",
       "      <th>Stage 1  Out  Meas 3  U  Act</th>\n",
       "      <td>21.325946</td>\n",
       "      <td>2.110456e+00</td>\n",
       "      <td>-9.943582</td>\n",
       "      <td>97.495129</td>\n",
       "      <td>0.0700</td>\n",
       "    </tr>\n",
       "    <tr>\n",
       "      <th>Stage 1  Out  Meas 3  U  Setp</th>\n",
       "      <td>21.793027</td>\n",
       "      <td>1.376788e+00</td>\n",
       "      <td>-15.767954</td>\n",
       "      <td>246.663380</td>\n",
       "      <td>0.0000</td>\n",
       "    </tr>\n",
       "    <tr>\n",
       "      <th>Stage 1  Out  Meas 4  U  Act</th>\n",
       "      <td>32.876441</td>\n",
       "      <td>3.869849e+00</td>\n",
       "      <td>-7.807058</td>\n",
       "      <td>63.637642</td>\n",
       "      <td>0.8300</td>\n",
       "    </tr>\n",
       "    <tr>\n",
       "      <th>Stage 1  Out  Meas 4  U  Setp</th>\n",
       "      <td>32.420613</td>\n",
       "      <td>2.048193e+00</td>\n",
       "      <td>-15.767954</td>\n",
       "      <td>246.663380</td>\n",
       "      <td>0.0000</td>\n",
       "    </tr>\n",
       "    <tr>\n",
       "      <th>Stage 1  Out  Meas 5  U  Act</th>\n",
       "      <td>0.124233</td>\n",
       "      <td>5.701908e-01</td>\n",
       "      <td>4.419403</td>\n",
       "      <td>17.898312</td>\n",
       "      <td>0.0000</td>\n",
       "    </tr>\n",
       "    <tr>\n",
       "      <th>Stage 1  Out  Meas 5  U  Setp</th>\n",
       "      <td>2.729108</td>\n",
       "      <td>1.724132e-01</td>\n",
       "      <td>-15.767954</td>\n",
       "      <td>246.663380</td>\n",
       "      <td>0.0000</td>\n",
       "    </tr>\n",
       "    <tr>\n",
       "      <th>Stage 1  Out  Meas 6  U  Act</th>\n",
       "      <td>1.337961</td>\n",
       "      <td>1.135655e+00</td>\n",
       "      <td>0.674561</td>\n",
       "      <td>1.200066</td>\n",
       "      <td>1.8200</td>\n",
       "    </tr>\n",
       "    <tr>\n",
       "      <th>Stage 1  Out  Meas 6  U  Setp</th>\n",
       "      <td>4.233106</td>\n",
       "      <td>2.674292e-01</td>\n",
       "      <td>-15.767954</td>\n",
       "      <td>246.663380</td>\n",
       "      <td>0.0000</td>\n",
       "    </tr>\n",
       "    <tr>\n",
       "      <th>Stage 1  Out  Meas 7  U  Act</th>\n",
       "      <td>1.100483</td>\n",
       "      <td>1.413986e+00</td>\n",
       "      <td>0.510812</td>\n",
       "      <td>-1.723164</td>\n",
       "      <td>2.9000</td>\n",
       "    </tr>\n",
       "    <tr>\n",
       "      <th>Stage 1  Out  Meas 7  U  Setp</th>\n",
       "      <td>2.958194</td>\n",
       "      <td>1.868858e-01</td>\n",
       "      <td>-15.767954</td>\n",
       "      <td>246.663380</td>\n",
       "      <td>0.0000</td>\n",
       "    </tr>\n",
       "    <tr>\n",
       "      <th>Stage 1  Out  Meas 8  U  Act</th>\n",
       "      <td>19.754018</td>\n",
       "      <td>4.786564e+00</td>\n",
       "      <td>-3.883364</td>\n",
       "      <td>13.089215</td>\n",
       "      <td>0.0800</td>\n",
       "    </tr>\n",
       "    <tr>\n",
       "      <th>Stage 1  Out  Meas 8  U  Setp</th>\n",
       "      <td>21.215332</td>\n",
       "      <td>1.340292e+00</td>\n",
       "      <td>-15.767954</td>\n",
       "      <td>246.663380</td>\n",
       "      <td>0.0000</td>\n",
       "    </tr>\n",
       "    <tr>\n",
       "      <th>Stage 1  Out  Meas 9  U  Act</th>\n",
       "      <td>17.965964</td>\n",
       "      <td>4.197297e+00</td>\n",
       "      <td>-4.028027</td>\n",
       "      <td>14.310395</td>\n",
       "      <td>0.2200</td>\n",
       "    </tr>\n",
       "    <tr>\n",
       "      <th>Stage 1  Out  Meas 9  U  Setp</th>\n",
       "      <td>19.442408</td>\n",
       "      <td>1.228287e+00</td>\n",
       "      <td>-15.767954</td>\n",
       "      <td>246.663380</td>\n",
       "      <td>0.0000</td>\n",
       "    </tr>\n",
       "    <tr>\n",
       "      <th>Stage 1  Out  Meas 1 0  U  Act</th>\n",
       "      <td>7.681824</td>\n",
       "      <td>1.085486e+00</td>\n",
       "      <td>-6.722144</td>\n",
       "      <td>45.135413</td>\n",
       "      <td>0.1900</td>\n",
       "    </tr>\n",
       "    <tr>\n",
       "      <th>Stage 1  Out  Meas 1 0  U  Setp</th>\n",
       "      <td>8.615616</td>\n",
       "      <td>5.442970e-01</td>\n",
       "      <td>-15.767954</td>\n",
       "      <td>246.663380</td>\n",
       "      <td>0.0000</td>\n",
       "    </tr>\n",
       "    <tr>\n",
       "      <th>Stage 1  Out  Meas 1 1  U  Act</th>\n",
       "      <td>1.492745</td>\n",
       "      <td>2.542739e+00</td>\n",
       "      <td>1.119185</td>\n",
       "      <td>-0.741274</td>\n",
       "      <td>5.4100</td>\n",
       "    </tr>\n",
       "    <tr>\n",
       "      <th>Stage 1  Out  Meas 1 1  U  Setp</th>\n",
       "      <td>6.135514</td>\n",
       "      <td>3.876150e-01</td>\n",
       "      <td>-15.767954</td>\n",
       "      <td>246.663380</td>\n",
       "      <td>0.0000</td>\n",
       "    </tr>\n",
       "    <tr>\n",
       "      <th>Stage 1  Out  Meas 1 2  U  Act</th>\n",
       "      <td>1.202880</td>\n",
       "      <td>6.636772e-01</td>\n",
       "      <td>-1.156421</td>\n",
       "      <td>-0.340011</td>\n",
       "      <td>0.1800</td>\n",
       "    </tr>\n",
       "    <tr>\n",
       "      <th>Stage 1  Out  Meas 1 2  U  Setp</th>\n",
       "      <td>2.011970</td>\n",
       "      <td>1.271075e-01</td>\n",
       "      <td>-15.767954</td>\n",
       "      <td>246.663380</td>\n",
       "      <td>0.0000</td>\n",
       "    </tr>\n",
       "    <tr>\n",
       "      <th>Stage 1  Out  Meas 1 3  U  Act</th>\n",
       "      <td>2.881181</td>\n",
       "      <td>9.410270e-01</td>\n",
       "      <td>-2.321184</td>\n",
       "      <td>4.055873</td>\n",
       "      <td>0.3000</td>\n",
       "    </tr>\n",
       "    <tr>\n",
       "      <th>Stage 1  Out  Meas 1 3  U  Setp</th>\n",
       "      <td>3.147439</td>\n",
       "      <td>1.988415e-01</td>\n",
       "      <td>-15.767954</td>\n",
       "      <td>246.663380</td>\n",
       "      <td>0.0000</td>\n",
       "    </tr>\n",
       "    <tr>\n",
       "      <th>Stage 1  Out  Meas 1 4  U  Act</th>\n",
       "      <td>9.940519</td>\n",
       "      <td>7.416543e+00</td>\n",
       "      <td>-0.586577</td>\n",
       "      <td>-1.634061</td>\n",
       "      <td>15.7600</td>\n",
       "    </tr>\n",
       "    <tr>\n",
       "      <th>Stage 1  Out  Meas 1 4  U  Setp</th>\n",
       "      <td>17.649563</td>\n",
       "      <td>1.115022e+00</td>\n",
       "      <td>-15.767954</td>\n",
       "      <td>246.663380</td>\n",
       "      <td>0.0000</td>\n",
       "    </tr>\n",
       "    <tr>\n",
       "      <th>Mchn 4  Temp 1  C  Act</th>\n",
       "      <td>360.124034</td>\n",
       "      <td>2.287782e+00</td>\n",
       "      <td>-1.477921</td>\n",
       "      <td>234.639263</td>\n",
       "      <td>0.0000</td>\n",
       "    </tr>\n",
       "    <tr>\n",
       "      <th>Mchn 4  Temp 2  C  Act</th>\n",
       "      <td>360.134701</td>\n",
       "      <td>2.957240e+00</td>\n",
       "      <td>-4.511357</td>\n",
       "      <td>231.525463</td>\n",
       "      <td>2.0000</td>\n",
       "    </tr>\n",
       "    <tr>\n",
       "      <th>Mchn 4  Pressure  C  Act</th>\n",
       "      <td>17.226269</td>\n",
       "      <td>9.411130e-01</td>\n",
       "      <td>0.782756</td>\n",
       "      <td>4.405026</td>\n",
       "      <td>1.0000</td>\n",
       "    </tr>\n",
       "    <tr>\n",
       "      <th>Mchn 4  Temp 3  C  Act</th>\n",
       "      <td>322.612113</td>\n",
       "      <td>3.713273e+00</td>\n",
       "      <td>-2.580705</td>\n",
       "      <td>17.103855</td>\n",
       "      <td>4.0000</td>\n",
       "    </tr>\n",
       "    <tr>\n",
       "      <th>Mchn 4  Temp 4  C  Act</th>\n",
       "      <td>17.226269</td>\n",
       "      <td>9.411130e-01</td>\n",
       "      <td>0.782756</td>\n",
       "      <td>4.405026</td>\n",
       "      <td>1.0000</td>\n",
       "    </tr>\n",
       "    <tr>\n",
       "      <th>Mchn 4  Temp 5  C  Act</th>\n",
       "      <td>309.781998</td>\n",
       "      <td>2.859917e+00</td>\n",
       "      <td>-2.568768</td>\n",
       "      <td>26.440459</td>\n",
       "      <td>2.0000</td>\n",
       "    </tr>\n",
       "    <tr>\n",
       "      <th>Mchn 4  Exit Temp  U  Act</th>\n",
       "      <td>187.139625</td>\n",
       "      <td>2.365307e+01</td>\n",
       "      <td>-5.251039</td>\n",
       "      <td>27.070353</td>\n",
       "      <td>2.0000</td>\n",
       "    </tr>\n",
       "    <tr>\n",
       "      <th>Mchn 5  Temp 1  C  Act</th>\n",
       "      <td>309.998128</td>\n",
       "      <td>3.917375e-02</td>\n",
       "      <td>-2.741774</td>\n",
       "      <td>39.039020</td>\n",
       "      <td>0.0000</td>\n",
       "    </tr>\n",
       "    <tr>\n",
       "      <th>Mchn 5  Temp 2  C  Act</th>\n",
       "      <td>289.998193</td>\n",
       "      <td>5.188742e-02</td>\n",
       "      <td>-0.132499</td>\n",
       "      <td>2.022628</td>\n",
       "      <td>0.0000</td>\n",
       "    </tr>\n",
       "    <tr>\n",
       "      <th>Mchn 5  Temp 3  C  Act</th>\n",
       "      <td>269.679469</td>\n",
       "      <td>1.030923e+00</td>\n",
       "      <td>-3.854950</td>\n",
       "      <td>14.933320</td>\n",
       "      <td>0.0000</td>\n",
       "    </tr>\n",
       "    <tr>\n",
       "      <th>Mchn 5  Temp 4  C  Act</th>\n",
       "      <td>242.660491</td>\n",
       "      <td>1.591025e+00</td>\n",
       "      <td>-0.831458</td>\n",
       "      <td>0.826089</td>\n",
       "      <td>1.7000</td>\n",
       "    </tr>\n",
       "    <tr>\n",
       "      <th>Mchn 5  Temp 5  C  Act</th>\n",
       "      <td>244.995024</td>\n",
       "      <td>1.055723e-01</td>\n",
       "      <td>-12.712699</td>\n",
       "      <td>209.145575</td>\n",
       "      <td>0.0000</td>\n",
       "    </tr>\n",
       "    <tr>\n",
       "      <th>Mchn 5  Temp 6  C  Act</th>\n",
       "      <td>63.421152</td>\n",
       "      <td>4.022370e-01</td>\n",
       "      <td>2.112387</td>\n",
       "      <td>8.862136</td>\n",
       "      <td>0.4000</td>\n",
       "    </tr>\n",
       "    <tr>\n",
       "      <th>Mchn 5  Exit Temp  U  Act</th>\n",
       "      <td>153.980082</td>\n",
       "      <td>1.030802e+01</td>\n",
       "      <td>-9.314912</td>\n",
       "      <td>91.111179</td>\n",
       "      <td>2.4000</td>\n",
       "    </tr>\n",
       "    <tr>\n",
       "      <th>Stage 2  Out  Meas 0  U  Act</th>\n",
       "      <td>11.695055</td>\n",
       "      <td>3.620493e+00</td>\n",
       "      <td>-2.906981</td>\n",
       "      <td>6.499811</td>\n",
       "      <td>0.2300</td>\n",
       "    </tr>\n",
       "    <tr>\n",
       "      <th>Stage 2  Out  Meas 0  U  Setp</th>\n",
       "      <td>12.050000</td>\n",
       "      <td>1.776420e-15</td>\n",
       "      <td>0.000000</td>\n",
       "      <td>0.000000</td>\n",
       "      <td>0.0000</td>\n",
       "    </tr>\n",
       "    <tr>\n",
       "      <th>Stage 2  Out  Meas 1  U  Act</th>\n",
       "      <td>6.261506</td>\n",
       "      <td>1.606999e+00</td>\n",
       "      <td>-2.291118</td>\n",
       "      <td>9.769117</td>\n",
       "      <td>0.4100</td>\n",
       "    </tr>\n",
       "    <tr>\n",
       "      <th>Stage 2  Out  Meas 1  U  Setp</th>\n",
       "      <td>11.710000</td>\n",
       "      <td>1.776420e-15</td>\n",
       "      <td>0.000000</td>\n",
       "      <td>0.000000</td>\n",
       "      <td>0.0000</td>\n",
       "    </tr>\n",
       "    <tr>\n",
       "      <th>Stage 2  Out  Meas 2  U  Act</th>\n",
       "      <td>10.250606</td>\n",
       "      <td>2.311161e+00</td>\n",
       "      <td>-3.910303</td>\n",
       "      <td>14.119955</td>\n",
       "      <td>0.2900</td>\n",
       "    </tr>\n",
       "    <tr>\n",
       "      <th>Stage 2  Out  Meas 2  U  Setp</th>\n",
       "      <td>11.000000</td>\n",
       "      <td>0.000000e+00</td>\n",
       "      <td>0.000000</td>\n",
       "      <td>0.000000</td>\n",
       "      <td>0.0000</td>\n",
       "    </tr>\n",
       "    <tr>\n",
       "      <th>Stage 2  Out  Meas 3  U  Act</th>\n",
       "      <td>19.303842</td>\n",
       "      <td>4.690263e+00</td>\n",
       "      <td>-3.818768</td>\n",
       "      <td>12.821050</td>\n",
       "      <td>0.7700</td>\n",
       "    </tr>\n",
       "    <tr>\n",
       "      <th>Stage 2  Out  Meas 3  U  Setp</th>\n",
       "      <td>20.730000</td>\n",
       "      <td>0.000000e+00</td>\n",
       "      <td>0.000000</td>\n",
       "      <td>0.000000</td>\n",
       "      <td>0.0000</td>\n",
       "    </tr>\n",
       "    <tr>\n",
       "      <th>Stage 2  Out  Meas 4  U  Act</th>\n",
       "      <td>2.928552</td>\n",
       "      <td>9.167666e+00</td>\n",
       "      <td>2.818250</td>\n",
       "      <td>5.967755</td>\n",
       "      <td>0.0000</td>\n",
       "    </tr>\n",
       "    <tr>\n",
       "      <th>Stage 2  Out  Meas 4  U  Setp</th>\n",
       "      <td>31.360000</td>\n",
       "      <td>1.421136e-14</td>\n",
       "      <td>0.000000</td>\n",
       "      <td>0.000000</td>\n",
       "      <td>0.0000</td>\n",
       "    </tr>\n",
       "    <tr>\n",
       "      <th>Stage 2  Out  Meas 5  U  Act</th>\n",
       "      <td>2.743212</td>\n",
       "      <td>3.913714e-01</td>\n",
       "      <td>-3.607621</td>\n",
       "      <td>43.682842</td>\n",
       "      <td>0.2700</td>\n",
       "    </tr>\n",
       "    <tr>\n",
       "      <th>Stage 2  Out  Meas 5  U  Setp</th>\n",
       "      <td>2.710000</td>\n",
       "      <td>8.882099e-16</td>\n",
       "      <td>0.000000</td>\n",
       "      <td>0.000000</td>\n",
       "      <td>0.0000</td>\n",
       "    </tr>\n",
       "    <tr>\n",
       "      <th>Stage 2  Out  Meas 6  U  Act</th>\n",
       "      <td>0.532288</td>\n",
       "      <td>2.047677e-01</td>\n",
       "      <td>1.089230</td>\n",
       "      <td>12.921796</td>\n",
       "      <td>0.2200</td>\n",
       "    </tr>\n",
       "    <tr>\n",
       "      <th>Stage 2  Out  Meas 6  U  Setp</th>\n",
       "      <td>0.010000</td>\n",
       "      <td>0.000000e+00</td>\n",
       "      <td>0.000000</td>\n",
       "      <td>0.000000</td>\n",
       "      <td>0.0000</td>\n",
       "    </tr>\n",
       "    <tr>\n",
       "      <th>Stage 2  Out  Meas 7  U  Act</th>\n",
       "      <td>2.913033</td>\n",
       "      <td>5.179481e-01</td>\n",
       "      <td>-4.031369</td>\n",
       "      <td>24.275434</td>\n",
       "      <td>0.0400</td>\n",
       "    </tr>\n",
       "    <tr>\n",
       "      <th>Stage 2  Out  Meas 7  U  Setp</th>\n",
       "      <td>2.750000</td>\n",
       "      <td>0.000000e+00</td>\n",
       "      <td>0.000000</td>\n",
       "      <td>0.000000</td>\n",
       "      <td>0.0000</td>\n",
       "    </tr>\n",
       "    <tr>\n",
       "      <th>Stage 2  Out  Meas 8  U  Act</th>\n",
       "      <td>18.354126</td>\n",
       "      <td>5.024416e+00</td>\n",
       "      <td>-3.359670</td>\n",
       "      <td>9.365388</td>\n",
       "      <td>0.5700</td>\n",
       "    </tr>\n",
       "    <tr>\n",
       "      <th>Stage 2  Out  Meas 8  U  Setp</th>\n",
       "      <td>19.390000</td>\n",
       "      <td>3.552840e-15</td>\n",
       "      <td>0.000000</td>\n",
       "      <td>0.000000</td>\n",
       "      <td>0.0000</td>\n",
       "    </tr>\n",
       "    <tr>\n",
       "      <th>Stage 2  Out  Meas 9  U  Act</th>\n",
       "      <td>11.645982</td>\n",
       "      <td>7.608596e+00</td>\n",
       "      <td>-0.876590</td>\n",
       "      <td>-1.229994</td>\n",
       "      <td>16.6600</td>\n",
       "    </tr>\n",
       "    <tr>\n",
       "      <th>Stage 2  Out  Meas 9  U  Setp</th>\n",
       "      <td>16.470000</td>\n",
       "      <td>0.000000e+00</td>\n",
       "      <td>0.000000</td>\n",
       "      <td>0.000000</td>\n",
       "      <td>0.0000</td>\n",
       "    </tr>\n",
       "    <tr>\n",
       "      <th>Stage 2  Out  Meas 1 0  U  Act</th>\n",
       "      <td>7.535958</td>\n",
       "      <td>1.645785e+00</td>\n",
       "      <td>-4.337655</td>\n",
       "      <td>16.921201</td>\n",
       "      <td>0.1100</td>\n",
       "    </tr>\n",
       "    <tr>\n",
       "      <th>Stage 2  Out  Meas 1 0  U  Setp</th>\n",
       "      <td>7.930000</td>\n",
       "      <td>3.552840e-15</td>\n",
       "      <td>0.000000</td>\n",
       "      <td>0.000000</td>\n",
       "      <td>0.0000</td>\n",
       "    </tr>\n",
       "    <tr>\n",
       "      <th>Stage 2  Out  Meas 1 1  U  Act</th>\n",
       "      <td>5.416515</td>\n",
       "      <td>1.182333e+00</td>\n",
       "      <td>-4.290344</td>\n",
       "      <td>16.745459</td>\n",
       "      <td>0.2400</td>\n",
       "    </tr>\n",
       "    <tr>\n",
       "      <th>Stage 2  Out  Meas 1 1  U  Setp</th>\n",
       "      <td>5.650000</td>\n",
       "      <td>8.882099e-16</td>\n",
       "      <td>0.000000</td>\n",
       "      <td>0.000000</td>\n",
       "      <td>0.0000</td>\n",
       "    </tr>\n",
       "    <tr>\n",
       "      <th>Stage 2  Out  Meas 1 2  U  Act</th>\n",
       "      <td>1.972561</td>\n",
       "      <td>4.145398e-01</td>\n",
       "      <td>-4.218402</td>\n",
       "      <td>16.828497</td>\n",
       "      <td>0.0600</td>\n",
       "    </tr>\n",
       "    <tr>\n",
       "      <th>Stage 2  Out  Meas 1 2  U  Setp</th>\n",
       "      <td>1.850000</td>\n",
       "      <td>4.441050e-16</td>\n",
       "      <td>0.000000</td>\n",
       "      <td>0.000000</td>\n",
       "      <td>0.0000</td>\n",
       "    </tr>\n",
       "    <tr>\n",
       "      <th>Stage 2  Out  Meas 1 3  U  Act</th>\n",
       "      <td>3.535251</td>\n",
       "      <td>4.768244e-01</td>\n",
       "      <td>-5.450310</td>\n",
       "      <td>40.964237</td>\n",
       "      <td>0.3100</td>\n",
       "    </tr>\n",
       "    <tr>\n",
       "      <th>Stage 2  Out  Meas 1 3  U  Setp</th>\n",
       "      <td>2.890000</td>\n",
       "      <td>0.000000e+00</td>\n",
       "      <td>0.000000</td>\n",
       "      <td>0.000000</td>\n",
       "      <td>0.0000</td>\n",
       "    </tr>\n",
       "    <tr>\n",
       "      <th>Stage 2  Out  Meas 1 4  U  Act</th>\n",
       "      <td>7.515574</td>\n",
       "      <td>2.082948e+00</td>\n",
       "      <td>-2.862259</td>\n",
       "      <td>8.463876</td>\n",
       "      <td>0.3600</td>\n",
       "    </tr>\n",
       "    <tr>\n",
       "      <th>Stage 2  Out  Meas 1 4  U  Setp</th>\n",
       "      <td>11.710000</td>\n",
       "      <td>1.776420e-15</td>\n",
       "      <td>0.000000</td>\n",
       "      <td>0.000000</td>\n",
       "      <td>0.0000</td>\n",
       "    </tr>\n",
       "  </tbody>\n",
       "</table>\n",
       "</div>"
      ],
      "text/plain": [
       "                                                        Mean       Std Dev  \\\n",
       "Ambient Conditions  Ambient Humidity  U  Act       15.330759  1.188993e+00   \n",
       "Ambient Conditions  Ambient Temp  U  Act           23.843635  3.735350e-01   \n",
       "Mchn 1  Raw Mat  Property 1                        11.851256  5.103091e-01   \n",
       "Mchn 1  Raw Mat  Property 2                       205.676320  1.160632e+01   \n",
       "Mchn 1  Raw Mat  Property 3                       951.679815  1.266620e+02   \n",
       "Mchn 1  Raw Mat  Property 4                       248.868896  3.297820e+00   \n",
       "Mchn 1  Raw Mat Feeder Parameter  U  Act         1242.764276  9.584595e+01   \n",
       "Mchn 1  Zone 1 Temp  C  Act                        72.013330  6.318299e-02   \n",
       "Mchn 1  Zone 2 Temp  C  Act                        72.013106  4.063128e-01   \n",
       "Mchn 1  Motor Amperage  U  Act                     70.333111  5.525217e+00   \n",
       "Mchn 1  Motor R P M  C  Act                        11.072094  6.351717e-01   \n",
       "Mchn 1  Mat Pressure  U  Act                      409.006724  2.047838e+01   \n",
       "Mchn 1  Mat Temp  U  Act                           81.470000  9.305622e-01   \n",
       "Mchn 1  Exit Zone Temp  C  Act                     75.966161  2.059027e+00   \n",
       "Mchn 2  Raw Mat  Property 1                        12.793397  1.073018e-01   \n",
       "Mchn 2  Raw Mat  Property 2                       239.911485  2.063495e+00   \n",
       "Mchn 2  Raw Mat  Property 3                       566.368191  1.832796e+01   \n",
       "Mchn 2  Raw Mat  Property 4                       256.217703  4.126990e-01   \n",
       "Mchn 2  Raw Mat Feeder Parameter  U  Act          202.585311  1.511090e+01   \n",
       "Mchn 2  Zone 1 Temp  C  Act                        68.996904  5.702028e-02   \n",
       "Mchn 2  Zone 2 Temp  C  Act                        69.101083  1.091145e-01   \n",
       "Mchn 2  Motor Amperage  U  Act                     73.398762  3.960513e-01   \n",
       "Mchn 2  Motor R P M  C  Act                        13.896803  2.916732e-02   \n",
       "Mchn 2  Mat Pressure  U  Act                      226.122234  3.106395e+00   \n",
       "Mchn 2  Mat Temp  U  Act                           76.812278  8.550022e-01   \n",
       "Mchn 2  Exit Zone Temp  C  Act                     60.001331  1.620699e-01   \n",
       "Mchn 3  Raw Mat  Property 1                         9.090484  3.966045e-01   \n",
       "Mchn 3  Raw Mat  Property 2                       205.647217  1.631976e+01   \n",
       "Mchn 3  Raw Mat  Property 3                       425.014412  9.559928e+00   \n",
       "Mchn 3  Raw Mat  Property 4                       203.038756  2.177618e+00   \n",
       "Mchn 3  Raw Mat Feeder Parameter  U  Act          202.379555  1.565365e+01   \n",
       "Mchn 3  Zone 1 Temp  C  Act                        78.008251  7.682633e-02   \n",
       "Mchn 3  Zone 2 Temp  C  Act                        78.004958  1.148216e-01   \n",
       "Mchn 3  Motor Amperage  U  Act                    345.111591  9.077714e+00   \n",
       "Mchn 3  Motor R P M  C  Act                        13.269664  4.345943e-01   \n",
       "Mchn 3  Mat Pressure  U  Act                      246.750253  6.122104e+00   \n",
       "Mchn 3  Mat Temp  U  Act                           74.140265  2.058298e+00   \n",
       "Mchn 3  Exit Zone Temp  C  Act                     65.008232  6.243988e-02   \n",
       "First Stage  Combiner Operation  Temp 1  U  Act   108.917970  5.669857e+00   \n",
       "First Stage  Combiner Operation  Temp 2  U  Act    84.898323  1.857932e+01   \n",
       "First Stage  Combiner Operation  Temp 3  C  Act    80.003714  1.183265e-01   \n",
       "Stage 1  Out  Meas 0  U  Act                       12.896919  9.342280e-01   \n",
       "Stage 1  Out  Meas 0  U  Setp                      13.695344  8.652121e-01   \n",
       "Stage 1  Out  Meas 1  U  Act                        8.050511  6.904337e+00   \n",
       "Stage 1  Out  Meas 1  U  Setp                      22.649608  1.430903e+00   \n",
       "Stage 1  Out  Meas 2  U  Act                       11.357154  1.052791e+00   \n",
       "Stage 1  Out  Meas 2  U  Setp                      12.968245  8.192772e-01   \n",
       "Stage 1  Out  Meas 3  U  Act                       21.325946  2.110456e+00   \n",
       "Stage 1  Out  Meas 3  U  Setp                      21.793027  1.376788e+00   \n",
       "Stage 1  Out  Meas 4  U  Act                       32.876441  3.869849e+00   \n",
       "Stage 1  Out  Meas 4  U  Setp                      32.420613  2.048193e+00   \n",
       "Stage 1  Out  Meas 5  U  Act                        0.124233  5.701908e-01   \n",
       "Stage 1  Out  Meas 5  U  Setp                       2.729108  1.724132e-01   \n",
       "Stage 1  Out  Meas 6  U  Act                        1.337961  1.135655e+00   \n",
       "Stage 1  Out  Meas 6  U  Setp                       4.233106  2.674292e-01   \n",
       "Stage 1  Out  Meas 7  U  Act                        1.100483  1.413986e+00   \n",
       "Stage 1  Out  Meas 7  U  Setp                       2.958194  1.868858e-01   \n",
       "Stage 1  Out  Meas 8  U  Act                       19.754018  4.786564e+00   \n",
       "Stage 1  Out  Meas 8  U  Setp                      21.215332  1.340292e+00   \n",
       "Stage 1  Out  Meas 9  U  Act                       17.965964  4.197297e+00   \n",
       "Stage 1  Out  Meas 9  U  Setp                      19.442408  1.228287e+00   \n",
       "Stage 1  Out  Meas 1 0  U  Act                      7.681824  1.085486e+00   \n",
       "Stage 1  Out  Meas 1 0  U  Setp                     8.615616  5.442970e-01   \n",
       "Stage 1  Out  Meas 1 1  U  Act                      1.492745  2.542739e+00   \n",
       "Stage 1  Out  Meas 1 1  U  Setp                     6.135514  3.876150e-01   \n",
       "Stage 1  Out  Meas 1 2  U  Act                      1.202880  6.636772e-01   \n",
       "Stage 1  Out  Meas 1 2  U  Setp                     2.011970  1.271075e-01   \n",
       "Stage 1  Out  Meas 1 3  U  Act                      2.881181  9.410270e-01   \n",
       "Stage 1  Out  Meas 1 3  U  Setp                     3.147439  1.988415e-01   \n",
       "Stage 1  Out  Meas 1 4  U  Act                      9.940519  7.416543e+00   \n",
       "Stage 1  Out  Meas 1 4  U  Setp                    17.649563  1.115022e+00   \n",
       "Mchn 4  Temp 1  C  Act                            360.124034  2.287782e+00   \n",
       "Mchn 4  Temp 2  C  Act                            360.134701  2.957240e+00   \n",
       "Mchn 4  Pressure  C  Act                           17.226269  9.411130e-01   \n",
       "Mchn 4  Temp 3  C  Act                            322.612113  3.713273e+00   \n",
       "Mchn 4  Temp 4  C  Act                             17.226269  9.411130e-01   \n",
       "Mchn 4  Temp 5  C  Act                            309.781998  2.859917e+00   \n",
       "Mchn 4  Exit Temp  U  Act                         187.139625  2.365307e+01   \n",
       "Mchn 5  Temp 1  C  Act                            309.998128  3.917375e-02   \n",
       "Mchn 5  Temp 2  C  Act                            289.998193  5.188742e-02   \n",
       "Mchn 5  Temp 3  C  Act                            269.679469  1.030923e+00   \n",
       "Mchn 5  Temp 4  C  Act                            242.660491  1.591025e+00   \n",
       "Mchn 5  Temp 5  C  Act                            244.995024  1.055723e-01   \n",
       "Mchn 5  Temp 6  C  Act                             63.421152  4.022370e-01   \n",
       "Mchn 5  Exit Temp  U  Act                         153.980082  1.030802e+01   \n",
       "Stage 2  Out  Meas 0  U  Act                       11.695055  3.620493e+00   \n",
       "Stage 2  Out  Meas 0  U  Setp                      12.050000  1.776420e-15   \n",
       "Stage 2  Out  Meas 1  U  Act                        6.261506  1.606999e+00   \n",
       "Stage 2  Out  Meas 1  U  Setp                      11.710000  1.776420e-15   \n",
       "Stage 2  Out  Meas 2  U  Act                       10.250606  2.311161e+00   \n",
       "Stage 2  Out  Meas 2  U  Setp                      11.000000  0.000000e+00   \n",
       "Stage 2  Out  Meas 3  U  Act                       19.303842  4.690263e+00   \n",
       "Stage 2  Out  Meas 3  U  Setp                      20.730000  0.000000e+00   \n",
       "Stage 2  Out  Meas 4  U  Act                        2.928552  9.167666e+00   \n",
       "Stage 2  Out  Meas 4  U  Setp                      31.360000  1.421136e-14   \n",
       "Stage 2  Out  Meas 5  U  Act                        2.743212  3.913714e-01   \n",
       "Stage 2  Out  Meas 5  U  Setp                       2.710000  8.882099e-16   \n",
       "Stage 2  Out  Meas 6  U  Act                        0.532288  2.047677e-01   \n",
       "Stage 2  Out  Meas 6  U  Setp                       0.010000  0.000000e+00   \n",
       "Stage 2  Out  Meas 7  U  Act                        2.913033  5.179481e-01   \n",
       "Stage 2  Out  Meas 7  U  Setp                       2.750000  0.000000e+00   \n",
       "Stage 2  Out  Meas 8  U  Act                       18.354126  5.024416e+00   \n",
       "Stage 2  Out  Meas 8  U  Setp                      19.390000  3.552840e-15   \n",
       "Stage 2  Out  Meas 9  U  Act                       11.645982  7.608596e+00   \n",
       "Stage 2  Out  Meas 9  U  Setp                      16.470000  0.000000e+00   \n",
       "Stage 2  Out  Meas 1 0  U  Act                      7.535958  1.645785e+00   \n",
       "Stage 2  Out  Meas 1 0  U  Setp                     7.930000  3.552840e-15   \n",
       "Stage 2  Out  Meas 1 1  U  Act                      5.416515  1.182333e+00   \n",
       "Stage 2  Out  Meas 1 1  U  Setp                     5.650000  8.882099e-16   \n",
       "Stage 2  Out  Meas 1 2  U  Act                      1.972561  4.145398e-01   \n",
       "Stage 2  Out  Meas 1 2  U  Setp                     1.850000  4.441050e-16   \n",
       "Stage 2  Out  Meas 1 3  U  Act                      3.535251  4.768244e-01   \n",
       "Stage 2  Out  Meas 1 3  U  Setp                     2.890000  0.000000e+00   \n",
       "Stage 2  Out  Meas 1 4  U  Act                      7.515574  2.082948e+00   \n",
       "Stage 2  Out  Meas 1 4  U  Setp                    11.710000  1.776420e-15   \n",
       "\n",
       "                                                  Skewness    Kurtosis  \\\n",
       "Ambient Conditions  Ambient Humidity  U  Act      0.113315   -1.639747   \n",
       "Ambient Conditions  Ambient Temp  U  Act         -0.532854   -0.688510   \n",
       "Mchn 1  Raw Mat  Property 1                       1.162976   -0.413131   \n",
       "Mchn 1  Raw Mat  Property 2                       1.921282    2.187776   \n",
       "Mchn 1  Raw Mat  Property 3                      -2.220318    3.485070   \n",
       "Mchn 1  Raw Mat  Property 4                       1.596464    1.190369   \n",
       "Mchn 1  Raw Mat Feeder Parameter  U  Act         -4.487157   22.806924   \n",
       "Mchn 1  Zone 1 Temp  C  Act                       4.160693   23.209066   \n",
       "Mchn 1  Zone 2 Temp  C  Act                       0.029851   -1.393234   \n",
       "Mchn 1  Motor Amperage  U  Act                   -1.587474    4.663747   \n",
       "Mchn 1  Motor R P M  C  Act                       0.579343   -1.357715   \n",
       "Mchn 1  Mat Pressure  U  Act                     -1.076650   -0.205974   \n",
       "Mchn 1  Mat Temp  U  Act                          0.177132    3.304684   \n",
       "Mchn 1  Exit Zone Temp  C  Act                    1.138616    0.386721   \n",
       "Mchn 2  Raw Mat  Property 1                      -1.368247   -0.127919   \n",
       "Mchn 2  Raw Mat  Property 2                      -1.368247   -0.127919   \n",
       "Mchn 2  Raw Mat  Property 3                       1.368247   -0.127919   \n",
       "Mchn 2  Raw Mat  Property 4                       1.368247   -0.127919   \n",
       "Mchn 2  Raw Mat Feeder Parameter  U  Act         -1.833062   21.258230   \n",
       "Mchn 2  Zone 1 Temp  C  Act                       7.345550   61.205598   \n",
       "Mchn 2  Zone 2 Temp  C  Act                       3.253660   21.212322   \n",
       "Mchn 2  Motor Amperage  U  Act                   -0.664319    0.087803   \n",
       "Mchn 2  Motor R P M  C  Act                      -0.137661   -1.026494   \n",
       "Mchn 2  Mat Pressure  U  Act                      1.246696    5.396748   \n",
       "Mchn 2  Mat Temp  U  Act                         -5.355340   33.313154   \n",
       "Mchn 2  Exit Zone Temp  C  Act                    0.130667    0.406282   \n",
       "Mchn 3  Raw Mat  Property 1                       1.332434   -0.023801   \n",
       "Mchn 3  Raw Mat  Property 2                      -0.152248   -1.920317   \n",
       "Mchn 3  Raw Mat  Property 3                      -0.649416   -1.101663   \n",
       "Mchn 3  Raw Mat  Property 4                      -0.372328   -1.617502   \n",
       "Mchn 3  Raw Mat Feeder Parameter  U  Act         -2.161749   24.473480   \n",
       "Mchn 3  Zone 1 Temp  C  Act                       0.339323   32.932107   \n",
       "Mchn 3  Zone 2 Temp  C  Act                       0.351153    0.164160   \n",
       "Mchn 3  Motor Amperage  U  Act                    0.874012   -0.073947   \n",
       "Mchn 3  Motor R P M  C  Act                      -0.917822    0.087362   \n",
       "Mchn 3  Mat Pressure  U  Act                     -0.261145   -0.606839   \n",
       "Mchn 3  Mat Temp  U  Act                         -2.091621    3.881846   \n",
       "Mchn 3  Exit Zone Temp  C  Act                    0.099164    1.186049   \n",
       "First Stage  Combiner Operation  Temp 1  U  Act   0.048449    1.663865   \n",
       "First Stage  Combiner Operation  Temp 2  U  Act   0.123083   -1.759644   \n",
       "First Stage  Combiner Operation  Temp 3  C  Act  -0.400537    0.623759   \n",
       "Stage 1  Out  Meas 0  U  Act                    -12.842025  179.323339   \n",
       "Stage 1  Out  Meas 0  U  Setp                   -15.767954  246.663380   \n",
       "Stage 1  Out  Meas 1  U  Act                     -0.271872   -1.845768   \n",
       "Stage 1  Out  Meas 1  U  Setp                   -15.767954  246.663380   \n",
       "Stage 1  Out  Meas 2  U  Act                     -7.080752   86.979156   \n",
       "Stage 1  Out  Meas 2  U  Setp                   -15.767954  246.663380   \n",
       "Stage 1  Out  Meas 3  U  Act                     -9.943582   97.495129   \n",
       "Stage 1  Out  Meas 3  U  Setp                   -15.767954  246.663380   \n",
       "Stage 1  Out  Meas 4  U  Act                     -7.807058   63.637642   \n",
       "Stage 1  Out  Meas 4  U  Setp                   -15.767954  246.663380   \n",
       "Stage 1  Out  Meas 5  U  Act                      4.419403   17.898312   \n",
       "Stage 1  Out  Meas 5  U  Setp                   -15.767954  246.663380   \n",
       "Stage 1  Out  Meas 6  U  Act                      0.674561    1.200066   \n",
       "Stage 1  Out  Meas 6  U  Setp                   -15.767954  246.663380   \n",
       "Stage 1  Out  Meas 7  U  Act                      0.510812   -1.723164   \n",
       "Stage 1  Out  Meas 7  U  Setp                   -15.767954  246.663380   \n",
       "Stage 1  Out  Meas 8  U  Act                     -3.883364   13.089215   \n",
       "Stage 1  Out  Meas 8  U  Setp                   -15.767954  246.663380   \n",
       "Stage 1  Out  Meas 9  U  Act                     -4.028027   14.310395   \n",
       "Stage 1  Out  Meas 9  U  Setp                   -15.767954  246.663380   \n",
       "Stage 1  Out  Meas 1 0  U  Act                   -6.722144   45.135413   \n",
       "Stage 1  Out  Meas 1 0  U  Setp                 -15.767954  246.663380   \n",
       "Stage 1  Out  Meas 1 1  U  Act                    1.119185   -0.741274   \n",
       "Stage 1  Out  Meas 1 1  U  Setp                 -15.767954  246.663380   \n",
       "Stage 1  Out  Meas 1 2  U  Act                   -1.156421   -0.340011   \n",
       "Stage 1  Out  Meas 1 2  U  Setp                 -15.767954  246.663380   \n",
       "Stage 1  Out  Meas 1 3  U  Act                   -2.321184    4.055873   \n",
       "Stage 1  Out  Meas 1 3  U  Setp                 -15.767954  246.663380   \n",
       "Stage 1  Out  Meas 1 4  U  Act                   -0.586577   -1.634061   \n",
       "Stage 1  Out  Meas 1 4  U  Setp                 -15.767954  246.663380   \n",
       "Mchn 4  Temp 1  C  Act                           -1.477921  234.639263   \n",
       "Mchn 4  Temp 2  C  Act                           -4.511357  231.525463   \n",
       "Mchn 4  Pressure  C  Act                          0.782756    4.405026   \n",
       "Mchn 4  Temp 3  C  Act                           -2.580705   17.103855   \n",
       "Mchn 4  Temp 4  C  Act                            0.782756    4.405026   \n",
       "Mchn 4  Temp 5  C  Act                           -2.568768   26.440459   \n",
       "Mchn 4  Exit Temp  U  Act                        -5.251039   27.070353   \n",
       "Mchn 5  Temp 1  C  Act                           -2.741774   39.039020   \n",
       "Mchn 5  Temp 2  C  Act                           -0.132499    2.022628   \n",
       "Mchn 5  Temp 3  C  Act                           -3.854950   14.933320   \n",
       "Mchn 5  Temp 4  C  Act                           -0.831458    0.826089   \n",
       "Mchn 5  Temp 5  C  Act                          -12.712699  209.145575   \n",
       "Mchn 5  Temp 6  C  Act                            2.112387    8.862136   \n",
       "Mchn 5  Exit Temp  U  Act                        -9.314912   91.111179   \n",
       "Stage 2  Out  Meas 0  U  Act                     -2.906981    6.499811   \n",
       "Stage 2  Out  Meas 0  U  Setp                     0.000000    0.000000   \n",
       "Stage 2  Out  Meas 1  U  Act                     -2.291118    9.769117   \n",
       "Stage 2  Out  Meas 1  U  Setp                     0.000000    0.000000   \n",
       "Stage 2  Out  Meas 2  U  Act                     -3.910303   14.119955   \n",
       "Stage 2  Out  Meas 2  U  Setp                     0.000000    0.000000   \n",
       "Stage 2  Out  Meas 3  U  Act                     -3.818768   12.821050   \n",
       "Stage 2  Out  Meas 3  U  Setp                     0.000000    0.000000   \n",
       "Stage 2  Out  Meas 4  U  Act                      2.818250    5.967755   \n",
       "Stage 2  Out  Meas 4  U  Setp                     0.000000    0.000000   \n",
       "Stage 2  Out  Meas 5  U  Act                     -3.607621   43.682842   \n",
       "Stage 2  Out  Meas 5  U  Setp                     0.000000    0.000000   \n",
       "Stage 2  Out  Meas 6  U  Act                      1.089230   12.921796   \n",
       "Stage 2  Out  Meas 6  U  Setp                     0.000000    0.000000   \n",
       "Stage 2  Out  Meas 7  U  Act                     -4.031369   24.275434   \n",
       "Stage 2  Out  Meas 7  U  Setp                     0.000000    0.000000   \n",
       "Stage 2  Out  Meas 8  U  Act                     -3.359670    9.365388   \n",
       "Stage 2  Out  Meas 8  U  Setp                     0.000000    0.000000   \n",
       "Stage 2  Out  Meas 9  U  Act                     -0.876590   -1.229994   \n",
       "Stage 2  Out  Meas 9  U  Setp                     0.000000    0.000000   \n",
       "Stage 2  Out  Meas 1 0  U  Act                   -4.337655   16.921201   \n",
       "Stage 2  Out  Meas 1 0  U  Setp                   0.000000    0.000000   \n",
       "Stage 2  Out  Meas 1 1  U  Act                   -4.290344   16.745459   \n",
       "Stage 2  Out  Meas 1 1  U  Setp                   0.000000    0.000000   \n",
       "Stage 2  Out  Meas 1 2  U  Act                   -4.218402   16.828497   \n",
       "Stage 2  Out  Meas 1 2  U  Setp                   0.000000    0.000000   \n",
       "Stage 2  Out  Meas 1 3  U  Act                   -5.450310   40.964237   \n",
       "Stage 2  Out  Meas 1 3  U  Setp                   0.000000    0.000000   \n",
       "Stage 2  Out  Meas 1 4  U  Act                   -2.862259    8.463876   \n",
       "Stage 2  Out  Meas 1 4  U  Setp                   0.000000    0.000000   \n",
       "\n",
       "                                                     IQR  \n",
       "Ambient Conditions  Ambient Humidity  U  Act      2.5900  \n",
       "Ambient Conditions  Ambient Temp  U  Act          0.6300  \n",
       "Mchn 1  Raw Mat  Property 1                       0.6800  \n",
       "Mchn 1  Raw Mat  Property 2                       1.0000  \n",
       "Mchn 1  Raw Mat  Property 3                      64.4300  \n",
       "Mchn 1  Raw Mat  Property 4                       4.0000  \n",
       "Mchn 1  Raw Mat Feeder Parameter  U  Act         16.2900  \n",
       "Mchn 1  Zone 1 Temp  C  Act                       0.0000  \n",
       "Mchn 1  Zone 2 Temp  C  Act                       0.8000  \n",
       "Mchn 1  Motor Amperage  U  Act                    4.0400  \n",
       "Mchn 1  Motor R P M  C  Act                       1.2500  \n",
       "Mchn 1  Mat Pressure  U  Act                     12.5200  \n",
       "Mchn 1  Mat Temp  U  Act                          0.8000  \n",
       "Mchn 1  Exit Zone Temp  C  Act                    0.1000  \n",
       "Mchn 2  Raw Mat  Property 1                       0.0000  \n",
       "Mchn 2  Raw Mat  Property 2                       0.0000  \n",
       "Mchn 2  Raw Mat  Property 3                       0.0000  \n",
       "Mchn 2  Raw Mat  Property 4                       0.0000  \n",
       "Mchn 2  Raw Mat Feeder Parameter  U  Act         17.6125  \n",
       "Mchn 2  Zone 1 Temp  C  Act                       0.0200  \n",
       "Mchn 2  Zone 2 Temp  C  Act                       0.0200  \n",
       "Mchn 2  Motor Amperage  U  Act                    0.5000  \n",
       "Mchn 2  Motor R P M  C  Act                       0.0500  \n",
       "Mchn 2  Mat Pressure  U  Act                      4.0500  \n",
       "Mchn 2  Mat Temp  U  Act                          0.2000  \n",
       "Mchn 2  Exit Zone Temp  C  Act                    0.2000  \n",
       "Mchn 3  Raw Mat  Property 1                       0.1900  \n",
       "Mchn 3  Raw Mat  Property 2                      35.0000  \n",
       "Mchn 3  Raw Mat  Property 3                      12.0200  \n",
       "Mchn 3  Raw Mat  Property 4                       5.0000  \n",
       "Mchn 3  Raw Mat Feeder Parameter  U  Act         17.8100  \n",
       "Mchn 3  Zone 1 Temp  C  Act                       0.0000  \n",
       "Mchn 3  Zone 2 Temp  C  Act                       0.2000  \n",
       "Mchn 3  Motor Amperage  U  Act                    9.3125  \n",
       "Mchn 3  Motor R P M  C  Act                       0.6600  \n",
       "Mchn 3  Mat Pressure  U  Act                      6.1400  \n",
       "Mchn 3  Mat Temp  U  Act                          1.7000  \n",
       "Mchn 3  Exit Zone Temp  C  Act                    0.0000  \n",
       "First Stage  Combiner Operation  Temp 1  U  Act  11.0000  \n",
       "First Stage  Combiner Operation  Temp 2  U  Act  35.2000  \n",
       "First Stage  Combiner Operation  Temp 3  C  Act   0.1000  \n",
       "Stage 1  Out  Meas 0  U  Act                      0.1600  \n",
       "Stage 1  Out  Meas 0  U  Setp                     0.0000  \n",
       "Stage 1  Out  Meas 1  U  Act                     13.8700  \n",
       "Stage 1  Out  Meas 1  U  Setp                     0.0000  \n",
       "Stage 1  Out  Meas 2  U  Act                      0.3200  \n",
       "Stage 1  Out  Meas 2  U  Setp                     0.0000  \n",
       "Stage 1  Out  Meas 3  U  Act                      0.0700  \n",
       "Stage 1  Out  Meas 3  U  Setp                     0.0000  \n",
       "Stage 1  Out  Meas 4  U  Act                      0.8300  \n",
       "Stage 1  Out  Meas 4  U  Setp                     0.0000  \n",
       "Stage 1  Out  Meas 5  U  Act                      0.0000  \n",
       "Stage 1  Out  Meas 5  U  Setp                     0.0000  \n",
       "Stage 1  Out  Meas 6  U  Act                      1.8200  \n",
       "Stage 1  Out  Meas 6  U  Setp                     0.0000  \n",
       "Stage 1  Out  Meas 7  U  Act                      2.9000  \n",
       "Stage 1  Out  Meas 7  U  Setp                     0.0000  \n",
       "Stage 1  Out  Meas 8  U  Act                      0.0800  \n",
       "Stage 1  Out  Meas 8  U  Setp                     0.0000  \n",
       "Stage 1  Out  Meas 9  U  Act                      0.2200  \n",
       "Stage 1  Out  Meas 9  U  Setp                     0.0000  \n",
       "Stage 1  Out  Meas 1 0  U  Act                    0.1900  \n",
       "Stage 1  Out  Meas 1 0  U  Setp                   0.0000  \n",
       "Stage 1  Out  Meas 1 1  U  Act                    5.4100  \n",
       "Stage 1  Out  Meas 1 1  U  Setp                   0.0000  \n",
       "Stage 1  Out  Meas 1 2  U  Act                    0.1800  \n",
       "Stage 1  Out  Meas 1 2  U  Setp                   0.0000  \n",
       "Stage 1  Out  Meas 1 3  U  Act                    0.3000  \n",
       "Stage 1  Out  Meas 1 3  U  Setp                   0.0000  \n",
       "Stage 1  Out  Meas 1 4  U  Act                   15.7600  \n",
       "Stage 1  Out  Meas 1 4  U  Setp                   0.0000  \n",
       "Mchn 4  Temp 1  C  Act                            0.0000  \n",
       "Mchn 4  Temp 2  C  Act                            2.0000  \n",
       "Mchn 4  Pressure  C  Act                          1.0000  \n",
       "Mchn 4  Temp 3  C  Act                            4.0000  \n",
       "Mchn 4  Temp 4  C  Act                            1.0000  \n",
       "Mchn 4  Temp 5  C  Act                            2.0000  \n",
       "Mchn 4  Exit Temp  U  Act                         2.0000  \n",
       "Mchn 5  Temp 1  C  Act                            0.0000  \n",
       "Mchn 5  Temp 2  C  Act                            0.0000  \n",
       "Mchn 5  Temp 3  C  Act                            0.0000  \n",
       "Mchn 5  Temp 4  C  Act                            1.7000  \n",
       "Mchn 5  Temp 5  C  Act                            0.0000  \n",
       "Mchn 5  Temp 6  C  Act                            0.4000  \n",
       "Mchn 5  Exit Temp  U  Act                         2.4000  \n",
       "Stage 2  Out  Meas 0  U  Act                      0.2300  \n",
       "Stage 2  Out  Meas 0  U  Setp                     0.0000  \n",
       "Stage 2  Out  Meas 1  U  Act                      0.4100  \n",
       "Stage 2  Out  Meas 1  U  Setp                     0.0000  \n",
       "Stage 2  Out  Meas 2  U  Act                      0.2900  \n",
       "Stage 2  Out  Meas 2  U  Setp                     0.0000  \n",
       "Stage 2  Out  Meas 3  U  Act                      0.7700  \n",
       "Stage 2  Out  Meas 3  U  Setp                     0.0000  \n",
       "Stage 2  Out  Meas 4  U  Act                      0.0000  \n",
       "Stage 2  Out  Meas 4  U  Setp                     0.0000  \n",
       "Stage 2  Out  Meas 5  U  Act                      0.2700  \n",
       "Stage 2  Out  Meas 5  U  Setp                     0.0000  \n",
       "Stage 2  Out  Meas 6  U  Act                      0.2200  \n",
       "Stage 2  Out  Meas 6  U  Setp                     0.0000  \n",
       "Stage 2  Out  Meas 7  U  Act                      0.0400  \n",
       "Stage 2  Out  Meas 7  U  Setp                     0.0000  \n",
       "Stage 2  Out  Meas 8  U  Act                      0.5700  \n",
       "Stage 2  Out  Meas 8  U  Setp                     0.0000  \n",
       "Stage 2  Out  Meas 9  U  Act                     16.6600  \n",
       "Stage 2  Out  Meas 9  U  Setp                     0.0000  \n",
       "Stage 2  Out  Meas 1 0  U  Act                    0.1100  \n",
       "Stage 2  Out  Meas 1 0  U  Setp                   0.0000  \n",
       "Stage 2  Out  Meas 1 1  U  Act                    0.2400  \n",
       "Stage 2  Out  Meas 1 1  U  Setp                   0.0000  \n",
       "Stage 2  Out  Meas 1 2  U  Act                    0.0600  \n",
       "Stage 2  Out  Meas 1 2  U  Setp                   0.0000  \n",
       "Stage 2  Out  Meas 1 3  U  Act                    0.3100  \n",
       "Stage 2  Out  Meas 1 3  U  Setp                   0.0000  \n",
       "Stage 2  Out  Meas 1 4  U  Act                    0.3600  \n",
       "Stage 2  Out  Meas 1 4  U  Setp                   0.0000  "
      ]
     },
     "metadata": {},
     "output_type": "display_data"
    }
   ],
   "source": [
    "# Initialize dataframe for statistics\n",
    "factory_summary = pd.DataFrame()\n",
    "\n",
    "# Seperate Time Column\n",
    "sub_factory_df = factory_df.drop('time_stamp', axis = 1)\n",
    "\n",
    "# Iterate through the columns calculating our stats\n",
    "for column in sub_factory_df.columns:\n",
    "    if sub_factory_df[column].dtype in ['float64', 'int64']:\n",
    "        factory_summary.loc[column, 'Mean'] = sub_factory_df[column].mean()\n",
    "        factory_summary.loc[column, 'Std Dev'] = sub_factory_df[column].std()\n",
    "        factory_summary.loc[column, 'Skewness'] = sub_factory_df[column].skew()\n",
    "        factory_summary.loc[column, 'Kurtosis'] = sub_factory_df[column].kurt()\n",
    "        factory_summary.loc[column, 'IQR'] = sub_factory_df[column].quantile(0.75) - sub_factory_df[column].quantile(0.25)\n",
    "\n",
    "with pd.option_context('display.max_rows', None, 'display.max_columns', None, 'display.width', None):\n",
    "    display(factory_summary)\n",
    "\n",
    "# Save factory summary statistics to CSV\n",
    "factory_summary.to_csv('factory_summary_statistics.csv')\n"
   ]
  },
  {
   "cell_type": "code",
   "execution_count": 86,
   "metadata": {},
   "outputs": [
    {
     "name": "stdout",
     "output_type": "stream",
     "text": [
      "| Statistic                                    | Measure   | Value   |\n",
      "|:---------------------------------------------|:----------|:--------|\n",
      "| Ambient Conditions  Ambient Humidity  U  Act | Mean      | 15.3308 |\n",
      "| Ambient Conditions  Ambient Temp  U  Act     | Mean      | 23.8436 |\n",
      "| Mchn 1  Raw Mat  Property 1                  | Mean      | 11.8513 |\n",
      "| Mchn 1  Raw Mat  Property 2                  | Mean      | 205.676 |\n",
      "| Mchn 1  Raw Mat  Property 3                  | Mean      | 951.68  |\n",
      "<class 'pandas.core.frame.DataFrame'>\n",
      "RangeIndex: 575 entries, 0 to 574\n",
      "Data columns (total 3 columns):\n",
      " #   Column     Non-Null Count  Dtype  \n",
      "---  ------     --------------  -----  \n",
      " 0   Statistic  575 non-null    object \n",
      " 1   Measure    575 non-null    object \n",
      " 2   Value      575 non-null    float64\n",
      "dtypes: float64(1), object(2)\n",
      "memory usage: 13.6+ KB\n",
      "None\n"
     ]
    }
   ],
   "source": [
    "df = pd.read_csv('factory_summary_statistics.csv')\n",
    "df['Unnamed: 0'] = df['Unnamed: 0'].astype(str)\n",
    "\n",
    "# Melt the dataframe to long format\n",
    "df_melted = df.melt(id_vars='Unnamed: 0', value_vars=['Mean', 'Std Dev', 'Skewness', 'Kurtosis', 'IQR'])\n",
    "\n",
    "# Rename the columns\n",
    "df_melted.columns = ['Statistic', 'Measure', 'Value']\n",
    "\n",
    "# Print the first 5 rows of the dataframe\n",
    "print(df_melted.head().to_markdown(index=False, numalign=\"left\", stralign=\"left\"))\n",
    "\n",
    "# Print the column name and their data types\n",
    "print(df_melted.info())\n"
   ]
  },
  {
   "cell_type": "code",
   "execution_count": 87,
   "metadata": {},
   "outputs": [
    {
     "data": {
      "application/vnd.vegalite.v5+json": {
       "$schema": "https://vega.github.io/schema/vega-lite/v5.20.1.json",
       "config": {
        "view": {
         "continuousHeight": 300,
         "continuousWidth": 300
        }
       },
       "data": {
        "name": "data-eb7673d5a4f85c0b8fd591fe9d1a714e"
       },
       "datasets": {
        "data-eb7673d5a4f85c0b8fd591fe9d1a714e": [
         {
          "Measure": "Mean",
          "Statistic": " Ambient Conditions  Ambient Humidity  U  Act",
          "Value": 15.330758801817144
         },
         {
          "Measure": "Mean",
          "Statistic": " Ambient Conditions  Ambient Temp  U  Act",
          "Value": 23.84363500851789
         },
         {
          "Measure": "Mean",
          "Statistic": " Mchn 1  Raw Mat  Property 1",
          "Value": 11.851255678591707
         },
         {
          "Measure": "Mean",
          "Statistic": " Mchn 1  Raw Mat  Property 2",
          "Value": 205.6763202725724
         },
         {
          "Measure": "Mean",
          "Statistic": " Mchn 1  Raw Mat  Property 3",
          "Value": 951.6798147359456
         },
         {
          "Measure": "Mean",
          "Statistic": " Mchn 1  Raw Mat  Property 4",
          "Value": 248.86889551391252
         },
         {
          "Measure": "Mean",
          "Statistic": " Mchn 1  Raw Mat Feeder Parameter  U  Act",
          "Value": 1242.7642757373014
         },
         {
          "Measure": "Mean",
          "Statistic": " Mchn 1  Zone 1 Temp  C  Act",
          "Value": 72.01333044774276
         },
         {
          "Measure": "Mean",
          "Statistic": " Mchn 1  Zone 2 Temp  C  Act",
          "Value": 72.01310569792378
         },
         {
          "Measure": "Mean",
          "Statistic": " Mchn 1  Motor Amperage  U  Act",
          "Value": 70.33311111956843
         },
         {
          "Measure": "Mean",
          "Statistic": " Mchn 1  Motor R P M  C  Act",
          "Value": 11.07209423177811
         },
         {
          "Measure": "Mean",
          "Statistic": " Mchn 1  Mat Pressure  U  Act",
          "Value": 409.0067239781232
         },
         {
          "Measure": "Mean",
          "Statistic": " Mchn 1  Mat Temp  U  Act",
          "Value": 81.4699995456573
         },
         {
          "Measure": "Mean",
          "Statistic": " Mchn 1  Exit Zone Temp  C  Act",
          "Value": 75.96616133705423
         },
         {
          "Measure": "Mean",
          "Statistic": " Mchn 2  Raw Mat  Property 1",
          "Value": 12.793397217490062
         },
         {
          "Measure": "Mean",
          "Statistic": " Mchn 2  Raw Mat  Property 2",
          "Value": 239.911484951732
         },
         {
          "Measure": "Mean",
          "Statistic": " Mchn 2  Raw Mat  Property 3",
          "Value": 566.3681906587166
         },
         {
          "Measure": "Mean",
          "Statistic": " Mchn 2  Raw Mat  Property 4",
          "Value": 256.21770300965363
         },
         {
          "Measure": "Mean",
          "Statistic": " Mchn 2  Raw Mat Feeder Parameter  U  Act",
          "Value": 202.58531057703013
         },
         {
          "Measure": "Mean",
          "Statistic": " Mchn 2  Zone 1 Temp  C  Act",
          "Value": 68.99690381378976
         },
         {
          "Measure": "Mean",
          "Statistic": " Mchn 2  Zone 2 Temp  C  Act",
          "Value": 69.10108284170997
         },
         {
          "Measure": "Mean",
          "Statistic": " Mchn 2  Motor Amperage  U  Act",
          "Value": 73.39876168548979
         },
         {
          "Measure": "Mean",
          "Statistic": " Mchn 2  Motor R P M  C  Act",
          "Value": 13.896802706779528
         },
         {
          "Measure": "Mean",
          "Statistic": " Mchn 2  Mat Pressure  U  Act",
          "Value": 226.12223402673905
         },
         {
          "Measure": "Mean",
          "Statistic": " Mchn 2  Mat Temp  U  Act",
          "Value": 76.81227798046281
         },
         {
          "Measure": "Mean",
          "Statistic": " Mchn 2  Exit Zone Temp  C  Act",
          "Value": 60.00133112157156
         },
         {
          "Measure": "Mean",
          "Statistic": " Mchn 3  Raw Mat  Property 1",
          "Value": 9.090484099943213
         },
         {
          "Measure": "Mean",
          "Statistic": " Mchn 3  Raw Mat  Property 2",
          "Value": 205.64721749006247
         },
         {
          "Measure": "Mean",
          "Statistic": " Mchn 3  Raw Mat  Property 3",
          "Value": 425.0144122657581
         },
         {
          "Measure": "Mean",
          "Statistic": " Mchn 3  Raw Mat  Property 4",
          "Value": 203.0387563884157
         },
         {
          "Measure": "Mean",
          "Statistic": " Mchn 3  Raw Mat Feeder Parameter  U  Act",
          "Value": 202.3795546664112
         },
         {
          "Measure": "Mean",
          "Statistic": " Mchn 3  Zone 1 Temp  C  Act",
          "Value": 78.00825139916809
         },
         {
          "Measure": "Mean",
          "Statistic": " Mchn 3  Zone 2 Temp  C  Act",
          "Value": 78.00495756705921
         },
         {
          "Measure": "Mean",
          "Statistic": " Mchn 3  Motor Amperage  U  Act",
          "Value": 345.1115914862152
         },
         {
          "Measure": "Mean",
          "Statistic": " Mchn 3  Motor R P M  C  Act",
          "Value": 13.269664023842983
         },
         {
          "Measure": "Mean",
          "Statistic": " Mchn 3  Mat Pressure  U  Act",
          "Value": 246.7502530144449
         },
         {
          "Measure": "Mean",
          "Statistic": " Mchn 3  Mat Temp  U  Act",
          "Value": 74.14026533293513
         },
         {
          "Measure": "Mean",
          "Statistic": " Mchn 3  Exit Zone Temp  C  Act",
          "Value": 65.00823205575313
         },
         {
          "Measure": "Mean",
          "Statistic": " First Stage  Combiner Operation  Temp 1  U  Act",
          "Value": 108.91797021204572
         },
         {
          "Measure": "Mean",
          "Statistic": " First Stage  Combiner Operation  Temp 2  U  Act",
          "Value": 84.89832276490203
         },
         {
          "Measure": "Mean",
          "Statistic": " First Stage  Combiner Operation  Temp 3  C  Act",
          "Value": 80.00371430078933
         },
         {
          "Measure": "Mean",
          "Statistic": " Stage 1  Out  Meas 0  U  Act",
          "Value": 12.896918565585604
         },
         {
          "Measure": "Mean",
          "Statistic": " Stage 1  Out  Meas 0  U  Setp",
          "Value": 13.69534355479841
         },
         {
          "Measure": "Mean",
          "Statistic": " Stage 1  Out  Meas 1  U  Act",
          "Value": 8.050511414027826
         },
         {
          "Measure": "Mean",
          "Statistic": " Stage 1  Out  Meas 1  U  Setp",
          "Value": 22.649608177172063
         },
         {
          "Measure": "Mean",
          "Statistic": " Stage 1  Out  Meas 2  U  Act",
          "Value": 11.357154440314098
         },
         {
          "Measure": "Mean",
          "Statistic": " Stage 1  Out  Meas 2  U  Setp",
          "Value": 12.968245315161845
         },
         {
          "Measure": "Mean",
          "Statistic": " Stage 1  Out  Meas 3  U  Act",
          "Value": 21.32594607839849
         },
         {
          "Measure": "Mean",
          "Statistic": " Stage 1  Out  Meas 3  U  Setp",
          "Value": 21.79302668938104
         },
         {
          "Measure": "Mean",
          "Statistic": " Stage 1  Out  Meas 4  U  Act",
          "Value": 32.876440998602426
         },
         {
          "Measure": "Mean",
          "Statistic": " Stage 1  Out  Meas 4  U  Setp",
          "Value": 32.42061328790461
         },
         {
          "Measure": "Mean",
          "Statistic": " Stage 1  Out  Meas 5  U  Act",
          "Value": 0.1242327264838462
         },
         {
          "Measure": "Mean",
          "Statistic": " Stage 1  Out  Meas 5  U  Setp",
          "Value": 2.729108461101647
         },
         {
          "Measure": "Mean",
          "Statistic": " Stage 1  Out  Meas 6  U  Act",
          "Value": 1.337960970284508
         },
         {
          "Measure": "Mean",
          "Statistic": " Stage 1  Out  Meas 6  U  Setp",
          "Value": 4.233106189664963
         },
         {
          "Measure": "Mean",
          "Statistic": " Stage 1  Out  Meas 7  U  Act",
          "Value": 1.100482842013032
         },
         {
          "Measure": "Mean",
          "Statistic": " Stage 1  Out  Meas 7  U  Setp",
          "Value": 2.9581942078364563
         },
         {
          "Measure": "Mean",
          "Statistic": " Stage 1  Out  Meas 8  U  Act",
          "Value": 19.7540182661071
         },
         {
          "Measure": "Mean",
          "Statistic": " Stage 1  Out  Meas 8  U  Setp",
          "Value": 21.215332197615
         },
         {
          "Measure": "Mean",
          "Statistic": " Stage 1  Out  Meas 9  U  Act",
          "Value": 17.96596430357112
         },
         {
          "Measure": "Mean",
          "Statistic": " Stage 1  Out  Meas 9  U  Setp",
          "Value": 19.442407722884724
         },
         {
          "Measure": "Mean",
          "Statistic": " Stage 1  Out  Meas 1 0  U  Act",
          "Value": 7.681824038572402
         },
         {
          "Measure": "Mean",
          "Statistic": " Stage 1  Out  Meas 1 0  U  Setp",
          "Value": 8.615616127200457
         },
         {
          "Measure": "Mean",
          "Statistic": " Stage 1  Out  Meas 1 1  U  Act",
          "Value": 1.4927447786729129
         },
         {
          "Measure": "Mean",
          "Statistic": " Stage 1  Out  Meas 1 1  U  Setp",
          "Value": 6.135513912549687
         },
         {
          "Measure": "Mean",
          "Statistic": " Stage 1  Out  Meas 1 2  U  Act",
          "Value": 1.202879578230054
         },
         {
          "Measure": "Mean",
          "Statistic": " Stage 1  Out  Meas 1 2  U  Setp",
          "Value": 2.011970471323112
         },
         {
          "Measure": "Mean",
          "Statistic": " Stage 1  Out  Meas 1 3  U  Act",
          "Value": 2.8811808868902364
         },
         {
          "Measure": "Mean",
          "Statistic": " Stage 1  Out  Meas 1 3  U  Setp",
          "Value": 3.1474389551391253
         },
         {
          "Measure": "Mean",
          "Statistic": " Stage 1  Out  Meas 1 4  U  Act",
          "Value": 9.940519377001731
         },
         {
          "Measure": "Mean",
          "Statistic": " Stage 1  Out  Meas 1 4  U  Setp",
          "Value": 17.649562748438385
         },
         {
          "Measure": "Mean",
          "Statistic": " Mchn 4  Temp 1  C  Act",
          "Value": 360.1240343996096
         },
         {
          "Measure": "Mean",
          "Statistic": " Mchn 4  Temp 2  C  Act",
          "Value": 360.1347007455565
         },
         {
          "Measure": "Mean",
          "Statistic": " Mchn 4  Pressure  C  Act",
          "Value": 17.22626905306644
         },
         {
          "Measure": "Mean",
          "Statistic": " Mchn 4  Temp 3  C  Act",
          "Value": 322.6121129392462
         },
         {
          "Measure": "Mean",
          "Statistic": " Mchn 4  Temp 4  C  Act",
          "Value": 17.22626905306644
         },
         {
          "Measure": "Mean",
          "Statistic": " Mchn 4  Temp 5  C  Act",
          "Value": 309.78199768782656
         },
         {
          "Measure": "Mean",
          "Statistic": " Mchn 4  Exit Temp  U  Act",
          "Value": 187.1396247819655
         },
         {
          "Measure": "Mean",
          "Statistic": " Mchn 5  Temp 1  C  Act",
          "Value": 309.9981278206488
         },
         {
          "Measure": "Mean",
          "Statistic": " Mchn 5  Temp 2  C  Act",
          "Value": 289.99819317661127
         },
         {
          "Measure": "Mean",
          "Statistic": " Mchn 5  Temp 3  C  Act",
          "Value": 269.6794686058632
         },
         {
          "Measure": "Mean",
          "Statistic": " Mchn 5  Temp 4  C  Act",
          "Value": 242.6604909386357
         },
         {
          "Measure": "Mean",
          "Statistic": " Mchn 5  Temp 5  C  Act",
          "Value": 244.99502426472176
         },
         {
          "Measure": "Mean",
          "Statistic": " Mchn 5  Temp 6  C  Act",
          "Value": 63.42115198208334
         },
         {
          "Measure": "Mean",
          "Statistic": " Mchn 5  Exit Temp  U  Act",
          "Value": 153.98008153461672
         },
         {
          "Measure": "Mean",
          "Statistic": " Stage 2  Out  Meas 0  U  Act",
          "Value": 11.695055348555792
         },
         {
          "Measure": "Mean",
          "Statistic": " Stage 2  Out  Meas 0  U  Setp",
          "Value": 12.050000000000002
         },
         {
          "Measure": "Mean",
          "Statistic": " Stage 2  Out  Meas 1  U  Act",
          "Value": 6.261505789759377
         },
         {
          "Measure": "Mean",
          "Statistic": " Stage 2  Out  Meas 1  U  Setp",
          "Value": 11.710000000000004
         },
         {
          "Measure": "Mean",
          "Statistic": " Stage 2  Out  Meas 2  U  Act",
          "Value": 10.250606062613716
         },
         {
          "Measure": "Mean",
          "Statistic": " Stage 2  Out  Meas 2  U  Setp",
          "Value": 11
         },
         {
          "Measure": "Mean",
          "Statistic": " Stage 2  Out  Meas 3  U  Act",
          "Value": 19.303841595144803
         },
         {
          "Measure": "Mean",
          "Statistic": " Stage 2  Out  Meas 3  U  Setp",
          "Value": 20.73
         },
         {
          "Measure": "Mean",
          "Statistic": " Stage 2  Out  Meas 4  U  Act",
          "Value": 2.9285523498050114
         },
         {
          "Measure": "Mean",
          "Statistic": " Stage 2  Out  Meas 4  U  Setp",
          "Value": 31.360000000000014
         },
         {
          "Measure": "Mean",
          "Statistic": " Stage 2  Out  Meas 5  U  Act",
          "Value": 2.743211846167376
         },
         {
          "Measure": "Mean",
          "Statistic": " Stage 2  Out  Meas 5  U  Setp",
          "Value": 2.710000000000001
         },
         {
          "Measure": "Mean",
          "Statistic": " Stage 2  Out  Meas 6  U  Act",
          "Value": 0.5322880672443214
         },
         {
          "Measure": "Mean",
          "Statistic": " Stage 2  Out  Meas 6  U  Setp",
          "Value": 0.01
         },
         {
          "Measure": "Mean",
          "Statistic": " Stage 2  Out  Meas 7  U  Act",
          "Value": 2.913032871745883
         },
         {
          "Measure": "Mean",
          "Statistic": " Stage 2  Out  Meas 7  U  Setp",
          "Value": 2.75
         },
         {
          "Measure": "Mean",
          "Statistic": " Stage 2  Out  Meas 8  U  Act",
          "Value": 18.354126494163687
         },
         {
          "Measure": "Mean",
          "Statistic": " Stage 2  Out  Meas 8  U  Setp",
          "Value": 19.39
         },
         {
          "Measure": "Mean",
          "Statistic": " Stage 2  Out  Meas 9  U  Act",
          "Value": 11.64598161336741
         },
         {
          "Measure": "Mean",
          "Statistic": " Stage 2  Out  Meas 9  U  Setp",
          "Value": 16.47
         },
         {
          "Measure": "Mean",
          "Statistic": " Stage 2  Out  Meas 1 0  U  Act",
          "Value": 7.535957837823751
         },
         {
          "Measure": "Mean",
          "Statistic": " Stage 2  Out  Meas 1 0  U  Setp",
          "Value": 7.930000000000003
         },
         {
          "Measure": "Mean",
          "Statistic": " Stage 2  Out  Meas 1 1  U  Act",
          "Value": 5.416515157750426
         },
         {
          "Measure": "Mean",
          "Statistic": " Stage 2  Out  Meas 1 1  U  Setp",
          "Value": 5.650000000000001
         },
         {
          "Measure": "Mean",
          "Statistic": " Stage 2  Out  Meas 1 2  U  Act",
          "Value": 1.9725612342679584
         },
         {
          "Measure": "Mean",
          "Statistic": " Stage 2  Out  Meas 1 2  U  Setp",
          "Value": 1.8500000000000003
         },
         {
          "Measure": "Mean",
          "Statistic": " Stage 2  Out  Meas 1 3  U  Act",
          "Value": 3.5352507329153178
         },
         {
          "Measure": "Mean",
          "Statistic": " Stage 2  Out  Meas 1 3  U  Setp",
          "Value": 2.89
         },
         {
          "Measure": "Mean",
          "Statistic": " Stage 2  Out  Meas 1 4  U  Act",
          "Value": 7.515574121681148
         },
         {
          "Measure": "Mean",
          "Statistic": " Stage 2  Out  Meas 1 4  U  Setp",
          "Value": 11.710000000000004
         },
         {
          "Measure": "Std Dev",
          "Statistic": " Ambient Conditions  Ambient Humidity  U  Act",
          "Value": 1.188993135913381
         },
         {
          "Measure": "Std Dev",
          "Statistic": " Ambient Conditions  Ambient Temp  U  Act",
          "Value": 0.3735349841877448
         },
         {
          "Measure": "Std Dev",
          "Statistic": " Mchn 1  Raw Mat  Property 1",
          "Value": 0.510309146155625
         },
         {
          "Measure": "Std Dev",
          "Statistic": " Mchn 1  Raw Mat  Property 2",
          "Value": 11.606323808867344
         },
         {
          "Measure": "Std Dev",
          "Statistic": " Mchn 1  Raw Mat  Property 3",
          "Value": 126.6620095208831
         },
         {
          "Measure": "Std Dev",
          "Statistic": " Mchn 1  Raw Mat  Property 4",
          "Value": 3.297820396319378
         },
         {
          "Measure": "Std Dev",
          "Statistic": " Mchn 1  Raw Mat Feeder Parameter  U  Act",
          "Value": 95.84594642285938
         },
         {
          "Measure": "Std Dev",
          "Statistic": " Mchn 1  Zone 1 Temp  C  Act",
          "Value": 0.0631829886196901
         },
         {
          "Measure": "Std Dev",
          "Statistic": " Mchn 1  Zone 2 Temp  C  Act",
          "Value": 0.4063127762223553
         },
         {
          "Measure": "Std Dev",
          "Statistic": " Mchn 1  Motor Amperage  U  Act",
          "Value": 5.52521732833819
         },
         {
          "Measure": "Std Dev",
          "Statistic": " Mchn 1  Motor R P M  C  Act",
          "Value": 0.635171719137984
         },
         {
          "Measure": "Std Dev",
          "Statistic": " Mchn 1  Mat Pressure  U  Act",
          "Value": 20.478384882248136
         },
         {
          "Measure": "Std Dev",
          "Statistic": " Mchn 1  Mat Temp  U  Act",
          "Value": 0.9305622285610224
         },
         {
          "Measure": "Std Dev",
          "Statistic": " Mchn 1  Exit Zone Temp  C  Act",
          "Value": 2.0590267076966398
         },
         {
          "Measure": "Std Dev",
          "Statistic": " Mchn 2  Raw Mat  Property 1",
          "Value": 0.107301750835208
         },
         {
          "Measure": "Std Dev",
          "Statistic": " Mchn 2  Raw Mat  Property 2",
          "Value": 2.0634952083693885
         },
         {
          "Measure": "Std Dev",
          "Statistic": " Mchn 2  Raw Mat  Property 3",
          "Value": 18.32796444073689
         },
         {
          "Measure": "Std Dev",
          "Statistic": " Mchn 2  Raw Mat  Property 4",
          "Value": 0.4126990416738776
         },
         {
          "Measure": "Std Dev",
          "Statistic": " Mchn 2  Raw Mat Feeder Parameter  U  Act",
          "Value": 15.110900570819837
         },
         {
          "Measure": "Std Dev",
          "Statistic": " Mchn 2  Zone 1 Temp  C  Act",
          "Value": 0.0570202817689072
         },
         {
          "Measure": "Std Dev",
          "Statistic": " Mchn 2  Zone 2 Temp  C  Act",
          "Value": 0.1091144966182349
         },
         {
          "Measure": "Std Dev",
          "Statistic": " Mchn 2  Motor Amperage  U  Act",
          "Value": 0.3960512698857462
         },
         {
          "Measure": "Std Dev",
          "Statistic": " Mchn 2  Motor R P M  C  Act",
          "Value": 0.0291673158855965
         },
         {
          "Measure": "Std Dev",
          "Statistic": " Mchn 2  Mat Pressure  U  Act",
          "Value": 3.106394857122304
         },
         {
          "Measure": "Std Dev",
          "Statistic": " Mchn 2  Mat Temp  U  Act",
          "Value": 0.8550022331761029
         },
         {
          "Measure": "Std Dev",
          "Statistic": " Mchn 2  Exit Zone Temp  C  Act",
          "Value": 0.1620698515403735
         },
         {
          "Measure": "Std Dev",
          "Statistic": " Mchn 3  Raw Mat  Property 1",
          "Value": 0.3966045009213694
         },
         {
          "Measure": "Std Dev",
          "Statistic": " Mchn 3  Raw Mat  Property 2",
          "Value": 16.319763552114782
         },
         {
          "Measure": "Std Dev",
          "Statistic": " Mchn 3  Raw Mat  Property 3",
          "Value": 9.559927689569497
         },
         {
          "Measure": "Std Dev",
          "Statistic": " Mchn 3  Raw Mat  Property 4",
          "Value": 2.177618017987904
         },
         {
          "Measure": "Std Dev",
          "Statistic": " Mchn 3  Raw Mat Feeder Parameter  U  Act",
          "Value": 15.653649305311063
         },
         {
          "Measure": "Std Dev",
          "Statistic": " Mchn 3  Zone 1 Temp  C  Act",
          "Value": 0.076826326864219
         },
         {
          "Measure": "Std Dev",
          "Statistic": " Mchn 3  Zone 2 Temp  C  Act",
          "Value": 0.1148215634488239
         },
         {
          "Measure": "Std Dev",
          "Statistic": " Mchn 3  Motor Amperage  U  Act",
          "Value": 9.077714261085884
         },
         {
          "Measure": "Std Dev",
          "Statistic": " Mchn 3  Motor R P M  C  Act",
          "Value": 0.434594312248547
         },
         {
          "Measure": "Std Dev",
          "Statistic": " Mchn 3  Mat Pressure  U  Act",
          "Value": 6.122104295376606
         },
         {
          "Measure": "Std Dev",
          "Statistic": " Mchn 3  Mat Temp  U  Act",
          "Value": 2.058298268650499
         },
         {
          "Measure": "Std Dev",
          "Statistic": " Mchn 3  Exit Zone Temp  C  Act",
          "Value": 0.062439880951791
         },
         {
          "Measure": "Std Dev",
          "Statistic": " First Stage  Combiner Operation  Temp 1  U  Act",
          "Value": 5.669857267910885
         },
         {
          "Measure": "Std Dev",
          "Statistic": " First Stage  Combiner Operation  Temp 2  U  Act",
          "Value": 18.579319200212847
         },
         {
          "Measure": "Std Dev",
          "Statistic": " First Stage  Combiner Operation  Temp 3  C  Act",
          "Value": 0.1183265326324642
         },
         {
          "Measure": "Std Dev",
          "Statistic": " Stage 1  Out  Meas 0  U  Act",
          "Value": 0.9342279698928068
         },
         {
          "Measure": "Std Dev",
          "Statistic": " Stage 1  Out  Meas 0  U  Setp",
          "Value": 0.865212073060112
         },
         {
          "Measure": "Std Dev",
          "Statistic": " Stage 1  Out  Meas 1  U  Act",
          "Value": 6.904337081303327
         },
         {
          "Measure": "Std Dev",
          "Statistic": " Stage 1  Out  Meas 1  U  Setp",
          "Value": 1.4309034575554138
         },
         {
          "Measure": "Std Dev",
          "Statistic": " Stage 1  Out  Meas 2  U  Act",
          "Value": 1.052791434325541
         },
         {
          "Measure": "Std Dev",
          "Statistic": " Stage 1  Out  Meas 2  U  Setp",
          "Value": 0.8192771775449208
         },
         {
          "Measure": "Std Dev",
          "Statistic": " Stage 1  Out  Meas 3  U  Act",
          "Value": 2.110456368852769
         },
         {
          "Measure": "Std Dev",
          "Statistic": " Stage 1  Out  Meas 3  U  Setp",
          "Value": 1.3767883751676546
         },
         {
          "Measure": "Std Dev",
          "Statistic": " Stage 1  Out  Meas 4  U  Act",
          "Value": 3.8698489339561792
         },
         {
          "Measure": "Std Dev",
          "Statistic": " Stage 1  Out  Meas 4  U  Setp",
          "Value": 2.048192943862302
         },
         {
          "Measure": "Std Dev",
          "Statistic": " Stage 1  Out  Meas 5  U  Act",
          "Value": 0.5701907734481257
         },
         {
          "Measure": "Std Dev",
          "Statistic": " Stage 1  Out  Meas 5  U  Setp",
          "Value": 0.1724131694679787
         },
         {
          "Measure": "Std Dev",
          "Statistic": " Stage 1  Out  Meas 6  U  Act",
          "Value": 1.1356552100572048
         },
         {
          "Measure": "Std Dev",
          "Statistic": " Stage 1  Out  Meas 6  U  Setp",
          "Value": 0.2674291862185801
         },
         {
          "Measure": "Std Dev",
          "Statistic": " Stage 1  Out  Meas 7  U  Act",
          "Value": 1.4139857818078292
         },
         {
          "Measure": "Std Dev",
          "Statistic": " Stage 1  Out  Meas 7  U  Setp",
          "Value": 0.1868858077809842
         },
         {
          "Measure": "Std Dev",
          "Statistic": " Stage 1  Out  Meas 8  U  Act",
          "Value": 4.786563501183191
         },
         {
          "Measure": "Std Dev",
          "Statistic": " Stage 1  Out  Meas 8  U  Setp",
          "Value": 1.3402921568131192
         },
         {
          "Measure": "Std Dev",
          "Statistic": " Stage 1  Out  Meas 9  U  Act",
          "Value": 4.197296536785236
         },
         {
          "Measure": "Std Dev",
          "Statistic": " Stage 1  Out  Meas 9  U  Setp",
          "Value": 1.2282865211733376
         },
         {
          "Measure": "Std Dev",
          "Statistic": " Stage 1  Out  Meas 1 0  U  Act",
          "Value": 1.0854857637505195
         },
         {
          "Measure": "Std Dev",
          "Statistic": " Stage 1  Out  Meas 1 0  U  Setp",
          "Value": 0.5442970495978161
         },
         {
          "Measure": "Std Dev",
          "Statistic": " Stage 1  Out  Meas 1 1  U  Act",
          "Value": 2.542738848865321
         },
         {
          "Measure": "Std Dev",
          "Statistic": " Stage 1  Out  Meas 1 1  U  Setp",
          "Value": 0.3876150087309303
         },
         {
          "Measure": "Std Dev",
          "Statistic": " Stage 1  Out  Meas 1 2  U  Act",
          "Value": 0.6636772427288534
         },
         {
          "Measure": "Std Dev",
          "Statistic": " Stage 1  Out  Meas 1 2  U  Setp",
          "Value": 0.127107519096831
         },
         {
          "Measure": "Std Dev",
          "Statistic": " Stage 1  Out  Meas 1 3  U  Act",
          "Value": 0.9410270280208444
         },
         {
          "Measure": "Std Dev",
          "Statistic": " Stage 1  Out  Meas 1 3  U  Setp",
          "Value": 0.1988414655178148
         },
         {
          "Measure": "Std Dev",
          "Statistic": " Stage 1  Out  Meas 1 4  U  Act",
          "Value": 7.416542681069652
         },
         {
          "Measure": "Std Dev",
          "Statistic": " Stage 1  Out  Meas 1 4  U  Setp",
          "Value": 1.115022395245468
         },
         {
          "Measure": "Std Dev",
          "Statistic": " Mchn 4  Temp 1  C  Act",
          "Value": 2.287781539103399
         },
         {
          "Measure": "Std Dev",
          "Statistic": " Mchn 4  Temp 2  C  Act",
          "Value": 2.957240235700504
         },
         {
          "Measure": "Std Dev",
          "Statistic": " Mchn 4  Pressure  C  Act",
          "Value": 0.941113039722563
         },
         {
          "Measure": "Std Dev",
          "Statistic": " Mchn 4  Temp 3  C  Act",
          "Value": 3.713272603843182
         },
         {
          "Measure": "Std Dev",
          "Statistic": " Mchn 4  Temp 4  C  Act",
          "Value": 0.941113039722563
         },
         {
          "Measure": "Std Dev",
          "Statistic": " Mchn 4  Temp 5  C  Act",
          "Value": 2.8599168396485397
         },
         {
          "Measure": "Std Dev",
          "Statistic": " Mchn 4  Exit Temp  U  Act",
          "Value": 23.653074588397214
         },
         {
          "Measure": "Std Dev",
          "Statistic": " Mchn 5  Temp 1  C  Act",
          "Value": 0.0391737522298263
         },
         {
          "Measure": "Std Dev",
          "Statistic": " Mchn 5  Temp 2  C  Act",
          "Value": 0.051887422860988
         },
         {
          "Measure": "Std Dev",
          "Statistic": " Mchn 5  Temp 3  C  Act",
          "Value": 1.0309231971549389
         },
         {
          "Measure": "Std Dev",
          "Statistic": " Mchn 5  Temp 4  C  Act",
          "Value": 1.5910253962954064
         },
         {
          "Measure": "Std Dev",
          "Statistic": " Mchn 5  Temp 5  C  Act",
          "Value": 0.1055723215536839
         },
         {
          "Measure": "Std Dev",
          "Statistic": " Mchn 5  Temp 6  C  Act",
          "Value": 0.4022370350762482
         },
         {
          "Measure": "Std Dev",
          "Statistic": " Mchn 5  Exit Temp  U  Act",
          "Value": 10.30802323268143
         },
         {
          "Measure": "Std Dev",
          "Statistic": " Stage 2  Out  Meas 0  U  Act",
          "Value": 3.620492963442025
         },
         {
          "Measure": "Std Dev",
          "Statistic": " Stage 2  Out  Meas 0  U  Setp",
          "Value": 1.7764198877893954e-15
         },
         {
          "Measure": "Std Dev",
          "Statistic": " Stage 2  Out  Meas 1  U  Act",
          "Value": 1.6069991930591294
         },
         {
          "Measure": "Std Dev",
          "Statistic": " Stage 2  Out  Meas 1  U  Setp",
          "Value": 1.7764198877893954e-15
         },
         {
          "Measure": "Std Dev",
          "Statistic": " Stage 2  Out  Meas 2  U  Act",
          "Value": 2.3111614766876625
         },
         {
          "Measure": "Std Dev",
          "Statistic": " Stage 2  Out  Meas 2  U  Setp",
          "Value": 0
         },
         {
          "Measure": "Std Dev",
          "Statistic": " Stage 2  Out  Meas 3  U  Act",
          "Value": 4.69026262994147
         },
         {
          "Measure": "Std Dev",
          "Statistic": " Stage 2  Out  Meas 3  U  Setp",
          "Value": 0
         },
         {
          "Measure": "Std Dev",
          "Statistic": " Stage 2  Out  Meas 4  U  Act",
          "Value": 9.167665566289234
         },
         {
          "Measure": "Std Dev",
          "Statistic": " Stage 2  Out  Meas 4  U  Setp",
          "Value": 1.4211359102315163e-14
         },
         {
          "Measure": "Std Dev",
          "Statistic": " Stage 2  Out  Meas 5  U  Act",
          "Value": 0.3913714102318084
         },
         {
          "Measure": "Std Dev",
          "Statistic": " Stage 2  Out  Meas 5  U  Setp",
          "Value": 8.882099438946977e-16
         },
         {
          "Measure": "Std Dev",
          "Statistic": " Stage 2  Out  Meas 6  U  Act",
          "Value": 0.2047676588222649
         },
         {
          "Measure": "Std Dev",
          "Statistic": " Stage 2  Out  Meas 6  U  Setp",
          "Value": 0
         },
         {
          "Measure": "Std Dev",
          "Statistic": " Stage 2  Out  Meas 7  U  Act",
          "Value": 0.517948089284123
         },
         {
          "Measure": "Std Dev",
          "Statistic": " Stage 2  Out  Meas 7  U  Setp",
          "Value": 0
         },
         {
          "Measure": "Std Dev",
          "Statistic": " Stage 2  Out  Meas 8  U  Act",
          "Value": 5.024415775990756
         },
         {
          "Measure": "Std Dev",
          "Statistic": " Stage 2  Out  Meas 8  U  Setp",
          "Value": 3.552839775578791e-15
         },
         {
          "Measure": "Std Dev",
          "Statistic": " Stage 2  Out  Meas 9  U  Act",
          "Value": 7.608595535737389
         },
         {
          "Measure": "Std Dev",
          "Statistic": " Stage 2  Out  Meas 9  U  Setp",
          "Value": 0
         },
         {
          "Measure": "Std Dev",
          "Statistic": " Stage 2  Out  Meas 1 0  U  Act",
          "Value": 1.645785077676358
         },
         {
          "Measure": "Std Dev",
          "Statistic": " Stage 2  Out  Meas 1 0  U  Setp",
          "Value": 3.552839775578791e-15
         },
         {
          "Measure": "Std Dev",
          "Statistic": " Stage 2  Out  Meas 1 1  U  Act",
          "Value": 1.18233288571977
         },
         {
          "Measure": "Std Dev",
          "Statistic": " Stage 2  Out  Meas 1 1  U  Setp",
          "Value": 8.882099438946977e-16
         },
         {
          "Measure": "Std Dev",
          "Statistic": " Stage 2  Out  Meas 1 2  U  Act",
          "Value": 0.4145397596478555
         },
         {
          "Measure": "Std Dev",
          "Statistic": " Stage 2  Out  Meas 1 2  U  Setp",
          "Value": 4.4410497194734885e-16
         },
         {
          "Measure": "Std Dev",
          "Statistic": " Stage 2  Out  Meas 1 3  U  Act",
          "Value": 0.4768243910457011
         },
         {
          "Measure": "Std Dev",
          "Statistic": " Stage 2  Out  Meas 1 3  U  Setp",
          "Value": 0
         },
         {
          "Measure": "Std Dev",
          "Statistic": " Stage 2  Out  Meas 1 4  U  Act",
          "Value": 2.0829475167785803
         },
         {
          "Measure": "Std Dev",
          "Statistic": " Stage 2  Out  Meas 1 4  U  Setp",
          "Value": 1.7764198877893954e-15
         },
         {
          "Measure": "Skewness",
          "Statistic": " Ambient Conditions  Ambient Humidity  U  Act",
          "Value": 0.1133148569262472
         },
         {
          "Measure": "Skewness",
          "Statistic": " Ambient Conditions  Ambient Temp  U  Act",
          "Value": -0.5328541437119853
         },
         {
          "Measure": "Skewness",
          "Statistic": " Mchn 1  Raw Mat  Property 1",
          "Value": 1.162975757350453
         },
         {
          "Measure": "Skewness",
          "Statistic": " Mchn 1  Raw Mat  Property 2",
          "Value": 1.9212823456824832
         },
         {
          "Measure": "Skewness",
          "Statistic": " Mchn 1  Raw Mat  Property 3",
          "Value": -2.2203177818642925
         },
         {
          "Measure": "Skewness",
          "Statistic": " Mchn 1  Raw Mat  Property 4",
          "Value": 1.5964639891723622
         },
         {
          "Measure": "Skewness",
          "Statistic": " Mchn 1  Raw Mat Feeder Parameter  U  Act",
          "Value": -4.487157475224072
         },
         {
          "Measure": "Skewness",
          "Statistic": " Mchn 1  Zone 1 Temp  C  Act",
          "Value": 4.160693450488568
         },
         {
          "Measure": "Skewness",
          "Statistic": " Mchn 1  Zone 2 Temp  C  Act",
          "Value": 0.0298512306962991
         },
         {
          "Measure": "Skewness",
          "Statistic": " Mchn 1  Motor Amperage  U  Act",
          "Value": -1.587474417204413
         },
         {
          "Measure": "Skewness",
          "Statistic": " Mchn 1  Motor R P M  C  Act",
          "Value": 0.5793426012540139
         },
         {
          "Measure": "Skewness",
          "Statistic": " Mchn 1  Mat Pressure  U  Act",
          "Value": -1.0766496221838138
         },
         {
          "Measure": "Skewness",
          "Statistic": " Mchn 1  Mat Temp  U  Act",
          "Value": 0.1771318058754709
         },
         {
          "Measure": "Skewness",
          "Statistic": " Mchn 1  Exit Zone Temp  C  Act",
          "Value": 1.1386155587832854
         },
         {
          "Measure": "Skewness",
          "Statistic": " Mchn 2  Raw Mat  Property 1",
          "Value": -1.3682468034100597
         },
         {
          "Measure": "Skewness",
          "Statistic": " Mchn 2  Raw Mat  Property 2",
          "Value": -1.368246803410072
         },
         {
          "Measure": "Skewness",
          "Statistic": " Mchn 2  Raw Mat  Property 3",
          "Value": 1.3682468034100792
         },
         {
          "Measure": "Skewness",
          "Statistic": " Mchn 2  Raw Mat  Property 4",
          "Value": 1.3682468034098652
         },
         {
          "Measure": "Skewness",
          "Statistic": " Mchn 2  Raw Mat Feeder Parameter  U  Act",
          "Value": -1.8330623117977556
         },
         {
          "Measure": "Skewness",
          "Statistic": " Mchn 2  Zone 1 Temp  C  Act",
          "Value": 7.345550180197259
         },
         {
          "Measure": "Skewness",
          "Statistic": " Mchn 2  Zone 2 Temp  C  Act",
          "Value": 3.2536597554004123
         },
         {
          "Measure": "Skewness",
          "Statistic": " Mchn 2  Motor Amperage  U  Act",
          "Value": -0.6643186513914279
         },
         {
          "Measure": "Skewness",
          "Statistic": " Mchn 2  Motor R P M  C  Act",
          "Value": -0.1376613195882664
         },
         {
          "Measure": "Skewness",
          "Statistic": " Mchn 2  Mat Pressure  U  Act",
          "Value": 1.2466959845414696
         },
         {
          "Measure": "Skewness",
          "Statistic": " Mchn 2  Mat Temp  U  Act",
          "Value": -5.355339714212242
         },
         {
          "Measure": "Skewness",
          "Statistic": " Mchn 2  Exit Zone Temp  C  Act",
          "Value": 0.1306670171466523
         },
         {
          "Measure": "Skewness",
          "Statistic": " Mchn 3  Raw Mat  Property 1",
          "Value": 1.3324342940106213
         },
         {
          "Measure": "Skewness",
          "Statistic": " Mchn 3  Raw Mat  Property 2",
          "Value": -0.1522475236130788
         },
         {
          "Measure": "Skewness",
          "Statistic": " Mchn 3  Raw Mat  Property 3",
          "Value": -0.6494160634952678
         },
         {
          "Measure": "Skewness",
          "Statistic": " Mchn 3  Raw Mat  Property 4",
          "Value": -0.3723283951468136
         },
         {
          "Measure": "Skewness",
          "Statistic": " Mchn 3  Raw Mat Feeder Parameter  U  Act",
          "Value": -2.161748980295052
         },
         {
          "Measure": "Skewness",
          "Statistic": " Mchn 3  Zone 1 Temp  C  Act",
          "Value": 0.3393228213841016
         },
         {
          "Measure": "Skewness",
          "Statistic": " Mchn 3  Zone 2 Temp  C  Act",
          "Value": 0.3511528227333279
         },
         {
          "Measure": "Skewness",
          "Statistic": " Mchn 3  Motor Amperage  U  Act",
          "Value": 0.8740124796567408
         },
         {
          "Measure": "Skewness",
          "Statistic": " Mchn 3  Motor R P M  C  Act",
          "Value": -0.9178215688547195
         },
         {
          "Measure": "Skewness",
          "Statistic": " Mchn 3  Mat Pressure  U  Act",
          "Value": -0.2611453216151339
         },
         {
          "Measure": "Skewness",
          "Statistic": " Mchn 3  Mat Temp  U  Act",
          "Value": -2.091621299993422
         },
         {
          "Measure": "Skewness",
          "Statistic": " Mchn 3  Exit Zone Temp  C  Act",
          "Value": 0.099164348675041
         },
         {
          "Measure": "Skewness",
          "Statistic": " First Stage  Combiner Operation  Temp 1  U  Act",
          "Value": 0.0484489759624242
         },
         {
          "Measure": "Skewness",
          "Statistic": " First Stage  Combiner Operation  Temp 2  U  Act",
          "Value": 0.1230834025150861
         },
         {
          "Measure": "Skewness",
          "Statistic": " First Stage  Combiner Operation  Temp 3  C  Act",
          "Value": -0.4005369914792658
         },
         {
          "Measure": "Skewness",
          "Statistic": " Stage 1  Out  Meas 0  U  Act",
          "Value": -12.84202470760694
         },
         {
          "Measure": "Skewness",
          "Statistic": " Stage 1  Out  Meas 0  U  Setp",
          "Value": -15.767953668996803
         },
         {
          "Measure": "Skewness",
          "Statistic": " Stage 1  Out  Meas 1  U  Act",
          "Value": -0.2718719520602805
         },
         {
          "Measure": "Skewness",
          "Statistic": " Stage 1  Out  Meas 1  U  Setp",
          "Value": -15.76795366899684
         },
         {
          "Measure": "Skewness",
          "Statistic": " Stage 1  Out  Meas 2  U  Act",
          "Value": -7.080751752501472
         },
         {
          "Measure": "Skewness",
          "Statistic": " Stage 1  Out  Meas 2  U  Setp",
          "Value": -15.7679536689968
         },
         {
          "Measure": "Skewness",
          "Statistic": " Stage 1  Out  Meas 3  U  Act",
          "Value": -9.943581950444496
         },
         {
          "Measure": "Skewness",
          "Statistic": " Stage 1  Out  Meas 3  U  Setp",
          "Value": -15.767953668996803
         },
         {
          "Measure": "Skewness",
          "Statistic": " Stage 1  Out  Meas 4  U  Act",
          "Value": -7.807058423384841
         },
         {
          "Measure": "Skewness",
          "Statistic": " Stage 1  Out  Meas 4  U  Setp",
          "Value": -15.767953668996816
         },
         {
          "Measure": "Skewness",
          "Statistic": " Stage 1  Out  Meas 5  U  Act",
          "Value": 4.419402548115302
         },
         {
          "Measure": "Skewness",
          "Statistic": " Stage 1  Out  Meas 5  U  Setp",
          "Value": -15.767953668996809
         },
         {
          "Measure": "Skewness",
          "Statistic": " Stage 1  Out  Meas 6  U  Act",
          "Value": 0.6745610969215613
         },
         {
          "Measure": "Skewness",
          "Statistic": " Stage 1  Out  Meas 6  U  Setp",
          "Value": -15.767953668996803
         },
         {
          "Measure": "Skewness",
          "Statistic": " Stage 1  Out  Meas 7  U  Act",
          "Value": 0.5108121727690842
         },
         {
          "Measure": "Skewness",
          "Statistic": " Stage 1  Out  Meas 7  U  Setp",
          "Value": -15.767953668996784
         },
         {
          "Measure": "Skewness",
          "Statistic": " Stage 1  Out  Meas 8  U  Act",
          "Value": -3.883363827422959
         },
         {
          "Measure": "Skewness",
          "Statistic": " Stage 1  Out  Meas 8  U  Setp",
          "Value": -15.767953668996812
         },
         {
          "Measure": "Skewness",
          "Statistic": " Stage 1  Out  Meas 9  U  Act",
          "Value": -4.028027452435039
         },
         {
          "Measure": "Skewness",
          "Statistic": " Stage 1  Out  Meas 9  U  Setp",
          "Value": -15.767953668996787
         },
         {
          "Measure": "Skewness",
          "Statistic": " Stage 1  Out  Meas 1 0  U  Act",
          "Value": -6.722144418389112
         },
         {
          "Measure": "Skewness",
          "Statistic": " Stage 1  Out  Meas 1 0  U  Setp",
          "Value": -15.767953668996796
         },
         {
          "Measure": "Skewness",
          "Statistic": " Stage 1  Out  Meas 1 1  U  Act",
          "Value": 1.1191851809753053
         },
         {
          "Measure": "Skewness",
          "Statistic": " Stage 1  Out  Meas 1 1  U  Setp",
          "Value": -15.767953668996784
         },
         {
          "Measure": "Skewness",
          "Statistic": " Stage 1  Out  Meas 1 2  U  Act",
          "Value": -1.156421083059717
         },
         {
          "Measure": "Skewness",
          "Statistic": " Stage 1  Out  Meas 1 2  U  Setp",
          "Value": -15.767953668996777
         },
         {
          "Measure": "Skewness",
          "Statistic": " Stage 1  Out  Meas 1 3  U  Act",
          "Value": -2.321184100784328
         },
         {
          "Measure": "Skewness",
          "Statistic": " Stage 1  Out  Meas 1 3  U  Setp",
          "Value": -15.7679536689968
         },
         {
          "Measure": "Skewness",
          "Statistic": " Stage 1  Out  Meas 1 4  U  Act",
          "Value": -0.5865773904182568
         },
         {
          "Measure": "Skewness",
          "Statistic": " Stage 1  Out  Meas 1 4  U  Setp",
          "Value": -15.767953668996784
         },
         {
          "Measure": "Skewness",
          "Statistic": " Mchn 4  Temp 1  C  Act",
          "Value": -1.477921400148824
         },
         {
          "Measure": "Skewness",
          "Statistic": " Mchn 4  Temp 2  C  Act",
          "Value": -4.511356558971747
         },
         {
          "Measure": "Skewness",
          "Statistic": " Mchn 4  Pressure  C  Act",
          "Value": 0.7827562667160277
         },
         {
          "Measure": "Skewness",
          "Statistic": " Mchn 4  Temp 3  C  Act",
          "Value": -2.580704858742019
         },
         {
          "Measure": "Skewness",
          "Statistic": " Mchn 4  Temp 4  C  Act",
          "Value": 0.7827562667160277
         },
         {
          "Measure": "Skewness",
          "Statistic": " Mchn 4  Temp 5  C  Act",
          "Value": -2.568767851693757
         },
         {
          "Measure": "Skewness",
          "Statistic": " Mchn 4  Exit Temp  U  Act",
          "Value": -5.2510393164147215
         },
         {
          "Measure": "Skewness",
          "Statistic": " Mchn 5  Temp 1  C  Act",
          "Value": -2.7417737687839807
         },
         {
          "Measure": "Skewness",
          "Statistic": " Mchn 5  Temp 2  C  Act",
          "Value": -0.1324987063324825
         },
         {
          "Measure": "Skewness",
          "Statistic": " Mchn 5  Temp 3  C  Act",
          "Value": -3.854949868921817
         },
         {
          "Measure": "Skewness",
          "Statistic": " Mchn 5  Temp 4  C  Act",
          "Value": -0.8314582095911384
         },
         {
          "Measure": "Skewness",
          "Statistic": " Mchn 5  Temp 5  C  Act",
          "Value": -12.712698735392232
         },
         {
          "Measure": "Skewness",
          "Statistic": " Mchn 5  Temp 6  C  Act",
          "Value": 2.1123871988497
         },
         {
          "Measure": "Skewness",
          "Statistic": " Mchn 5  Exit Temp  U  Act",
          "Value": -9.314912167933516
         },
         {
          "Measure": "Skewness",
          "Statistic": " Stage 2  Out  Meas 0  U  Act",
          "Value": -2.9069813191614693
         },
         {
          "Measure": "Skewness",
          "Statistic": " Stage 2  Out  Meas 0  U  Setp",
          "Value": 0
         },
         {
          "Measure": "Skewness",
          "Statistic": " Stage 2  Out  Meas 1  U  Act",
          "Value": -2.291118287212188
         },
         {
          "Measure": "Skewness",
          "Statistic": " Stage 2  Out  Meas 1  U  Setp",
          "Value": 0
         },
         {
          "Measure": "Skewness",
          "Statistic": " Stage 2  Out  Meas 2  U  Act",
          "Value": -3.910303228017666
         },
         {
          "Measure": "Skewness",
          "Statistic": " Stage 2  Out  Meas 2  U  Setp",
          "Value": 0
         },
         {
          "Measure": "Skewness",
          "Statistic": " Stage 2  Out  Meas 3  U  Act",
          "Value": -3.8187680698008686
         },
         {
          "Measure": "Skewness",
          "Statistic": " Stage 2  Out  Meas 3  U  Setp",
          "Value": 0
         },
         {
          "Measure": "Skewness",
          "Statistic": " Stage 2  Out  Meas 4  U  Act",
          "Value": 2.8182495386776174
         },
         {
          "Measure": "Skewness",
          "Statistic": " Stage 2  Out  Meas 4  U  Setp",
          "Value": 0
         },
         {
          "Measure": "Skewness",
          "Statistic": " Stage 2  Out  Meas 5  U  Act",
          "Value": -3.6076207318760503
         },
         {
          "Measure": "Skewness",
          "Statistic": " Stage 2  Out  Meas 5  U  Setp",
          "Value": 0
         },
         {
          "Measure": "Skewness",
          "Statistic": " Stage 2  Out  Meas 6  U  Act",
          "Value": 1.0892299968923025
         },
         {
          "Measure": "Skewness",
          "Statistic": " Stage 2  Out  Meas 6  U  Setp",
          "Value": 0
         },
         {
          "Measure": "Skewness",
          "Statistic": " Stage 2  Out  Meas 7  U  Act",
          "Value": -4.031368711148376
         },
         {
          "Measure": "Skewness",
          "Statistic": " Stage 2  Out  Meas 7  U  Setp",
          "Value": 0
         },
         {
          "Measure": "Skewness",
          "Statistic": " Stage 2  Out  Meas 8  U  Act",
          "Value": -3.3596698486422074
         },
         {
          "Measure": "Skewness",
          "Statistic": " Stage 2  Out  Meas 8  U  Setp",
          "Value": 0
         },
         {
          "Measure": "Skewness",
          "Statistic": " Stage 2  Out  Meas 9  U  Act",
          "Value": -0.8765904464987297
         },
         {
          "Measure": "Skewness",
          "Statistic": " Stage 2  Out  Meas 9  U  Setp",
          "Value": 0
         },
         {
          "Measure": "Skewness",
          "Statistic": " Stage 2  Out  Meas 1 0  U  Act",
          "Value": -4.337655290608407
         },
         {
          "Measure": "Skewness",
          "Statistic": " Stage 2  Out  Meas 1 0  U  Setp",
          "Value": 0
         },
         {
          "Measure": "Skewness",
          "Statistic": " Stage 2  Out  Meas 1 1  U  Act",
          "Value": -4.290343620003195
         },
         {
          "Measure": "Skewness",
          "Statistic": " Stage 2  Out  Meas 1 1  U  Setp",
          "Value": 0
         },
         {
          "Measure": "Skewness",
          "Statistic": " Stage 2  Out  Meas 1 2  U  Act",
          "Value": -4.218401763784443
         },
         {
          "Measure": "Skewness",
          "Statistic": " Stage 2  Out  Meas 1 2  U  Setp",
          "Value": 0
         },
         {
          "Measure": "Skewness",
          "Statistic": " Stage 2  Out  Meas 1 3  U  Act",
          "Value": -5.450310015977126
         },
         {
          "Measure": "Skewness",
          "Statistic": " Stage 2  Out  Meas 1 3  U  Setp",
          "Value": 0
         },
         {
          "Measure": "Skewness",
          "Statistic": " Stage 2  Out  Meas 1 4  U  Act",
          "Value": -2.862258867267584
         },
         {
          "Measure": "Skewness",
          "Statistic": " Stage 2  Out  Meas 1 4  U  Setp",
          "Value": 0
         },
         {
          "Measure": "Kurtosis",
          "Statistic": " Ambient Conditions  Ambient Humidity  U  Act",
          "Value": -1.6397472723171596
         },
         {
          "Measure": "Kurtosis",
          "Statistic": " Ambient Conditions  Ambient Temp  U  Act",
          "Value": -0.6885102817175137
         },
         {
          "Measure": "Kurtosis",
          "Statistic": " Mchn 1  Raw Mat  Property 1",
          "Value": -0.4131307001234034
         },
         {
          "Measure": "Kurtosis",
          "Statistic": " Mchn 1  Raw Mat  Property 2",
          "Value": 2.187776489083859
         },
         {
          "Measure": "Kurtosis",
          "Statistic": " Mchn 1  Raw Mat  Property 3",
          "Value": 3.485070175957554
         },
         {
          "Measure": "Kurtosis",
          "Statistic": " Mchn 1  Raw Mat  Property 4",
          "Value": 1.1903693997494624
         },
         {
          "Measure": "Kurtosis",
          "Statistic": " Mchn 1  Raw Mat Feeder Parameter  U  Act",
          "Value": 22.8069237398537
         },
         {
          "Measure": "Kurtosis",
          "Statistic": " Mchn 1  Zone 1 Temp  C  Act",
          "Value": 23.209066430174587
         },
         {
          "Measure": "Kurtosis",
          "Statistic": " Mchn 1  Zone 2 Temp  C  Act",
          "Value": -1.3932339533939635
         },
         {
          "Measure": "Kurtosis",
          "Statistic": " Mchn 1  Motor Amperage  U  Act",
          "Value": 4.663747423490013
         },
         {
          "Measure": "Kurtosis",
          "Statistic": " Mchn 1  Motor R P M  C  Act",
          "Value": -1.357714717574391
         },
         {
          "Measure": "Kurtosis",
          "Statistic": " Mchn 1  Mat Pressure  U  Act",
          "Value": -0.2059740373650065
         },
         {
          "Measure": "Kurtosis",
          "Statistic": " Mchn 1  Mat Temp  U  Act",
          "Value": 3.304684449572381
         },
         {
          "Measure": "Kurtosis",
          "Statistic": " Mchn 1  Exit Zone Temp  C  Act",
          "Value": 0.386721304065071
         },
         {
          "Measure": "Kurtosis",
          "Statistic": " Mchn 2  Raw Mat  Property 1",
          "Value": -0.1279188650889384
         },
         {
          "Measure": "Kurtosis",
          "Statistic": " Mchn 2  Raw Mat  Property 2",
          "Value": -0.1279188650889153
         },
         {
          "Measure": "Kurtosis",
          "Statistic": " Mchn 2  Raw Mat  Property 3",
          "Value": -0.127918865088902
         },
         {
          "Measure": "Kurtosis",
          "Statistic": " Mchn 2  Raw Mat  Property 4",
          "Value": -0.1279188650892915
         },
         {
          "Measure": "Kurtosis",
          "Statistic": " Mchn 2  Raw Mat Feeder Parameter  U  Act",
          "Value": 21.25822956504924
         },
         {
          "Measure": "Kurtosis",
          "Statistic": " Mchn 2  Zone 1 Temp  C  Act",
          "Value": 61.20559762994185
         },
         {
          "Measure": "Kurtosis",
          "Statistic": " Mchn 2  Zone 2 Temp  C  Act",
          "Value": 21.212322015356875
         },
         {
          "Measure": "Kurtosis",
          "Statistic": " Mchn 2  Motor Amperage  U  Act",
          "Value": 0.0878032428166486
         },
         {
          "Measure": "Kurtosis",
          "Statistic": " Mchn 2  Motor R P M  C  Act",
          "Value": -1.0264938095933371
         },
         {
          "Measure": "Kurtosis",
          "Statistic": " Mchn 2  Mat Pressure  U  Act",
          "Value": 5.396747725634528
         },
         {
          "Measure": "Kurtosis",
          "Statistic": " Mchn 2  Mat Temp  U  Act",
          "Value": 33.313154196904016
         },
         {
          "Measure": "Kurtosis",
          "Statistic": " Mchn 2  Exit Zone Temp  C  Act",
          "Value": 0.4062821392690972
         },
         {
          "Measure": "Kurtosis",
          "Statistic": " Mchn 3  Raw Mat  Property 1",
          "Value": -0.0238012280021071
         },
         {
          "Measure": "Kurtosis",
          "Statistic": " Mchn 3  Raw Mat  Property 2",
          "Value": -1.920317145695029
         },
         {
          "Measure": "Kurtosis",
          "Statistic": " Mchn 3  Raw Mat  Property 3",
          "Value": -1.101662599673597
         },
         {
          "Measure": "Kurtosis",
          "Statistic": " Mchn 3  Raw Mat  Property 4",
          "Value": -1.6175016048711346
         },
         {
          "Measure": "Kurtosis",
          "Statistic": " Mchn 3  Raw Mat Feeder Parameter  U  Act",
          "Value": 24.47347974646368
         },
         {
          "Measure": "Kurtosis",
          "Statistic": " Mchn 3  Zone 1 Temp  C  Act",
          "Value": 32.932107255076524
         },
         {
          "Measure": "Kurtosis",
          "Statistic": " Mchn 3  Zone 2 Temp  C  Act",
          "Value": 0.1641595141553939
         },
         {
          "Measure": "Kurtosis",
          "Statistic": " Mchn 3  Motor Amperage  U  Act",
          "Value": -0.0739466993207593
         },
         {
          "Measure": "Kurtosis",
          "Statistic": " Mchn 3  Motor R P M  C  Act",
          "Value": 0.0873620857495498
         },
         {
          "Measure": "Kurtosis",
          "Statistic": " Mchn 3  Mat Pressure  U  Act",
          "Value": -0.6068387933167609
         },
         {
          "Measure": "Kurtosis",
          "Statistic": " Mchn 3  Mat Temp  U  Act",
          "Value": 3.881846357380157
         },
         {
          "Measure": "Kurtosis",
          "Statistic": " Mchn 3  Exit Zone Temp  C  Act",
          "Value": 1.1860486071494716
         },
         {
          "Measure": "Kurtosis",
          "Statistic": " First Stage  Combiner Operation  Temp 1  U  Act",
          "Value": 1.663864576569929
         },
         {
          "Measure": "Kurtosis",
          "Statistic": " First Stage  Combiner Operation  Temp 2  U  Act",
          "Value": -1.7596444472891224
         },
         {
          "Measure": "Kurtosis",
          "Statistic": " First Stage  Combiner Operation  Temp 3  C  Act",
          "Value": 0.6237590137237534
         },
         {
          "Measure": "Kurtosis",
          "Statistic": " Stage 1  Out  Meas 0  U  Act",
          "Value": 179.32333877935548
         },
         {
          "Measure": "Kurtosis",
          "Statistic": " Stage 1  Out  Meas 0  U  Setp",
          "Value": 246.66338040350064
         },
         {
          "Measure": "Kurtosis",
          "Statistic": " Stage 1  Out  Meas 1  U  Act",
          "Value": -1.8457680262578269
         },
         {
          "Measure": "Kurtosis",
          "Statistic": " Stage 1  Out  Meas 1  U  Setp",
          "Value": 246.6633804035011
         },
         {
          "Measure": "Kurtosis",
          "Statistic": " Stage 1  Out  Meas 2  U  Act",
          "Value": 86.97915570823291
         },
         {
          "Measure": "Kurtosis",
          "Statistic": " Stage 1  Out  Meas 2  U  Setp",
          "Value": 246.66338040350067
         },
         {
          "Measure": "Kurtosis",
          "Statistic": " Stage 1  Out  Meas 3  U  Act",
          "Value": 97.49512937810712
         },
         {
          "Measure": "Kurtosis",
          "Statistic": " Stage 1  Out  Meas 3  U  Setp",
          "Value": 246.66338040350084
         },
         {
          "Measure": "Kurtosis",
          "Statistic": " Stage 1  Out  Meas 4  U  Act",
          "Value": 63.637642029068175
         },
         {
          "Measure": "Kurtosis",
          "Statistic": " Stage 1  Out  Meas 4  U  Setp",
          "Value": 246.66338040350064
         },
         {
          "Measure": "Kurtosis",
          "Statistic": " Stage 1  Out  Meas 5  U  Act",
          "Value": 17.898311956756324
         },
         {
          "Measure": "Kurtosis",
          "Statistic": " Stage 1  Out  Meas 5  U  Setp",
          "Value": 246.66338040350084
         },
         {
          "Measure": "Kurtosis",
          "Statistic": " Stage 1  Out  Meas 6  U  Act",
          "Value": 1.200065829027726
         },
         {
          "Measure": "Kurtosis",
          "Statistic": " Stage 1  Out  Meas 6  U  Setp",
          "Value": 246.6633804035007
         },
         {
          "Measure": "Kurtosis",
          "Statistic": " Stage 1  Out  Meas 7  U  Act",
          "Value": -1.7231643574105362
         },
         {
          "Measure": "Kurtosis",
          "Statistic": " Stage 1  Out  Meas 7  U  Setp",
          "Value": 246.66338040350027
         },
         {
          "Measure": "Kurtosis",
          "Statistic": " Stage 1  Out  Meas 8  U  Act",
          "Value": 13.089215300141424
         },
         {
          "Measure": "Kurtosis",
          "Statistic": " Stage 1  Out  Meas 8  U  Setp",
          "Value": 246.66338040350064
         },
         {
          "Measure": "Kurtosis",
          "Statistic": " Stage 1  Out  Meas 9  U  Act",
          "Value": 14.310394838479672
         },
         {
          "Measure": "Kurtosis",
          "Statistic": " Stage 1  Out  Meas 9  U  Setp",
          "Value": 246.66338040350027
         },
         {
          "Measure": "Kurtosis",
          "Statistic": " Stage 1  Out  Meas 1 0  U  Act",
          "Value": 45.135413275115546
         },
         {
          "Measure": "Kurtosis",
          "Statistic": " Stage 1  Out  Meas 1 0  U  Setp",
          "Value": 246.6633804035005
         },
         {
          "Measure": "Kurtosis",
          "Statistic": " Stage 1  Out  Meas 1 1  U  Act",
          "Value": -0.7412743401219912
         },
         {
          "Measure": "Kurtosis",
          "Statistic": " Stage 1  Out  Meas 1 1  U  Setp",
          "Value": 246.6633804035003
         },
         {
          "Measure": "Kurtosis",
          "Statistic": " Stage 1  Out  Meas 1 2  U  Act",
          "Value": -0.340010851420498
         },
         {
          "Measure": "Kurtosis",
          "Statistic": " Stage 1  Out  Meas 1 2  U  Setp",
          "Value": 246.66338040350035
         },
         {
          "Measure": "Kurtosis",
          "Statistic": " Stage 1  Out  Meas 1 3  U  Act",
          "Value": 4.055873335726853
         },
         {
          "Measure": "Kurtosis",
          "Statistic": " Stage 1  Out  Meas 1 3  U  Setp",
          "Value": 246.6633804035005
         },
         {
          "Measure": "Kurtosis",
          "Statistic": " Stage 1  Out  Meas 1 4  U  Act",
          "Value": -1.63406142391092
         },
         {
          "Measure": "Kurtosis",
          "Statistic": " Stage 1  Out  Meas 1 4  U  Setp",
          "Value": 246.66338040350027
         },
         {
          "Measure": "Kurtosis",
          "Statistic": " Mchn 4  Temp 1  C  Act",
          "Value": 234.6392627404053
         },
         {
          "Measure": "Kurtosis",
          "Statistic": " Mchn 4  Temp 2  C  Act",
          "Value": 231.525463091134
         },
         {
          "Measure": "Kurtosis",
          "Statistic": " Mchn 4  Pressure  C  Act",
          "Value": 4.405025825753147
         },
         {
          "Measure": "Kurtosis",
          "Statistic": " Mchn 4  Temp 3  C  Act",
          "Value": 17.103855096225118
         },
         {
          "Measure": "Kurtosis",
          "Statistic": " Mchn 4  Temp 4  C  Act",
          "Value": 4.405025825753147
         },
         {
          "Measure": "Kurtosis",
          "Statistic": " Mchn 4  Temp 5  C  Act",
          "Value": 26.44045915474048
         },
         {
          "Measure": "Kurtosis",
          "Statistic": " Mchn 4  Exit Temp  U  Act",
          "Value": 27.070352585673756
         },
         {
          "Measure": "Kurtosis",
          "Statistic": " Mchn 5  Temp 1  C  Act",
          "Value": 39.03901975890555
         },
         {
          "Measure": "Kurtosis",
          "Statistic": " Mchn 5  Temp 2  C  Act",
          "Value": 2.02262819756866
         },
         {
          "Measure": "Kurtosis",
          "Statistic": " Mchn 5  Temp 3  C  Act",
          "Value": 14.933319718499154
         },
         {
          "Measure": "Kurtosis",
          "Statistic": " Mchn 5  Temp 4  C  Act",
          "Value": 0.8260893802512488
         },
         {
          "Measure": "Kurtosis",
          "Statistic": " Mchn 5  Temp 5  C  Act",
          "Value": 209.1455752107606
         },
         {
          "Measure": "Kurtosis",
          "Statistic": " Mchn 5  Temp 6  C  Act",
          "Value": 8.86213638945945
         },
         {
          "Measure": "Kurtosis",
          "Statistic": " Mchn 5  Exit Temp  U  Act",
          "Value": 91.11117903114553
         },
         {
          "Measure": "Kurtosis",
          "Statistic": " Stage 2  Out  Meas 0  U  Act",
          "Value": 6.4998108103339
         },
         {
          "Measure": "Kurtosis",
          "Statistic": " Stage 2  Out  Meas 0  U  Setp",
          "Value": 0
         },
         {
          "Measure": "Kurtosis",
          "Statistic": " Stage 2  Out  Meas 1  U  Act",
          "Value": 9.76911662498301
         },
         {
          "Measure": "Kurtosis",
          "Statistic": " Stage 2  Out  Meas 1  U  Setp",
          "Value": 0
         },
         {
          "Measure": "Kurtosis",
          "Statistic": " Stage 2  Out  Meas 2  U  Act",
          "Value": 14.119955079892764
         },
         {
          "Measure": "Kurtosis",
          "Statistic": " Stage 2  Out  Meas 2  U  Setp",
          "Value": 0
         },
         {
          "Measure": "Kurtosis",
          "Statistic": " Stage 2  Out  Meas 3  U  Act",
          "Value": 12.821050165310307
         },
         {
          "Measure": "Kurtosis",
          "Statistic": " Stage 2  Out  Meas 3  U  Setp",
          "Value": 0
         },
         {
          "Measure": "Kurtosis",
          "Statistic": " Stage 2  Out  Meas 4  U  Act",
          "Value": 5.967754915456121
         },
         {
          "Measure": "Kurtosis",
          "Statistic": " Stage 2  Out  Meas 4  U  Setp",
          "Value": 0
         },
         {
          "Measure": "Kurtosis",
          "Statistic": " Stage 2  Out  Meas 5  U  Act",
          "Value": 43.68284220460868
         },
         {
          "Measure": "Kurtosis",
          "Statistic": " Stage 2  Out  Meas 5  U  Setp",
          "Value": 0
         },
         {
          "Measure": "Kurtosis",
          "Statistic": " Stage 2  Out  Meas 6  U  Act",
          "Value": 12.921796086289664
         },
         {
          "Measure": "Kurtosis",
          "Statistic": " Stage 2  Out  Meas 6  U  Setp",
          "Value": 0
         },
         {
          "Measure": "Kurtosis",
          "Statistic": " Stage 2  Out  Meas 7  U  Act",
          "Value": 24.275433727701436
         },
         {
          "Measure": "Kurtosis",
          "Statistic": " Stage 2  Out  Meas 7  U  Setp",
          "Value": 0
         },
         {
          "Measure": "Kurtosis",
          "Statistic": " Stage 2  Out  Meas 8  U  Act",
          "Value": 9.365388209602242
         },
         {
          "Measure": "Kurtosis",
          "Statistic": " Stage 2  Out  Meas 8  U  Setp",
          "Value": 0
         },
         {
          "Measure": "Kurtosis",
          "Statistic": " Stage 2  Out  Meas 9  U  Act",
          "Value": -1.2299936537091445
         },
         {
          "Measure": "Kurtosis",
          "Statistic": " Stage 2  Out  Meas 9  U  Setp",
          "Value": 0
         },
         {
          "Measure": "Kurtosis",
          "Statistic": " Stage 2  Out  Meas 1 0  U  Act",
          "Value": 16.92120096000626
         },
         {
          "Measure": "Kurtosis",
          "Statistic": " Stage 2  Out  Meas 1 0  U  Setp",
          "Value": 0
         },
         {
          "Measure": "Kurtosis",
          "Statistic": " Stage 2  Out  Meas 1 1  U  Act",
          "Value": 16.74545852627641
         },
         {
          "Measure": "Kurtosis",
          "Statistic": " Stage 2  Out  Meas 1 1  U  Setp",
          "Value": 0
         },
         {
          "Measure": "Kurtosis",
          "Statistic": " Stage 2  Out  Meas 1 2  U  Act",
          "Value": 16.82849653487088
         },
         {
          "Measure": "Kurtosis",
          "Statistic": " Stage 2  Out  Meas 1 2  U  Setp",
          "Value": 0
         },
         {
          "Measure": "Kurtosis",
          "Statistic": " Stage 2  Out  Meas 1 3  U  Act",
          "Value": 40.96423651249238
         },
         {
          "Measure": "Kurtosis",
          "Statistic": " Stage 2  Out  Meas 1 3  U  Setp",
          "Value": 0
         },
         {
          "Measure": "Kurtosis",
          "Statistic": " Stage 2  Out  Meas 1 4  U  Act",
          "Value": 8.463876096795397
         },
         {
          "Measure": "Kurtosis",
          "Statistic": " Stage 2  Out  Meas 1 4  U  Setp",
          "Value": 0
         },
         {
          "Measure": "IQR",
          "Statistic": " Ambient Conditions  Ambient Humidity  U  Act",
          "Value": 2.59
         },
         {
          "Measure": "IQR",
          "Statistic": " Ambient Conditions  Ambient Temp  U  Act",
          "Value": 0.629999999999999
         },
         {
          "Measure": "IQR",
          "Statistic": " Mchn 1  Raw Mat  Property 1",
          "Value": 0.6800000000000015
         },
         {
          "Measure": "IQR",
          "Statistic": " Mchn 1  Raw Mat  Property 2",
          "Value": 1
         },
         {
          "Measure": "IQR",
          "Statistic": " Mchn 1  Raw Mat  Property 3",
          "Value": 64.43000000000006
         },
         {
          "Measure": "IQR",
          "Statistic": " Mchn 1  Raw Mat  Property 4",
          "Value": 4
         },
         {
          "Measure": "IQR",
          "Statistic": " Mchn 1  Raw Mat Feeder Parameter  U  Act",
          "Value": 16.289999999999964
         },
         {
          "Measure": "IQR",
          "Statistic": " Mchn 1  Zone 1 Temp  C  Act",
          "Value": 0
         },
         {
          "Measure": "IQR",
          "Statistic": " Mchn 1  Zone 2 Temp  C  Act",
          "Value": 0.8000000000000114
         },
         {
          "Measure": "IQR",
          "Statistic": " Mchn 1  Motor Amperage  U  Act",
          "Value": 4.040000000000006
         },
         {
          "Measure": "IQR",
          "Statistic": " Mchn 1  Motor R P M  C  Act",
          "Value": 1.25
         },
         {
          "Measure": "IQR",
          "Statistic": " Mchn 1  Mat Pressure  U  Act",
          "Value": 12.52000000000004
         },
         {
          "Measure": "IQR",
          "Statistic": " Mchn 1  Mat Temp  U  Act",
          "Value": 0.7999999999999972
         },
         {
          "Measure": "IQR",
          "Statistic": " Mchn 1  Exit Zone Temp  C  Act",
          "Value": 0.0999999999999943
         },
         {
          "Measure": "IQR",
          "Statistic": " Mchn 2  Raw Mat  Property 1",
          "Value": 0
         },
         {
          "Measure": "IQR",
          "Statistic": " Mchn 2  Raw Mat  Property 2",
          "Value": 0
         },
         {
          "Measure": "IQR",
          "Statistic": " Mchn 2  Raw Mat  Property 3",
          "Value": 0
         },
         {
          "Measure": "IQR",
          "Statistic": " Mchn 2  Raw Mat  Property 4",
          "Value": 0
         },
         {
          "Measure": "IQR",
          "Statistic": " Mchn 2  Raw Mat Feeder Parameter  U  Act",
          "Value": 17.61250000000001
         },
         {
          "Measure": "IQR",
          "Statistic": " Mchn 2  Zone 1 Temp  C  Act",
          "Value": 0.019999999999996
         },
         {
          "Measure": "IQR",
          "Statistic": " Mchn 2  Zone 2 Temp  C  Act",
          "Value": 0.0200000000000102
         },
         {
          "Measure": "IQR",
          "Statistic": " Mchn 2  Motor Amperage  U  Act",
          "Value": 0.5
         },
         {
          "Measure": "IQR",
          "Statistic": " Mchn 2  Motor R P M  C  Act",
          "Value": 0.0500000000000007
         },
         {
          "Measure": "IQR",
          "Statistic": " Mchn 2  Mat Pressure  U  Act",
          "Value": 4.050000000000011
         },
         {
          "Measure": "IQR",
          "Statistic": " Mchn 2  Mat Temp  U  Act",
          "Value": 0.1999999999999886
         },
         {
          "Measure": "IQR",
          "Statistic": " Mchn 2  Exit Zone Temp  C  Act",
          "Value": 0.2000000000000028
         },
         {
          "Measure": "IQR",
          "Statistic": " Mchn 3  Raw Mat  Property 1",
          "Value": 0.1899999999999995
         },
         {
          "Measure": "IQR",
          "Statistic": " Mchn 3  Raw Mat  Property 2",
          "Value": 35
         },
         {
          "Measure": "IQR",
          "Statistic": " Mchn 3  Raw Mat  Property 3",
          "Value": 12.019999999999982
         },
         {
          "Measure": "IQR",
          "Statistic": " Mchn 3  Raw Mat  Property 4",
          "Value": 5
         },
         {
          "Measure": "IQR",
          "Statistic": " Mchn 3  Raw Mat Feeder Parameter  U  Act",
          "Value": 17.810000000000002
         },
         {
          "Measure": "IQR",
          "Statistic": " Mchn 3  Zone 1 Temp  C  Act",
          "Value": 0
         },
         {
          "Measure": "IQR",
          "Statistic": " Mchn 3  Zone 2 Temp  C  Act",
          "Value": 0.1999999999999886
         },
         {
          "Measure": "IQR",
          "Statistic": " Mchn 3  Motor Amperage  U  Act",
          "Value": 9.3125
         },
         {
          "Measure": "IQR",
          "Statistic": " Mchn 3  Motor R P M  C  Act",
          "Value": 0.6600000000000001
         },
         {
          "Measure": "IQR",
          "Statistic": " Mchn 3  Mat Pressure  U  Act",
          "Value": 6.139999999999986
         },
         {
          "Measure": "IQR",
          "Statistic": " Mchn 3  Mat Temp  U  Act",
          "Value": 1.7000000000000028
         },
         {
          "Measure": "IQR",
          "Statistic": " Mchn 3  Exit Zone Temp  C  Act",
          "Value": 0
         },
         {
          "Measure": "IQR",
          "Statistic": " First Stage  Combiner Operation  Temp 1  U  Act",
          "Value": 11
         },
         {
          "Measure": "IQR",
          "Statistic": " First Stage  Combiner Operation  Temp 2  U  Act",
          "Value": 35.2
         },
         {
          "Measure": "IQR",
          "Statistic": " First Stage  Combiner Operation  Temp 3  C  Act",
          "Value": 0.0999999999999943
         },
         {
          "Measure": "IQR",
          "Statistic": " Stage 1  Out  Meas 0  U  Act",
          "Value": 0.1600000000000001
         },
         {
          "Measure": "IQR",
          "Statistic": " Stage 1  Out  Meas 0  U  Setp",
          "Value": 0
         },
         {
          "Measure": "IQR",
          "Statistic": " Stage 1  Out  Meas 1  U  Act",
          "Value": 13.87
         },
         {
          "Measure": "IQR",
          "Statistic": " Stage 1  Out  Meas 1  U  Setp",
          "Value": 0
         },
         {
          "Measure": "IQR",
          "Statistic": " Stage 1  Out  Meas 2  U  Act",
          "Value": 0.3200000000000003
         },
         {
          "Measure": "IQR",
          "Statistic": " Stage 1  Out  Meas 2  U  Setp",
          "Value": 0
         },
         {
          "Measure": "IQR",
          "Statistic": " Stage 1  Out  Meas 3  U  Act",
          "Value": 0.0700000000000002
         },
         {
          "Measure": "IQR",
          "Statistic": " Stage 1  Out  Meas 3  U  Setp",
          "Value": 0
         },
         {
          "Measure": "IQR",
          "Statistic": " Stage 1  Out  Meas 4  U  Act",
          "Value": 0.8299999999999983
         },
         {
          "Measure": "IQR",
          "Statistic": " Stage 1  Out  Meas 4  U  Setp",
          "Value": 0
         },
         {
          "Measure": "IQR",
          "Statistic": " Stage 1  Out  Meas 5  U  Act",
          "Value": 0
         },
         {
          "Measure": "IQR",
          "Statistic": " Stage 1  Out  Meas 5  U  Setp",
          "Value": 0
         },
         {
          "Measure": "IQR",
          "Statistic": " Stage 1  Out  Meas 6  U  Act",
          "Value": 1.82
         },
         {
          "Measure": "IQR",
          "Statistic": " Stage 1  Out  Meas 6  U  Setp",
          "Value": 0
         },
         {
          "Measure": "IQR",
          "Statistic": " Stage 1  Out  Meas 7  U  Act",
          "Value": 2.9
         },
         {
          "Measure": "IQR",
          "Statistic": " Stage 1  Out  Meas 7  U  Setp",
          "Value": 0
         },
         {
          "Measure": "IQR",
          "Statistic": " Stage 1  Out  Meas 8  U  Act",
          "Value": 0.0799999999999983
         },
         {
          "Measure": "IQR",
          "Statistic": " Stage 1  Out  Meas 8  U  Setp",
          "Value": 0
         },
         {
          "Measure": "IQR",
          "Statistic": " Stage 1  Out  Meas 9  U  Act",
          "Value": 0.2199999999999988
         },
         {
          "Measure": "IQR",
          "Statistic": " Stage 1  Out  Meas 9  U  Setp",
          "Value": 0
         },
         {
          "Measure": "IQR",
          "Statistic": " Stage 1  Out  Meas 1 0  U  Act",
          "Value": 0.1899999999999995
         },
         {
          "Measure": "IQR",
          "Statistic": " Stage 1  Out  Meas 1 0  U  Setp",
          "Value": 0
         },
         {
          "Measure": "IQR",
          "Statistic": " Stage 1  Out  Meas 1 1  U  Act",
          "Value": 5.41
         },
         {
          "Measure": "IQR",
          "Statistic": " Stage 1  Out  Meas 1 1  U  Setp",
          "Value": 0
         },
         {
          "Measure": "IQR",
          "Statistic": " Stage 1  Out  Meas 1 2  U  Act",
          "Value": 0.1800000000000001
         },
         {
          "Measure": "IQR",
          "Statistic": " Stage 1  Out  Meas 1 2  U  Setp",
          "Value": 0
         },
         {
          "Measure": "IQR",
          "Statistic": " Stage 1  Out  Meas 1 3  U  Act",
          "Value": 0.2999999999999998
         },
         {
          "Measure": "IQR",
          "Statistic": " Stage 1  Out  Meas 1 3  U  Setp",
          "Value": 0
         },
         {
          "Measure": "IQR",
          "Statistic": " Stage 1  Out  Meas 1 4  U  Act",
          "Value": 15.76
         },
         {
          "Measure": "IQR",
          "Statistic": " Stage 1  Out  Meas 1 4  U  Setp",
          "Value": 0
         },
         {
          "Measure": "IQR",
          "Statistic": " Mchn 4  Temp 1  C  Act",
          "Value": 0
         },
         {
          "Measure": "IQR",
          "Statistic": " Mchn 4  Temp 2  C  Act",
          "Value": 2
         },
         {
          "Measure": "IQR",
          "Statistic": " Mchn 4  Pressure  C  Act",
          "Value": 1
         },
         {
          "Measure": "IQR",
          "Statistic": " Mchn 4  Temp 3  C  Act",
          "Value": 4
         },
         {
          "Measure": "IQR",
          "Statistic": " Mchn 4  Temp 4  C  Act",
          "Value": 1
         },
         {
          "Measure": "IQR",
          "Statistic": " Mchn 4  Temp 5  C  Act",
          "Value": 2
         },
         {
          "Measure": "IQR",
          "Statistic": " Mchn 4  Exit Temp  U  Act",
          "Value": 2
         },
         {
          "Measure": "IQR",
          "Statistic": " Mchn 5  Temp 1  C  Act",
          "Value": 0
         },
         {
          "Measure": "IQR",
          "Statistic": " Mchn 5  Temp 2  C  Act",
          "Value": 0
         },
         {
          "Measure": "IQR",
          "Statistic": " Mchn 5  Temp 3  C  Act",
          "Value": 0
         },
         {
          "Measure": "IQR",
          "Statistic": " Mchn 5  Temp 4  C  Act",
          "Value": 1.6999999999999886
         },
         {
          "Measure": "IQR",
          "Statistic": " Mchn 5  Temp 5  C  Act",
          "Value": 0
         },
         {
          "Measure": "IQR",
          "Statistic": " Mchn 5  Temp 6  C  Act",
          "Value": 0.3999999999999986
         },
         {
          "Measure": "IQR",
          "Statistic": " Mchn 5  Exit Temp  U  Act",
          "Value": 2.4000000000000057
         },
         {
          "Measure": "IQR",
          "Statistic": " Stage 2  Out  Meas 0  U  Act",
          "Value": 0.2300000000000004
         },
         {
          "Measure": "IQR",
          "Statistic": " Stage 2  Out  Meas 0  U  Setp",
          "Value": 0
         },
         {
          "Measure": "IQR",
          "Statistic": " Stage 2  Out  Meas 1  U  Act",
          "Value": 0.4100000000000001
         },
         {
          "Measure": "IQR",
          "Statistic": " Stage 2  Out  Meas 1  U  Setp",
          "Value": 0
         },
         {
          "Measure": "IQR",
          "Statistic": " Stage 2  Out  Meas 2  U  Act",
          "Value": 0.2900000000000009
         },
         {
          "Measure": "IQR",
          "Statistic": " Stage 2  Out  Meas 2  U  Setp",
          "Value": 0
         },
         {
          "Measure": "IQR",
          "Statistic": " Stage 2  Out  Meas 3  U  Act",
          "Value": 0.7699999999999996
         },
         {
          "Measure": "IQR",
          "Statistic": " Stage 2  Out  Meas 3  U  Setp",
          "Value": 0
         },
         {
          "Measure": "IQR",
          "Statistic": " Stage 2  Out  Meas 4  U  Act",
          "Value": 0
         },
         {
          "Measure": "IQR",
          "Statistic": " Stage 2  Out  Meas 4  U  Setp",
          "Value": 0
         },
         {
          "Measure": "IQR",
          "Statistic": " Stage 2  Out  Meas 5  U  Act",
          "Value": 0.27
         },
         {
          "Measure": "IQR",
          "Statistic": " Stage 2  Out  Meas 5  U  Setp",
          "Value": 0
         },
         {
          "Measure": "IQR",
          "Statistic": " Stage 2  Out  Meas 6  U  Act",
          "Value": 0.22
         },
         {
          "Measure": "IQR",
          "Statistic": " Stage 2  Out  Meas 6  U  Setp",
          "Value": 0
         },
         {
          "Measure": "IQR",
          "Statistic": " Stage 2  Out  Meas 7  U  Act",
          "Value": 0.04
         },
         {
          "Measure": "IQR",
          "Statistic": " Stage 2  Out  Meas 7  U  Setp",
          "Value": 0
         },
         {
          "Measure": "IQR",
          "Statistic": " Stage 2  Out  Meas 8  U  Act",
          "Value": 0.5700000000000003
         },
         {
          "Measure": "IQR",
          "Statistic": " Stage 2  Out  Meas 8  U  Setp",
          "Value": 0
         },
         {
          "Measure": "IQR",
          "Statistic": " Stage 2  Out  Meas 9  U  Act",
          "Value": 16.66
         },
         {
          "Measure": "IQR",
          "Statistic": " Stage 2  Out  Meas 9  U  Setp",
          "Value": 0
         },
         {
          "Measure": "IQR",
          "Statistic": " Stage 2  Out  Meas 1 0  U  Act",
          "Value": 0.1100000000000003
         },
         {
          "Measure": "IQR",
          "Statistic": " Stage 2  Out  Meas 1 0  U  Setp",
          "Value": 0
         },
         {
          "Measure": "IQR",
          "Statistic": " Stage 2  Out  Meas 1 1  U  Act",
          "Value": 0.2400000000000002
         },
         {
          "Measure": "IQR",
          "Statistic": " Stage 2  Out  Meas 1 1  U  Setp",
          "Value": 0
         },
         {
          "Measure": "IQR",
          "Statistic": " Stage 2  Out  Meas 1 2  U  Act",
          "Value": 0.06
         },
         {
          "Measure": "IQR",
          "Statistic": " Stage 2  Out  Meas 1 2  U  Setp",
          "Value": 0
         },
         {
          "Measure": "IQR",
          "Statistic": " Stage 2  Out  Meas 1 3  U  Act",
          "Value": 0.3099999999999996
         },
         {
          "Measure": "IQR",
          "Statistic": " Stage 2  Out  Meas 1 3  U  Setp",
          "Value": 0
         },
         {
          "Measure": "IQR",
          "Statistic": " Stage 2  Out  Meas 1 4  U  Act",
          "Value": 0.3600000000000003
         },
         {
          "Measure": "IQR",
          "Statistic": " Stage 2  Out  Meas 1 4  U  Setp",
          "Value": 0
         }
        ]
       },
       "encoding": {
        "color": {
         "field": "Value",
         "title": "Value",
         "type": "quantitative"
        },
        "tooltip": [
         {
          "field": "Measure",
          "type": "nominal"
         },
         {
          "field": "Statistic",
          "type": "nominal"
         },
         {
          "field": "Value",
          "type": "quantitative"
         }
        ],
        "x": {
         "field": "Measure",
         "title": "Measure",
         "type": "nominal"
        },
        "y": {
         "field": "Statistic",
         "title": "Statistic",
         "type": "nominal"
        }
       },
       "mark": {
        "type": "rect"
       },
       "params": [
        {
         "bind": "scales",
         "name": "param_3",
         "select": {
          "encodings": [
           "x",
           "y"
          ],
          "type": "interval"
         }
        }
       ],
       "title": "Distribution of Summary Statistics"
      },
      "text/plain": [
       "<VegaLite 5 object>\n",
       "\n",
       "If you see this message, it means the renderer has not been properly enabled\n",
       "for the frontend that you are using. For more information, see\n",
       "https://altair-viz.github.io/user_guide/display_frontends.html#troubleshooting\n"
      ]
     },
     "metadata": {},
     "output_type": "display_data"
    }
   ],
   "source": [
    "alt.renderers.enable('jupyterlab')\n",
    "chart = alt.Chart(df_melted).mark_rect().encode(\n",
    "    # Set `Measure` on the x-axis and `Statistic` on the y-axis\n",
    "    x=alt.X('Measure', title='Measure'),\n",
    "    y=alt.Y('Statistic', title='Statistic'),\n",
    "    # Use `Value` for color intensity\n",
    "    color=alt.Color('Value', title='Value'),\n",
    "    # Add tooltips for each column\n",
    "    tooltip=['Measure', 'Statistic', 'Value']\n",
    ").properties(\n",
    "    # Set the title of the chart\n",
    "    title='Distribution of Summary Statistics'\n",
    ").interactive()  # Make the chart interactive\n",
    "display(chart)\n",
    "# Save the chart as a JSON file\n",
    "chart.save('distribution_heatmap.json', renderer = 'notebook')"
   ]
  },
  {
   "cell_type": "code",
   "execution_count": null,
   "metadata": {},
   "outputs": [],
   "source": []
  },
  {
   "cell_type": "code",
   "execution_count": null,
   "metadata": {},
   "outputs": [],
   "source": []
  },
  {
   "cell_type": "markdown",
   "metadata": {},
   "source": [
    "# LSTM Helper Functions"
   ]
  },
  {
   "cell_type": "code",
   "execution_count": 88,
   "metadata": {},
   "outputs": [],
   "source": [
    "def create_sequences(data, seq_length, output_cols):\n",
    "    X, y = [], []\n",
    "    for i in range(len(data) - seq_length):\n",
    "        # Get sequence of features\n",
    "        seq = data.iloc[i:i+seq_length].values\n",
    "        # Get target (next time step values for output measurements)\n",
    "        target = data.iloc[i+seq_length][output_cols].values\n",
    "        X.append(seq)\n",
    "        y.append(target)\n",
    "    return np.array(X), np.array(y)"
   ]
  },
  {
   "cell_type": "code",
   "execution_count": 89,
   "metadata": {},
   "outputs": [],
   "source": [
    "def prepare_data(train_df, test_df, seq_length=60):\n",
    "    \"\"\"\n",
    "    Prepare data for LSTM model\n",
    "    \n",
    "    Parameters:\n",
    "    -----------\n",
    "    train_df : pandas DataFrame\n",
    "        Training data\n",
    "    test_df : pandas DataFrame\n",
    "        Testing data\n",
    "    seq_length : int\n",
    "        Sequence length for LSTM input\n",
    "        \n",
    "    Returns:\n",
    "    --------\n",
    "    X_train, y_train, X_test, y_test, scaler, output_cols, output_indices\n",
    "    \"\"\"\n",
    "    # Make copies to avoid modifying original data\n",
    "    train_df = train_df.copy()\n",
    "    test_df = test_df.copy()\n",
    "    \n",
    "    # Convert timestamp to datetime and set as index if not already done\n",
    "    if 'time_stamp' in train_df.columns:\n",
    "        train_df['time_stamp'] = pd.to_datetime(train_df['time_stamp'])\n",
    "        train_df.set_index('time_stamp', inplace=True)\n",
    "        test_df['time_stamp'] = pd.to_datetime(test_df['time_stamp'])\n",
    "        test_df.set_index('time_stamp', inplace=True)\n",
    "\n",
    "    # Select both Stage 1 and Stage 2 output measurements\n",
    "    output_cols = [col for col in train_df.columns if \n",
    "                   (('Stage 1' in col or 'Stage 2' in col) and 'Out' in col and 'Act' in col)]\n",
    "    \n",
    "    # Scale the data\n",
    "    scaler = MinMaxScaler()\n",
    "    train_scaled = pd.DataFrame(scaler.fit_transform(train_df), columns=train_df.columns, index=train_df.index)\n",
    "    test_scaled = pd.DataFrame(scaler.transform(test_df), columns=test_df.columns, index=test_df.index)\n",
    "    \n",
    "    # Create sequences for LSTM\n",
    "    X_train, y_train = create_sequences(train_scaled, seq_length, output_cols)\n",
    "    X_test, y_test = create_sequences(test_scaled, seq_length, output_cols)\n",
    "    \n",
    "    # Get the indices of output columns in the original dataframe\n",
    "    output_indices = [train_df.columns.get_loc(col) for col in output_cols]\n",
    "    \n",
    "    print(f\"X_train shape: {X_train.shape}\")\n",
    "    print(f\"y_train shape: {y_train.shape}\")\n",
    "    print(f\"X_test shape: {X_test.shape}\")\n",
    "    print(f\"y_test shape: {y_test.shape}\")\n",
    "    \n",
    "    return X_train, y_train, X_test, y_test, scaler, output_cols, output_indices"
   ]
  },
  {
   "cell_type": "code",
   "execution_count": 90,
   "metadata": {},
   "outputs": [],
   "source": [
    "def plot_predictions(y_test_inv, pred_inv, output_cols, n_samples=100, n_features=5):\n",
    "    \"\"\"\n",
    "    Plot predictions vs actual values\n",
    "    \n",
    "    Parameters:\n",
    "    -----------\n",
    "    y_test_inv : numpy array\n",
    "        Inverse transformed actual values\n",
    "    pred_inv : numpy array\n",
    "        Inverse transformed predictions\n",
    "    output_cols : list\n",
    "        Names of output columns\n",
    "    n_samples : int\n",
    "        Number of samples to plot\n",
    "    n_features : int\n",
    "        Number of features to plot\n",
    "    \"\"\"\n",
    "    plt.figure(figsize=(15, 10))\n",
    "    for i in range(min(n_features, len(output_cols))):\n",
    "        plt.subplot(n_features, 1, i+1)\n",
    "        plt.plot(y_test_inv[:n_samples, i], label='Actual')\n",
    "        plt.plot(pred_inv[:n_samples, i], label='Predicted')\n",
    "        plt.title(f'Predictions for {output_cols[i]}')\n",
    "        plt.legend()\n",
    "    plt.tight_layout()\n",
    "    plt.show()\n",
    "\n"
   ]
  },
  {
   "cell_type": "code",
   "execution_count": 91,
   "metadata": {},
   "outputs": [
    {
     "data": {
      "text/plain": [
       "'\\n# Assuming train_df and test_df are already defined\\nX_train, y_train, X_test, y_test, scaler, output_cols, output_indices = prepare_data(train_df, test_df)\\n\\n# Get input and output shapes\\ninput_shape = (X_train.shape[1], X_train.shape[2])  # (sequence_length, num_features)\\noutput_shape = y_train.shape[1]  # Number of output features\\n\\n# Train the model\\nlstm_model, history = train_lstm_model(X_train, y_train, input_shape, output_shape)\\n\\n# Plot training history\\nplot_training_history(history)\\n\\n# Evaluate the model\\ny_test_inv, pred_inv = evaluate_model(lstm_model, X_test, y_test, scaler, output_indices)\\n\\n# Plot predictions\\nplot_predictions(y_test_inv, pred_inv, output_cols)\\n\\n# Calculate RMSE\\ncalculate_rmse(y_test_inv, pred_inv, output_cols)\\n'"
      ]
     },
     "execution_count": 91,
     "metadata": {},
     "output_type": "execute_result"
    }
   ],
   "source": [
    "def calculate_rmse(y_test_inv, pred_inv, output_cols):\n",
    "    \"\"\"\n",
    "    Calculate RMSE for each output feature\n",
    "    \n",
    "    Parameters:\n",
    "    -----------\n",
    "    y_test_inv : numpy array\n",
    "        Inverse transformed actual values\n",
    "    pred_inv : numpy array\n",
    "        Inverse transformed predictions\n",
    "    output_cols : list\n",
    "        Names of output columns\n",
    "    \"\"\"\n",
    "    print(\"Root Mean Squared Error (RMSE) for each output feature:\")\n",
    "    for i, col in enumerate(output_cols):\n",
    "        rmse = math.sqrt(mean_squared_error(y_test_inv[:, i], pred_inv[:, i]))\n",
    "        print(f\"{col}: {rmse:.4f}\")\n",
    "    \n",
    "    # Calculate overall RMSE\n",
    "    overall_rmse = math.sqrt(mean_squared_error(y_test_inv, pred_inv))\n",
    "    print(f\"\\nOverall RMSE: {overall_rmse:.4f}\")\n",
    "\n",
    "# Example usage:\n",
    "\"\"\"\n",
    "# Assuming train_df and test_df are already defined\n",
    "X_train, y_train, X_test, y_test, scaler, output_cols, output_indices = prepare_data(train_df, test_df)\n",
    "\n",
    "# Get input and output shapes\n",
    "input_shape = (X_train.shape[1], X_train.shape[2])  # (sequence_length, num_features)\n",
    "output_shape = y_train.shape[1]  # Number of output features\n",
    "\n",
    "# Train the model\n",
    "lstm_model, history = train_lstm_model(X_train, y_train, input_shape, output_shape)\n",
    "\n",
    "# Plot training history\n",
    "plot_training_history(history)\n",
    "\n",
    "# Evaluate the model\n",
    "y_test_inv, pred_inv = evaluate_model(lstm_model, X_test, y_test, scaler, output_indices)\n",
    "\n",
    "# Plot predictions\n",
    "plot_predictions(y_test_inv, pred_inv, output_cols)\n",
    "\n",
    "# Calculate RMSE\n",
    "calculate_rmse(y_test_inv, pred_inv, output_cols)\n",
    "\"\"\" "
   ]
  },
  {
   "cell_type": "code",
   "execution_count": 92,
   "metadata": {},
   "outputs": [],
   "source": [
    "def plot_training_history(history):\n",
    "    \"\"\"\n",
    "    Plot training history\n",
    "    \n",
    "    Parameters:\n",
    "    -----------\n",
    "    history : Keras history object\n",
    "        Training history\n",
    "    \"\"\"\n",
    "    plt.figure(figsize=(12, 5))\n",
    "    \n",
    "    # Plot loss\n",
    "    plt.subplot(1, 2, 1)\n",
    "    plt.plot(history.history['loss'], label='Training Loss')\n",
    "    plt.plot(history.history['val_loss'], label='Validation Loss')\n",
    "    plt.title('Model Loss')\n",
    "    plt.xlabel('Epoch')\n",
    "    plt.ylabel('Loss')\n",
    "    plt.legend()\n",
    "    \n",
    "    # Plot MAE\n",
    "    plt.subplot(1, 2, 2)\n",
    "    plt.plot(history.history['mae'], label='Training MAE')\n",
    "    plt.plot(history.history['val_mae'], label='Validation MAE')\n",
    "    plt.title('Model MAE')\n",
    "    plt.xlabel('Epoch')\n",
    "    plt.ylabel('MAE')\n",
    "    plt.legend()\n",
    "    \n",
    "    plt.tight_layout()\n",
    "    plt.show()"
   ]
  },
  {
   "cell_type": "markdown",
   "metadata": {},
   "source": [
    "# Data Split"
   ]
  },
  {
   "cell_type": "code",
   "execution_count": 93,
   "metadata": {},
   "outputs": [
    {
     "name": "stdout",
     "output_type": "stream",
     "text": [
      "Training set size: 11270 samples\n",
      "Testing set size: 2818 samples\n"
     ]
    }
   ],
   "source": [
    "# Now we split out data into a trianing and testing batch\n",
    "# Split the data into training and testing sets (80-20 split)\n",
    "train_size = int(0.8 * len(factory_df))\n",
    "train_df = factory_df[:train_size]\n",
    "test_df = factory_df[train_size:]\n",
    "\n",
    "print(f\"Training set size: {len(train_df)} samples\")\n",
    "print(f\"Testing set size: {len(test_df)} samples\")\n"
   ]
  },
  {
   "cell_type": "markdown",
   "metadata": {},
   "source": [
    "Prepare for the Long Short Term Mermory"
   ]
  },
  {
   "cell_type": "code",
   "execution_count": 94,
   "metadata": {},
   "outputs": [
    {
     "name": "stdout",
     "output_type": "stream",
     "text": [
      "Preparing data for LSTM...\n",
      "X_train shape: (11210, 60, 115)\n",
      "y_train shape: (11210, 30)\n",
      "X_test shape: (2758, 60, 115)\n",
      "y_test shape: (2758, 30)\n",
      "Input shape: (60, 115)\n",
      "Output shape: 30\n",
      "Number of output features: 30\n",
      "Output features: [' Stage 1  Out  Meas 0  U  Act', ' Stage 1  Out  Meas 1  U  Act', ' Stage 1  Out  Meas 2  U  Act']...\n"
     ]
    }
   ],
   "source": [
    "# Prepare data for LSTM\n",
    "print(\"Preparing data for LSTM...\")\n",
    "X_train, y_train, X_test, y_test, scaler, output_cols, output_indices = prepare_data(train_df, test_df, seq_length=60)\n",
    "\n",
    "# Get input and output shapes\n",
    "input_shape = (X_train.shape[1], X_train.shape[2])  # (sequence_length, num_features)\n",
    "output_shape = y_train.shape[1]  # Number of output features\n",
    "\n",
    "print(f\"Input shape: {input_shape}\")\n",
    "print(f\"Output shape: {output_shape}\")\n",
    "print(f\"Number of output features: {len(output_cols)}\")\n",
    "print(f\"Output features: {output_cols[:3]}...\")  # Show first 3 output features\n"
   ]
  },
  {
   "cell_type": "markdown",
   "metadata": {},
   "source": [
    "# Set up the architecture and Create model functions"
   ]
  },
  {
   "cell_type": "code",
   "execution_count": 95,
   "metadata": {},
   "outputs": [],
   "source": [
    "def create_lstm_model(input_shape, output_shape):\n",
    "    \"\"\"\n",
    "    Create a simple LSTM model\n",
    "    \n",
    "    Parameters:\n",
    "    -----------\n",
    "    input_shape : tuple\n",
    "        Shape of input data (sequence_length, num_features)\n",
    "    output_shape : int\n",
    "        Number of output features\n",
    "        \n",
    "    Returns:\n",
    "    --------\n",
    "    Compiled Keras model\n",
    "    \"\"\"\n",
    "    model = Sequential()\n",
    "    \n",
    "    # First LSTM layer with return sequences for stacking\n",
    "    model.add(LSTM(64, activation='relu', return_sequences=True, input_shape=input_shape))\n",
    "    \n",
    "    # Second LSTM layer\n",
    "    model.add(LSTM(32, activation='relu'))\n",
    "    \n",
    "    # Dropout for regularization\n",
    "    model.add(tf.keras.layers.Dropout(0.2))\n",
    "    \n",
    "    # Dense hidden layer\n",
    "    model.add(Dense(32, activation='relu'))\n",
    "    \n",
    "    # Output layer\n",
    "    model.add(Dense(output_shape))\n",
    "    \n",
    "    # Compile the model\n",
    "    model.compile(optimizer=Adam(learning_rate=0.001), loss='mse', metrics=['mae'])\n",
    "    \n",
    "    return model"
   ]
  },
  {
   "cell_type": "markdown",
   "metadata": {},
   "source": [
    "# Train  and Validate Functions"
   ]
  },
  {
   "cell_type": "code",
   "execution_count": 96,
   "metadata": {},
   "outputs": [],
   "source": [
    "def train_lstm_model(X_train, y_train, input_shape, output_shape, epochs=50, batch_size=32):\n",
    "    \"\"\"\n",
    "    Train the LSTM model\n",
    "    \n",
    "    Parameters:\n",
    "    -----------\n",
    "    X_train : numpy array\n",
    "        Training input data\n",
    "    y_train : numpy array\n",
    "        Training target data\n",
    "    input_shape : tuple\n",
    "        Shape of input data (sequence_length, num_features)\n",
    "    output_shape : int\n",
    "        Number of output features\n",
    "    epochs : int\n",
    "        Number of training epochs\n",
    "    batch_size : int\n",
    "        Batch size for training\n",
    "        \n",
    "    Returns:\n",
    "    --------\n",
    "    Trained model and training history\n",
    "    \"\"\"\n",
    "    # Create model\n",
    "    lstm_model = create_lstm_model(input_shape, output_shape)\n",
    "    lstm_model.summary()\n",
    "    \n",
    "    # Define callbacks\n",
    "    early_stopping = EarlyStopping(monitor='val_loss', patience=10, restore_best_weights=True)\n",
    "    model_checkpoint = ModelCheckpoint('best_lstm_model.keras', monitor='val_loss', save_best_only=True)\n",
    "    \n",
    "    # Train the model\n",
    "    history = lstm_model.fit(\n",
    "        X_train, y_train,\n",
    "        epochs=epochs,\n",
    "        batch_size=batch_size,\n",
    "        validation_split=0.2,\n",
    "        callbacks=[early_stopping, model_checkpoint],\n",
    "        verbose=1\n",
    "    )\n",
    "    \n",
    "    return lstm_model, history"
   ]
  },
  {
   "cell_type": "code",
   "execution_count": 97,
   "metadata": {},
   "outputs": [],
   "source": [
    "def evaluate_model(model, X_test, y_test, scaler, output_indices):\n",
    "    \"\"\"\n",
    "    Evaluate the model on test data\n",
    "    \n",
    "    Parameters:\n",
    "    -----------\n",
    "    model : Keras model\n",
    "        Trained LSTM model\n",
    "    X_test : numpy array\n",
    "        Test input data\n",
    "    y_test : numpy array\n",
    "        Test target data\n",
    "    scaler : sklearn scaler\n",
    "        Fitted scaler for inverse transformation\n",
    "    output_indices : list\n",
    "        Indices of output columns in the original dataframe\n",
    "    \"\"\"\n",
    "    # Evaluate the model\n",
    "    test_loss, test_mae = model.evaluate(X_test, y_test, verbose=0)\n",
    "    print(f\"Test Loss: {test_loss:.4f}\")\n",
    "    print(f\"Test MAE: {test_mae:.4f}\")\n",
    "    \n",
    "    # Make predictions\n",
    "    predictions = model.predict(X_test)\n",
    "    \n",
    "    # Inverse transform predictions and actual values\n",
    "    y_test_inv = inverse_transform_output(y_test, output_indices, scaler)\n",
    "    pred_inv = inverse_transform_output(predictions, output_indices, scaler)\n",
    "    \n",
    "    return y_test_inv, pred_inv"
   ]
  },
  {
   "cell_type": "code",
   "execution_count": 98,
   "metadata": {},
   "outputs": [],
   "source": [
    "def inverse_transform_output(scaled_data, output_indices, scaler):\n",
    "    \"\"\"\n",
    "    Inverse transform the scaled data for specific columns\n",
    "    \n",
    "    Parameters:\n",
    "    -----------\n",
    "    scaled_data : numpy array\n",
    "        Scaled data to inverse transform\n",
    "    output_indices : list\n",
    "        Indices of output columns in the original dataframe\n",
    "    scaler : sklearn scaler\n",
    "        Fitted scaler for inverse transformation\n",
    "        \n",
    "    Returns:\n",
    "    --------\n",
    "    Inverse transformed data\n",
    "    \"\"\"\n",
    "    # Get the number of features in the original data\n",
    "    n_features = len(scaler.scale_)\n",
    "    \n",
    "    # Create a dummy array of zeros with the same shape as the original data\n",
    "    dummy = np.zeros((scaled_data.shape[0], n_features))\n",
    "    \n",
    "    # Place the scaled output data in the correct columns\n",
    "    for i, idx in enumerate(output_indices):\n",
    "        dummy[:, idx] = scaled_data[:, i]\n",
    "        \n",
    "    # Inverse transform\n",
    "    dummy_inversed = scaler.inverse_transform(dummy)\n",
    "    \n",
    "    # Extract only the output columns\n",
    "    return dummy_inversed[:, output_indices]"
   ]
  },
  {
   "cell_type": "code",
   "execution_count": 99,
   "metadata": {},
   "outputs": [
    {
     "name": "stdout",
     "output_type": "stream",
     "text": [
      "\n",
      "Training LSTM model...\n"
     ]
    },
    {
     "name": "stderr",
     "output_type": "stream",
     "text": [
      "C:\\Users\\micha\\AppData\\Roaming\\Python\\Python312\\site-packages\\keras\\src\\layers\\rnn\\rnn.py:200: UserWarning: Do not pass an `input_shape`/`input_dim` argument to a layer. When using Sequential models, prefer using an `Input(shape)` object as the first layer in the model instead.\n",
      "  super().__init__(**kwargs)\n"
     ]
    },
    {
     "data": {
      "text/html": [
       "<pre style=\"white-space:pre;overflow-x:auto;line-height:normal;font-family:Menlo,'DejaVu Sans Mono',consolas,'Courier New',monospace\"><span style=\"font-weight: bold\">Model: \"sequential_2\"</span>\n",
       "</pre>\n"
      ],
      "text/plain": [
       "\u001b[1mModel: \"sequential_2\"\u001b[0m\n"
      ]
     },
     "metadata": {},
     "output_type": "display_data"
    },
    {
     "data": {
      "text/html": [
       "<pre style=\"white-space:pre;overflow-x:auto;line-height:normal;font-family:Menlo,'DejaVu Sans Mono',consolas,'Courier New',monospace\">┏━━━━━━━━━━━━━━━━━━━━━━━━━━━━━━━━━┳━━━━━━━━━━━━━━━━━━━━━━━━┳━━━━━━━━━━━━━━━┓\n",
       "┃<span style=\"font-weight: bold\"> Layer (type)                    </span>┃<span style=\"font-weight: bold\"> Output Shape           </span>┃<span style=\"font-weight: bold\">       Param # </span>┃\n",
       "┡━━━━━━━━━━━━━━━━━━━━━━━━━━━━━━━━━╇━━━━━━━━━━━━━━━━━━━━━━━━╇━━━━━━━━━━━━━━━┩\n",
       "│ lstm_4 (<span style=\"color: #0087ff; text-decoration-color: #0087ff\">LSTM</span>)                   │ (<span style=\"color: #00d7ff; text-decoration-color: #00d7ff\">None</span>, <span style=\"color: #00af00; text-decoration-color: #00af00\">60</span>, <span style=\"color: #00af00; text-decoration-color: #00af00\">64</span>)         │        <span style=\"color: #00af00; text-decoration-color: #00af00\">46,080</span> │\n",
       "├─────────────────────────────────┼────────────────────────┼───────────────┤\n",
       "│ lstm_5 (<span style=\"color: #0087ff; text-decoration-color: #0087ff\">LSTM</span>)                   │ (<span style=\"color: #00d7ff; text-decoration-color: #00d7ff\">None</span>, <span style=\"color: #00af00; text-decoration-color: #00af00\">32</span>)             │        <span style=\"color: #00af00; text-decoration-color: #00af00\">12,416</span> │\n",
       "├─────────────────────────────────┼────────────────────────┼───────────────┤\n",
       "│ dropout_62 (<span style=\"color: #0087ff; text-decoration-color: #0087ff\">Dropout</span>)            │ (<span style=\"color: #00d7ff; text-decoration-color: #00d7ff\">None</span>, <span style=\"color: #00af00; text-decoration-color: #00af00\">32</span>)             │             <span style=\"color: #00af00; text-decoration-color: #00af00\">0</span> │\n",
       "├─────────────────────────────────┼────────────────────────┼───────────────┤\n",
       "│ dense_4 (<span style=\"color: #0087ff; text-decoration-color: #0087ff\">Dense</span>)                 │ (<span style=\"color: #00d7ff; text-decoration-color: #00d7ff\">None</span>, <span style=\"color: #00af00; text-decoration-color: #00af00\">32</span>)             │         <span style=\"color: #00af00; text-decoration-color: #00af00\">1,056</span> │\n",
       "├─────────────────────────────────┼────────────────────────┼───────────────┤\n",
       "│ dense_5 (<span style=\"color: #0087ff; text-decoration-color: #0087ff\">Dense</span>)                 │ (<span style=\"color: #00d7ff; text-decoration-color: #00d7ff\">None</span>, <span style=\"color: #00af00; text-decoration-color: #00af00\">30</span>)             │           <span style=\"color: #00af00; text-decoration-color: #00af00\">990</span> │\n",
       "└─────────────────────────────────┴────────────────────────┴───────────────┘\n",
       "</pre>\n"
      ],
      "text/plain": [
       "┏━━━━━━━━━━━━━━━━━━━━━━━━━━━━━━━━━┳━━━━━━━━━━━━━━━━━━━━━━━━┳━━━━━━━━━━━━━━━┓\n",
       "┃\u001b[1m \u001b[0m\u001b[1mLayer (type)                   \u001b[0m\u001b[1m \u001b[0m┃\u001b[1m \u001b[0m\u001b[1mOutput Shape          \u001b[0m\u001b[1m \u001b[0m┃\u001b[1m \u001b[0m\u001b[1m      Param #\u001b[0m\u001b[1m \u001b[0m┃\n",
       "┡━━━━━━━━━━━━━━━━━━━━━━━━━━━━━━━━━╇━━━━━━━━━━━━━━━━━━━━━━━━╇━━━━━━━━━━━━━━━┩\n",
       "│ lstm_4 (\u001b[38;5;33mLSTM\u001b[0m)                   │ (\u001b[38;5;45mNone\u001b[0m, \u001b[38;5;34m60\u001b[0m, \u001b[38;5;34m64\u001b[0m)         │        \u001b[38;5;34m46,080\u001b[0m │\n",
       "├─────────────────────────────────┼────────────────────────┼───────────────┤\n",
       "│ lstm_5 (\u001b[38;5;33mLSTM\u001b[0m)                   │ (\u001b[38;5;45mNone\u001b[0m, \u001b[38;5;34m32\u001b[0m)             │        \u001b[38;5;34m12,416\u001b[0m │\n",
       "├─────────────────────────────────┼────────────────────────┼───────────────┤\n",
       "│ dropout_62 (\u001b[38;5;33mDropout\u001b[0m)            │ (\u001b[38;5;45mNone\u001b[0m, \u001b[38;5;34m32\u001b[0m)             │             \u001b[38;5;34m0\u001b[0m │\n",
       "├─────────────────────────────────┼────────────────────────┼───────────────┤\n",
       "│ dense_4 (\u001b[38;5;33mDense\u001b[0m)                 │ (\u001b[38;5;45mNone\u001b[0m, \u001b[38;5;34m32\u001b[0m)             │         \u001b[38;5;34m1,056\u001b[0m │\n",
       "├─────────────────────────────────┼────────────────────────┼───────────────┤\n",
       "│ dense_5 (\u001b[38;5;33mDense\u001b[0m)                 │ (\u001b[38;5;45mNone\u001b[0m, \u001b[38;5;34m30\u001b[0m)             │           \u001b[38;5;34m990\u001b[0m │\n",
       "└─────────────────────────────────┴────────────────────────┴───────────────┘\n"
      ]
     },
     "metadata": {},
     "output_type": "display_data"
    },
    {
     "data": {
      "text/html": [
       "<pre style=\"white-space:pre;overflow-x:auto;line-height:normal;font-family:Menlo,'DejaVu Sans Mono',consolas,'Courier New',monospace\"><span style=\"font-weight: bold\"> Total params: </span><span style=\"color: #00af00; text-decoration-color: #00af00\">60,542</span> (236.49 KB)\n",
       "</pre>\n"
      ],
      "text/plain": [
       "\u001b[1m Total params: \u001b[0m\u001b[38;5;34m60,542\u001b[0m (236.49 KB)\n"
      ]
     },
     "metadata": {},
     "output_type": "display_data"
    },
    {
     "data": {
      "text/html": [
       "<pre style=\"white-space:pre;overflow-x:auto;line-height:normal;font-family:Menlo,'DejaVu Sans Mono',consolas,'Courier New',monospace\"><span style=\"font-weight: bold\"> Trainable params: </span><span style=\"color: #00af00; text-decoration-color: #00af00\">60,542</span> (236.49 KB)\n",
       "</pre>\n"
      ],
      "text/plain": [
       "\u001b[1m Trainable params: \u001b[0m\u001b[38;5;34m60,542\u001b[0m (236.49 KB)\n"
      ]
     },
     "metadata": {},
     "output_type": "display_data"
    },
    {
     "data": {
      "text/html": [
       "<pre style=\"white-space:pre;overflow-x:auto;line-height:normal;font-family:Menlo,'DejaVu Sans Mono',consolas,'Courier New',monospace\"><span style=\"font-weight: bold\"> Non-trainable params: </span><span style=\"color: #00af00; text-decoration-color: #00af00\">0</span> (0.00 B)\n",
       "</pre>\n"
      ],
      "text/plain": [
       "\u001b[1m Non-trainable params: \u001b[0m\u001b[38;5;34m0\u001b[0m (0.00 B)\n"
      ]
     },
     "metadata": {},
     "output_type": "display_data"
    },
    {
     "name": "stdout",
     "output_type": "stream",
     "text": [
      "Epoch 1/20\n",
      "\u001b[1m281/281\u001b[0m \u001b[32m━━━━━━━━━━━━━━━━━━━━\u001b[0m\u001b[37m\u001b[0m \u001b[1m10s\u001b[0m 28ms/step - loss: 0.1356 - mae: 0.2645 - val_loss: 0.0357 - val_mae: 0.1192\n",
      "Epoch 2/20\n",
      "\u001b[1m281/281\u001b[0m \u001b[32m━━━━━━━━━━━━━━━━━━━━\u001b[0m\u001b[37m\u001b[0m \u001b[1m7s\u001b[0m 26ms/step - loss: 0.0204 - mae: 0.0920 - val_loss: 0.0308 - val_mae: 0.1073\n",
      "Epoch 3/20\n",
      "\u001b[1m281/281\u001b[0m \u001b[32m━━━━━━━━━━━━━━━━━━━━\u001b[0m\u001b[37m\u001b[0m \u001b[1m8s\u001b[0m 28ms/step - loss: 0.0148 - mae: 0.0721 - val_loss: 0.0294 - val_mae: 0.0883\n",
      "Epoch 4/20\n",
      "\u001b[1m281/281\u001b[0m \u001b[32m━━━━━━━━━━━━━━━━━━━━\u001b[0m\u001b[37m\u001b[0m \u001b[1m8s\u001b[0m 28ms/step - loss: 0.0124 - mae: 0.0609 - val_loss: 0.0294 - val_mae: 0.0888\n",
      "Epoch 5/20\n",
      "\u001b[1m281/281\u001b[0m \u001b[32m━━━━━━━━━━━━━━━━━━━━\u001b[0m\u001b[37m\u001b[0m \u001b[1m8s\u001b[0m 28ms/step - loss: 0.0113 - mae: 0.0558 - val_loss: 0.0294 - val_mae: 0.0818\n",
      "Epoch 6/20\n",
      "\u001b[1m281/281\u001b[0m \u001b[32m━━━━━━━━━━━━━━━━━━━━\u001b[0m\u001b[37m\u001b[0m \u001b[1m7s\u001b[0m 25ms/step - loss: 0.0106 - mae: 0.0527 - val_loss: 0.0294 - val_mae: 0.0756\n",
      "Epoch 7/20\n",
      "\u001b[1m281/281\u001b[0m \u001b[32m━━━━━━━━━━━━━━━━━━━━\u001b[0m\u001b[37m\u001b[0m \u001b[1m8s\u001b[0m 27ms/step - loss: 0.0100 - mae: 0.0503 - val_loss: 0.0299 - val_mae: 0.0748\n",
      "Epoch 8/20\n",
      "\u001b[1m281/281\u001b[0m \u001b[32m━━━━━━━━━━━━━━━━━━━━\u001b[0m\u001b[37m\u001b[0m \u001b[1m7s\u001b[0m 26ms/step - loss: 0.0093 - mae: 0.0472 - val_loss: 0.0299 - val_mae: 0.0773\n",
      "Epoch 9/20\n",
      "\u001b[1m281/281\u001b[0m \u001b[32m━━━━━━━━━━━━━━━━━━━━\u001b[0m\u001b[37m\u001b[0m \u001b[1m7s\u001b[0m 25ms/step - loss: 0.0089 - mae: 0.0455 - val_loss: 0.0300 - val_mae: 0.0754\n",
      "Epoch 10/20\n",
      "\u001b[1m281/281\u001b[0m \u001b[32m━━━━━━━━━━━━━━━━━━━━\u001b[0m\u001b[37m\u001b[0m \u001b[1m7s\u001b[0m 26ms/step - loss: 0.0086 - mae: 0.0443 - val_loss: 0.0299 - val_mae: 0.0739\n",
      "Epoch 11/20\n",
      "\u001b[1m281/281\u001b[0m \u001b[32m━━━━━━━━━━━━━━━━━━━━\u001b[0m\u001b[37m\u001b[0m \u001b[1m8s\u001b[0m 28ms/step - loss: 0.0086 - mae: 0.0438 - val_loss: 0.0301 - val_mae: 0.0719\n",
      "Epoch 12/20\n",
      "\u001b[1m281/281\u001b[0m \u001b[32m━━━━━━━━━━━━━━━━━━━━\u001b[0m\u001b[37m\u001b[0m \u001b[1m8s\u001b[0m 28ms/step - loss: 0.0084 - mae: 0.0427 - val_loss: 0.0297 - val_mae: 0.0743\n",
      "Epoch 13/20\n",
      "\u001b[1m281/281\u001b[0m \u001b[32m━━━━━━━━━━━━━━━━━━━━\u001b[0m\u001b[37m\u001b[0m \u001b[1m8s\u001b[0m 28ms/step - loss: 0.0081 - mae: 0.0418 - val_loss: 0.0300 - val_mae: 0.0738\n"
     ]
    }
   ],
   "source": [
    "# Train the model\n",
    "print(\"\\nTraining LSTM model...\")\n",
    "lstm_model, history = train_lstm_model(\n",
    "    X_train, y_train, \n",
    "    input_shape, output_shape, \n",
    "    epochs=20,  # Reduced for demonstration\n",
    "    batch_size=32\n",
    ")"
   ]
  },
  {
   "cell_type": "code",
   "execution_count": 100,
   "metadata": {},
   "outputs": [
    {
     "name": "stdout",
     "output_type": "stream",
     "text": [
      "\n",
      "Plotting training history...\n"
     ]
    },
    {
     "data": {
      "image/png": "[encoded data removed]",
      "text/plain": [
       "<Figure size 1200x500 with 2 Axes>"
      ]
     },
     "metadata": {},
     "output_type": "display_data"
    }
   ],
   "source": [
    "# Plot training history\n",
    "print(\"\\nPlotting training history...\")\n",
    "plot_training_history(history)\n"
   ]
  },
  {
   "cell_type": "code",
   "execution_count": 101,
   "metadata": {},
   "outputs": [
    {
     "name": "stdout",
     "output_type": "stream",
     "text": [
      "\n",
      "Evaluating model on test data...\n",
      "Test Loss: 0.0407\n",
      "Test MAE: 0.1045\n",
      "\u001b[1m87/87\u001b[0m \u001b[32m━━━━━━━━━━━━━━━━━━━━\u001b[0m\u001b[37m\u001b[0m \u001b[1m1s\u001b[0m 9ms/step\n"
     ]
    }
   ],
   "source": [
    "\n",
    "# Evaluate the model\n",
    "print(\"\\nEvaluating model on test data...\")\n",
    "y_test_inv, pred_inv = evaluate_model(lstm_model, X_test, y_test, scaler, output_indices)\n",
    "\n"
   ]
  },
  {
   "cell_type": "code",
   "execution_count": 102,
   "metadata": {},
   "outputs": [
    {
     "name": "stdout",
     "output_type": "stream",
     "text": [
      "\n",
      "Plotting predictions vs actual values...\n"
     ]
    },
    {
     "data": {
      "image/png": "[encoded data removed]",
      "text/plain": [
       "<Figure size 1500x1000 with 3 Axes>"
      ]
     },
     "metadata": {},
     "output_type": "display_data"
    }
   ],
   "source": [
    "# Plot predictions\n",
    "print(\"\\nPlotting predictions vs actual values...\")\n",
    "plot_predictions(y_test_inv, pred_inv, output_cols, n_samples=100, n_features=3)\n"
   ]
  },
  {
   "cell_type": "code",
   "execution_count": 103,
   "metadata": {},
   "outputs": [
    {
     "name": "stdout",
     "output_type": "stream",
     "text": [
      "\n",
      "Calculating RMSE for each output feature...\n",
      "Root Mean Squared Error (RMSE) for each output feature:\n",
      " Stage 1  Out  Meas 0  U  Act: 0.3729\n",
      " Stage 1  Out  Meas 1  U  Act: 12.8907\n",
      " Stage 1  Out  Meas 2  U  Act: 1.1134\n",
      " Stage 1  Out  Meas 3  U  Act: 0.6958\n",
      " Stage 1  Out  Meas 4  U  Act: 5.3327\n",
      " Stage 1  Out  Meas 5  U  Act: 0.5044\n",
      " Stage 1  Out  Meas 6  U  Act: 1.0931\n",
      " Stage 1  Out  Meas 7  U  Act: 0.3652\n",
      " Stage 1  Out  Meas 8  U  Act: 3.2787\n",
      " Stage 1  Out  Meas 9  U  Act: 3.2645\n",
      " Stage 1  Out  Meas 1 0  U  Act: 0.2408\n",
      " Stage 1  Out  Meas 1 1  U  Act: 0.4353\n",
      " Stage 1  Out  Meas 1 2  U  Act: 0.0913\n",
      " Stage 1  Out  Meas 1 3  U  Act: 0.7531\n",
      " Stage 1  Out  Meas 1 4  U  Act: 7.0006\n",
      " Stage 2  Out  Meas 0  U  Act: 2.1571\n",
      " Stage 2  Out  Meas 1  U  Act: 0.9941\n",
      " Stage 2  Out  Meas 2  U  Act: 1.4338\n",
      " Stage 2  Out  Meas 3  U  Act: 0.6108\n",
      " Stage 2  Out  Meas 4  U  Act: 6.3579\n",
      " Stage 2  Out  Meas 5  U  Act: 0.5077\n",
      " Stage 2  Out  Meas 6  U  Act: 0.1929\n",
      " Stage 2  Out  Meas 7  U  Act: 0.1802\n",
      " Stage 2  Out  Meas 8  U  Act: 2.1409\n",
      " Stage 2  Out  Meas 9  U  Act: 14.3302\n",
      " Stage 2  Out  Meas 1 0  U  Act: 0.6884\n",
      " Stage 2  Out  Meas 1 1  U  Act: 0.2771\n",
      " Stage 2  Out  Meas 1 2  U  Act: 0.1683\n",
      " Stage 2  Out  Meas 1 3  U  Act: 0.5441\n",
      " Stage 2  Out  Meas 1 4  U  Act: 1.4243\n",
      "\n",
      "Overall RMSE: 4.2070\n",
      "\n",
      "LSTM model training and evaluation complete!\n"
     ]
    }
   ],
   "source": [
    "\n",
    "# Calculate RMSE\n",
    "print(\"\\nCalculating RMSE for each output feature...\")\n",
    "calculate_rmse(y_test_inv, pred_inv, output_cols)\n",
    "\n",
    "print(\"\\nLSTM model training and evaluation complete!\") "
   ]
  },
  {
   "cell_type": "code",
   "execution_count": 104,
   "metadata": {},
   "outputs": [],
   "source": [
    "def calculate_normalized_errors(y_true, y_pred):\n",
    "    # Calculate RMSE\n",
    "    rmse = np.sqrt(np.mean((y_true - y_pred) ** 2))\n",
    "    \n",
    "    # Calculate NRMSE (normalized by the range of the true values)\n",
    "    nrmse_range = rmse / (np.max(y_true) - np.min(y_true))\n",
    "    \n",
    "    # Calculate NRMSE (normalized by the mean of the true values)\n",
    "    nrmse_mean = rmse / np.mean(y_true)\n",
    "    \n",
    "    # Calculate MAPE (Mean Absolute Percentage Error)\n",
    "    # Adding small epsilon to avoid division by zero\n",
    "    mape = np.mean(np.abs((y_true - y_pred) / (y_true + 1e-10))) * 100\n",
    "    \n",
    "    return {\n",
    "        'rmse': rmse,\n",
    "        'nrmse_range': nrmse_range,\n",
    "        'nrmse_mean': nrmse_mean,\n",
    "        'mape': mape\n",
    "    }"
   ]
  },
  {
   "cell_type": "code",
   "execution_count": 105,
   "metadata": {},
   "outputs": [
    {
     "name": "stdout",
     "output_type": "stream",
     "text": [
      "\u001b[1m87/87\u001b[0m \u001b[32m━━━━━━━━━━━━━━━━━━━━\u001b[0m\u001b[37m\u001b[0m \u001b[1m1s\u001b[0m 7ms/step\n",
      "\n",
      "Metrics for Feature_0:\n",
      "RMSE: 0.0179\n",
      "NRMSE (range): 0.7611 - Error relative to data range\n",
      "NRMSE (mean): 0.0289 - Error relative to mean value\n",
      "MAPE: 2.32% - Average percentage error\n",
      "\n",
      "Metrics for Feature_1:\n",
      "RMSE: 0.5788\n",
      "NRMSE (range): 0.7043 - Error relative to data range\n",
      "NRMSE (mean): 3.4642 - Error relative to mean value\n",
      "MAPE: 402.54% - Average percentage error\n",
      "\n",
      "Metrics for Feature_2:\n",
      "RMSE: 0.0391\n",
      "NRMSE (range): 0.2530 - Error relative to data range\n",
      "NRMSE (mean): 0.0685 - Error relative to mean value\n",
      "MAPE: 6.52% - Average percentage error\n",
      "\n",
      "Metrics for Feature_3:\n",
      "RMSE: 0.0265\n",
      "NRMSE (range): 1.1597 - Error relative to data range\n",
      "NRMSE (mean): 0.0323 - Error relative to mean value\n",
      "MAPE: 2.56% - Average percentage error\n",
      "\n",
      "Metrics for Feature_4:\n",
      "RMSE: 0.1536\n",
      "NRMSE (range): 0.1256 - Error relative to data range\n",
      "NRMSE (mean): 0.1588 - Error relative to mean value\n",
      "MAPE: 16480844712.12% - Average percentage error\n",
      "\n",
      "Metrics for Feature_5:\n",
      "RMSE: 0.0913\n",
      "NRMSE (range): 0.1069 - Error relative to data range\n",
      "NRMSE (mean): 0.7681 - Error relative to mean value\n",
      "MAPE: 11.56% - Average percentage error\n",
      "\n",
      "Metrics for Feature_6:\n",
      "RMSE: 0.1406\n",
      "NRMSE (range): 0.1764 - Error relative to data range\n",
      "NRMSE (mean): 0.8969 - Error relative to mean value\n",
      "MAPE: 104.52% - Average percentage error\n",
      "\n",
      "Metrics for Feature_7:\n",
      "RMSE: 0.0614\n",
      "NRMSE (range): 0.1205 - Error relative to data range\n",
      "NRMSE (mean): 0.4743 - Error relative to mean value\n",
      "MAPE: 26.77% - Average percentage error\n",
      "\n",
      "Metrics for Feature_8:\n",
      "RMSE: 0.1526\n",
      "NRMSE (range): 1.6988 - Error relative to data range\n",
      "NRMSE (mean): 0.1568 - Error relative to mean value\n",
      "MAPE: 14.84% - Average percentage error\n",
      "\n",
      "Metrics for Feature_9:\n",
      "RMSE: 0.1596\n",
      "NRMSE (range): 3.2321 - Error relative to data range\n",
      "NRMSE (mean): 0.1717 - Error relative to mean value\n",
      "MAPE: 16.28% - Average percentage error\n",
      "\n",
      "Metrics for Feature_10:\n",
      "RMSE: 0.0184\n",
      "NRMSE (range): 0.4225 - Error relative to data range\n",
      "NRMSE (mean): 0.0314 - Error relative to mean value\n",
      "MAPE: 2.17% - Average percentage error\n",
      "\n",
      "Metrics for Feature_11:\n",
      "RMSE: 0.0583\n",
      "NRMSE (range): inf - Error relative to data range\n",
      "NRMSE (mean): 26644169390253080576.0000 - Error relative to mean value\n",
      "MAPE: 53325793993.09% - Average percentage error\n",
      "\n",
      "Metrics for Feature_12:\n",
      "RMSE: 0.0231\n",
      "NRMSE (range): 0.2535 - Error relative to data range\n",
      "NRMSE (mean): 0.0628 - Error relative to mean value\n",
      "MAPE: 5.30% - Average percentage error\n",
      "\n",
      "Metrics for Feature_13:\n",
      "RMSE: 0.0926\n",
      "NRMSE (range): 0.8012 - Error relative to data range\n",
      "NRMSE (mean): 0.1644 - Error relative to mean value\n",
      "MAPE: 15.72% - Average percentage error\n",
      "\n",
      "Metrics for Feature_14:\n",
      "RMSE: 0.2427\n",
      "NRMSE (range): 0.2864 - Error relative to data range\n",
      "NRMSE (mean): 0.6515 - Error relative to mean value\n",
      "MAPE: 86.67% - Average percentage error\n",
      "\n",
      "Metrics for Feature_15:\n",
      "RMSE: 0.1131\n",
      "NRMSE (range): 0.1600 - Error relative to data range\n",
      "NRMSE (mean): 0.1708 - Error relative to mean value\n",
      "MAPE: 14003581556.71% - Average percentage error\n",
      "\n",
      "Metrics for Feature_16:\n",
      "RMSE: 0.0773\n",
      "NRMSE (range): 0.1318 - Error relative to data range\n",
      "NRMSE (mean): 0.1543 - Error relative to mean value\n",
      "MAPE: 125015.93% - Average percentage error\n",
      "\n",
      "Metrics for Feature_17:\n",
      "RMSE: 0.0867\n",
      "NRMSE (range): 0.1272 - Error relative to data range\n",
      "NRMSE (mean): 0.1323 - Error relative to mean value\n",
      "MAPE: 1474680322.26% - Average percentage error\n",
      "\n",
      "Metrics for Feature_18:\n",
      "RMSE: 0.0242\n",
      "NRMSE (range): 0.3702 - Error relative to data range\n",
      "NRMSE (mean): 0.0311 - Error relative to mean value\n",
      "MAPE: 2.41% - Average percentage error\n",
      "\n",
      "Metrics for Feature_19:\n",
      "RMSE: 0.1860\n",
      "NRMSE (range): 0.1854 - Error relative to data range\n",
      "NRMSE (mean): 5.0563 - Error relative to mean value\n",
      "MAPE: 14501421490.24% - Average percentage error\n",
      "\n",
      "Metrics for Feature_20:\n",
      "RMSE: 0.0626\n",
      "NRMSE (range): 0.1071 - Error relative to data range\n",
      "NRMSE (mean): 0.1696 - Error relative to mean value\n",
      "MAPE: 210162687.09% - Average percentage error\n",
      "\n",
      "Metrics for Feature_21:\n",
      "RMSE: 0.0583\n",
      "NRMSE (range): 0.1015 - Error relative to data range\n",
      "NRMSE (mean): 0.4546 - Error relative to mean value\n",
      "MAPE: 53.94% - Average percentage error\n",
      "\n",
      "Metrics for Feature_22:\n",
      "RMSE: 0.0242\n",
      "NRMSE (range): 0.1085 - Error relative to data range\n",
      "NRMSE (mean): 0.0602 - Error relative to mean value\n",
      "MAPE: 4.51% - Average percentage error\n",
      "\n",
      "Metrics for Feature_23:\n",
      "RMSE: 0.0865\n",
      "NRMSE (range): 0.1007 - Error relative to data range\n",
      "NRMSE (mean): 0.1095 - Error relative to mean value\n",
      "MAPE: 4232210412.78% - Average percentage error\n",
      "\n",
      "Metrics for Feature_24:\n",
      "RMSE: 0.7805\n",
      "NRMSE (range): 0.8330 - Error relative to data range\n",
      "NRMSE (mean): 7.1517 - Error relative to mean value\n",
      "MAPE: 731948931089.19% - Average percentage error\n",
      "\n",
      "Metrics for Feature_25:\n",
      "RMSE: 0.0801\n",
      "NRMSE (range): 1.3498 - Error relative to data range\n",
      "NRMSE (mean): 0.0879 - Error relative to mean value\n",
      "MAPE: 8.50% - Average percentage error\n",
      "\n",
      "Metrics for Feature_26:\n",
      "RMSE: 0.0438\n",
      "NRMSE (range): 0.7292 - Error relative to data range\n",
      "NRMSE (mean): 0.0499 - Error relative to mean value\n",
      "MAPE: 4.46% - Average percentage error\n",
      "\n",
      "Metrics for Feature_27:\n",
      "RMSE: 0.0324\n",
      "NRMSE (range): 0.2714 - Error relative to data range\n",
      "NRMSE (mean): 0.0829 - Error relative to mean value\n",
      "MAPE: 7.55% - Average percentage error\n",
      "\n",
      "Metrics for Feature_28:\n",
      "RMSE: 0.0680\n",
      "NRMSE (range): 0.9222 - Error relative to data range\n",
      "NRMSE (mean): 0.1429 - Error relative to mean value\n",
      "MAPE: 14.05% - Average percentage error\n",
      "\n",
      "Metrics for Feature_29:\n",
      "RMSE: 0.0805\n",
      "NRMSE (range): 0.1387 - Error relative to data range\n",
      "NRMSE (mean): 0.1281 - Error relative to mean value\n",
      "MAPE: 12.67% - Average percentage error\n"
     ]
    },
    {
     "name": "stderr",
     "output_type": "stream",
     "text": [
      "C:\\Users\\micha\\AppData\\Local\\Temp\\ipykernel_17712\\105450877.py:6: RuntimeWarning: divide by zero encountered in scalar divide\n",
      "  nrmse_range = rmse / (np.max(y_true) - np.min(y_true))\n"
     ]
    }
   ],
   "source": [
    "y_pred = lstm_model.predict(X_test)  # Assuming X_test is your test input data\n",
    "\n",
    "# For each output feature\n",
    "normalized_metrics = {}\n",
    "# Assuming y_test and y_pred are numpy arrays with shape (n_samples, n_features)\n",
    "n_features = y_test.shape[1]  # Get number of features\n",
    "\n",
    "for i in range(n_features):\n",
    "    feature_name = f\"Feature_{i}\"  # Or use your actual feature names if you have them\n",
    "    metrics = calculate_normalized_errors(\n",
    "        y_test[:, i],\n",
    "        y_pred[:, i]\n",
    "    )\n",
    "    normalized_metrics[feature_name] = metrics\n",
    "\n",
    "# Print results\n",
    "for feature, metrics in normalized_metrics.items():\n",
    "    print(f\"\\nMetrics for {feature}:\")\n",
    "    print(f\"RMSE: {metrics['rmse']:.4f}\")\n",
    "    print(f\"NRMSE (range): {metrics['nrmse_range']:.4f} - Error relative to data range\")\n",
    "    print(f\"NRMSE (mean): {metrics['nrmse_mean']:.4f} - Error relative to mean value\")\n",
    "    print(f\"MAPE: {metrics['mape']:.2f}% - Average percentage error\")"
   ]
  },
  {
   "cell_type": "markdown",
   "metadata": {},
   "source": [
    "# Prepare for cycle Gan\n"
   ]
  },
  {
   "cell_type": "code",
   "execution_count": 106,
   "metadata": {},
   "outputs": [],
   "source": [
    "\n",
    "# Configuration parameters\n",
    "EPOCHS = 100\n",
    "BATCH_SIZE = 64\n",
    "GEN_LEARNING_RATE = 0.0002\n",
    "DISC_LEARNING_RATE = 0.0002\n",
    "GEN_HIDDEN_LAYERS = [256, 128, 64]\n",
    "DISC_HIDDEN_LAYERS = [64, 32, 16]\n",
    "GEN_DROPOUT_RATE = 0.2\n",
    "DISC_DROPOUT_RATE = 0.3\n",
    "LAMBDA_CYCLE = 10.0\n",
    "LAMBDA_IDENTITY = 1.0\n",
    "VALIDATE_EVERY = 5\n",
    "SAMPLE_INTERVAL = 5\n",
    "SAVE_MODEL_INTERVAL = 20\n"
   ]
  },
  {
   "cell_type": "code",
   "execution_count": 107,
   "metadata": {},
   "outputs": [],
   "source": [
    "\n",
    "def load_and_prepare_data(file_path='continuous_factory_process.csv'):\n",
    "    \"\"\"\n",
    "    Load the manufacturing data and prepare it for the CycleGAN\n",
    "    \n",
    "    Parameters:\n",
    "    -----------\n",
    "    file_path : str\n",
    "        Path to the CSV file with manufacturing data\n",
    "    \n",
    "    Returns:\n",
    "    --------\n",
    "    tuple : (X_train, stage1_train, stage2_train, X_val, stage1_val, stage2_val, X_test, stage1_test, stage2_test, scalers)\n",
    "    \"\"\"\n",
    "    print(f\"Loading data from {file_path}...\")\n",
    "    df = pd.read_csv(file_path)\n",
    "    \n",
    "    # Extract Stage 1 (primary output) measurement columns\n",
    "    stage1_actual_cols = [col for col in df.columns if 'Stage1.Output.Measurement' in col and '.U.Actual' in col]\n",
    "    \n",
    "    # Extract Stage 2 (secondary output) measurement columns\n",
    "    stage2_actual_cols = [col for col in df.columns if 'Stage2.Output.Measurement' in col and '.U.Actual' in col]\n",
    "    \n",
    "    print(f\"Found {len(stage1_actual_cols)} Stage 1 measurement columns\")\n",
    "    print(f\"Found {len(stage2_actual_cols)} Stage 2 measurement columns\")\n",
    "    \n",
    "    # Filter out the time_stamp column from input features\n",
    "    input_cols = [col for col in df.columns if col not in stage1_actual_cols + stage2_actual_cols and col != 'time_stamp']\n",
    "    \n",
    "    print(f\"Using {len(input_cols)} columns as input features\")\n",
    "    \n",
    "    # Preprocess the data\n",
    "    X_scaled, stage1_scaled, stage2_scaled, scalers = preprocess_data(\n",
    "        df, stage1_actual_cols, stage2_actual_cols, input_cols\n",
    "    )\n",
    "    \n",
    "    print(\"Data preprocessing complete\")\n",
    "    print(f\"Input shape: {X_scaled.shape}\")\n",
    "    print(f\"Stage 1 shape: {stage1_scaled.shape}\")\n",
    "    print(f\"Stage 2 shape: {stage2_scaled.shape}\")\n",
    "    \n",
    "    # Split into train, validation, and test sets\n",
    "    data_splits = train_test_validation_split(\n",
    "        X_scaled, stage1_scaled, stage2_scaled, \n",
    "        test_size=0.15, \n",
    "        val_size=0.15\n",
    "    )\n",
    "    \n",
    "    # Save column information for later use\n",
    "    column_info = {\n",
    "        'input_cols': input_cols,\n",
    "        'stage1_cols': stage1_actual_cols,\n",
    "        'stage2_cols': stage2_actual_cols\n",
    "    }\n",
    "    \n",
    "    with open('column_info.json', 'w') as f:\n",
    "        json.dump(column_info, f)\n",
    "    \n",
    "    print(\"Data split complete\")\n",
    "    print(f\"Train set size: {data_splits[0].shape[0]}\")\n",
    "    print(f\"Validation set size: {data_splits[3].shape[0]}\")\n",
    "    print(f\"Test set size: {data_splits[6].shape[0]}\")\n",
    "    \n",
    "    return data_splits + (scalers,)\n"
   ]
  },
  {
   "cell_type": "code",
   "execution_count": 108,
   "metadata": {},
   "outputs": [],
   "source": [
    "\n",
    "def train_cyclegan(data_splits, input_dims, hyperparameters=None):\n",
    "    \"\"\"\n",
    "    Train the CycleGAN model with the provided data\n",
    "    \n",
    "    Parameters:\n",
    "    -----------\n",
    "    data_splits : tuple\n",
    "        The data splits from train_test_validation_split \n",
    "    input_dims : int\n",
    "        Dimension of the input features\n",
    "    hyperparameters : dict, optional\n",
    "        Dictionary of hyperparameters to override defaults\n",
    "        \n",
    "    Returns:\n",
    "    --------\n",
    "    CycleGAN : The trained CycleGAN model\n",
    "    \"\"\"\n",
    "    # Unpack the data splits\n",
    "    X_train, stage1_train, stage2_train, X_val, stage1_val, stage2_val, X_test, stage1_test, stage2_test = data_splits\n",
    "    \n",
    "    # Apply hyperparameters if provided\n",
    "    params = {\n",
    "        'gen_hidden_layers': GEN_HIDDEN_LAYERS,\n",
    "        'disc_hidden_layers': DISC_HIDDEN_LAYERS,\n",
    "        'gen_dropout_rate': GEN_DROPOUT_RATE,\n",
    "        'disc_dropout_rate': DISC_DROPOUT_RATE,\n",
    "        'gen_learning_rate': GEN_LEARNING_RATE,\n",
    "        'disc_learning_rate': DISC_LEARNING_RATE,\n",
    "        'lambda_cycle': LAMBDA_CYCLE,\n",
    "        'lambda_identity': LAMBDA_IDENTITY\n",
    "    }\n",
    "    \n",
    "    if hyperparameters:\n",
    "        params.update(hyperparameters)\n",
    "    \n",
    "    # Log the hyperparameters\n",
    "    print(\"Training with hyperparameters:\")\n",
    "    for k, v in params.items():\n",
    "        print(f\"- {k}: {v}\")\n",
    "    \n",
    "    # Create the model\n",
    "    model = CycleGAN(\n",
    "        input_dims=input_dims,\n",
    "        stage1_dims=stage1_train.shape[1],\n",
    "        stage2_dims=stage2_train.shape[1],\n",
    "        **params\n",
    "    )\n",
    "    \n",
    "    # Create a model directory if it doesn't exist\n",
    "    os.makedirs('models', exist_ok=True)\n",
    "    \n",
    "    # Train the model\n",
    "    print(f\"Starting training for {EPOCHS} epochs with batch size {BATCH_SIZE}...\")\n",
    "    model.train(\n",
    "        input_features=X_train,\n",
    "        stage1_measurements=stage1_train,\n",
    "        stage2_measurements=stage2_train,\n",
    "        epochs=EPOCHS,\n",
    "        batch_size=BATCH_SIZE,\n",
    "        validate_every=VALIDATE_EVERY,\n",
    "        sample_interval=SAMPLE_INTERVAL,\n",
    "        save_model_interval=SAVE_MODEL_INTERVAL,\n",
    "        validation_data=(X_val, stage1_val, stage2_val)\n",
    "    )\n",
    "    \n",
    "    # Save the final model\n",
    "    model.save_models('models/cyclegan_final')\n",
    "    \n",
    "    # Evaluate on test set\n",
    "    print(\"Evaluating on test set...\")\n",
    "    test_metrics = model.evaluate_model(X_test, stage1_test, stage2_test)\n",
    "    \n",
    "    # Print and save test metrics\n",
    "    print(\"Test set metrics:\")\n",
    "    for metric, value in test_metrics.items():\n",
    "        print(f\"- {metric}: {value:.4f}\")\n",
    "    \n",
    "    with open('models/test_metrics.json', 'w') as f:\n",
    "        json.dump(test_metrics, f)\n",
    "    \n",
    "    # Plot training history\n",
    "    model.plot_history()\n",
    "    \n",
    "    return model\n"
   ]
  },
  {
   "cell_type": "code",
   "execution_count": 109,
   "metadata": {},
   "outputs": [
    {
     "name": "stdout",
     "output_type": "stream",
     "text": [
      "Loading data from continuous_factory_process.csv...\n"
     ]
    },
    {
     "name": "stdout",
     "output_type": "stream",
     "text": [
      "Found 15 Stage 1 measurement columns\n",
      "Found 15 Stage 2 measurement columns\n",
      "Using 85 columns as input features\n",
      "Data preprocessing complete\n",
      "Input shape: (14088, 85)\n",
      "Stage 1 shape: (14088, 15)\n",
      "Stage 2 shape: (14088, 15)\n",
      "Data split complete\n",
      "Train set size: 9860\n",
      "Validation set size: 2114\n",
      "Test set size: 2114\n",
      "Training CycleGAN with default hyperparameters...\n",
      "Training with hyperparameters:\n",
      "- gen_hidden_layers: [256, 128, 64]\n",
      "- disc_hidden_layers: [64, 32, 16]\n",
      "- gen_dropout_rate: 0.2\n",
      "- disc_dropout_rate: 0.3\n",
      "- gen_learning_rate: 0.0002\n",
      "- disc_learning_rate: 0.0002\n",
      "- lambda_cycle: 10.0\n",
      "- lambda_identity: 1.0\n",
      "Generator models summary:\n"
     ]
    },
    {
     "data": {
      "text/html": [
       "<pre style=\"white-space:pre;overflow-x:auto;line-height:normal;font-family:Menlo,'DejaVu Sans Mono',consolas,'Courier New',monospace\"><span style=\"font-weight: bold\">Model: \"generator_s1_to_s2\"</span>\n",
       "</pre>\n"
      ],
      "text/plain": [
       "\u001b[1mModel: \"generator_s1_to_s2\"\u001b[0m\n"
      ]
     },
     "metadata": {},
     "output_type": "display_data"
    },
    {
     "data": {
      "text/html": [
       "<pre style=\"white-space:pre;overflow-x:auto;line-height:normal;font-family:Menlo,'DejaVu Sans Mono',consolas,'Courier New',monospace\">┏━━━━━━━━━━━━━━━━━━━━━┳━━━━━━━━━━━━━━━━━━━┳━━━━━━━━━━━━┳━━━━━━━━━━━━━━━━━━━┓\n",
       "┃<span style=\"font-weight: bold\"> Layer (type)        </span>┃<span style=\"font-weight: bold\"> Output Shape      </span>┃<span style=\"font-weight: bold\">    Param # </span>┃<span style=\"font-weight: bold\"> Connected to      </span>┃\n",
       "┡━━━━━━━━━━━━━━━━━━━━━╇━━━━━━━━━━━━━━━━━━━╇━━━━━━━━━━━━╇━━━━━━━━━━━━━━━━━━━┩\n",
       "│ input_features_s1_… │ (<span style=\"color: #00d7ff; text-decoration-color: #00d7ff\">None</span>, <span style=\"color: #00af00; text-decoration-color: #00af00\">85</span>)        │          <span style=\"color: #00af00; text-decoration-color: #00af00\">0</span> │ -                 │\n",
       "│ (<span style=\"color: #0087ff; text-decoration-color: #0087ff\">InputLayer</span>)        │                   │            │                   │\n",
       "├─────────────────────┼───────────────────┼────────────┼───────────────────┤\n",
       "│ stage1_measurements │ (<span style=\"color: #00d7ff; text-decoration-color: #00d7ff\">None</span>, <span style=\"color: #00af00; text-decoration-color: #00af00\">15</span>)        │          <span style=\"color: #00af00; text-decoration-color: #00af00\">0</span> │ -                 │\n",
       "│ (<span style=\"color: #0087ff; text-decoration-color: #0087ff\">InputLayer</span>)        │                   │            │                   │\n",
       "├─────────────────────┼───────────────────┼────────────┼───────────────────┤\n",
       "│ concatenate_20      │ (<span style=\"color: #00d7ff; text-decoration-color: #00d7ff\">None</span>, <span style=\"color: #00af00; text-decoration-color: #00af00\">100</span>)       │          <span style=\"color: #00af00; text-decoration-color: #00af00\">0</span> │ input_features_s… │\n",
       "│ (<span style=\"color: #0087ff; text-decoration-color: #0087ff\">Concatenate</span>)       │                   │            │ stage1_measureme… │\n",
       "├─────────────────────┼───────────────────┼────────────┼───────────────────┤\n",
       "│ g_s1_to_s2_dense_0  │ (<span style=\"color: #00d7ff; text-decoration-color: #00d7ff\">None</span>, <span style=\"color: #00af00; text-decoration-color: #00af00\">256</span>)       │     <span style=\"color: #00af00; text-decoration-color: #00af00\">25,856</span> │ concatenate_20[<span style=\"color: #00af00; text-decoration-color: #00af00\">0</span>… │\n",
       "│ (<span style=\"color: #0087ff; text-decoration-color: #0087ff\">Dense</span>)             │                   │            │                   │\n",
       "├─────────────────────┼───────────────────┼────────────┼───────────────────┤\n",
       "│ leaky_re_lu_60      │ (<span style=\"color: #00d7ff; text-decoration-color: #00d7ff\">None</span>, <span style=\"color: #00af00; text-decoration-color: #00af00\">256</span>)       │          <span style=\"color: #00af00; text-decoration-color: #00af00\">0</span> │ g_s1_to_s2_dense… │\n",
       "│ (<span style=\"color: #0087ff; text-decoration-color: #0087ff\">LeakyReLU</span>)         │                   │            │                   │\n",
       "├─────────────────────┼───────────────────┼────────────┼───────────────────┤\n",
       "│ dropout_63          │ (<span style=\"color: #00d7ff; text-decoration-color: #00d7ff\">None</span>, <span style=\"color: #00af00; text-decoration-color: #00af00\">256</span>)       │          <span style=\"color: #00af00; text-decoration-color: #00af00\">0</span> │ leaky_re_lu_60[<span style=\"color: #00af00; text-decoration-color: #00af00\">0</span>… │\n",
       "│ (<span style=\"color: #0087ff; text-decoration-color: #0087ff\">Dropout</span>)           │                   │            │                   │\n",
       "├─────────────────────┼───────────────────┼────────────┼───────────────────┤\n",
       "│ g_s1_to_s2_dense_1  │ (<span style=\"color: #00d7ff; text-decoration-color: #00d7ff\">None</span>, <span style=\"color: #00af00; text-decoration-color: #00af00\">128</span>)       │     <span style=\"color: #00af00; text-decoration-color: #00af00\">32,896</span> │ dropout_63[<span style=\"color: #00af00; text-decoration-color: #00af00\">0</span>][<span style=\"color: #00af00; text-decoration-color: #00af00\">0</span>]  │\n",
       "│ (<span style=\"color: #0087ff; text-decoration-color: #0087ff\">Dense</span>)             │                   │            │                   │\n",
       "├─────────────────────┼───────────────────┼────────────┼───────────────────┤\n",
       "│ leaky_re_lu_61      │ (<span style=\"color: #00d7ff; text-decoration-color: #00d7ff\">None</span>, <span style=\"color: #00af00; text-decoration-color: #00af00\">128</span>)       │          <span style=\"color: #00af00; text-decoration-color: #00af00\">0</span> │ g_s1_to_s2_dense… │\n",
       "│ (<span style=\"color: #0087ff; text-decoration-color: #0087ff\">LeakyReLU</span>)         │                   │            │                   │\n",
       "├─────────────────────┼───────────────────┼────────────┼───────────────────┤\n",
       "│ dropout_64          │ (<span style=\"color: #00d7ff; text-decoration-color: #00d7ff\">None</span>, <span style=\"color: #00af00; text-decoration-color: #00af00\">128</span>)       │          <span style=\"color: #00af00; text-decoration-color: #00af00\">0</span> │ leaky_re_lu_61[<span style=\"color: #00af00; text-decoration-color: #00af00\">0</span>… │\n",
       "│ (<span style=\"color: #0087ff; text-decoration-color: #0087ff\">Dropout</span>)           │                   │            │                   │\n",
       "├─────────────────────┼───────────────────┼────────────┼───────────────────┤\n",
       "│ g_s1_to_s2_dense_2  │ (<span style=\"color: #00d7ff; text-decoration-color: #00d7ff\">None</span>, <span style=\"color: #00af00; text-decoration-color: #00af00\">64</span>)        │      <span style=\"color: #00af00; text-decoration-color: #00af00\">8,256</span> │ dropout_64[<span style=\"color: #00af00; text-decoration-color: #00af00\">0</span>][<span style=\"color: #00af00; text-decoration-color: #00af00\">0</span>]  │\n",
       "│ (<span style=\"color: #0087ff; text-decoration-color: #0087ff\">Dense</span>)             │                   │            │                   │\n",
       "├─────────────────────┼───────────────────┼────────────┼───────────────────┤\n",
       "│ leaky_re_lu_62      │ (<span style=\"color: #00d7ff; text-decoration-color: #00d7ff\">None</span>, <span style=\"color: #00af00; text-decoration-color: #00af00\">64</span>)        │          <span style=\"color: #00af00; text-decoration-color: #00af00\">0</span> │ g_s1_to_s2_dense… │\n",
       "│ (<span style=\"color: #0087ff; text-decoration-color: #0087ff\">LeakyReLU</span>)         │                   │            │                   │\n",
       "├─────────────────────┼───────────────────┼────────────┼───────────────────┤\n",
       "│ dropout_65          │ (<span style=\"color: #00d7ff; text-decoration-color: #00d7ff\">None</span>, <span style=\"color: #00af00; text-decoration-color: #00af00\">64</span>)        │          <span style=\"color: #00af00; text-decoration-color: #00af00\">0</span> │ leaky_re_lu_62[<span style=\"color: #00af00; text-decoration-color: #00af00\">0</span>… │\n",
       "│ (<span style=\"color: #0087ff; text-decoration-color: #0087ff\">Dropout</span>)           │                   │            │                   │\n",
       "├─────────────────────┼───────────────────┼────────────┼───────────────────┤\n",
       "│ stage2_predictions  │ (<span style=\"color: #00d7ff; text-decoration-color: #00d7ff\">None</span>, <span style=\"color: #00af00; text-decoration-color: #00af00\">15</span>)        │        <span style=\"color: #00af00; text-decoration-color: #00af00\">975</span> │ dropout_65[<span style=\"color: #00af00; text-decoration-color: #00af00\">0</span>][<span style=\"color: #00af00; text-decoration-color: #00af00\">0</span>]  │\n",
       "│ (<span style=\"color: #0087ff; text-decoration-color: #0087ff\">Dense</span>)             │                   │            │                   │\n",
       "└─────────────────────┴───────────────────┴────────────┴───────────────────┘\n",
       "</pre>\n"
      ],
      "text/plain": [
       "┏━━━━━━━━━━━━━━━━━━━━━┳━━━━━━━━━━━━━━━━━━━┳━━━━━━━━━━━━┳━━━━━━━━━━━━━━━━━━━┓\n",
       "┃\u001b[1m \u001b[0m\u001b[1mLayer (type)       \u001b[0m\u001b[1m \u001b[0m┃\u001b[1m \u001b[0m\u001b[1mOutput Shape     \u001b[0m\u001b[1m \u001b[0m┃\u001b[1m \u001b[0m\u001b[1m   Param #\u001b[0m\u001b[1m \u001b[0m┃\u001b[1m \u001b[0m\u001b[1mConnected to     \u001b[0m\u001b[1m \u001b[0m┃\n",
       "┡━━━━━━━━━━━━━━━━━━━━━╇━━━━━━━━━━━━━━━━━━━╇━━━━━━━━━━━━╇━━━━━━━━━━━━━━━━━━━┩\n",
       "│ input_features_s1_… │ (\u001b[38;5;45mNone\u001b[0m, \u001b[38;5;34m85\u001b[0m)        │          \u001b[38;5;34m0\u001b[0m │ -                 │\n",
       "│ (\u001b[38;5;33mInputLayer\u001b[0m)        │                   │            │                   │\n",
       "├─────────────────────┼───────────────────┼────────────┼───────────────────┤\n",
       "│ stage1_measurements │ (\u001b[38;5;45mNone\u001b[0m, \u001b[38;5;34m15\u001b[0m)        │          \u001b[38;5;34m0\u001b[0m │ -                 │\n",
       "│ (\u001b[38;5;33mInputLayer\u001b[0m)        │                   │            │                   │\n",
       "├─────────────────────┼───────────────────┼────────────┼───────────────────┤\n",
       "│ concatenate_20      │ (\u001b[38;5;45mNone\u001b[0m, \u001b[38;5;34m100\u001b[0m)       │          \u001b[38;5;34m0\u001b[0m │ input_features_s… │\n",
       "│ (\u001b[38;5;33mConcatenate\u001b[0m)       │                   │            │ stage1_measureme… │\n",
       "├─────────────────────┼───────────────────┼────────────┼───────────────────┤\n",
       "│ g_s1_to_s2_dense_0  │ (\u001b[38;5;45mNone\u001b[0m, \u001b[38;5;34m256\u001b[0m)       │     \u001b[38;5;34m25,856\u001b[0m │ concatenate_20[\u001b[38;5;34m0\u001b[0m… │\n",
       "│ (\u001b[38;5;33mDense\u001b[0m)             │                   │            │                   │\n",
       "├─────────────────────┼───────────────────┼────────────┼───────────────────┤\n",
       "│ leaky_re_lu_60      │ (\u001b[38;5;45mNone\u001b[0m, \u001b[38;5;34m256\u001b[0m)       │          \u001b[38;5;34m0\u001b[0m │ g_s1_to_s2_dense… │\n",
       "│ (\u001b[38;5;33mLeakyReLU\u001b[0m)         │                   │            │                   │\n",
       "├─────────────────────┼───────────────────┼────────────┼───────────────────┤\n",
       "│ dropout_63          │ (\u001b[38;5;45mNone\u001b[0m, \u001b[38;5;34m256\u001b[0m)       │          \u001b[38;5;34m0\u001b[0m │ leaky_re_lu_60[\u001b[38;5;34m0\u001b[0m… │\n",
       "│ (\u001b[38;5;33mDropout\u001b[0m)           │                   │            │                   │\n",
       "├─────────────────────┼───────────────────┼────────────┼───────────────────┤\n",
       "│ g_s1_to_s2_dense_1  │ (\u001b[38;5;45mNone\u001b[0m, \u001b[38;5;34m128\u001b[0m)       │     \u001b[38;5;34m32,896\u001b[0m │ dropout_63[\u001b[38;5;34m0\u001b[0m][\u001b[38;5;34m0\u001b[0m]  │\n",
       "│ (\u001b[38;5;33mDense\u001b[0m)             │                   │            │                   │\n",
       "├─────────────────────┼───────────────────┼────────────┼───────────────────┤\n",
       "│ leaky_re_lu_61      │ (\u001b[38;5;45mNone\u001b[0m, \u001b[38;5;34m128\u001b[0m)       │          \u001b[38;5;34m0\u001b[0m │ g_s1_to_s2_dense… │\n",
       "│ (\u001b[38;5;33mLeakyReLU\u001b[0m)         │                   │            │                   │\n",
       "├─────────────────────┼───────────────────┼────────────┼───────────────────┤\n",
       "│ dropout_64          │ (\u001b[38;5;45mNone\u001b[0m, \u001b[38;5;34m128\u001b[0m)       │          \u001b[38;5;34m0\u001b[0m │ leaky_re_lu_61[\u001b[38;5;34m0\u001b[0m… │\n",
       "│ (\u001b[38;5;33mDropout\u001b[0m)           │                   │            │                   │\n",
       "├─────────────────────┼───────────────────┼────────────┼───────────────────┤\n",
       "│ g_s1_to_s2_dense_2  │ (\u001b[38;5;45mNone\u001b[0m, \u001b[38;5;34m64\u001b[0m)        │      \u001b[38;5;34m8,256\u001b[0m │ dropout_64[\u001b[38;5;34m0\u001b[0m][\u001b[38;5;34m0\u001b[0m]  │\n",
       "│ (\u001b[38;5;33mDense\u001b[0m)             │                   │            │                   │\n",
       "├─────────────────────┼───────────────────┼────────────┼───────────────────┤\n",
       "│ leaky_re_lu_62      │ (\u001b[38;5;45mNone\u001b[0m, \u001b[38;5;34m64\u001b[0m)        │          \u001b[38;5;34m0\u001b[0m │ g_s1_to_s2_dense… │\n",
       "│ (\u001b[38;5;33mLeakyReLU\u001b[0m)         │                   │            │                   │\n",
       "├─────────────────────┼───────────────────┼────────────┼───────────────────┤\n",
       "│ dropout_65          │ (\u001b[38;5;45mNone\u001b[0m, \u001b[38;5;34m64\u001b[0m)        │          \u001b[38;5;34m0\u001b[0m │ leaky_re_lu_62[\u001b[38;5;34m0\u001b[0m… │\n",
       "│ (\u001b[38;5;33mDropout\u001b[0m)           │                   │            │                   │\n",
       "├─────────────────────┼───────────────────┼────────────┼───────────────────┤\n",
       "│ stage2_predictions  │ (\u001b[38;5;45mNone\u001b[0m, \u001b[38;5;34m15\u001b[0m)        │        \u001b[38;5;34m975\u001b[0m │ dropout_65[\u001b[38;5;34m0\u001b[0m][\u001b[38;5;34m0\u001b[0m]  │\n",
       "│ (\u001b[38;5;33mDense\u001b[0m)             │                   │            │                   │\n",
       "└─────────────────────┴───────────────────┴────────────┴───────────────────┘\n"
      ]
     },
     "metadata": {},
     "output_type": "display_data"
    },
    {
     "data": {
      "text/html": [
       "<pre style=\"white-space:pre;overflow-x:auto;line-height:normal;font-family:Menlo,'DejaVu Sans Mono',consolas,'Courier New',monospace\"><span style=\"font-weight: bold\"> Total params: </span><span style=\"color: #00af00; text-decoration-color: #00af00\">67,983</span> (265.56 KB)\n",
       "</pre>\n"
      ],
      "text/plain": [
       "\u001b[1m Total params: \u001b[0m\u001b[38;5;34m67,983\u001b[0m (265.56 KB)\n"
      ]
     },
     "metadata": {},
     "output_type": "display_data"
    },
    {
     "data": {
      "text/html": [
       "<pre style=\"white-space:pre;overflow-x:auto;line-height:normal;font-family:Menlo,'DejaVu Sans Mono',consolas,'Courier New',monospace\"><span style=\"font-weight: bold\"> Trainable params: </span><span style=\"color: #00af00; text-decoration-color: #00af00\">67,983</span> (265.56 KB)\n",
       "</pre>\n"
      ],
      "text/plain": [
       "\u001b[1m Trainable params: \u001b[0m\u001b[38;5;34m67,983\u001b[0m (265.56 KB)\n"
      ]
     },
     "metadata": {},
     "output_type": "display_data"
    },
    {
     "data": {
      "text/html": [
       "<pre style=\"white-space:pre;overflow-x:auto;line-height:normal;font-family:Menlo,'DejaVu Sans Mono',consolas,'Courier New',monospace\"><span style=\"font-weight: bold\"> Non-trainable params: </span><span style=\"color: #00af00; text-decoration-color: #00af00\">0</span> (0.00 B)\n",
       "</pre>\n"
      ],
      "text/plain": [
       "\u001b[1m Non-trainable params: \u001b[0m\u001b[38;5;34m0\u001b[0m (0.00 B)\n"
      ]
     },
     "metadata": {},
     "output_type": "display_data"
    },
    {
     "data": {
      "text/html": [
       "<pre style=\"white-space:pre;overflow-x:auto;line-height:normal;font-family:Menlo,'DejaVu Sans Mono',consolas,'Courier New',monospace\"><span style=\"font-weight: bold\">Model: \"generator_s2_to_s1\"</span>\n",
       "</pre>\n"
      ],
      "text/plain": [
       "\u001b[1mModel: \"generator_s2_to_s1\"\u001b[0m\n"
      ]
     },
     "metadata": {},
     "output_type": "display_data"
    },
    {
     "data": {
      "text/html": [
       "<pre style=\"white-space:pre;overflow-x:auto;line-height:normal;font-family:Menlo,'DejaVu Sans Mono',consolas,'Courier New',monospace\">┏━━━━━━━━━━━━━━━━━━━━━┳━━━━━━━━━━━━━━━━━━━┳━━━━━━━━━━━━┳━━━━━━━━━━━━━━━━━━━┓\n",
       "┃<span style=\"font-weight: bold\"> Layer (type)        </span>┃<span style=\"font-weight: bold\"> Output Shape      </span>┃<span style=\"font-weight: bold\">    Param # </span>┃<span style=\"font-weight: bold\"> Connected to      </span>┃\n",
       "┡━━━━━━━━━━━━━━━━━━━━━╇━━━━━━━━━━━━━━━━━━━╇━━━━━━━━━━━━╇━━━━━━━━━━━━━━━━━━━┩\n",
       "│ input_features_s2_… │ (<span style=\"color: #00d7ff; text-decoration-color: #00d7ff\">None</span>, <span style=\"color: #00af00; text-decoration-color: #00af00\">85</span>)        │          <span style=\"color: #00af00; text-decoration-color: #00af00\">0</span> │ -                 │\n",
       "│ (<span style=\"color: #0087ff; text-decoration-color: #0087ff\">InputLayer</span>)        │                   │            │                   │\n",
       "├─────────────────────┼───────────────────┼────────────┼───────────────────┤\n",
       "│ stage2_measurements │ (<span style=\"color: #00d7ff; text-decoration-color: #00d7ff\">None</span>, <span style=\"color: #00af00; text-decoration-color: #00af00\">15</span>)        │          <span style=\"color: #00af00; text-decoration-color: #00af00\">0</span> │ -                 │\n",
       "│ (<span style=\"color: #0087ff; text-decoration-color: #0087ff\">InputLayer</span>)        │                   │            │                   │\n",
       "├─────────────────────┼───────────────────┼────────────┼───────────────────┤\n",
       "│ concatenate_21      │ (<span style=\"color: #00d7ff; text-decoration-color: #00d7ff\">None</span>, <span style=\"color: #00af00; text-decoration-color: #00af00\">100</span>)       │          <span style=\"color: #00af00; text-decoration-color: #00af00\">0</span> │ input_features_s… │\n",
       "│ (<span style=\"color: #0087ff; text-decoration-color: #0087ff\">Concatenate</span>)       │                   │            │ stage2_measureme… │\n",
       "├─────────────────────┼───────────────────┼────────────┼───────────────────┤\n",
       "│ g_s2_to_s1_dense_0  │ (<span style=\"color: #00d7ff; text-decoration-color: #00d7ff\">None</span>, <span style=\"color: #00af00; text-decoration-color: #00af00\">256</span>)       │     <span style=\"color: #00af00; text-decoration-color: #00af00\">25,856</span> │ concatenate_21[<span style=\"color: #00af00; text-decoration-color: #00af00\">0</span>… │\n",
       "│ (<span style=\"color: #0087ff; text-decoration-color: #0087ff\">Dense</span>)             │                   │            │                   │\n",
       "├─────────────────────┼───────────────────┼────────────┼───────────────────┤\n",
       "│ leaky_re_lu_63      │ (<span style=\"color: #00d7ff; text-decoration-color: #00d7ff\">None</span>, <span style=\"color: #00af00; text-decoration-color: #00af00\">256</span>)       │          <span style=\"color: #00af00; text-decoration-color: #00af00\">0</span> │ g_s2_to_s1_dense… │\n",
       "│ (<span style=\"color: #0087ff; text-decoration-color: #0087ff\">LeakyReLU</span>)         │                   │            │                   │\n",
       "├─────────────────────┼───────────────────┼────────────┼───────────────────┤\n",
       "│ dropout_66          │ (<span style=\"color: #00d7ff; text-decoration-color: #00d7ff\">None</span>, <span style=\"color: #00af00; text-decoration-color: #00af00\">256</span>)       │          <span style=\"color: #00af00; text-decoration-color: #00af00\">0</span> │ leaky_re_lu_63[<span style=\"color: #00af00; text-decoration-color: #00af00\">0</span>… │\n",
       "│ (<span style=\"color: #0087ff; text-decoration-color: #0087ff\">Dropout</span>)           │                   │            │                   │\n",
       "├─────────────────────┼───────────────────┼────────────┼───────────────────┤\n",
       "│ g_s2_to_s1_dense_1  │ (<span style=\"color: #00d7ff; text-decoration-color: #00d7ff\">None</span>, <span style=\"color: #00af00; text-decoration-color: #00af00\">128</span>)       │     <span style=\"color: #00af00; text-decoration-color: #00af00\">32,896</span> │ dropout_66[<span style=\"color: #00af00; text-decoration-color: #00af00\">0</span>][<span style=\"color: #00af00; text-decoration-color: #00af00\">0</span>]  │\n",
       "│ (<span style=\"color: #0087ff; text-decoration-color: #0087ff\">Dense</span>)             │                   │            │                   │\n",
       "├─────────────────────┼───────────────────┼────────────┼───────────────────┤\n",
       "│ leaky_re_lu_64      │ (<span style=\"color: #00d7ff; text-decoration-color: #00d7ff\">None</span>, <span style=\"color: #00af00; text-decoration-color: #00af00\">128</span>)       │          <span style=\"color: #00af00; text-decoration-color: #00af00\">0</span> │ g_s2_to_s1_dense… │\n",
       "│ (<span style=\"color: #0087ff; text-decoration-color: #0087ff\">LeakyReLU</span>)         │                   │            │                   │\n",
       "├─────────────────────┼───────────────────┼────────────┼───────────────────┤\n",
       "│ dropout_67          │ (<span style=\"color: #00d7ff; text-decoration-color: #00d7ff\">None</span>, <span style=\"color: #00af00; text-decoration-color: #00af00\">128</span>)       │          <span style=\"color: #00af00; text-decoration-color: #00af00\">0</span> │ leaky_re_lu_64[<span style=\"color: #00af00; text-decoration-color: #00af00\">0</span>… │\n",
       "│ (<span style=\"color: #0087ff; text-decoration-color: #0087ff\">Dropout</span>)           │                   │            │                   │\n",
       "├─────────────────────┼───────────────────┼────────────┼───────────────────┤\n",
       "│ g_s2_to_s1_dense_2  │ (<span style=\"color: #00d7ff; text-decoration-color: #00d7ff\">None</span>, <span style=\"color: #00af00; text-decoration-color: #00af00\">64</span>)        │      <span style=\"color: #00af00; text-decoration-color: #00af00\">8,256</span> │ dropout_67[<span style=\"color: #00af00; text-decoration-color: #00af00\">0</span>][<span style=\"color: #00af00; text-decoration-color: #00af00\">0</span>]  │\n",
       "│ (<span style=\"color: #0087ff; text-decoration-color: #0087ff\">Dense</span>)             │                   │            │                   │\n",
       "├─────────────────────┼───────────────────┼────────────┼───────────────────┤\n",
       "│ leaky_re_lu_65      │ (<span style=\"color: #00d7ff; text-decoration-color: #00d7ff\">None</span>, <span style=\"color: #00af00; text-decoration-color: #00af00\">64</span>)        │          <span style=\"color: #00af00; text-decoration-color: #00af00\">0</span> │ g_s2_to_s1_dense… │\n",
       "│ (<span style=\"color: #0087ff; text-decoration-color: #0087ff\">LeakyReLU</span>)         │                   │            │                   │\n",
       "├─────────────────────┼───────────────────┼────────────┼───────────────────┤\n",
       "│ dropout_68          │ (<span style=\"color: #00d7ff; text-decoration-color: #00d7ff\">None</span>, <span style=\"color: #00af00; text-decoration-color: #00af00\">64</span>)        │          <span style=\"color: #00af00; text-decoration-color: #00af00\">0</span> │ leaky_re_lu_65[<span style=\"color: #00af00; text-decoration-color: #00af00\">0</span>… │\n",
       "│ (<span style=\"color: #0087ff; text-decoration-color: #0087ff\">Dropout</span>)           │                   │            │                   │\n",
       "├─────────────────────┼───────────────────┼────────────┼───────────────────┤\n",
       "│ stage1_predictions  │ (<span style=\"color: #00d7ff; text-decoration-color: #00d7ff\">None</span>, <span style=\"color: #00af00; text-decoration-color: #00af00\">15</span>)        │        <span style=\"color: #00af00; text-decoration-color: #00af00\">975</span> │ dropout_68[<span style=\"color: #00af00; text-decoration-color: #00af00\">0</span>][<span style=\"color: #00af00; text-decoration-color: #00af00\">0</span>]  │\n",
       "│ (<span style=\"color: #0087ff; text-decoration-color: #0087ff\">Dense</span>)             │                   │            │                   │\n",
       "└─────────────────────┴───────────────────┴────────────┴───────────────────┘\n",
       "</pre>\n"
      ],
      "text/plain": [
       "┏━━━━━━━━━━━━━━━━━━━━━┳━━━━━━━━━━━━━━━━━━━┳━━━━━━━━━━━━┳━━━━━━━━━━━━━━━━━━━┓\n",
       "┃\u001b[1m \u001b[0m\u001b[1mLayer (type)       \u001b[0m\u001b[1m \u001b[0m┃\u001b[1m \u001b[0m\u001b[1mOutput Shape     \u001b[0m\u001b[1m \u001b[0m┃\u001b[1m \u001b[0m\u001b[1m   Param #\u001b[0m\u001b[1m \u001b[0m┃\u001b[1m \u001b[0m\u001b[1mConnected to     \u001b[0m\u001b[1m \u001b[0m┃\n",
       "┡━━━━━━━━━━━━━━━━━━━━━╇━━━━━━━━━━━━━━━━━━━╇━━━━━━━━━━━━╇━━━━━━━━━━━━━━━━━━━┩\n",
       "│ input_features_s2_… │ (\u001b[38;5;45mNone\u001b[0m, \u001b[38;5;34m85\u001b[0m)        │          \u001b[38;5;34m0\u001b[0m │ -                 │\n",
       "│ (\u001b[38;5;33mInputLayer\u001b[0m)        │                   │            │                   │\n",
       "├─────────────────────┼───────────────────┼────────────┼───────────────────┤\n",
       "│ stage2_measurements │ (\u001b[38;5;45mNone\u001b[0m, \u001b[38;5;34m15\u001b[0m)        │          \u001b[38;5;34m0\u001b[0m │ -                 │\n",
       "│ (\u001b[38;5;33mInputLayer\u001b[0m)        │                   │            │                   │\n",
       "├─────────────────────┼───────────────────┼────────────┼───────────────────┤\n",
       "│ concatenate_21      │ (\u001b[38;5;45mNone\u001b[0m, \u001b[38;5;34m100\u001b[0m)       │          \u001b[38;5;34m0\u001b[0m │ input_features_s… │\n",
       "│ (\u001b[38;5;33mConcatenate\u001b[0m)       │                   │            │ stage2_measureme… │\n",
       "├─────────────────────┼───────────────────┼────────────┼───────────────────┤\n",
       "│ g_s2_to_s1_dense_0  │ (\u001b[38;5;45mNone\u001b[0m, \u001b[38;5;34m256\u001b[0m)       │     \u001b[38;5;34m25,856\u001b[0m │ concatenate_21[\u001b[38;5;34m0\u001b[0m… │\n",
       "│ (\u001b[38;5;33mDense\u001b[0m)             │                   │            │                   │\n",
       "├─────────────────────┼───────────────────┼────────────┼───────────────────┤\n",
       "│ leaky_re_lu_63      │ (\u001b[38;5;45mNone\u001b[0m, \u001b[38;5;34m256\u001b[0m)       │          \u001b[38;5;34m0\u001b[0m │ g_s2_to_s1_dense… │\n",
       "│ (\u001b[38;5;33mLeakyReLU\u001b[0m)         │                   │            │                   │\n",
       "├─────────────────────┼───────────────────┼────────────┼───────────────────┤\n",
       "│ dropout_66          │ (\u001b[38;5;45mNone\u001b[0m, \u001b[38;5;34m256\u001b[0m)       │          \u001b[38;5;34m0\u001b[0m │ leaky_re_lu_63[\u001b[38;5;34m0\u001b[0m… │\n",
       "│ (\u001b[38;5;33mDropout\u001b[0m)           │                   │            │                   │\n",
       "├─────────────────────┼───────────────────┼────────────┼───────────────────┤\n",
       "│ g_s2_to_s1_dense_1  │ (\u001b[38;5;45mNone\u001b[0m, \u001b[38;5;34m128\u001b[0m)       │     \u001b[38;5;34m32,896\u001b[0m │ dropout_66[\u001b[38;5;34m0\u001b[0m][\u001b[38;5;34m0\u001b[0m]  │\n",
       "│ (\u001b[38;5;33mDense\u001b[0m)             │                   │            │                   │\n",
       "├─────────────────────┼───────────────────┼────────────┼───────────────────┤\n",
       "│ leaky_re_lu_64      │ (\u001b[38;5;45mNone\u001b[0m, \u001b[38;5;34m128\u001b[0m)       │          \u001b[38;5;34m0\u001b[0m │ g_s2_to_s1_dense… │\n",
       "│ (\u001b[38;5;33mLeakyReLU\u001b[0m)         │                   │            │                   │\n",
       "├─────────────────────┼───────────────────┼────────────┼───────────────────┤\n",
       "│ dropout_67          │ (\u001b[38;5;45mNone\u001b[0m, \u001b[38;5;34m128\u001b[0m)       │          \u001b[38;5;34m0\u001b[0m │ leaky_re_lu_64[\u001b[38;5;34m0\u001b[0m… │\n",
       "│ (\u001b[38;5;33mDropout\u001b[0m)           │                   │            │                   │\n",
       "├─────────────────────┼───────────────────┼────────────┼───────────────────┤\n",
       "│ g_s2_to_s1_dense_2  │ (\u001b[38;5;45mNone\u001b[0m, \u001b[38;5;34m64\u001b[0m)        │      \u001b[38;5;34m8,256\u001b[0m │ dropout_67[\u001b[38;5;34m0\u001b[0m][\u001b[38;5;34m0\u001b[0m]  │\n",
       "│ (\u001b[38;5;33mDense\u001b[0m)             │                   │            │                   │\n",
       "├─────────────────────┼───────────────────┼────────────┼───────────────────┤\n",
       "│ leaky_re_lu_65      │ (\u001b[38;5;45mNone\u001b[0m, \u001b[38;5;34m64\u001b[0m)        │          \u001b[38;5;34m0\u001b[0m │ g_s2_to_s1_dense… │\n",
       "│ (\u001b[38;5;33mLeakyReLU\u001b[0m)         │                   │            │                   │\n",
       "├─────────────────────┼───────────────────┼────────────┼───────────────────┤\n",
       "│ dropout_68          │ (\u001b[38;5;45mNone\u001b[0m, \u001b[38;5;34m64\u001b[0m)        │          \u001b[38;5;34m0\u001b[0m │ leaky_re_lu_65[\u001b[38;5;34m0\u001b[0m… │\n",
       "│ (\u001b[38;5;33mDropout\u001b[0m)           │                   │            │                   │\n",
       "├─────────────────────┼───────────────────┼────────────┼───────────────────┤\n",
       "│ stage1_predictions  │ (\u001b[38;5;45mNone\u001b[0m, \u001b[38;5;34m15\u001b[0m)        │        \u001b[38;5;34m975\u001b[0m │ dropout_68[\u001b[38;5;34m0\u001b[0m][\u001b[38;5;34m0\u001b[0m]  │\n",
       "│ (\u001b[38;5;33mDense\u001b[0m)             │                   │            │                   │\n",
       "└─────────────────────┴───────────────────┴────────────┴───────────────────┘\n"
      ]
     },
     "metadata": {},
     "output_type": "display_data"
    },
    {
     "data": {
      "text/html": [
       "<pre style=\"white-space:pre;overflow-x:auto;line-height:normal;font-family:Menlo,'DejaVu Sans Mono',consolas,'Courier New',monospace\"><span style=\"font-weight: bold\"> Total params: </span><span style=\"color: #00af00; text-decoration-color: #00af00\">67,983</span> (265.56 KB)\n",
       "</pre>\n"
      ],
      "text/plain": [
       "\u001b[1m Total params: \u001b[0m\u001b[38;5;34m67,983\u001b[0m (265.56 KB)\n"
      ]
     },
     "metadata": {},
     "output_type": "display_data"
    },
    {
     "data": {
      "text/html": [
       "<pre style=\"white-space:pre;overflow-x:auto;line-height:normal;font-family:Menlo,'DejaVu Sans Mono',consolas,'Courier New',monospace\"><span style=\"font-weight: bold\"> Trainable params: </span><span style=\"color: #00af00; text-decoration-color: #00af00\">67,983</span> (265.56 KB)\n",
       "</pre>\n"
      ],
      "text/plain": [
       "\u001b[1m Trainable params: \u001b[0m\u001b[38;5;34m67,983\u001b[0m (265.56 KB)\n"
      ]
     },
     "metadata": {},
     "output_type": "display_data"
    },
    {
     "data": {
      "text/html": [
       "<pre style=\"white-space:pre;overflow-x:auto;line-height:normal;font-family:Menlo,'DejaVu Sans Mono',consolas,'Courier New',monospace\"><span style=\"font-weight: bold\"> Non-trainable params: </span><span style=\"color: #00af00; text-decoration-color: #00af00\">0</span> (0.00 B)\n",
       "</pre>\n"
      ],
      "text/plain": [
       "\u001b[1m Non-trainable params: \u001b[0m\u001b[38;5;34m0\u001b[0m (0.00 B)\n"
      ]
     },
     "metadata": {},
     "output_type": "display_data"
    },
    {
     "name": "stdout",
     "output_type": "stream",
     "text": [
      "Discriminator models summary:\n"
     ]
    },
    {
     "data": {
      "text/html": [
       "<pre style=\"white-space:pre;overflow-x:auto;line-height:normal;font-family:Menlo,'DejaVu Sans Mono',consolas,'Courier New',monospace\"><span style=\"font-weight: bold\">Model: \"discriminator_s1\"</span>\n",
       "</pre>\n"
      ],
      "text/plain": [
       "\u001b[1mModel: \"discriminator_s1\"\u001b[0m\n"
      ]
     },
     "metadata": {},
     "output_type": "display_data"
    },
    {
     "data": {
      "text/html": [
       "<pre style=\"white-space:pre;overflow-x:auto;line-height:normal;font-family:Menlo,'DejaVu Sans Mono',consolas,'Courier New',monospace\">┏━━━━━━━━━━━━━━━━━━━━━┳━━━━━━━━━━━━━━━━━━━┳━━━━━━━━━━━━┳━━━━━━━━━━━━━━━━━━━┓\n",
       "┃<span style=\"font-weight: bold\"> Layer (type)        </span>┃<span style=\"font-weight: bold\"> Output Shape      </span>┃<span style=\"font-weight: bold\">    Param # </span>┃<span style=\"font-weight: bold\"> Connected to      </span>┃\n",
       "┡━━━━━━━━━━━━━━━━━━━━━╇━━━━━━━━━━━━━━━━━━━╇━━━━━━━━━━━━╇━━━━━━━━━━━━━━━━━━━┩\n",
       "│ input_features_d_s1 │ (<span style=\"color: #00d7ff; text-decoration-color: #00d7ff\">None</span>, <span style=\"color: #00af00; text-decoration-color: #00af00\">85</span>)        │          <span style=\"color: #00af00; text-decoration-color: #00af00\">0</span> │ -                 │\n",
       "│ (<span style=\"color: #0087ff; text-decoration-color: #0087ff\">InputLayer</span>)        │                   │            │                   │\n",
       "├─────────────────────┼───────────────────┼────────────┼───────────────────┤\n",
       "│ stage1_measurement… │ (<span style=\"color: #00d7ff; text-decoration-color: #00d7ff\">None</span>, <span style=\"color: #00af00; text-decoration-color: #00af00\">15</span>)        │          <span style=\"color: #00af00; text-decoration-color: #00af00\">0</span> │ -                 │\n",
       "│ (<span style=\"color: #0087ff; text-decoration-color: #0087ff\">InputLayer</span>)        │                   │            │                   │\n",
       "├─────────────────────┼───────────────────┼────────────┼───────────────────┤\n",
       "│ concatenate_22      │ (<span style=\"color: #00d7ff; text-decoration-color: #00d7ff\">None</span>, <span style=\"color: #00af00; text-decoration-color: #00af00\">100</span>)       │          <span style=\"color: #00af00; text-decoration-color: #00af00\">0</span> │ input_features_d… │\n",
       "│ (<span style=\"color: #0087ff; text-decoration-color: #0087ff\">Concatenate</span>)       │                   │            │ stage1_measureme… │\n",
       "├─────────────────────┼───────────────────┼────────────┼───────────────────┤\n",
       "│ d_s1_dense_0        │ (<span style=\"color: #00d7ff; text-decoration-color: #00d7ff\">None</span>, <span style=\"color: #00af00; text-decoration-color: #00af00\">64</span>)        │      <span style=\"color: #00af00; text-decoration-color: #00af00\">6,464</span> │ concatenate_22[<span style=\"color: #00af00; text-decoration-color: #00af00\">0</span>… │\n",
       "│ (<span style=\"color: #0087ff; text-decoration-color: #0087ff\">Dense</span>)             │                   │            │                   │\n",
       "├─────────────────────┼───────────────────┼────────────┼───────────────────┤\n",
       "│ leaky_re_lu_66      │ (<span style=\"color: #00d7ff; text-decoration-color: #00d7ff\">None</span>, <span style=\"color: #00af00; text-decoration-color: #00af00\">64</span>)        │          <span style=\"color: #00af00; text-decoration-color: #00af00\">0</span> │ d_s1_dense_0[<span style=\"color: #00af00; text-decoration-color: #00af00\">0</span>][<span style=\"color: #00af00; text-decoration-color: #00af00\">…</span> │\n",
       "│ (<span style=\"color: #0087ff; text-decoration-color: #0087ff\">LeakyReLU</span>)         │                   │            │                   │\n",
       "├─────────────────────┼───────────────────┼────────────┼───────────────────┤\n",
       "│ dropout_69          │ (<span style=\"color: #00d7ff; text-decoration-color: #00d7ff\">None</span>, <span style=\"color: #00af00; text-decoration-color: #00af00\">64</span>)        │          <span style=\"color: #00af00; text-decoration-color: #00af00\">0</span> │ leaky_re_lu_66[<span style=\"color: #00af00; text-decoration-color: #00af00\">0</span>… │\n",
       "│ (<span style=\"color: #0087ff; text-decoration-color: #0087ff\">Dropout</span>)           │                   │            │                   │\n",
       "├─────────────────────┼───────────────────┼────────────┼───────────────────┤\n",
       "│ d_s1_dense_1        │ (<span style=\"color: #00d7ff; text-decoration-color: #00d7ff\">None</span>, <span style=\"color: #00af00; text-decoration-color: #00af00\">32</span>)        │      <span style=\"color: #00af00; text-decoration-color: #00af00\">2,080</span> │ dropout_69[<span style=\"color: #00af00; text-decoration-color: #00af00\">0</span>][<span style=\"color: #00af00; text-decoration-color: #00af00\">0</span>]  │\n",
       "│ (<span style=\"color: #0087ff; text-decoration-color: #0087ff\">Dense</span>)             │                   │            │                   │\n",
       "├─────────────────────┼───────────────────┼────────────┼───────────────────┤\n",
       "│ leaky_re_lu_67      │ (<span style=\"color: #00d7ff; text-decoration-color: #00d7ff\">None</span>, <span style=\"color: #00af00; text-decoration-color: #00af00\">32</span>)        │          <span style=\"color: #00af00; text-decoration-color: #00af00\">0</span> │ d_s1_dense_1[<span style=\"color: #00af00; text-decoration-color: #00af00\">0</span>][<span style=\"color: #00af00; text-decoration-color: #00af00\">…</span> │\n",
       "│ (<span style=\"color: #0087ff; text-decoration-color: #0087ff\">LeakyReLU</span>)         │                   │            │                   │\n",
       "├─────────────────────┼───────────────────┼────────────┼───────────────────┤\n",
       "│ dropout_70          │ (<span style=\"color: #00d7ff; text-decoration-color: #00d7ff\">None</span>, <span style=\"color: #00af00; text-decoration-color: #00af00\">32</span>)        │          <span style=\"color: #00af00; text-decoration-color: #00af00\">0</span> │ leaky_re_lu_67[<span style=\"color: #00af00; text-decoration-color: #00af00\">0</span>… │\n",
       "│ (<span style=\"color: #0087ff; text-decoration-color: #0087ff\">Dropout</span>)           │                   │            │                   │\n",
       "├─────────────────────┼───────────────────┼────────────┼───────────────────┤\n",
       "│ d_s1_dense_2        │ (<span style=\"color: #00d7ff; text-decoration-color: #00d7ff\">None</span>, <span style=\"color: #00af00; text-decoration-color: #00af00\">16</span>)        │        <span style=\"color: #00af00; text-decoration-color: #00af00\">528</span> │ dropout_70[<span style=\"color: #00af00; text-decoration-color: #00af00\">0</span>][<span style=\"color: #00af00; text-decoration-color: #00af00\">0</span>]  │\n",
       "│ (<span style=\"color: #0087ff; text-decoration-color: #0087ff\">Dense</span>)             │                   │            │                   │\n",
       "├─────────────────────┼───────────────────┼────────────┼───────────────────┤\n",
       "│ leaky_re_lu_68      │ (<span style=\"color: #00d7ff; text-decoration-color: #00d7ff\">None</span>, <span style=\"color: #00af00; text-decoration-color: #00af00\">16</span>)        │          <span style=\"color: #00af00; text-decoration-color: #00af00\">0</span> │ d_s1_dense_2[<span style=\"color: #00af00; text-decoration-color: #00af00\">0</span>][<span style=\"color: #00af00; text-decoration-color: #00af00\">…</span> │\n",
       "│ (<span style=\"color: #0087ff; text-decoration-color: #0087ff\">LeakyReLU</span>)         │                   │            │                   │\n",
       "├─────────────────────┼───────────────────┼────────────┼───────────────────┤\n",
       "│ dropout_71          │ (<span style=\"color: #00d7ff; text-decoration-color: #00d7ff\">None</span>, <span style=\"color: #00af00; text-decoration-color: #00af00\">16</span>)        │          <span style=\"color: #00af00; text-decoration-color: #00af00\">0</span> │ leaky_re_lu_68[<span style=\"color: #00af00; text-decoration-color: #00af00\">0</span>… │\n",
       "│ (<span style=\"color: #0087ff; text-decoration-color: #0087ff\">Dropout</span>)           │                   │            │                   │\n",
       "├─────────────────────┼───────────────────┼────────────┼───────────────────┤\n",
       "│ d_s1_validity       │ (<span style=\"color: #00d7ff; text-decoration-color: #00d7ff\">None</span>, <span style=\"color: #00af00; text-decoration-color: #00af00\">1</span>)         │         <span style=\"color: #00af00; text-decoration-color: #00af00\">17</span> │ dropout_71[<span style=\"color: #00af00; text-decoration-color: #00af00\">0</span>][<span style=\"color: #00af00; text-decoration-color: #00af00\">0</span>]  │\n",
       "│ (<span style=\"color: #0087ff; text-decoration-color: #0087ff\">Dense</span>)             │                   │            │                   │\n",
       "└─────────────────────┴───────────────────┴────────────┴───────────────────┘\n",
       "</pre>\n"
      ],
      "text/plain": [
       "┏━━━━━━━━━━━━━━━━━━━━━┳━━━━━━━━━━━━━━━━━━━┳━━━━━━━━━━━━┳━━━━━━━━━━━━━━━━━━━┓\n",
       "┃\u001b[1m \u001b[0m\u001b[1mLayer (type)       \u001b[0m\u001b[1m \u001b[0m┃\u001b[1m \u001b[0m\u001b[1mOutput Shape     \u001b[0m\u001b[1m \u001b[0m┃\u001b[1m \u001b[0m\u001b[1m   Param #\u001b[0m\u001b[1m \u001b[0m┃\u001b[1m \u001b[0m\u001b[1mConnected to     \u001b[0m\u001b[1m \u001b[0m┃\n",
       "┡━━━━━━━━━━━━━━━━━━━━━╇━━━━━━━━━━━━━━━━━━━╇━━━━━━━━━━━━╇━━━━━━━━━━━━━━━━━━━┩\n",
       "│ input_features_d_s1 │ (\u001b[38;5;45mNone\u001b[0m, \u001b[38;5;34m85\u001b[0m)        │          \u001b[38;5;34m0\u001b[0m │ -                 │\n",
       "│ (\u001b[38;5;33mInputLayer\u001b[0m)        │                   │            │                   │\n",
       "├─────────────────────┼───────────────────┼────────────┼───────────────────┤\n",
       "│ stage1_measurement… │ (\u001b[38;5;45mNone\u001b[0m, \u001b[38;5;34m15\u001b[0m)        │          \u001b[38;5;34m0\u001b[0m │ -                 │\n",
       "│ (\u001b[38;5;33mInputLayer\u001b[0m)        │                   │            │                   │\n",
       "├─────────────────────┼───────────────────┼────────────┼───────────────────┤\n",
       "│ concatenate_22      │ (\u001b[38;5;45mNone\u001b[0m, \u001b[38;5;34m100\u001b[0m)       │          \u001b[38;5;34m0\u001b[0m │ input_features_d… │\n",
       "│ (\u001b[38;5;33mConcatenate\u001b[0m)       │                   │            │ stage1_measureme… │\n",
       "├─────────────────────┼───────────────────┼────────────┼───────────────────┤\n",
       "│ d_s1_dense_0        │ (\u001b[38;5;45mNone\u001b[0m, \u001b[38;5;34m64\u001b[0m)        │      \u001b[38;5;34m6,464\u001b[0m │ concatenate_22[\u001b[38;5;34m0\u001b[0m… │\n",
       "│ (\u001b[38;5;33mDense\u001b[0m)             │                   │            │                   │\n",
       "├─────────────────────┼───────────────────┼────────────┼───────────────────┤\n",
       "│ leaky_re_lu_66      │ (\u001b[38;5;45mNone\u001b[0m, \u001b[38;5;34m64\u001b[0m)        │          \u001b[38;5;34m0\u001b[0m │ d_s1_dense_0[\u001b[38;5;34m0\u001b[0m][\u001b[38;5;34m…\u001b[0m │\n",
       "│ (\u001b[38;5;33mLeakyReLU\u001b[0m)         │                   │            │                   │\n",
       "├─────────────────────┼───────────────────┼────────────┼───────────────────┤\n",
       "│ dropout_69          │ (\u001b[38;5;45mNone\u001b[0m, \u001b[38;5;34m64\u001b[0m)        │          \u001b[38;5;34m0\u001b[0m │ leaky_re_lu_66[\u001b[38;5;34m0\u001b[0m… │\n",
       "│ (\u001b[38;5;33mDropout\u001b[0m)           │                   │            │                   │\n",
       "├─────────────────────┼───────────────────┼────────────┼───────────────────┤\n",
       "│ d_s1_dense_1        │ (\u001b[38;5;45mNone\u001b[0m, \u001b[38;5;34m32\u001b[0m)        │      \u001b[38;5;34m2,080\u001b[0m │ dropout_69[\u001b[38;5;34m0\u001b[0m][\u001b[38;5;34m0\u001b[0m]  │\n",
       "│ (\u001b[38;5;33mDense\u001b[0m)             │                   │            │                   │\n",
       "├─────────────────────┼───────────────────┼────────────┼───────────────────┤\n",
       "│ leaky_re_lu_67      │ (\u001b[38;5;45mNone\u001b[0m, \u001b[38;5;34m32\u001b[0m)        │          \u001b[38;5;34m0\u001b[0m │ d_s1_dense_1[\u001b[38;5;34m0\u001b[0m][\u001b[38;5;34m…\u001b[0m │\n",
       "│ (\u001b[38;5;33mLeakyReLU\u001b[0m)         │                   │            │                   │\n",
       "├─────────────────────┼───────────────────┼────────────┼───────────────────┤\n",
       "│ dropout_70          │ (\u001b[38;5;45mNone\u001b[0m, \u001b[38;5;34m32\u001b[0m)        │          \u001b[38;5;34m0\u001b[0m │ leaky_re_lu_67[\u001b[38;5;34m0\u001b[0m… │\n",
       "│ (\u001b[38;5;33mDropout\u001b[0m)           │                   │            │                   │\n",
       "├─────────────────────┼───────────────────┼────────────┼───────────────────┤\n",
       "│ d_s1_dense_2        │ (\u001b[38;5;45mNone\u001b[0m, \u001b[38;5;34m16\u001b[0m)        │        \u001b[38;5;34m528\u001b[0m │ dropout_70[\u001b[38;5;34m0\u001b[0m][\u001b[38;5;34m0\u001b[0m]  │\n",
       "│ (\u001b[38;5;33mDense\u001b[0m)             │                   │            │                   │\n",
       "├─────────────────────┼───────────────────┼────────────┼───────────────────┤\n",
       "│ leaky_re_lu_68      │ (\u001b[38;5;45mNone\u001b[0m, \u001b[38;5;34m16\u001b[0m)        │          \u001b[38;5;34m0\u001b[0m │ d_s1_dense_2[\u001b[38;5;34m0\u001b[0m][\u001b[38;5;34m…\u001b[0m │\n",
       "│ (\u001b[38;5;33mLeakyReLU\u001b[0m)         │                   │            │                   │\n",
       "├─────────────────────┼───────────────────┼────────────┼───────────────────┤\n",
       "│ dropout_71          │ (\u001b[38;5;45mNone\u001b[0m, \u001b[38;5;34m16\u001b[0m)        │          \u001b[38;5;34m0\u001b[0m │ leaky_re_lu_68[\u001b[38;5;34m0\u001b[0m… │\n",
       "│ (\u001b[38;5;33mDropout\u001b[0m)           │                   │            │                   │\n",
       "├─────────────────────┼───────────────────┼────────────┼───────────────────┤\n",
       "│ d_s1_validity       │ (\u001b[38;5;45mNone\u001b[0m, \u001b[38;5;34m1\u001b[0m)         │         \u001b[38;5;34m17\u001b[0m │ dropout_71[\u001b[38;5;34m0\u001b[0m][\u001b[38;5;34m0\u001b[0m]  │\n",
       "│ (\u001b[38;5;33mDense\u001b[0m)             │                   │            │                   │\n",
       "└─────────────────────┴───────────────────┴────────────┴───────────────────┘\n"
      ]
     },
     "metadata": {},
     "output_type": "display_data"
    },
    {
     "data": {
      "text/html": [
       "<pre style=\"white-space:pre;overflow-x:auto;line-height:normal;font-family:Menlo,'DejaVu Sans Mono',consolas,'Courier New',monospace\"><span style=\"font-weight: bold\"> Total params: </span><span style=\"color: #00af00; text-decoration-color: #00af00\">9,089</span> (35.50 KB)\n",
       "</pre>\n"
      ],
      "text/plain": [
       "\u001b[1m Total params: \u001b[0m\u001b[38;5;34m9,089\u001b[0m (35.50 KB)\n"
      ]
     },
     "metadata": {},
     "output_type": "display_data"
    },
    {
     "data": {
      "text/html": [
       "<pre style=\"white-space:pre;overflow-x:auto;line-height:normal;font-family:Menlo,'DejaVu Sans Mono',consolas,'Courier New',monospace\"><span style=\"font-weight: bold\"> Trainable params: </span><span style=\"color: #00af00; text-decoration-color: #00af00\">9,089</span> (35.50 KB)\n",
       "</pre>\n"
      ],
      "text/plain": [
       "\u001b[1m Trainable params: \u001b[0m\u001b[38;5;34m9,089\u001b[0m (35.50 KB)\n"
      ]
     },
     "metadata": {},
     "output_type": "display_data"
    },
    {
     "data": {
      "text/html": [
       "<pre style=\"white-space:pre;overflow-x:auto;line-height:normal;font-family:Menlo,'DejaVu Sans Mono',consolas,'Courier New',monospace\"><span style=\"font-weight: bold\"> Non-trainable params: </span><span style=\"color: #00af00; text-decoration-color: #00af00\">0</span> (0.00 B)\n",
       "</pre>\n"
      ],
      "text/plain": [
       "\u001b[1m Non-trainable params: \u001b[0m\u001b[38;5;34m0\u001b[0m (0.00 B)\n"
      ]
     },
     "metadata": {},
     "output_type": "display_data"
    },
    {
     "data": {
      "text/html": [
       "<pre style=\"white-space:pre;overflow-x:auto;line-height:normal;font-family:Menlo,'DejaVu Sans Mono',consolas,'Courier New',monospace\"><span style=\"font-weight: bold\">Model: \"discriminator_s2\"</span>\n",
       "</pre>\n"
      ],
      "text/plain": [
       "\u001b[1mModel: \"discriminator_s2\"\u001b[0m\n"
      ]
     },
     "metadata": {},
     "output_type": "display_data"
    },
    {
     "data": {
      "text/html": [
       "<pre style=\"white-space:pre;overflow-x:auto;line-height:normal;font-family:Menlo,'DejaVu Sans Mono',consolas,'Courier New',monospace\">┏━━━━━━━━━━━━━━━━━━━━━┳━━━━━━━━━━━━━━━━━━━┳━━━━━━━━━━━━┳━━━━━━━━━━━━━━━━━━━┓\n",
       "┃<span style=\"font-weight: bold\"> Layer (type)        </span>┃<span style=\"font-weight: bold\"> Output Shape      </span>┃<span style=\"font-weight: bold\">    Param # </span>┃<span style=\"font-weight: bold\"> Connected to      </span>┃\n",
       "┡━━━━━━━━━━━━━━━━━━━━━╇━━━━━━━━━━━━━━━━━━━╇━━━━━━━━━━━━╇━━━━━━━━━━━━━━━━━━━┩\n",
       "│ input_features_d_s2 │ (<span style=\"color: #00d7ff; text-decoration-color: #00d7ff\">None</span>, <span style=\"color: #00af00; text-decoration-color: #00af00\">85</span>)        │          <span style=\"color: #00af00; text-decoration-color: #00af00\">0</span> │ -                 │\n",
       "│ (<span style=\"color: #0087ff; text-decoration-color: #0087ff\">InputLayer</span>)        │                   │            │                   │\n",
       "├─────────────────────┼───────────────────┼────────────┼───────────────────┤\n",
       "│ stage2_measurement… │ (<span style=\"color: #00d7ff; text-decoration-color: #00d7ff\">None</span>, <span style=\"color: #00af00; text-decoration-color: #00af00\">15</span>)        │          <span style=\"color: #00af00; text-decoration-color: #00af00\">0</span> │ -                 │\n",
       "│ (<span style=\"color: #0087ff; text-decoration-color: #0087ff\">InputLayer</span>)        │                   │            │                   │\n",
       "├─────────────────────┼───────────────────┼────────────┼───────────────────┤\n",
       "│ concatenate_23      │ (<span style=\"color: #00d7ff; text-decoration-color: #00d7ff\">None</span>, <span style=\"color: #00af00; text-decoration-color: #00af00\">100</span>)       │          <span style=\"color: #00af00; text-decoration-color: #00af00\">0</span> │ input_features_d… │\n",
       "│ (<span style=\"color: #0087ff; text-decoration-color: #0087ff\">Concatenate</span>)       │                   │            │ stage2_measureme… │\n",
       "├─────────────────────┼───────────────────┼────────────┼───────────────────┤\n",
       "│ d_s2_dense_0        │ (<span style=\"color: #00d7ff; text-decoration-color: #00d7ff\">None</span>, <span style=\"color: #00af00; text-decoration-color: #00af00\">64</span>)        │      <span style=\"color: #00af00; text-decoration-color: #00af00\">6,464</span> │ concatenate_23[<span style=\"color: #00af00; text-decoration-color: #00af00\">0</span>… │\n",
       "│ (<span style=\"color: #0087ff; text-decoration-color: #0087ff\">Dense</span>)             │                   │            │                   │\n",
       "├─────────────────────┼───────────────────┼────────────┼───────────────────┤\n",
       "│ leaky_re_lu_69      │ (<span style=\"color: #00d7ff; text-decoration-color: #00d7ff\">None</span>, <span style=\"color: #00af00; text-decoration-color: #00af00\">64</span>)        │          <span style=\"color: #00af00; text-decoration-color: #00af00\">0</span> │ d_s2_dense_0[<span style=\"color: #00af00; text-decoration-color: #00af00\">0</span>][<span style=\"color: #00af00; text-decoration-color: #00af00\">…</span> │\n",
       "│ (<span style=\"color: #0087ff; text-decoration-color: #0087ff\">LeakyReLU</span>)         │                   │            │                   │\n",
       "├─────────────────────┼───────────────────┼────────────┼───────────────────┤\n",
       "│ dropout_72          │ (<span style=\"color: #00d7ff; text-decoration-color: #00d7ff\">None</span>, <span style=\"color: #00af00; text-decoration-color: #00af00\">64</span>)        │          <span style=\"color: #00af00; text-decoration-color: #00af00\">0</span> │ leaky_re_lu_69[<span style=\"color: #00af00; text-decoration-color: #00af00\">0</span>… │\n",
       "│ (<span style=\"color: #0087ff; text-decoration-color: #0087ff\">Dropout</span>)           │                   │            │                   │\n",
       "├─────────────────────┼───────────────────┼────────────┼───────────────────┤\n",
       "│ d_s2_dense_1        │ (<span style=\"color: #00d7ff; text-decoration-color: #00d7ff\">None</span>, <span style=\"color: #00af00; text-decoration-color: #00af00\">32</span>)        │      <span style=\"color: #00af00; text-decoration-color: #00af00\">2,080</span> │ dropout_72[<span style=\"color: #00af00; text-decoration-color: #00af00\">0</span>][<span style=\"color: #00af00; text-decoration-color: #00af00\">0</span>]  │\n",
       "│ (<span style=\"color: #0087ff; text-decoration-color: #0087ff\">Dense</span>)             │                   │            │                   │\n",
       "├─────────────────────┼───────────────────┼────────────┼───────────────────┤\n",
       "│ leaky_re_lu_70      │ (<span style=\"color: #00d7ff; text-decoration-color: #00d7ff\">None</span>, <span style=\"color: #00af00; text-decoration-color: #00af00\">32</span>)        │          <span style=\"color: #00af00; text-decoration-color: #00af00\">0</span> │ d_s2_dense_1[<span style=\"color: #00af00; text-decoration-color: #00af00\">0</span>][<span style=\"color: #00af00; text-decoration-color: #00af00\">…</span> │\n",
       "│ (<span style=\"color: #0087ff; text-decoration-color: #0087ff\">LeakyReLU</span>)         │                   │            │                   │\n",
       "├─────────────────────┼───────────────────┼────────────┼───────────────────┤\n",
       "│ dropout_73          │ (<span style=\"color: #00d7ff; text-decoration-color: #00d7ff\">None</span>, <span style=\"color: #00af00; text-decoration-color: #00af00\">32</span>)        │          <span style=\"color: #00af00; text-decoration-color: #00af00\">0</span> │ leaky_re_lu_70[<span style=\"color: #00af00; text-decoration-color: #00af00\">0</span>… │\n",
       "│ (<span style=\"color: #0087ff; text-decoration-color: #0087ff\">Dropout</span>)           │                   │            │                   │\n",
       "├─────────────────────┼───────────────────┼────────────┼───────────────────┤\n",
       "│ d_s2_dense_2        │ (<span style=\"color: #00d7ff; text-decoration-color: #00d7ff\">None</span>, <span style=\"color: #00af00; text-decoration-color: #00af00\">16</span>)        │        <span style=\"color: #00af00; text-decoration-color: #00af00\">528</span> │ dropout_73[<span style=\"color: #00af00; text-decoration-color: #00af00\">0</span>][<span style=\"color: #00af00; text-decoration-color: #00af00\">0</span>]  │\n",
       "│ (<span style=\"color: #0087ff; text-decoration-color: #0087ff\">Dense</span>)             │                   │            │                   │\n",
       "├─────────────────────┼───────────────────┼────────────┼───────────────────┤\n",
       "│ leaky_re_lu_71      │ (<span style=\"color: #00d7ff; text-decoration-color: #00d7ff\">None</span>, <span style=\"color: #00af00; text-decoration-color: #00af00\">16</span>)        │          <span style=\"color: #00af00; text-decoration-color: #00af00\">0</span> │ d_s2_dense_2[<span style=\"color: #00af00; text-decoration-color: #00af00\">0</span>][<span style=\"color: #00af00; text-decoration-color: #00af00\">…</span> │\n",
       "│ (<span style=\"color: #0087ff; text-decoration-color: #0087ff\">LeakyReLU</span>)         │                   │            │                   │\n",
       "├─────────────────────┼───────────────────┼────────────┼───────────────────┤\n",
       "│ dropout_74          │ (<span style=\"color: #00d7ff; text-decoration-color: #00d7ff\">None</span>, <span style=\"color: #00af00; text-decoration-color: #00af00\">16</span>)        │          <span style=\"color: #00af00; text-decoration-color: #00af00\">0</span> │ leaky_re_lu_71[<span style=\"color: #00af00; text-decoration-color: #00af00\">0</span>… │\n",
       "│ (<span style=\"color: #0087ff; text-decoration-color: #0087ff\">Dropout</span>)           │                   │            │                   │\n",
       "├─────────────────────┼───────────────────┼────────────┼───────────────────┤\n",
       "│ d_s2_validity       │ (<span style=\"color: #00d7ff; text-decoration-color: #00d7ff\">None</span>, <span style=\"color: #00af00; text-decoration-color: #00af00\">1</span>)         │         <span style=\"color: #00af00; text-decoration-color: #00af00\">17</span> │ dropout_74[<span style=\"color: #00af00; text-decoration-color: #00af00\">0</span>][<span style=\"color: #00af00; text-decoration-color: #00af00\">0</span>]  │\n",
       "│ (<span style=\"color: #0087ff; text-decoration-color: #0087ff\">Dense</span>)             │                   │            │                   │\n",
       "└─────────────────────┴───────────────────┴────────────┴───────────────────┘\n",
       "</pre>\n"
      ],
      "text/plain": [
       "┏━━━━━━━━━━━━━━━━━━━━━┳━━━━━━━━━━━━━━━━━━━┳━━━━━━━━━━━━┳━━━━━━━━━━━━━━━━━━━┓\n",
       "┃\u001b[1m \u001b[0m\u001b[1mLayer (type)       \u001b[0m\u001b[1m \u001b[0m┃\u001b[1m \u001b[0m\u001b[1mOutput Shape     \u001b[0m\u001b[1m \u001b[0m┃\u001b[1m \u001b[0m\u001b[1m   Param #\u001b[0m\u001b[1m \u001b[0m┃\u001b[1m \u001b[0m\u001b[1mConnected to     \u001b[0m\u001b[1m \u001b[0m┃\n",
       "┡━━━━━━━━━━━━━━━━━━━━━╇━━━━━━━━━━━━━━━━━━━╇━━━━━━━━━━━━╇━━━━━━━━━━━━━━━━━━━┩\n",
       "│ input_features_d_s2 │ (\u001b[38;5;45mNone\u001b[0m, \u001b[38;5;34m85\u001b[0m)        │          \u001b[38;5;34m0\u001b[0m │ -                 │\n",
       "│ (\u001b[38;5;33mInputLayer\u001b[0m)        │                   │            │                   │\n",
       "├─────────────────────┼───────────────────┼────────────┼───────────────────┤\n",
       "│ stage2_measurement… │ (\u001b[38;5;45mNone\u001b[0m, \u001b[38;5;34m15\u001b[0m)        │          \u001b[38;5;34m0\u001b[0m │ -                 │\n",
       "│ (\u001b[38;5;33mInputLayer\u001b[0m)        │                   │            │                   │\n",
       "├─────────────────────┼───────────────────┼────────────┼───────────────────┤\n",
       "│ concatenate_23      │ (\u001b[38;5;45mNone\u001b[0m, \u001b[38;5;34m100\u001b[0m)       │          \u001b[38;5;34m0\u001b[0m │ input_features_d… │\n",
       "│ (\u001b[38;5;33mConcatenate\u001b[0m)       │                   │            │ stage2_measureme… │\n",
       "├─────────────────────┼───────────────────┼────────────┼───────────────────┤\n",
       "│ d_s2_dense_0        │ (\u001b[38;5;45mNone\u001b[0m, \u001b[38;5;34m64\u001b[0m)        │      \u001b[38;5;34m6,464\u001b[0m │ concatenate_23[\u001b[38;5;34m0\u001b[0m… │\n",
       "│ (\u001b[38;5;33mDense\u001b[0m)             │                   │            │                   │\n",
       "├─────────────────────┼───────────────────┼────────────┼───────────────────┤\n",
       "│ leaky_re_lu_69      │ (\u001b[38;5;45mNone\u001b[0m, \u001b[38;5;34m64\u001b[0m)        │          \u001b[38;5;34m0\u001b[0m │ d_s2_dense_0[\u001b[38;5;34m0\u001b[0m][\u001b[38;5;34m…\u001b[0m │\n",
       "│ (\u001b[38;5;33mLeakyReLU\u001b[0m)         │                   │            │                   │\n",
       "├─────────────────────┼───────────────────┼────────────┼───────────────────┤\n",
       "│ dropout_72          │ (\u001b[38;5;45mNone\u001b[0m, \u001b[38;5;34m64\u001b[0m)        │          \u001b[38;5;34m0\u001b[0m │ leaky_re_lu_69[\u001b[38;5;34m0\u001b[0m… │\n",
       "│ (\u001b[38;5;33mDropout\u001b[0m)           │                   │            │                   │\n",
       "├─────────────────────┼───────────────────┼────────────┼───────────────────┤\n",
       "│ d_s2_dense_1        │ (\u001b[38;5;45mNone\u001b[0m, \u001b[38;5;34m32\u001b[0m)        │      \u001b[38;5;34m2,080\u001b[0m │ dropout_72[\u001b[38;5;34m0\u001b[0m][\u001b[38;5;34m0\u001b[0m]  │\n",
       "│ (\u001b[38;5;33mDense\u001b[0m)             │                   │            │                   │\n",
       "├─────────────────────┼───────────────────┼────────────┼───────────────────┤\n",
       "│ leaky_re_lu_70      │ (\u001b[38;5;45mNone\u001b[0m, \u001b[38;5;34m32\u001b[0m)        │          \u001b[38;5;34m0\u001b[0m │ d_s2_dense_1[\u001b[38;5;34m0\u001b[0m][\u001b[38;5;34m…\u001b[0m │\n",
       "│ (\u001b[38;5;33mLeakyReLU\u001b[0m)         │                   │            │                   │\n",
       "├─────────────────────┼───────────────────┼────────────┼───────────────────┤\n",
       "│ dropout_73          │ (\u001b[38;5;45mNone\u001b[0m, \u001b[38;5;34m32\u001b[0m)        │          \u001b[38;5;34m0\u001b[0m │ leaky_re_lu_70[\u001b[38;5;34m0\u001b[0m… │\n",
       "│ (\u001b[38;5;33mDropout\u001b[0m)           │                   │            │                   │\n",
       "├─────────────────────┼───────────────────┼────────────┼───────────────────┤\n",
       "│ d_s2_dense_2        │ (\u001b[38;5;45mNone\u001b[0m, \u001b[38;5;34m16\u001b[0m)        │        \u001b[38;5;34m528\u001b[0m │ dropout_73[\u001b[38;5;34m0\u001b[0m][\u001b[38;5;34m0\u001b[0m]  │\n",
       "│ (\u001b[38;5;33mDense\u001b[0m)             │                   │            │                   │\n",
       "├─────────────────────┼───────────────────┼────────────┼───────────────────┤\n",
       "│ leaky_re_lu_71      │ (\u001b[38;5;45mNone\u001b[0m, \u001b[38;5;34m16\u001b[0m)        │          \u001b[38;5;34m0\u001b[0m │ d_s2_dense_2[\u001b[38;5;34m0\u001b[0m][\u001b[38;5;34m…\u001b[0m │\n",
       "│ (\u001b[38;5;33mLeakyReLU\u001b[0m)         │                   │            │                   │\n",
       "├─────────────────────┼───────────────────┼────────────┼───────────────────┤\n",
       "│ dropout_74          │ (\u001b[38;5;45mNone\u001b[0m, \u001b[38;5;34m16\u001b[0m)        │          \u001b[38;5;34m0\u001b[0m │ leaky_re_lu_71[\u001b[38;5;34m0\u001b[0m… │\n",
       "│ (\u001b[38;5;33mDropout\u001b[0m)           │                   │            │                   │\n",
       "├─────────────────────┼───────────────────┼────────────┼───────────────────┤\n",
       "│ d_s2_validity       │ (\u001b[38;5;45mNone\u001b[0m, \u001b[38;5;34m1\u001b[0m)         │         \u001b[38;5;34m17\u001b[0m │ dropout_74[\u001b[38;5;34m0\u001b[0m][\u001b[38;5;34m0\u001b[0m]  │\n",
       "│ (\u001b[38;5;33mDense\u001b[0m)             │                   │            │                   │\n",
       "└─────────────────────┴───────────────────┴────────────┴───────────────────┘\n"
      ]
     },
     "metadata": {},
     "output_type": "display_data"
    },
    {
     "data": {
      "text/html": [
       "<pre style=\"white-space:pre;overflow-x:auto;line-height:normal;font-family:Menlo,'DejaVu Sans Mono',consolas,'Courier New',monospace\"><span style=\"font-weight: bold\"> Total params: </span><span style=\"color: #00af00; text-decoration-color: #00af00\">9,089</span> (35.50 KB)\n",
       "</pre>\n"
      ],
      "text/plain": [
       "\u001b[1m Total params: \u001b[0m\u001b[38;5;34m9,089\u001b[0m (35.50 KB)\n"
      ]
     },
     "metadata": {},
     "output_type": "display_data"
    },
    {
     "data": {
      "text/html": [
       "<pre style=\"white-space:pre;overflow-x:auto;line-height:normal;font-family:Menlo,'DejaVu Sans Mono',consolas,'Courier New',monospace\"><span style=\"font-weight: bold\"> Trainable params: </span><span style=\"color: #00af00; text-decoration-color: #00af00\">9,089</span> (35.50 KB)\n",
       "</pre>\n"
      ],
      "text/plain": [
       "\u001b[1m Trainable params: \u001b[0m\u001b[38;5;34m9,089\u001b[0m (35.50 KB)\n"
      ]
     },
     "metadata": {},
     "output_type": "display_data"
    },
    {
     "data": {
      "text/html": [
       "<pre style=\"white-space:pre;overflow-x:auto;line-height:normal;font-family:Menlo,'DejaVu Sans Mono',consolas,'Courier New',monospace\"><span style=\"font-weight: bold\"> Non-trainable params: </span><span style=\"color: #00af00; text-decoration-color: #00af00\">0</span> (0.00 B)\n",
       "</pre>\n"
      ],
      "text/plain": [
       "\u001b[1m Non-trainable params: \u001b[0m\u001b[38;5;34m0\u001b[0m (0.00 B)\n"
      ]
     },
     "metadata": {},
     "output_type": "display_data"
    },
    {
     "name": "stdout",
     "output_type": "stream",
     "text": [
      "Combined model created\n",
      "Starting training for 100 epochs with batch size 64...\n",
      "\u001b[1m2/2\u001b[0m \u001b[32m━━━━━━━━━━━━━━━━━━━━\u001b[0m\u001b[37m\u001b[0m \u001b[1m0s\u001b[0m 16ms/step\n"
     ]
    },
    {
     "name": "stderr",
     "output_type": "stream",
     "text": [
      "C:\\Users\\micha\\AppData\\Roaming\\Python\\Python312\\site-packages\\keras\\src\\backend\\tensorflow\\trainer.py:82: UserWarning: The model does not have any trainable weights.\n",
      "  warnings.warn(\"The model does not have any trainable weights.\")\n"
     ]
    },
    {
     "name": "stdout",
     "output_type": "stream",
     "text": [
      "\u001b[1m2/2\u001b[0m \u001b[32m━━━━━━━━━━━━━━━━━━━━\u001b[0m\u001b[37m\u001b[0m \u001b[1m0s\u001b[0m 16ms/step\n",
      "Epoch 0/100\n",
      "D_S1 Loss: 0.6810, Acc: 0.6406\n",
      "D_S2 Loss: 0.8228, Acc: 0.5117\n",
      "G Loss: 17.8768\n",
      "Cycle Loss: 1.5034\n",
      "Identity Loss: 1.5034\n",
      "--------------------------------------------------\n",
      "\u001b[1m67/67\u001b[0m \u001b[32m━━━━━━━━━━━━━━━━━━━━\u001b[0m\u001b[37m\u001b[0m \u001b[1m0s\u001b[0m 1ms/step  \n",
      "\u001b[1m67/67\u001b[0m \u001b[32m━━━━━━━━━━━━━━━━━━━━\u001b[0m\u001b[37m\u001b[0m \u001b[1m0s\u001b[0m 2ms/step\n",
      "Validation Results:\n",
      "Stage 1 -> Stage 2 MAE: 0.5793\n",
      "Stage 2 -> Stage 1 MAE: 0.6965\n",
      "--------------------------------------------------\n",
      "\u001b[1m2/2\u001b[0m \u001b[32m━━━━━━━━━━━━━━━━━━━━\u001b[0m\u001b[37m\u001b[0m \u001b[1m0s\u001b[0m 15ms/step\n",
      "\u001b[1m2/2\u001b[0m \u001b[32m━━━━━━━━━━━━━━━━━━━━\u001b[0m\u001b[37m\u001b[0m \u001b[1m0s\u001b[0m 15ms/step\n",
      "\u001b[1m2/2\u001b[0m \u001b[32m━━━━━━━━━━━━━━━━━━━━\u001b[0m\u001b[37m\u001b[0m \u001b[1m0s\u001b[0m 16ms/step\n",
      "\u001b[1m2/2\u001b[0m \u001b[32m━━━━━━━━━━━━━━━━━━━━\u001b[0m\u001b[37m\u001b[0m \u001b[1m0s\u001b[0m 16ms/step\n",
      "\u001b[1m2/2\u001b[0m \u001b[32m━━━━━━━━━━━━━━━━━━━━\u001b[0m\u001b[37m\u001b[0m \u001b[1m0s\u001b[0m 16ms/step\n",
      "\u001b[1m2/2\u001b[0m \u001b[32m━━━━━━━━━━━━━━━━━━━━\u001b[0m\u001b[37m\u001b[0m \u001b[1m0s\u001b[0m 16ms/step\n",
      "\u001b[1m2/2\u001b[0m \u001b[32m━━━━━━━━━━━━━━━━━━━━\u001b[0m\u001b[37m\u001b[0m \u001b[1m0s\u001b[0m 16ms/step\n",
      "\u001b[1m2/2\u001b[0m \u001b[32m━━━━━━━━━━━━━━━━━━━━\u001b[0m\u001b[37m\u001b[0m \u001b[1m0s\u001b[0m 24ms/step\n",
      "\u001b[1m2/2\u001b[0m \u001b[32m━━━━━━━━━━━━━━━━━━━━\u001b[0m\u001b[37m\u001b[0m \u001b[1m0s\u001b[0m 16ms/step\n",
      "\u001b[1m2/2\u001b[0m \u001b[32m━━━━━━━━━━━━━━━━━━━━\u001b[0m\u001b[37m\u001b[0m \u001b[1m0s\u001b[0m 16ms/step\n",
      "Epoch 5/100\n",
      "D_S1 Loss: 0.7790, Acc: 0.4983\n",
      "D_S2 Loss: 0.7642, Acc: 0.4830\n",
      "G Loss: 16.3857\n",
      "Cycle Loss: 1.4011\n",
      "Identity Loss: 1.4011\n",
      "--------------------------------------------------\n",
      "\u001b[1m67/67\u001b[0m \u001b[32m━━━━━━━━━━━━━━━━━━━━\u001b[0m\u001b[37m\u001b[0m \u001b[1m0s\u001b[0m 718us/step\n",
      "\u001b[1m67/67\u001b[0m \u001b[32m━━━━━━━━━━━━━━━━━━━━\u001b[0m\u001b[37m\u001b[0m \u001b[1m0s\u001b[0m 1ms/step  \n",
      "Validation Results:\n",
      "Stage 1 -> Stage 2 MAE: 0.5354\n",
      "Stage 2 -> Stage 1 MAE: 0.6459\n",
      "--------------------------------------------------\n",
      "\u001b[1m2/2\u001b[0m \u001b[32m━━━━━━━━━━━━━━━━━━━━\u001b[0m\u001b[37m\u001b[0m \u001b[1m0s\u001b[0m 16ms/step\n",
      "\u001b[1m2/2\u001b[0m \u001b[32m━━━━━━━━━━━━━━━━━━━━\u001b[0m\u001b[37m\u001b[0m \u001b[1m0s\u001b[0m 15ms/step\n",
      "\u001b[1m2/2\u001b[0m \u001b[32m━━━━━━━━━━━━━━━━━━━━\u001b[0m\u001b[37m\u001b[0m \u001b[1m0s\u001b[0m 15ms/step\n",
      "\u001b[1m2/2\u001b[0m \u001b[32m━━━━━━━━━━━━━━━━━━━━\u001b[0m\u001b[37m\u001b[0m \u001b[1m0s\u001b[0m 16ms/step\n",
      "\u001b[1m2/2\u001b[0m \u001b[32m━━━━━━━━━━━━━━━━━━━━\u001b[0m\u001b[37m\u001b[0m \u001b[1m0s\u001b[0m 16ms/step\n",
      "\u001b[1m2/2\u001b[0m \u001b[32m━━━━━━━━━━━━━━━━━━━━\u001b[0m\u001b[37m\u001b[0m \u001b[1m0s\u001b[0m 16ms/step\n",
      "\u001b[1m2/2\u001b[0m \u001b[32m━━━━━━━━━━━━━━━━━━━━\u001b[0m\u001b[37m\u001b[0m \u001b[1m0s\u001b[0m 16ms/step\n",
      "\u001b[1m2/2\u001b[0m \u001b[32m━━━━━━━━━━━━━━━━━━━━\u001b[0m\u001b[37m\u001b[0m \u001b[1m0s\u001b[0m 16ms/step\n",
      "\u001b[1m2/2\u001b[0m \u001b[32m━━━━━━━━━━━━━━━━━━━━\u001b[0m\u001b[37m\u001b[0m \u001b[1m0s\u001b[0m 16ms/step\n",
      "\u001b[1m2/2\u001b[0m \u001b[32m━━━━━━━━━━━━━━━━━━━━\u001b[0m\u001b[37m\u001b[0m \u001b[1m0s\u001b[0m 23ms/step\n",
      "Epoch 10/100\n",
      "D_S1 Loss: 0.7870, Acc: 0.5019\n",
      "D_S2 Loss: 0.7539, Acc: 0.4953\n",
      "G Loss: 15.7994\n",
      "Cycle Loss: 1.3421\n",
      "Identity Loss: 1.3421\n",
      "--------------------------------------------------\n",
      "\u001b[1m67/67\u001b[0m \u001b[32m━━━━━━━━━━━━━━━━━━━━\u001b[0m\u001b[37m\u001b[0m \u001b[1m0s\u001b[0m 953us/step\n",
      "\u001b[1m67/67\u001b[0m \u001b[32m━━━━━━━━━━━━━━━━━━━━\u001b[0m\u001b[37m\u001b[0m \u001b[1m0s\u001b[0m 2ms/step\n",
      "Validation Results:\n",
      "Stage 1 -> Stage 2 MAE: 0.5060\n",
      "Stage 2 -> Stage 1 MAE: 0.6075\n",
      "--------------------------------------------------\n",
      "\u001b[1m2/2\u001b[0m \u001b[32m━━━━━━━━━━━━━━━━━━━━\u001b[0m\u001b[37m\u001b[0m \u001b[1m0s\u001b[0m 28ms/step\n",
      "\u001b[1m2/2\u001b[0m \u001b[32m━━━━━━━━━━━━━━━━━━━━\u001b[0m\u001b[37m\u001b[0m \u001b[1m0s\u001b[0m 16ms/step\n",
      "\u001b[1m2/2\u001b[0m \u001b[32m━━━━━━━━━━━━━━━━━━━━\u001b[0m\u001b[37m\u001b[0m \u001b[1m0s\u001b[0m 26ms/step\n",
      "\u001b[1m2/2\u001b[0m \u001b[32m━━━━━━━━━━━━━━━━━━━━\u001b[0m\u001b[37m\u001b[0m \u001b[1m0s\u001b[0m 16ms/step\n",
      "\u001b[1m2/2\u001b[0m \u001b[32m━━━━━━━━━━━━━━━━━━━━\u001b[0m\u001b[37m\u001b[0m \u001b[1m0s\u001b[0m 16ms/step\n",
      "\u001b[1m2/2\u001b[0m \u001b[32m━━━━━━━━━━━━━━━━━━━━\u001b[0m\u001b[37m\u001b[0m \u001b[1m0s\u001b[0m 16ms/step\n",
      "\u001b[1m2/2\u001b[0m \u001b[32m━━━━━━━━━━━━━━━━━━━━\u001b[0m\u001b[37m\u001b[0m \u001b[1m0s\u001b[0m 16ms/step\n",
      "\u001b[1m2/2\u001b[0m \u001b[32m━━━━━━━━━━━━━━━━━━━━\u001b[0m\u001b[37m\u001b[0m \u001b[1m0s\u001b[0m 16ms/step\n",
      "\u001b[1m2/2\u001b[0m \u001b[32m━━━━━━━━━━━━━━━━━━━━\u001b[0m\u001b[37m\u001b[0m \u001b[1m0s\u001b[0m 15ms/step\n",
      "\u001b[1m2/2\u001b[0m \u001b[32m━━━━━━━━━━━━━━━━━━━━\u001b[0m\u001b[37m\u001b[0m \u001b[1m0s\u001b[0m 17ms/step\n",
      "Epoch 15/100\n",
      "D_S1 Loss: 0.7879, Acc: 0.4958\n",
      "D_S2 Loss: 0.7569, Acc: 0.4876\n",
      "G Loss: 15.5030\n",
      "Cycle Loss: 1.3146\n",
      "Identity Loss: 1.3146\n",
      "--------------------------------------------------\n",
      "\u001b[1m67/67\u001b[0m \u001b[32m━━━━━━━━━━━━━━━━━━━━\u001b[0m\u001b[37m\u001b[0m \u001b[1m0s\u001b[0m 967us/step\n",
      "\u001b[1m67/67\u001b[0m \u001b[32m━━━━━━━━━━━━━━━━━━━━\u001b[0m\u001b[37m\u001b[0m \u001b[1m0s\u001b[0m 791us/step\n",
      "Validation Results:\n",
      "Stage 1 -> Stage 2 MAE: 0.4820\n",
      "Stage 2 -> Stage 1 MAE: 0.5753\n",
      "--------------------------------------------------\n",
      "\u001b[1m2/2\u001b[0m \u001b[32m━━━━━━━━━━━━━━━━━━━━\u001b[0m\u001b[37m\u001b[0m \u001b[1m0s\u001b[0m 16ms/step\n",
      "\u001b[1m2/2\u001b[0m \u001b[32m━━━━━━━━━━━━━━━━━━━━\u001b[0m\u001b[37m\u001b[0m \u001b[1m0s\u001b[0m 16ms/step\n",
      "\u001b[1m2/2\u001b[0m \u001b[32m━━━━━━━━━━━━━━━━━━━━\u001b[0m\u001b[37m\u001b[0m \u001b[1m0s\u001b[0m 16ms/step\n",
      "\u001b[1m2/2\u001b[0m \u001b[32m━━━━━━━━━━━━━━━━━━━━\u001b[0m\u001b[37m\u001b[0m \u001b[1m0s\u001b[0m 12ms/step\n",
      "\u001b[1m2/2\u001b[0m \u001b[32m━━━━━━━━━━━━━━━━━━━━\u001b[0m\u001b[37m\u001b[0m \u001b[1m0s\u001b[0m 16ms/step\n",
      "\u001b[1m2/2\u001b[0m \u001b[32m━━━━━━━━━━━━━━━━━━━━\u001b[0m\u001b[37m\u001b[0m \u001b[1m0s\u001b[0m 16ms/step\n",
      "\u001b[1m2/2\u001b[0m \u001b[32m━━━━━━━━━━━━━━━━━━━━\u001b[0m\u001b[37m\u001b[0m \u001b[1m0s\u001b[0m 31ms/step\n",
      "\u001b[1m2/2\u001b[0m \u001b[32m━━━━━━━━━━━━━━━━━━━━\u001b[0m\u001b[37m\u001b[0m \u001b[1m0s\u001b[0m 32ms/step\n",
      "\u001b[1m2/2\u001b[0m \u001b[32m━━━━━━━━━━━━━━━━━━━━\u001b[0m\u001b[37m\u001b[0m \u001b[1m0s\u001b[0m 9ms/step \n",
      "\u001b[1m2/2\u001b[0m \u001b[32m━━━━━━━━━━━━━━━━━━━━\u001b[0m\u001b[37m\u001b[0m \u001b[1m0s\u001b[0m 16ms/step\n",
      "Epoch 20/100\n",
      "D_S1 Loss: 0.7900, Acc: 0.4950\n",
      "D_S2 Loss: 0.7591, Acc: 0.4883\n",
      "G Loss: 15.3077\n",
      "Cycle Loss: 1.2958\n",
      "Identity Loss: 1.2958\n",
      "--------------------------------------------------\n",
      "\u001b[1m67/67\u001b[0m \u001b[32m━━━━━━━━━━━━━━━━━━━━\u001b[0m\u001b[37m\u001b[0m \u001b[1m0s\u001b[0m 962us/step\n",
      "\u001b[1m67/67\u001b[0m \u001b[32m━━━━━━━━━━━━━━━━━━━━\u001b[0m\u001b[37m\u001b[0m \u001b[1m0s\u001b[0m 953us/step\n",
      "Validation Results:\n",
      "Stage 1 -> Stage 2 MAE: 0.4599\n",
      "Stage 2 -> Stage 1 MAE: 0.5485\n",
      "--------------------------------------------------\n"
     ]
    },
    {
     "ename": "ValueError",
     "evalue": "The filename must end in `.weights.h5`. Received: filepath=cyclegan_epoch_20_combined_weights.h5",
     "output_type": "error",
     "traceback": [
      "\u001b[1;31m---------------------------------------------------------------------------\u001b[0m",
      "\u001b[1;31mValueError\u001b[0m                                Traceback (most recent call last)",
      "Cell \u001b[1;32mIn[109], line 105\u001b[0m\n\u001b[0;32m    103\u001b[0m \u001b[38;5;66;03m# Train the model with default hyperparameters\u001b[39;00m\n\u001b[0;32m    104\u001b[0m \u001b[38;5;28mprint\u001b[39m(\u001b[38;5;124m\"\u001b[39m\u001b[38;5;124mTraining CycleGAN with default hyperparameters...\u001b[39m\u001b[38;5;124m\"\u001b[39m)\n\u001b[1;32m--> 105\u001b[0m model \u001b[38;5;241m=\u001b[39m \u001b[43mtrain_cyclegan\u001b[49m\u001b[43m(\u001b[49m\u001b[43mdata_splits\u001b[49m\u001b[43m,\u001b[49m\u001b[43m \u001b[49m\u001b[43minput_dims\u001b[49m\u001b[43m)\u001b[49m\n\u001b[0;32m    107\u001b[0m \u001b[38;5;66;03m# Uncomment to run hyperparameter tuning\u001b[39;00m\n\u001b[0;32m    108\u001b[0m \u001b[38;5;250m\u001b[39m\u001b[38;5;124;03m\"\"\"\u001b[39;00m\n\u001b[0;32m    109\u001b[0m \u001b[38;5;124;03mprint(\"Starting hyperparameter tuning...\")\u001b[39;00m\n\u001b[0;32m    110\u001b[0m \u001b[38;5;124;03mparam_grid = [\u001b[39;00m\n\u001b[1;32m   (...)\u001b[0m\n\u001b[0;32m    147\u001b[0m \u001b[38;5;124;03mmodel = train_cyclegan(data_splits, input_dims, best_params)\u001b[39;00m\n\u001b[0;32m    148\u001b[0m \u001b[38;5;124;03m\"\"\"\u001b[39;00m\n",
      "Cell \u001b[1;32mIn[108], line 54\u001b[0m, in \u001b[0;36mtrain_cyclegan\u001b[1;34m(data_splits, input_dims, hyperparameters)\u001b[0m\n\u001b[0;32m     52\u001b[0m \u001b[38;5;66;03m# Train the model\u001b[39;00m\n\u001b[0;32m     53\u001b[0m \u001b[38;5;28mprint\u001b[39m(\u001b[38;5;124mf\u001b[39m\u001b[38;5;124m\"\u001b[39m\u001b[38;5;124mStarting training for \u001b[39m\u001b[38;5;132;01m{\u001b[39;00mEPOCHS\u001b[38;5;132;01m}\u001b[39;00m\u001b[38;5;124m epochs with batch size \u001b[39m\u001b[38;5;132;01m{\u001b[39;00mBATCH_SIZE\u001b[38;5;132;01m}\u001b[39;00m\u001b[38;5;124m...\u001b[39m\u001b[38;5;124m\"\u001b[39m)\n\u001b[1;32m---> 54\u001b[0m \u001b[43mmodel\u001b[49m\u001b[38;5;241;43m.\u001b[39;49m\u001b[43mtrain\u001b[49m\u001b[43m(\u001b[49m\n\u001b[0;32m     55\u001b[0m \u001b[43m    \u001b[49m\u001b[43minput_features\u001b[49m\u001b[38;5;241;43m=\u001b[39;49m\u001b[43mX_train\u001b[49m\u001b[43m,\u001b[49m\n\u001b[0;32m     56\u001b[0m \u001b[43m    \u001b[49m\u001b[43mstage1_measurements\u001b[49m\u001b[38;5;241;43m=\u001b[39;49m\u001b[43mstage1_train\u001b[49m\u001b[43m,\u001b[49m\n\u001b[0;32m     57\u001b[0m \u001b[43m    \u001b[49m\u001b[43mstage2_measurements\u001b[49m\u001b[38;5;241;43m=\u001b[39;49m\u001b[43mstage2_train\u001b[49m\u001b[43m,\u001b[49m\n\u001b[0;32m     58\u001b[0m \u001b[43m    \u001b[49m\u001b[43mepochs\u001b[49m\u001b[38;5;241;43m=\u001b[39;49m\u001b[43mEPOCHS\u001b[49m\u001b[43m,\u001b[49m\n\u001b[0;32m     59\u001b[0m \u001b[43m    \u001b[49m\u001b[43mbatch_size\u001b[49m\u001b[38;5;241;43m=\u001b[39;49m\u001b[43mBATCH_SIZE\u001b[49m\u001b[43m,\u001b[49m\n\u001b[0;32m     60\u001b[0m \u001b[43m    \u001b[49m\u001b[43mvalidate_every\u001b[49m\u001b[38;5;241;43m=\u001b[39;49m\u001b[43mVALIDATE_EVERY\u001b[49m\u001b[43m,\u001b[49m\n\u001b[0;32m     61\u001b[0m \u001b[43m    \u001b[49m\u001b[43msample_interval\u001b[49m\u001b[38;5;241;43m=\u001b[39;49m\u001b[43mSAMPLE_INTERVAL\u001b[49m\u001b[43m,\u001b[49m\n\u001b[0;32m     62\u001b[0m \u001b[43m    \u001b[49m\u001b[43msave_model_interval\u001b[49m\u001b[38;5;241;43m=\u001b[39;49m\u001b[43mSAVE_MODEL_INTERVAL\u001b[49m\u001b[43m,\u001b[49m\n\u001b[0;32m     63\u001b[0m \u001b[43m    \u001b[49m\u001b[43mvalidation_data\u001b[49m\u001b[38;5;241;43m=\u001b[39;49m\u001b[43m(\u001b[49m\u001b[43mX_val\u001b[49m\u001b[43m,\u001b[49m\u001b[43m \u001b[49m\u001b[43mstage1_val\u001b[49m\u001b[43m,\u001b[49m\u001b[43m \u001b[49m\u001b[43mstage2_val\u001b[49m\u001b[43m)\u001b[49m\n\u001b[0;32m     64\u001b[0m \u001b[43m\u001b[49m\u001b[43m)\u001b[49m\n\u001b[0;32m     66\u001b[0m \u001b[38;5;66;03m# Save the final model\u001b[39;00m\n\u001b[0;32m     67\u001b[0m model\u001b[38;5;241m.\u001b[39msave_models(\u001b[38;5;124m'\u001b[39m\u001b[38;5;124mmodels/cyclegan_final\u001b[39m\u001b[38;5;124m'\u001b[39m)\n",
      "File \u001b[1;32mc:\\Users\\micha\\OneDrive\\Desktop\\DTSA5511 Deep Learning\\Final Project\\cycle_gan.py:341\u001b[0m, in \u001b[0;36mCycleGAN.train\u001b[1;34m(self, input_features, stage1_measurements, stage2_measurements, epochs, batch_size, validate_every, sample_interval, save_model_interval, validation_data)\u001b[0m\n\u001b[0;32m    339\u001b[0m \u001b[38;5;66;03m# Save the model periodically\u001b[39;00m\n\u001b[0;32m    340\u001b[0m \u001b[38;5;28;01mif\u001b[39;00m epoch \u001b[38;5;241m%\u001b[39m save_model_interval \u001b[38;5;241m==\u001b[39m \u001b[38;5;241m0\u001b[39m \u001b[38;5;129;01mand\u001b[39;00m epoch \u001b[38;5;241m>\u001b[39m \u001b[38;5;241m0\u001b[39m:\n\u001b[1;32m--> 341\u001b[0m     \u001b[38;5;28;43mself\u001b[39;49m\u001b[38;5;241;43m.\u001b[39;49m\u001b[43msave_models\u001b[49m\u001b[43m(\u001b[49m\u001b[38;5;124;43mf\u001b[39;49m\u001b[38;5;124;43m\"\u001b[39;49m\u001b[38;5;124;43mcyclegan_epoch_\u001b[39;49m\u001b[38;5;132;43;01m{\u001b[39;49;00m\u001b[43mepoch\u001b[49m\u001b[38;5;132;43;01m}\u001b[39;49;00m\u001b[38;5;124;43m\"\u001b[39;49m\u001b[43m)\u001b[49m\n",
      "File \u001b[1;32mc:\\Users\\micha\\OneDrive\\Desktop\\DTSA5511 Deep Learning\\Final Project\\cycle_gan.py:418\u001b[0m, in \u001b[0;36mCycleGAN.save_models\u001b[1;34m(self, model_name_prefix)\u001b[0m\n\u001b[0;32m    415\u001b[0m \u001b[38;5;28mself\u001b[39m\u001b[38;5;241m.\u001b[39mD_S2\u001b[38;5;241m.\u001b[39msave(\u001b[38;5;124mf\u001b[39m\u001b[38;5;124m\"\u001b[39m\u001b[38;5;132;01m{\u001b[39;00mmodel_name_prefix\u001b[38;5;132;01m}\u001b[39;00m\u001b[38;5;124m_d_s2.keras\u001b[39m\u001b[38;5;124m\"\u001b[39m)\n\u001b[0;32m    417\u001b[0m \u001b[38;5;66;03m# Save weights separately for the combined model (can't save the entire model easily)\u001b[39;00m\n\u001b[1;32m--> 418\u001b[0m \u001b[38;5;28;43mself\u001b[39;49m\u001b[38;5;241;43m.\u001b[39;49m\u001b[43mcombined\u001b[49m\u001b[38;5;241;43m.\u001b[39;49m\u001b[43msave_weights\u001b[49m\u001b[43m(\u001b[49m\u001b[38;5;124;43mf\u001b[39;49m\u001b[38;5;124;43m\"\u001b[39;49m\u001b[38;5;132;43;01m{\u001b[39;49;00m\u001b[43mmodel_name_prefix\u001b[49m\u001b[38;5;132;43;01m}\u001b[39;49;00m\u001b[38;5;124;43m_combined_weights.h5\u001b[39;49m\u001b[38;5;124;43m\"\u001b[39;49m\u001b[43m)\u001b[49m\n\u001b[0;32m    420\u001b[0m \u001b[38;5;66;03m# Save history\u001b[39;00m\n\u001b[0;32m    421\u001b[0m np\u001b[38;5;241m.\u001b[39msave(\u001b[38;5;124mf\u001b[39m\u001b[38;5;124m\"\u001b[39m\u001b[38;5;132;01m{\u001b[39;00mmodel_name_prefix\u001b[38;5;132;01m}\u001b[39;00m\u001b[38;5;124m_history.npy\u001b[39m\u001b[38;5;124m\"\u001b[39m, \u001b[38;5;28mself\u001b[39m\u001b[38;5;241m.\u001b[39mhistory)\n",
      "File \u001b[1;32m~\\AppData\\Roaming\\Python\\Python312\\site-packages\\keras\\src\\utils\\traceback_utils.py:122\u001b[0m, in \u001b[0;36mfilter_traceback.<locals>.error_handler\u001b[1;34m(*args, **kwargs)\u001b[0m\n\u001b[0;32m    119\u001b[0m     filtered_tb \u001b[38;5;241m=\u001b[39m _process_traceback_frames(e\u001b[38;5;241m.\u001b[39m__traceback__)\n\u001b[0;32m    120\u001b[0m     \u001b[38;5;66;03m# To get the full stack trace, call:\u001b[39;00m\n\u001b[0;32m    121\u001b[0m     \u001b[38;5;66;03m# `keras.config.disable_traceback_filtering()`\u001b[39;00m\n\u001b[1;32m--> 122\u001b[0m     \u001b[38;5;28;01mraise\u001b[39;00m e\u001b[38;5;241m.\u001b[39mwith_traceback(filtered_tb) \u001b[38;5;28;01mfrom\u001b[39;00m \u001b[38;5;28;01mNone\u001b[39;00m\n\u001b[0;32m    123\u001b[0m \u001b[38;5;28;01mfinally\u001b[39;00m:\n\u001b[0;32m    124\u001b[0m     \u001b[38;5;28;01mdel\u001b[39;00m filtered_tb\n",
      "File \u001b[1;32m~\\AppData\\Roaming\\Python\\Python312\\site-packages\\keras\\src\\saving\\saving_api.py:224\u001b[0m, in \u001b[0;36msave_weights\u001b[1;34m(model, filepath, overwrite, **kwargs)\u001b[0m\n\u001b[0;32m    221\u001b[0m \u001b[38;5;129m@keras_export\u001b[39m(\u001b[38;5;124m\"\u001b[39m\u001b[38;5;124mkeras.saving.save_weights\u001b[39m\u001b[38;5;124m\"\u001b[39m)\n\u001b[0;32m    222\u001b[0m \u001b[38;5;28;01mdef\u001b[39;00m \u001b[38;5;21msave_weights\u001b[39m(model, filepath, overwrite\u001b[38;5;241m=\u001b[39m\u001b[38;5;28;01mTrue\u001b[39;00m, \u001b[38;5;241m*\u001b[39m\u001b[38;5;241m*\u001b[39mkwargs):\n\u001b[0;32m    223\u001b[0m     \u001b[38;5;28;01mif\u001b[39;00m \u001b[38;5;129;01mnot\u001b[39;00m \u001b[38;5;28mstr\u001b[39m(filepath)\u001b[38;5;241m.\u001b[39mendswith(\u001b[38;5;124m\"\u001b[39m\u001b[38;5;124m.weights.h5\u001b[39m\u001b[38;5;124m\"\u001b[39m):\n\u001b[1;32m--> 224\u001b[0m         \u001b[38;5;28;01mraise\u001b[39;00m \u001b[38;5;167;01mValueError\u001b[39;00m(\n\u001b[0;32m    225\u001b[0m             \u001b[38;5;124m\"\u001b[39m\u001b[38;5;124mThe filename must end in `.weights.h5`. \u001b[39m\u001b[38;5;124m\"\u001b[39m\n\u001b[0;32m    226\u001b[0m             \u001b[38;5;124mf\u001b[39m\u001b[38;5;124m\"\u001b[39m\u001b[38;5;124mReceived: filepath=\u001b[39m\u001b[38;5;132;01m{\u001b[39;00mfilepath\u001b[38;5;132;01m}\u001b[39;00m\u001b[38;5;124m\"\u001b[39m\n\u001b[0;32m    227\u001b[0m         )\n\u001b[0;32m    228\u001b[0m     \u001b[38;5;28;01mtry\u001b[39;00m:\n\u001b[0;32m    229\u001b[0m         exists \u001b[38;5;241m=\u001b[39m os\u001b[38;5;241m.\u001b[39mpath\u001b[38;5;241m.\u001b[39mexists(filepath)\n",
      "\u001b[1;31mValueError\u001b[0m: The filename must end in `.weights.h5`. Received: filepath=cyclegan_epoch_20_combined_weights.h5"
     ]
    }
   ],
   "source": [
    "\n",
    "def hyperparameter_tuning(data_splits, input_dims, param_grid):\n",
    "    \"\"\"\n",
    "    Simple hyperparameter tuning for the CycleGAN model\n",
    "    \n",
    "    Parameters:\n",
    "    -----------\n",
    "    data_splits : tuple\n",
    "        The data splits from train_test_validation_split\n",
    "    input_dims : int\n",
    "        Dimension of the input features\n",
    "    param_grid : dict\n",
    "        Dictionary of hyperparameter options to try\n",
    "        \n",
    "    Returns:\n",
    "    --------\n",
    "    tuple : (best_params, best_metrics)\n",
    "    \"\"\"\n",
    "    X_train, stage1_train, stage2_train, X_val, stage1_val, stage2_val, _, _, _ = data_splits\n",
    "    \n",
    "    # Use a small subset for faster tuning\n",
    "    subset_size = min(1000, X_train.shape[0])\n",
    "    idx = np.random.choice(X_train.shape[0], subset_size, replace=False)\n",
    "    X_subset = X_train[idx]\n",
    "    stage1_subset = stage1_train[idx]\n",
    "    stage2_subset = stage2_train[idx]\n",
    "    \n",
    "    # Track best parameters and performance\n",
    "    best_params = None\n",
    "    best_metrics = None\n",
    "    best_loss = float('inf')\n",
    "    \n",
    "    # Create a directory for tuning results\n",
    "    os.makedirs('tuning_results', exist_ok=True)\n",
    "    \n",
    "    # Simple grid search over parameters\n",
    "    tuning_results = []\n",
    "    \n",
    "    for i, params in enumerate(param_grid):\n",
    "        print(f\"Tuning configuration {i+1}/{len(param_grid)}\")\n",
    "        print(f\"Parameters: {params}\")\n",
    "        \n",
    "        # Create and train model with current params\n",
    "        model = CycleGAN(\n",
    "            input_dims=input_dims,\n",
    "            stage1_dims=stage1_train.shape[1],\n",
    "            stage2_dims=stage2_train.shape[1],\n",
    "            **params\n",
    "        )\n",
    "        \n",
    "        # Train for a limited number of epochs\n",
    "        model.train(\n",
    "            input_features=X_subset,\n",
    "            stage1_measurements=stage1_subset,\n",
    "            stage2_measurements=stage2_subset,\n",
    "            epochs=20,  # Short training for tuning\n",
    "            batch_size=64,\n",
    "            validate_every=5,\n",
    "            sample_interval=10,\n",
    "            save_model_interval=999,  # Don't save during tuning\n",
    "            validation_data=(X_val, stage1_val, stage2_val)\n",
    "        )\n",
    "        \n",
    "        # Evaluate on validation set\n",
    "        metrics = model.evaluate_model(X_val, stage1_val, stage2_val)\n",
    "        \n",
    "        # Save this configuration and its results\n",
    "        result = {\n",
    "            'params': params,\n",
    "            'metrics': metrics,\n",
    "            'total_loss': metrics['stage1_mae'] + metrics['stage2_mae'] + 0.5 * metrics['cycle_s1_mae'] + 0.5 * metrics['cycle_s2_mae']\n",
    "        }\n",
    "        tuning_results.append(result)\n",
    "        \n",
    "        # Check if this is the best configuration\n",
    "        if result['total_loss'] < best_loss:\n",
    "            best_loss = result['total_loss']\n",
    "            best_params = params\n",
    "            best_metrics = metrics\n",
    "            \n",
    "        # Save intermediate results\n",
    "        with open(f'tuning_results/tuning_results_{i}.json', 'w') as f:\n",
    "            json.dump(result, f)\n",
    "    \n",
    "    # Save all tuning results\n",
    "    with open('tuning_results/all_tuning_results.json', 'w') as f:\n",
    "        json.dump(tuning_results, f)\n",
    "        \n",
    "    print(\"Hyperparameter tuning complete\")\n",
    "    print(f\"Best parameters: {best_params}\")\n",
    "    print(f\"Best metrics: {best_metrics}\")\n",
    "    \n",
    "    return best_params, best_metrics\n",
    "\n",
    "if __name__ == \"__main__\":\n",
    "    # Load and prepare data\n",
    "    data_splits_with_scalers = load_and_prepare_data()\n",
    "    data_splits = data_splits_with_scalers[:-1]  # Extract just the data splits\n",
    "    scalers = data_splits_with_scalers[-1]      # Extract the scalers\n",
    "    \n",
    "    # Get input dimensions\n",
    "    input_dims = data_splits[0].shape[1]\n",
    "    \n",
    "    # Train the model with default hyperparameters\n",
    "    print(\"Training CycleGAN with default hyperparameters...\")\n",
    "    model = train_cyclegan(data_splits, input_dims)\n",
    "    \n",
    "    # Uncomment to run hyperparameter tuning\n",
    "    \"\"\"\n",
    "    print(\"Starting hyperparameter tuning...\")\n",
    "    param_grid = [\n",
    "        {\n",
    "            'gen_hidden_layers': [256, 128, 64],\n",
    "            'disc_hidden_layers': [64, 32, 16],\n",
    "            'gen_dropout_rate': 0.2,\n",
    "            'disc_dropout_rate': 0.3,\n",
    "            'gen_learning_rate': 0.0002,\n",
    "            'disc_learning_rate': 0.0002,\n",
    "            'lambda_cycle': 10.0,\n",
    "            'lambda_identity': 1.0\n",
    "        },\n",
    "        {\n",
    "            'gen_hidden_layers': [512, 256, 128],\n",
    "            'disc_hidden_layers': [128, 64, 32],\n",
    "            'gen_dropout_rate': 0.3,\n",
    "            'disc_dropout_rate': 0.4,\n",
    "            'gen_learning_rate': 0.0001,\n",
    "            'disc_learning_rate': 0.0001,\n",
    "            'lambda_cycle': 15.0,\n",
    "            'lambda_identity': 0.5\n",
    "        },\n",
    "        {\n",
    "            'gen_hidden_layers': [128, 64],\n",
    "            'disc_hidden_layers': [32, 16],\n",
    "            'gen_dropout_rate': 0.1,\n",
    "            'disc_dropout_rate': 0.2,\n",
    "            'gen_learning_rate': 0.0005,\n",
    "            'disc_learning_rate': 0.0005,\n",
    "            'lambda_cycle': 5.0,\n",
    "            'lambda_identity': 2.0\n",
    "        }\n",
    "    ]\n",
    "    \n",
    "    best_params, best_metrics = hyperparameter_tuning(data_splits, input_dims, param_grid)\n",
    "    \n",
    "    # Train final model with best parameters\n",
    "    print(\"Training final model with best hyperparameters...\")\n",
    "    model = train_cyclegan(data_splits, input_dims, best_params)\n",
    "    \"\"\"\n",
    "    \n",
    "    print(\"CycleGAN training complete!\") "
   ]
  },
  {
   "cell_type": "markdown",
   "metadata": {},
   "source": [
    "# References\n",
    "\n",
    "# Melt Down long Data sets for plottong\n",
    "https://dotnetfiddle.net/Rmlhy0\n",
    "\n",
    "# Keras Deep LEarning Examples (Provided by Instructor)\n",
    "https://keras.io/examples/"
   ]
  }
 ],
 "metadata": {
  "kernelspec": {
   "display_name": "Python 3",
   "language": "python",
   "name": "python3"
  },
  "language_info": {
   "codemirror_mode": {
    "name": "ipython",
    "version": 3
   },
   "file_extension": ".py",
   "mimetype": "text/x-python",
   "name": "python",
   "nbconvert_exporter": "python",
   "pygments_lexer": "ipython3",
   "version": "3.12.9"
  }
 },
 "nbformat": 4,
 "nbformat_minor": 2
}
